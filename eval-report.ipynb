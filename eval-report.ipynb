{
 "cells": [
  {
   "cell_type": "markdown",
   "metadata": {},
   "source": [
    "# Evaluation Analysis for Recommender Output"
   ]
  },
  {
   "cell_type": "markdown",
   "metadata": {},
   "source": [
    "In this section we will analyze and compare the generated recommendations and predictions from a predefined list of algorithms with the goal of assessing the performance of each algorithm with respect to a metric. In other words, we would rank the algorithms for each metric considered with respect to performance."
   ]
  },
  {
   "cell_type": "markdown",
   "metadata": {},
   "source": [
    "# Setup"
   ]
  },
  {
   "cell_type": "markdown",
   "metadata": {},
   "source": [
    "Below are the list of packages required to successfully run the analysis. They are divided into partitions to signify their specific task.<br>\n",
    "We need the pathlib package for working with files and folders"
   ]
  },
  {
   "cell_type": "code",
   "execution_count": null,
   "metadata": {},
   "outputs": [],
   "source": [
    "from pathlib import Path"
   ]
  },
  {
   "cell_type": "markdown",
   "metadata": {},
   "source": [
    "We would use the pandas for analyzing and manipulating our data while seaborn and matplotlib are used for data visualization. statsmodels.graphics.gofplots and scipy.stats.shapiro are used for normality check. Scipy.stats.friedmanchisquare is a non-parametric test used to determine the statistical significance in metric results and the wilcoxon test is used for pairwise comparison of sample data."
   ]
  },
  {
   "cell_type": "code",
   "execution_count": null,
   "metadata": {},
   "outputs": [],
   "source": [
    "import pandas as pd\n",
    "import seaborn as sns\n",
    "import matplotlib.pyplot as plt\n",
    "from statsmodels.graphics.gofplots import qqplot\n",
    "from scipy.stats import shapiro\n",
    "from scipy.stats import friedmanchisquare, wilcoxon\n",
    "from itertools import combinations"
   ]
  },
  {
   "cell_type": "markdown",
   "metadata": {},
   "source": [
    "We will use lenskit for training, running, and evaluating recommender algorithms"
   ]
  },
  {
   "cell_type": "code",
   "execution_count": null,
   "metadata": {},
   "outputs": [],
   "source": [
    "from lenskit import topn\n",
    "from lenskit.metrics.predict import rmse"
   ]
  },
  {
   "cell_type": "markdown",
   "metadata": {},
   "source": [
    "# Load Data"
   ]
  },
  {
   "cell_type": "markdown",
   "metadata": {},
   "source": [
    "We specify the dataset we will use for our analysis and the main directory from where we read the recommendation and prediction files. From the main directory we find all the directories associated with the dataset and then read the recommendation and predictions files from those directories."
   ]
  },
  {
   "cell_type": "code",
   "execution_count": null,
   "metadata": {
    "tags": [
     "parameters"
    ]
   },
   "outputs": [],
   "source": [
    "dataset = \"ml100k\""
   ]
  },
  {
   "cell_type": "code",
   "execution_count": null,
   "metadata": {},
   "outputs": [],
   "source": [
    "output_root = Path(\"output\")"
   ]
  },
  {
   "cell_type": "code",
   "execution_count": null,
   "metadata": {},
   "outputs": [],
   "source": [
    "dirs = [fld for fld in output_root.glob(f'{dataset}-*')]"
   ]
  },
  {
   "cell_type": "code",
   "execution_count": null,
   "metadata": {},
   "outputs": [],
   "source": [
    "recs = []\n",
    "for fld in dirs: \n",
    "    for file in fld.glob(\"recs-*\"):\n",
    "        rec = pd.read_csv(file, sep=',')\n",
    "        rec[\"dataset\"] = fld.name.split(\"-\")[0]\n",
    "        rec[\"algorithm\"] = fld.name.split(\"-\")[1]\n",
    "        recs.append(rec)\n",
    "\n",
    "recs = pd.concat(recs, ignore_index=True)\n",
    "recs = recs.astype({'dataset': 'category', 'algorithm': 'category'})"
   ]
  },
  {
   "cell_type": "code",
   "execution_count": null,
   "metadata": {},
   "outputs": [],
   "source": [
    "preds = []\n",
    "for fld in dirs:\n",
    "    for file in fld.glob(\"pred-*\"):\n",
    "        pred = pd.read_csv(file, sep=',')\n",
    "        pred[\"dataset\"] = fld.name.split(\"-\")[0]\n",
    "        pred[\"algorithm\"] = fld.name.split(\"-\")[1]\n",
    "        preds.append(pred)\n",
    "\n",
    "preds = pd.concat(preds, ignore_index=True)"
   ]
  },
  {
   "cell_type": "markdown",
   "metadata": {},
   "source": [
    "We need to load the test data so that we have the ground truths for computing accuracy "
   ]
  },
  {
   "cell_type": "code",
   "execution_count": null,
   "metadata": {},
   "outputs": [],
   "source": [
    "split_root = Path(\"data-split\")\n",
    "split_dir = split_root / dataset"
   ]
  },
  {
   "cell_type": "code",
   "execution_count": null,
   "metadata": {},
   "outputs": [],
   "source": [
    "test = []\n",
    "for file in split_dir.glob(\"test-*.csv\"):\n",
    "    test.append(pd.read_csv(file, sep=','))\n",
    "\n",
    "test = pd.concat(test, ignore_index=True)"
   ]
  },
  {
   "cell_type": "markdown",
   "metadata": {},
   "source": [
    "# Compute Metrics"
   ]
  },
  {
   "cell_type": "markdown",
   "metadata": {},
   "source": [
    "The topn.RecListAnalysis class computes top-N metrics for recommendation list and takes care of making sure that the recommendations and ground truths are properly matched. Refer to the documentation for detailed explanation of the purpose for the RecListAnalysis class and how the analysis is done - https://lkpy.lenskit.org/en/stable/evaluation/topn-metrics.html "
   ]
  },
  {
   "cell_type": "code",
   "execution_count": null,
   "metadata": {},
   "outputs": [],
   "source": [
    "rla = topn.RecListAnalysis()\n",
    "\n",
    "rla.add_metric(topn.precision)\n",
    "rla.add_metric(topn.recip_rank)\n",
    "rla.add_metric(topn.ndcg)\n",
    "results = rla.compute(recs, test, include_missing=True)\n",
    "results = results.fillna(0)\n",
    "results.head()"
   ]
  },
  {
   "cell_type": "markdown",
   "metadata": {},
   "source": [
    "We will reshape the 'results' dataframe by stacking the columns to index and then use the bar chart to visualize the performance of our algorithms with respect to the precision, reciprocal rank and ndcg metrics"
   ]
  },
  {
   "cell_type": "code",
   "execution_count": null,
   "metadata": {},
   "outputs": [],
   "source": [
    "pltData = (results.drop(columns=['nrecs', 'ntruth']).stack()).reset_index().drop(columns=['dataset'])\n",
    "pltData.columns = ['algorithm', 'user', 'metric', 'val']\n",
    "pltData.head()"
   ]
  },
  {
   "cell_type": "markdown",
   "metadata": {},
   "source": [
    "We need to determine if the differences we observe in the performances of the algorithms for the various metrics are statistically significant. To achieve this, we will need to use either a parametric or non-parametric statistical test for comparing the differences. We will consider a parametric test - repeated ANOVA measure cause our sample groups are correlated."
   ]
  },
  {
   "cell_type": "code",
   "execution_count": null,
   "metadata": {},
   "outputs": [],
   "source": [
    "g = sns.catplot(x = \"algorithm\", y = \"val\", data = pltData, kind=\"bar\", col = \"metric\", aspect=1.2, height=3)"
   ]
  },
  {
   "cell_type": "markdown",
   "metadata": {},
   "source": [
    "We will use a nonparametric statistical method to check the statistical significance of the performances for the different metrics."
   ]
  },
  {
   "cell_type": "markdown",
   "metadata": {},
   "source": [
    "# Precision"
   ]
  },
  {
   "cell_type": "markdown",
   "metadata": {},
   "source": [
    "#### Friedman Test - nonparametric version of the repeated measures ANOVA"
   ]
  },
  {
   "cell_type": "markdown",
   "metadata": {},
   "source": [
    "* Null hypothesis - H0: There are no differences between the related groups<br>\n",
    "* Alternative hypothesis - Ha: There are differences somewhere between the related groups"
   ]
  },
  {
   "cell_type": "code",
   "execution_count": null,
   "metadata": {},
   "outputs": [],
   "source": [
    "alg_vals = []\n",
    "alg_names = []\n",
    "for alg, data in (results.reset_index()).groupby(\"algorithm\"):\n",
    "    alg_names.append(alg)\n",
    "    alg_vals.append(data[\"precision\"].to_numpy())\n",
    "\n",
    "stat, p = friedmanchisquare(alg_vals[0], alg_vals[1], alg_vals[2], alg_vals[3])\n",
    "print('Statistics=%.3f, p=%.3f' % (stat, p))"
   ]
  },
  {
   "cell_type": "markdown",
   "metadata": {},
   "source": [
    "If p < 0.05, we reject the null hypothesis in favour of the alternative hypothesis that there exists differences. However, we do not know exactly where those differences lie. "
   ]
  },
  {
   "cell_type": "markdown",
   "metadata": {},
   "source": [
    "#### Post Hoc Tests - Wilcoxon signed-rank test with Bonferroni adjustment"
   ]
  },
  {
   "cell_type": "markdown",
   "metadata": {},
   "source": [
    "To examine where the differences actually occur, we need to run separate Wilcoxon signed-rank tests on the different combinations of the algorithms. (However, we only perform the Post-Hoc test when the Friedman test result is statistically significant). We need to use a Bonferroni adjustment on the results from the wilcoxon tests because we are making multiple comparisons which makes it more likely that we declare a result significant when we should not.<br><br>\n",
    "* Null hypothesis - H0: There is no difference between the paired results of the paired algorithm\n",
    "* Alternative hypothesis - Ha: There is a difference between the paired results of the paired algorithm"
   ]
  },
  {
   "cell_type": "code",
   "execution_count": null,
   "metadata": {},
   "outputs": [],
   "source": [
    "n_compare = list(combinations(list(range(4)), 2 ))\n",
    "\n",
    "def wilcox_bonf(data1, data2, alg_pair): \n",
    "    alpha = 0.05\n",
    "    stat, p = wilcoxon(data1, data2)\n",
    "    #Calculate Bonferroni adjustment\n",
    "    new_alpha = alpha/len(n_compare)\n",
    "    if p > new_alpha:\n",
    "        decision = 'Metric is the same (fail to reject H0)'\n",
    "    else:\n",
    "        decision = 'Metric is different (reject H0)'\n",
    "    return pd.Series({'Pair': alg_pair, 'Statistics': stat, 'p_value': p, 'Decision':decision})\n",
    "\n",
    "for idx in n_compare:\n",
    "    result = wilcox_bonf(alg_vals[idx[0]], alg_vals[idx[1]], (alg_names[idx[0]], alg_names[idx[1]]))\n",
    "    print('%s, Statistics=%.3f, p-value=%.3f, %s' % (result['Pair'], result['Statistics'], result['p_value'], result['Decision']))"
   ]
  },
  {
   "cell_type": "markdown",
   "metadata": {},
   "source": [
    "# ndcg   "
   ]
  },
  {
   "cell_type": "markdown",
   "metadata": {},
   "source": [
    "#### Friedman Test - nonparametric version of the repeated measures ANOVA"
   ]
  },
  {
   "cell_type": "markdown",
   "metadata": {},
   "source": [
    "* Null hypothesis - H0: There are no differences between the related groups<br>\n",
    "* Alternative hypothesis - Ha: There are differences somewhere between the related groups"
   ]
  },
  {
   "cell_type": "code",
   "execution_count": null,
   "metadata": {},
   "outputs": [],
   "source": [
    "alg_vals = []\n",
    "alg_names = []\n",
    "for alg, data in (results.reset_index()).groupby(\"algorithm\"):\n",
    "    alg_names.append(alg)\n",
    "    alg_vals.append(data[\"ndcg\"].to_numpy())\n",
    "\n",
    "stat, p = friedmanchisquare(alg_vals[0], alg_vals[1], alg_vals[2], alg_vals[3])\n",
    "print('Statistics=%.3f, p=%.3f' % (stat, p))"
   ]
  },
  {
   "cell_type": "markdown",
   "metadata": {},
   "source": [
    "If p < 0.05, we reject the null hypothesis in favour of the alternative hypothesis that there exists differences. However, we do not know exactly where those differences lie. "
   ]
  },
  {
   "cell_type": "markdown",
   "metadata": {},
   "source": [
    "#### Post Hoc Tests - Wilcoxon signed-rank test with Bonferroni adjustment"
   ]
  },
  {
   "cell_type": "markdown",
   "metadata": {},
   "source": [
    "We now examine where the differences actually occur using separate Wilcoxon signed-rank tests on the different combinations of the algorithms. We then adjust the result using a Bonferroni adjustment on the results. <br><br>\n",
    "* Null hypothesis - H0: There is no difference between the paired results of the paired algorithm\n",
    "* Alternative hypothesis - Ha: There is a difference between the paired results of the paired algorithm"
   ]
  },
  {
   "cell_type": "code",
   "execution_count": null,
   "metadata": {},
   "outputs": [],
   "source": [
    "n_compare = list(combinations(list(range(4)), 2 ))\n",
    "\n",
    "def wilcox_bonf(data1, data2, alg_pair): \n",
    "    alpha = 0.05\n",
    "    stat, p = wilcoxon(data1, data2)\n",
    "    #Calculate Bonferroni adjustment\n",
    "    new_alpha = alpha/len(n_compare)\n",
    "    if p > new_alpha:\n",
    "        decision = 'Metric is the same (fail to reject H0)'\n",
    "    else:\n",
    "        decision = 'Metric is different (reject H0)'\n",
    "    return pd.Series({'Pair': alg_pair, 'Statistics': stat, 'p_value': p, 'Decision':decision})\n",
    "\n",
    "for idx in n_compare:\n",
    "    result = wilcox_bonf(alg_vals[idx[0]], alg_vals[idx[1]], (alg_names[idx[0]], alg_names[idx[1]]))\n",
    "    print('%s, Statistics=%.3f, p-value=%.3f, %s' % (result['Pair'], result['Statistics'], result['p_value'], result['Decision']))"
   ]
  },
  {
   "cell_type": "markdown",
   "metadata": {},
   "source": [
    "# recip_rank"
   ]
  },
  {
   "cell_type": "markdown",
   "metadata": {},
   "source": [
    "#### Friedman Test - nonparametric version of the repeated measures ANOVA"
   ]
  },
  {
   "cell_type": "markdown",
   "metadata": {},
   "source": [
    "* Null hypothesis - H0: There are no differences between the related groups<br>\n",
    "* Alternative hypothesis - Ha: There are differences somewhere between the related groups"
   ]
  },
  {
   "cell_type": "code",
   "execution_count": null,
   "metadata": {},
   "outputs": [],
   "source": [
    "alg_vals = []\n",
    "alg_names = []\n",
    "for alg, data in (results.reset_index()).groupby(\"algorithm\"):\n",
    "    alg_names.append(alg)\n",
    "    alg_vals.append(data[\"recip_rank\"].to_numpy())\n",
    "\n",
    "stat, p = friedmanchisquare(alg_vals[0], alg_vals[1], alg_vals[2], alg_vals[3])\n",
    "print('Statistics=%.3f, p=%.3f' % (stat, p))"
   ]
  },
  {
   "cell_type": "markdown",
   "metadata": {},
   "source": [
    "If p < 0.05, we reject the null hypothesis in favour of the alternative hypothesis that there exists differences. However, we do not know exactly where those differences lie. "
   ]
  },
  {
   "cell_type": "markdown",
   "metadata": {},
   "source": [
    "#### Post Hoc Tests - Wilcoxon signed-rank test with Bonferroni adjustment"
   ]
  },
  {
   "cell_type": "markdown",
   "metadata": {},
   "source": [
    "To examine where the differences actually occur, we run separate Wilcoxon signed-rank tests on the different combinations of the algorithms. We then adjust the result using a Bonferroni adjustment. <br><br>\n",
    "* Null hypothesis - H0: There is no difference between the paired results of the paired algorithm\n",
    "* Alternative hypothesis - Ha: There is a difference between the paired results of the paired algorithm"
   ]
  },
  {
   "cell_type": "code",
   "execution_count": null,
   "metadata": {},
   "outputs": [],
   "source": [
    "n_compare = list(combinations(list(range(4)), 2 ))\n",
    "\n",
    "def wilcox_bonf(data1, data2, alg_pair): \n",
    "    alpha = 0.05\n",
    "    stat, p = wilcoxon(data1, data2)\n",
    "    #Calculate Bonferroni adjustment\n",
    "    new_alpha = alpha/len(n_compare)\n",
    "    if p > new_alpha:\n",
    "        decision = 'Metric is the same (fail to reject H0)'\n",
    "    else:\n",
    "        decision = 'Metric is different (reject H0)'\n",
    "    return pd.Series({'Pair': alg_pair, 'Statistics': stat, 'p_value': p, 'Decision':decision})\n",
    "\n",
    "for idx in n_compare:\n",
    "    result = wilcox_bonf(alg_vals[idx[0]], alg_vals[idx[1]], (alg_names[idx[0]], alg_names[idx[1]]))\n",
    "    print('%s, Statistics=%.3f, p-value=%.3f, %s' % (result['Pair'], result['Statistics'], result['p_value'], result['Decision']))"
   ]
  },
  {
   "cell_type": "markdown",
   "metadata": {},
   "source": [
    "## Prediction RMSE\n",
    "\n",
    "We will also look at the prediction RMSE."
   ]
  },
  {
   "cell_type": "code",
   "execution_count": null,
   "metadata": {},
   "outputs": [],
   "source": [
    "user_rmse = preds.groupby(['algorithm', 'user']).apply(lambda df: rmse(df['prediction'], df['rating']))\n",
    "user_rmse = user_rmse.reset_index(name='RMSE')"
   ]
  },
  {
   "cell_type": "code",
   "execution_count": null,
   "metadata": {},
   "outputs": [],
   "source": [
    "sns.catplot(x='algorithm', y='RMSE', data=user_rmse, kind='bar')"
   ]
  },
  {
   "cell_type": "code",
   "execution_count": null,
   "metadata": {},
   "outputs": [],
   "source": []
  }
 ],
 "metadata": {
  "kernelspec": {
   "display_name": "Python 3",
   "language": "python",
   "name": "python3"
  },
  "language_info": {
   "codemirror_mode": {
    "name": "ipython",
    "version": 3
   },
   "file_extension": ".py",
   "mimetype": "text/x-python",
   "name": "python",
   "nbconvert_exporter": "python",
   "pygments_lexer": "ipython3",
   "version": "3.7.6"
  }
 },
 "nbformat": 4,
 "nbformat_minor": 2
}
