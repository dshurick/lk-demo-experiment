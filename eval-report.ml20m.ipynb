{
 "cells": [
  {
   "cell_type": "markdown",
   "metadata": {
    "papermill": {
     "duration": 0.018179,
     "end_time": "2020-03-24T20:36:00.724444",
     "exception": false,
     "start_time": "2020-03-24T20:36:00.706265",
     "status": "completed"
    },
    "tags": []
   },
   "source": [
    "# Evaluation Analysis for Recommender Output"
   ]
  },
  {
   "cell_type": "markdown",
   "metadata": {
    "papermill": {
     "duration": 0.017293,
     "end_time": "2020-03-24T20:36:00.758827",
     "exception": false,
     "start_time": "2020-03-24T20:36:00.741534",
     "status": "completed"
    },
    "tags": []
   },
   "source": [
    "In this section we will analyze and compare the generated recommendations and predictions from a predefined list of algorithms with the goal of assessing the performance of each algorithm with respect to a metric. In other words, we would rank the algorithms for each metric considered with respect to performance."
   ]
  },
  {
   "cell_type": "markdown",
   "metadata": {
    "papermill": {
     "duration": 0.016576,
     "end_time": "2020-03-24T20:36:00.792394",
     "exception": false,
     "start_time": "2020-03-24T20:36:00.775818",
     "status": "completed"
    },
    "tags": []
   },
   "source": [
    "# Setup"
   ]
  },
  {
   "cell_type": "markdown",
   "metadata": {
    "papermill": {
     "duration": 0.016602,
     "end_time": "2020-03-24T20:36:00.825732",
     "exception": false,
     "start_time": "2020-03-24T20:36:00.809130",
     "status": "completed"
    },
    "tags": []
   },
   "source": [
    "Below are the list of packages required to successfully run the analysis. They are divided into partitions to signify their specific task.<br>\n",
    "We need the pathlib package for working with files and folders"
   ]
  },
  {
   "cell_type": "code",
   "execution_count": 1,
   "metadata": {
    "papermill": {
     "duration": 0.022839,
     "end_time": "2020-03-24T20:36:00.865019",
     "exception": false,
     "start_time": "2020-03-24T20:36:00.842180",
     "status": "completed"
    },
    "tags": []
   },
   "outputs": [],
   "source": [
    "from pathlib import Path"
   ]
  },
  {
   "cell_type": "markdown",
   "metadata": {
    "papermill": {
     "duration": 0.022208,
     "end_time": "2020-03-24T20:36:00.903868",
     "exception": false,
     "start_time": "2020-03-24T20:36:00.881660",
     "status": "completed"
    },
    "tags": []
   },
   "source": [
    "We would use the pandas for analyzing and manipulating our data while seaborn and matplotlib are used for data visualization. statsmodels.graphics.gofplots and scipy.stats.shapiro are used for normality check. Scipy.stats.friedmanchisquare is a non-parametric test used to determine the statistical significance in metric results and the wilcoxon test is used for pairwise comparison of sample data."
   ]
  },
  {
   "cell_type": "code",
   "execution_count": 2,
   "metadata": {
    "papermill": {
     "duration": 0.853345,
     "end_time": "2020-03-24T20:36:01.775580",
     "exception": false,
     "start_time": "2020-03-24T20:36:00.922235",
     "status": "completed"
    },
    "tags": []
   },
   "outputs": [],
   "source": [
    "import pandas as pd\n",
    "import seaborn as sns\n",
    "import matplotlib.pyplot as plt\n",
    "from statsmodels.graphics.gofplots import qqplot\n",
    "from scipy.stats import shapiro\n",
    "from scipy.stats import friedmanchisquare, wilcoxon\n",
    "from itertools import combinations"
   ]
  },
  {
   "cell_type": "markdown",
   "metadata": {
    "papermill": {
     "duration": 0.017055,
     "end_time": "2020-03-24T20:36:01.811342",
     "exception": false,
     "start_time": "2020-03-24T20:36:01.794287",
     "status": "completed"
    },
    "tags": []
   },
   "source": [
    "We will use lenskit for training, running, and evaluating recommender algorithms"
   ]
  },
  {
   "cell_type": "code",
   "execution_count": 3,
   "metadata": {
    "papermill": {
     "duration": 0.929779,
     "end_time": "2020-03-24T20:36:02.757518",
     "exception": false,
     "start_time": "2020-03-24T20:36:01.827739",
     "status": "completed"
    },
    "tags": []
   },
   "outputs": [
    {
     "name": "stderr",
     "output_type": "stream",
     "text": [
      "/home/mekstrand/miniconda3/envs/lk-demo/lib/python3.7/site-packages/fastparquet/dataframe.py:5: FutureWarning: pandas.core.index is deprecated and will be removed in a future version.  The public classes are available in the top-level namespace.\n",
      "  from pandas.core.index import CategoricalIndex, RangeIndex, Index, MultiIndex\n"
     ]
    }
   ],
   "source": [
    "from lenskit import topn\n",
    "from lenskit.metrics.predict import rmse"
   ]
  },
  {
   "cell_type": "markdown",
   "metadata": {
    "papermill": {
     "duration": 0.016944,
     "end_time": "2020-03-24T20:36:02.792946",
     "exception": false,
     "start_time": "2020-03-24T20:36:02.776002",
     "status": "completed"
    },
    "tags": []
   },
   "source": [
    "# Load Data"
   ]
  },
  {
   "cell_type": "markdown",
   "metadata": {
    "papermill": {
     "duration": 0.016899,
     "end_time": "2020-03-24T20:36:02.826703",
     "exception": false,
     "start_time": "2020-03-24T20:36:02.809804",
     "status": "completed"
    },
    "tags": []
   },
   "source": [
    "We specify the dataset we will use for our analysis and the main directory from where we read the recommendation and prediction files. From the main directory we find all the directories associated with the dataset and then read the recommendation and predictions files from those directories."
   ]
  },
  {
   "cell_type": "code",
   "execution_count": 4,
   "metadata": {
    "papermill": {
     "duration": 0.022097,
     "end_time": "2020-03-24T20:36:02.865638",
     "exception": false,
     "start_time": "2020-03-24T20:36:02.843541",
     "status": "completed"
    },
    "tags": [
     "parameters"
    ]
   },
   "outputs": [],
   "source": [
    "dataset = \"ml100k\""
   ]
  },
  {
   "cell_type": "code",
   "execution_count": 5,
   "metadata": {
    "papermill": {
     "duration": 0.021438,
     "end_time": "2020-03-24T20:36:02.904318",
     "exception": false,
     "start_time": "2020-03-24T20:36:02.882880",
     "status": "completed"
    },
    "tags": [
     "injected-parameters"
    ]
   },
   "outputs": [],
   "source": [
    "# Parameters\n",
    "dataset = \"ml20m\"\n"
   ]
  },
  {
   "cell_type": "code",
   "execution_count": 6,
   "metadata": {
    "papermill": {
     "duration": 0.02165,
     "end_time": "2020-03-24T20:36:02.942632",
     "exception": false,
     "start_time": "2020-03-24T20:36:02.920982",
     "status": "completed"
    },
    "tags": []
   },
   "outputs": [],
   "source": [
    "output_root = Path(\"output\")"
   ]
  },
  {
   "cell_type": "code",
   "execution_count": 7,
   "metadata": {
    "papermill": {
     "duration": 0.022514,
     "end_time": "2020-03-24T20:36:02.982101",
     "exception": false,
     "start_time": "2020-03-24T20:36:02.959587",
     "status": "completed"
    },
    "tags": []
   },
   "outputs": [],
   "source": [
    "dirs = [fld for fld in output_root.glob(f'{dataset}-*')]"
   ]
  },
  {
   "cell_type": "code",
   "execution_count": 8,
   "metadata": {
    "papermill": {
     "duration": 55.562017,
     "end_time": "2020-03-24T20:36:58.561226",
     "exception": false,
     "start_time": "2020-03-24T20:36:02.999209",
     "status": "completed"
    },
    "tags": []
   },
   "outputs": [],
   "source": [
    "recs = []\n",
    "for fld in dirs: \n",
    "    for file in fld.glob(\"recs-*\"):\n",
    "        rec = pd.read_csv(file, sep=',')\n",
    "        rec[\"dataset\"] = fld.name.split(\"-\")[0]\n",
    "        rec[\"algorithm\"] = fld.name.split(\"-\")[1]\n",
    "        recs.append(rec)\n",
    "\n",
    "recs = pd.concat(recs, ignore_index=True)\n",
    "recs = recs.astype({'dataset': 'category', 'algorithm': 'category'})"
   ]
  },
  {
   "cell_type": "code",
   "execution_count": 9,
   "metadata": {
    "papermill": {
     "duration": 2.656985,
     "end_time": "2020-03-24T20:37:01.236704",
     "exception": false,
     "start_time": "2020-03-24T20:36:58.579719",
     "status": "completed"
    },
    "tags": []
   },
   "outputs": [],
   "source": [
    "preds = []\n",
    "for fld in dirs:\n",
    "    for file in fld.glob(\"pred-*\"):\n",
    "        pred = pd.read_csv(file, sep=',')\n",
    "        pred[\"dataset\"] = fld.name.split(\"-\")[0]\n",
    "        pred[\"algorithm\"] = fld.name.split(\"-\")[1]\n",
    "        preds.append(pred)\n",
    "\n",
    "preds = pd.concat(preds, ignore_index=True)"
   ]
  },
  {
   "cell_type": "markdown",
   "metadata": {
    "papermill": {
     "duration": 0.017219,
     "end_time": "2020-03-24T20:37:01.271070",
     "exception": false,
     "start_time": "2020-03-24T20:37:01.253851",
     "status": "completed"
    },
    "tags": []
   },
   "source": [
    "We need to load the test data so that we have the ground truths for computing accuracy "
   ]
  },
  {
   "cell_type": "code",
   "execution_count": 10,
   "metadata": {
    "papermill": {
     "duration": 0.023403,
     "end_time": "2020-03-24T20:37:01.311891",
     "exception": false,
     "start_time": "2020-03-24T20:37:01.288488",
     "status": "completed"
    },
    "tags": []
   },
   "outputs": [],
   "source": [
    "split_root = Path(\"data-split\")\n",
    "split_dir = split_root / dataset"
   ]
  },
  {
   "cell_type": "code",
   "execution_count": 11,
   "metadata": {
    "papermill": {
     "duration": 0.398944,
     "end_time": "2020-03-24T20:37:01.728091",
     "exception": false,
     "start_time": "2020-03-24T20:37:01.329147",
     "status": "completed"
    },
    "tags": []
   },
   "outputs": [],
   "source": [
    "test = []\n",
    "for file in split_dir.glob(\"test-*.csv.gz\"):\n",
    "    test.append(pd.read_csv(file, sep=','))\n",
    "\n",
    "test = pd.concat(test, ignore_index=True)"
   ]
  },
  {
   "cell_type": "markdown",
   "metadata": {
    "papermill": {
     "duration": 0.016875,
     "end_time": "2020-03-24T20:37:01.761988",
     "exception": false,
     "start_time": "2020-03-24T20:37:01.745113",
     "status": "completed"
    },
    "tags": []
   },
   "source": [
    "# Compute Metrics"
   ]
  },
  {
   "cell_type": "markdown",
   "metadata": {
    "papermill": {
     "duration": 0.016695,
     "end_time": "2020-03-24T20:37:01.795860",
     "exception": false,
     "start_time": "2020-03-24T20:37:01.779165",
     "status": "completed"
    },
    "tags": []
   },
   "source": [
    "The topn.RecListAnalysis class computes top-N metrics for recommendation list and takes care of making sure that the recommendations and ground truths are properly matched. Refer to the documentation for detailed explanation of the purpose for the RecListAnalysis class and how the analysis is done - https://lkpy.lenskit.org/en/stable/evaluation/topn-metrics.html "
   ]
  },
  {
   "cell_type": "code",
   "execution_count": 12,
   "metadata": {
    "papermill": {
     "duration": 4649.952081,
     "end_time": "2020-03-24T21:54:31.764890",
     "exception": false,
     "start_time": "2020-03-24T20:37:01.812809",
     "status": "completed"
    },
    "tags": []
   },
   "outputs": [
    {
     "data": {
      "text/html": [
       "<div>\n",
       "<style scoped>\n",
       "    .dataframe tbody tr th:only-of-type {\n",
       "        vertical-align: middle;\n",
       "    }\n",
       "\n",
       "    .dataframe tbody tr th {\n",
       "        vertical-align: top;\n",
       "    }\n",
       "\n",
       "    .dataframe thead th {\n",
       "        text-align: right;\n",
       "    }\n",
       "</style>\n",
       "<table border=\"1\" class=\"dataframe\">\n",
       "  <thead>\n",
       "    <tr style=\"text-align: right;\">\n",
       "      <th></th>\n",
       "      <th></th>\n",
       "      <th></th>\n",
       "      <th>nrecs</th>\n",
       "      <th>precision</th>\n",
       "      <th>recip_rank</th>\n",
       "      <th>ndcg</th>\n",
       "      <th>ntruth</th>\n",
       "    </tr>\n",
       "    <tr>\n",
       "      <th>dataset</th>\n",
       "      <th>algorithm</th>\n",
       "      <th>user</th>\n",
       "      <th></th>\n",
       "      <th></th>\n",
       "      <th></th>\n",
       "      <th></th>\n",
       "      <th></th>\n",
       "    </tr>\n",
       "  </thead>\n",
       "  <tbody>\n",
       "    <tr>\n",
       "      <th rowspan=\"5\" valign=\"top\">ml20m</th>\n",
       "      <th rowspan=\"5\" valign=\"top\">ALS</th>\n",
       "      <th>1</th>\n",
       "      <td>100.0</td>\n",
       "      <td>0.00</td>\n",
       "      <td>0.000000</td>\n",
       "      <td>0.000000</td>\n",
       "      <td>5</td>\n",
       "    </tr>\n",
       "    <tr>\n",
       "      <th>2</th>\n",
       "      <td>100.0</td>\n",
       "      <td>0.02</td>\n",
       "      <td>0.111111</td>\n",
       "      <td>0.154893</td>\n",
       "      <td>5</td>\n",
       "    </tr>\n",
       "    <tr>\n",
       "      <th>3</th>\n",
       "      <td>100.0</td>\n",
       "      <td>0.00</td>\n",
       "      <td>0.000000</td>\n",
       "      <td>0.000000</td>\n",
       "      <td>5</td>\n",
       "    </tr>\n",
       "    <tr>\n",
       "      <th>4</th>\n",
       "      <td>100.0</td>\n",
       "      <td>0.00</td>\n",
       "      <td>0.000000</td>\n",
       "      <td>0.000000</td>\n",
       "      <td>5</td>\n",
       "    </tr>\n",
       "    <tr>\n",
       "      <th>5</th>\n",
       "      <td>100.0</td>\n",
       "      <td>0.02</td>\n",
       "      <td>0.022222</td>\n",
       "      <td>0.084485</td>\n",
       "      <td>5</td>\n",
       "    </tr>\n",
       "  </tbody>\n",
       "</table>\n",
       "</div>"
      ],
      "text/plain": [
       "                        nrecs  precision  recip_rank      ndcg  ntruth\n",
       "dataset algorithm user                                                \n",
       "ml20m   ALS       1     100.0       0.00    0.000000  0.000000       5\n",
       "                  2     100.0       0.02    0.111111  0.154893       5\n",
       "                  3     100.0       0.00    0.000000  0.000000       5\n",
       "                  4     100.0       0.00    0.000000  0.000000       5\n",
       "                  5     100.0       0.02    0.022222  0.084485       5"
      ]
     },
     "execution_count": 12,
     "metadata": {},
     "output_type": "execute_result"
    }
   ],
   "source": [
    "rla = topn.RecListAnalysis()\n",
    "\n",
    "rla.add_metric(topn.precision)\n",
    "rla.add_metric(topn.recip_rank)\n",
    "rla.add_metric(topn.ndcg)\n",
    "results = rla.compute(recs, test, include_missing=True)\n",
    "results = results.fillna(0)\n",
    "results.head()"
   ]
  },
  {
   "cell_type": "markdown",
   "metadata": {
    "papermill": {
     "duration": 0.01809,
     "end_time": "2020-03-24T21:54:31.801226",
     "exception": false,
     "start_time": "2020-03-24T21:54:31.783136",
     "status": "completed"
    },
    "tags": []
   },
   "source": [
    "We will reshape the 'results' dataframe by stacking the columns to index and then use the bar chart to visualize the performance of our algorithms with respect to the precision, reciprocal rank and ndcg metrics"
   ]
  },
  {
   "cell_type": "code",
   "execution_count": 13,
   "metadata": {
    "papermill": {
     "duration": 0.251217,
     "end_time": "2020-03-24T21:54:32.070592",
     "exception": false,
     "start_time": "2020-03-24T21:54:31.819375",
     "status": "completed"
    },
    "tags": []
   },
   "outputs": [
    {
     "data": {
      "text/html": [
       "<div>\n",
       "<style scoped>\n",
       "    .dataframe tbody tr th:only-of-type {\n",
       "        vertical-align: middle;\n",
       "    }\n",
       "\n",
       "    .dataframe tbody tr th {\n",
       "        vertical-align: top;\n",
       "    }\n",
       "\n",
       "    .dataframe thead th {\n",
       "        text-align: right;\n",
       "    }\n",
       "</style>\n",
       "<table border=\"1\" class=\"dataframe\">\n",
       "  <thead>\n",
       "    <tr style=\"text-align: right;\">\n",
       "      <th></th>\n",
       "      <th>algorithm</th>\n",
       "      <th>user</th>\n",
       "      <th>metric</th>\n",
       "      <th>val</th>\n",
       "    </tr>\n",
       "  </thead>\n",
       "  <tbody>\n",
       "    <tr>\n",
       "      <th>0</th>\n",
       "      <td>ALS</td>\n",
       "      <td>1</td>\n",
       "      <td>precision</td>\n",
       "      <td>0.000000</td>\n",
       "    </tr>\n",
       "    <tr>\n",
       "      <th>1</th>\n",
       "      <td>ALS</td>\n",
       "      <td>1</td>\n",
       "      <td>recip_rank</td>\n",
       "      <td>0.000000</td>\n",
       "    </tr>\n",
       "    <tr>\n",
       "      <th>2</th>\n",
       "      <td>ALS</td>\n",
       "      <td>1</td>\n",
       "      <td>ndcg</td>\n",
       "      <td>0.000000</td>\n",
       "    </tr>\n",
       "    <tr>\n",
       "      <th>3</th>\n",
       "      <td>ALS</td>\n",
       "      <td>2</td>\n",
       "      <td>precision</td>\n",
       "      <td>0.020000</td>\n",
       "    </tr>\n",
       "    <tr>\n",
       "      <th>4</th>\n",
       "      <td>ALS</td>\n",
       "      <td>2</td>\n",
       "      <td>recip_rank</td>\n",
       "      <td>0.111111</td>\n",
       "    </tr>\n",
       "  </tbody>\n",
       "</table>\n",
       "</div>"
      ],
      "text/plain": [
       "  algorithm  user      metric       val\n",
       "0       ALS     1   precision  0.000000\n",
       "1       ALS     1  recip_rank  0.000000\n",
       "2       ALS     1        ndcg  0.000000\n",
       "3       ALS     2   precision  0.020000\n",
       "4       ALS     2  recip_rank  0.111111"
      ]
     },
     "execution_count": 13,
     "metadata": {},
     "output_type": "execute_result"
    }
   ],
   "source": [
    "pltData = (results.drop(columns=['nrecs', 'ntruth']).stack()).reset_index().drop(columns=['dataset'])\n",
    "pltData.columns = ['algorithm', 'user', 'metric', 'val']\n",
    "pltData.head()"
   ]
  },
  {
   "cell_type": "markdown",
   "metadata": {
    "papermill": {
     "duration": 0.018585,
     "end_time": "2020-03-24T21:54:32.107942",
     "exception": false,
     "start_time": "2020-03-24T21:54:32.089357",
     "status": "completed"
    },
    "tags": []
   },
   "source": [
    "We need to determine if the differences we observe in the performances of the algorithms for the various metrics are statistically significant. To achieve this, we will need to use either a parametric or non-parametric statistical test for comparing the differences. We will consider a parametric test - repeated ANOVA measure cause our sample groups are correlated."
   ]
  },
  {
   "cell_type": "code",
   "execution_count": 14,
   "metadata": {
    "papermill": {
     "duration": 16.055571,
     "end_time": "2020-03-24T21:54:48.181901",
     "exception": false,
     "start_time": "2020-03-24T21:54:32.126330",
     "status": "completed"
    },
    "tags": []
   },
   "outputs": [
    {
     "data": {
      "image/png": "[encoded data removed]",
      "text/plain": [
       "<Figure size 777.6x216 with 3 Axes>"
      ]
     },
     "metadata": {
      "needs_background": "light"
     },
     "output_type": "display_data"
    }
   ],
   "source": [
    "g = sns.catplot(x = \"algorithm\", y = \"val\", data = pltData, kind=\"bar\", col = \"metric\", aspect=1.2, height=3)"
   ]
  },
  {
   "cell_type": "markdown",
   "metadata": {
    "papermill": {
     "duration": 0.018512,
     "end_time": "2020-03-24T21:54:48.218852",
     "exception": false,
     "start_time": "2020-03-24T21:54:48.200340",
     "status": "completed"
    },
    "tags": []
   },
   "source": [
    "We will use a nonparametric statistical method to check the statistical significance of the performances for the different metrics."
   ]
  },
  {
   "cell_type": "markdown",
   "metadata": {
    "papermill": {
     "duration": 0.017769,
     "end_time": "2020-03-24T21:54:48.254567",
     "exception": false,
     "start_time": "2020-03-24T21:54:48.236798",
     "status": "completed"
    },
    "tags": []
   },
   "source": [
    "# Precision"
   ]
  },
  {
   "cell_type": "markdown",
   "metadata": {
    "papermill": {
     "duration": 0.017977,
     "end_time": "2020-03-24T21:54:48.290522",
     "exception": false,
     "start_time": "2020-03-24T21:54:48.272545",
     "status": "completed"
    },
    "tags": []
   },
   "source": [
    "#### Friedman Test - nonparametric version of the repeated measures ANOVA"
   ]
  },
  {
   "cell_type": "markdown",
   "metadata": {
    "papermill": {
     "duration": 0.017824,
     "end_time": "2020-03-24T21:54:48.326618",
     "exception": false,
     "start_time": "2020-03-24T21:54:48.308794",
     "status": "completed"
    },
    "tags": []
   },
   "source": [
    "* Null hypothesis - H0: There are no differences between the related groups<br>\n",
    "* Alternative hypothesis - Ha: There are differences somewhere between the related groups"
   ]
  },
  {
   "cell_type": "code",
   "execution_count": 15,
   "metadata": {
    "papermill": {
     "duration": 9.186021,
     "end_time": "2020-03-24T21:54:57.530517",
     "exception": false,
     "start_time": "2020-03-24T21:54:48.344496",
     "status": "completed"
    },
    "tags": []
   },
   "outputs": [
    {
     "name": "stdout",
     "output_type": "stream",
     "text": [
      "Statistics=279997.458, p=0.000\n"
     ]
    }
   ],
   "source": [
    "alg_vals = []\n",
    "alg_names = []\n",
    "for alg, data in (results.reset_index()).groupby(\"algorithm\"):\n",
    "    alg_names.append(alg)\n",
    "    alg_vals.append(data[\"precision\"].to_numpy())\n",
    "\n",
    "stat, p = friedmanchisquare(alg_vals[0], alg_vals[1], alg_vals[2], alg_vals[3])\n",
    "print('Statistics=%.3f, p=%.3f' % (stat, p))"
   ]
  },
  {
   "cell_type": "markdown",
   "metadata": {
    "papermill": {
     "duration": 0.020054,
     "end_time": "2020-03-24T21:54:57.571873",
     "exception": false,
     "start_time": "2020-03-24T21:54:57.551819",
     "status": "completed"
    },
    "tags": []
   },
   "source": [
    "If p < 0.05, we reject the null hypothesis in favour of the alternative hypothesis that there exists differences. However, we do not know exactly where those differences lie. "
   ]
  },
  {
   "cell_type": "markdown",
   "metadata": {
    "papermill": {
     "duration": 0.019806,
     "end_time": "2020-03-24T21:54:57.611664",
     "exception": false,
     "start_time": "2020-03-24T21:54:57.591858",
     "status": "completed"
    },
    "tags": []
   },
   "source": [
    "#### Post Hoc Tests - Wilcoxon signed-rank test with Bonferroni adjustment"
   ]
  },
  {
   "cell_type": "markdown",
   "metadata": {
    "papermill": {
     "duration": 0.019584,
     "end_time": "2020-03-24T21:54:57.650737",
     "exception": false,
     "start_time": "2020-03-24T21:54:57.631153",
     "status": "completed"
    },
    "tags": []
   },
   "source": [
    "To examine where the differences actually occur, we need to run separate Wilcoxon signed-rank tests on the different combinations of the algorithms. (However, we only perform the Post-Hoc test when the Friedman test result is statistically significant). We need to use a Bonferroni adjustment on the results from the wilcoxon tests because we are making multiple comparisons which makes it more likely that we declare a result significant when we should not.<br><br>\n",
    "* Null hypothesis - H0: There is no difference between the paired results of the paired algorithm\n",
    "* Alternative hypothesis - Ha: There is a difference between the paired results of the paired algorithm"
   ]
  },
  {
   "cell_type": "code",
   "execution_count": 16,
   "metadata": {
    "papermill": {
     "duration": 0.083486,
     "end_time": "2020-03-24T21:54:57.753451",
     "exception": false,
     "start_time": "2020-03-24T21:54:57.669965",
     "status": "completed"
    },
    "tags": []
   },
   "outputs": [
    {
     "name": "stdout",
     "output_type": "stream",
     "text": [
      "('ALS', 'Bias'), Statistics=116649279.000, p-value=0.000, Metric is different (reject H0)\n",
      "('ALS', 'IALS'), Statistics=76466767.500, p-value=0.000, Metric is different (reject H0)\n",
      "('ALS', 'II'), Statistics=12313277.000, p-value=0.000, Metric is different (reject H0)\n"
     ]
    },
    {
     "name": "stdout",
     "output_type": "stream",
     "text": [
      "('Bias', 'IALS'), Statistics=135974064.000, p-value=0.000, Metric is different (reject H0)\n",
      "('Bias', 'II'), Statistics=13854666.000, p-value=0.000, Metric is different (reject H0)\n",
      "('IALS', 'II'), Statistics=10098407.000, p-value=0.000, Metric is different (reject H0)\n"
     ]
    }
   ],
   "source": [
    "n_compare = list(combinations(list(range(4)), 2 ))\n",
    "\n",
    "def wilcox_bonf(data1, data2, alg_pair): \n",
    "    alpha = 0.05\n",
    "    stat, p = wilcoxon(data1, data2)\n",
    "    #Calculate Bonferroni adjustment\n",
    "    new_alpha = alpha/len(n_compare)\n",
    "    if p > new_alpha:\n",
    "        decision = 'Metric is the same (fail to reject H0)'\n",
    "    else:\n",
    "        decision = 'Metric is different (reject H0)'\n",
    "    return pd.Series({'Pair': alg_pair, 'Statistics': stat, 'p_value': p, 'Decision':decision})\n",
    "\n",
    "for idx in n_compare:\n",
    "    result = wilcox_bonf(alg_vals[idx[0]], alg_vals[idx[1]], (alg_names[idx[0]], alg_names[idx[1]]))\n",
    "    print('%s, Statistics=%.3f, p-value=%.3f, %s' % (result['Pair'], result['Statistics'], result['p_value'], result['Decision']))"
   ]
  },
  {
   "cell_type": "markdown",
   "metadata": {
    "papermill": {
     "duration": 0.019119,
     "end_time": "2020-03-24T21:54:57.791352",
     "exception": false,
     "start_time": "2020-03-24T21:54:57.772233",
     "status": "completed"
    },
    "tags": []
   },
   "source": [
    "# ndcg   "
   ]
  },
  {
   "cell_type": "markdown",
   "metadata": {
    "papermill": {
     "duration": 0.019141,
     "end_time": "2020-03-24T21:54:57.829784",
     "exception": false,
     "start_time": "2020-03-24T21:54:57.810643",
     "status": "completed"
    },
    "tags": []
   },
   "source": [
    "#### Friedman Test - nonparametric version of the repeated measures ANOVA"
   ]
  },
  {
   "cell_type": "markdown",
   "metadata": {
    "papermill": {
     "duration": 0.019093,
     "end_time": "2020-03-24T21:54:57.867559",
     "exception": false,
     "start_time": "2020-03-24T21:54:57.848466",
     "status": "completed"
    },
    "tags": []
   },
   "source": [
    "* Null hypothesis - H0: There are no differences between the related groups<br>\n",
    "* Alternative hypothesis - Ha: There are differences somewhere between the related groups"
   ]
  },
  {
   "cell_type": "code",
   "execution_count": 17,
   "metadata": {
    "papermill": {
     "duration": 8.971538,
     "end_time": "2020-03-24T21:55:06.858151",
     "exception": false,
     "start_time": "2020-03-24T21:54:57.886613",
     "status": "completed"
    },
    "tags": []
   },
   "outputs": [
    {
     "name": "stdout",
     "output_type": "stream",
     "text": [
      "Statistics=242046.619, p=0.000\n"
     ]
    }
   ],
   "source": [
    "alg_vals = []\n",
    "alg_names = []\n",
    "for alg, data in (results.reset_index()).groupby(\"algorithm\"):\n",
    "    alg_names.append(alg)\n",
    "    alg_vals.append(data[\"ndcg\"].to_numpy())\n",
    "\n",
    "stat, p = friedmanchisquare(alg_vals[0], alg_vals[1], alg_vals[2], alg_vals[3])\n",
    "print('Statistics=%.3f, p=%.3f' % (stat, p))"
   ]
  },
  {
   "cell_type": "markdown",
   "metadata": {
    "papermill": {
     "duration": 0.019987,
     "end_time": "2020-03-24T21:55:06.897503",
     "exception": false,
     "start_time": "2020-03-24T21:55:06.877516",
     "status": "completed"
    },
    "tags": []
   },
   "source": [
    "If p < 0.05, we reject the null hypothesis in favour of the alternative hypothesis that there exists differences. However, we do not know exactly where those differences lie. "
   ]
  },
  {
   "cell_type": "markdown",
   "metadata": {
    "papermill": {
     "duration": 0.018939,
     "end_time": "2020-03-24T21:55:06.935503",
     "exception": false,
     "start_time": "2020-03-24T21:55:06.916564",
     "status": "completed"
    },
    "tags": []
   },
   "source": [
    "#### Post Hoc Tests - Wilcoxon signed-rank test with Bonferroni adjustment"
   ]
  },
  {
   "cell_type": "markdown",
   "metadata": {
    "papermill": {
     "duration": 0.018767,
     "end_time": "2020-03-24T21:55:06.973409",
     "exception": false,
     "start_time": "2020-03-24T21:55:06.954642",
     "status": "completed"
    },
    "tags": []
   },
   "source": [
    "We now examine where the differences actually occur using separate Wilcoxon signed-rank tests on the different combinations of the algorithms. We then adjust the result using a Bonferroni adjustment on the results. <br><br>\n",
    "* Null hypothesis - H0: There is no difference between the paired results of the paired algorithm\n",
    "* Alternative hypothesis - Ha: There is a difference between the paired results of the paired algorithm"
   ]
  },
  {
   "cell_type": "code",
   "execution_count": 18,
   "metadata": {
    "papermill": {
     "duration": 0.151156,
     "end_time": "2020-03-24T21:55:07.143761",
     "exception": false,
     "start_time": "2020-03-24T21:55:06.992605",
     "status": "completed"
    },
    "tags": []
   },
   "outputs": [
    {
     "name": "stdout",
     "output_type": "stream",
     "text": [
      "('ALS', 'Bias'), Statistics=395382848.000, p-value=0.000, Metric is different (reject H0)\n"
     ]
    },
    {
     "name": "stdout",
     "output_type": "stream",
     "text": [
      "('ALS', 'IALS'), Statistics=360411871.500, p-value=0.000, Metric is different (reject H0)\n",
      "('ALS', 'II'), Statistics=11326265.000, p-value=0.000, Metric is different (reject H0)\n",
      "('Bias', 'IALS'), Statistics=773770960.500, p-value=0.000, Metric is different (reject H0)\n",
      "('Bias', 'II'), Statistics=11709997.000, p-value=0.000, Metric is different (reject H0)\n",
      "('IALS', 'II'), Statistics=14593500.000, p-value=0.000, Metric is different (reject H0)\n"
     ]
    }
   ],
   "source": [
    "n_compare = list(combinations(list(range(4)), 2 ))\n",
    "\n",
    "def wilcox_bonf(data1, data2, alg_pair): \n",
    "    alpha = 0.05\n",
    "    stat, p = wilcoxon(data1, data2)\n",
    "    #Calculate Bonferroni adjustment\n",
    "    new_alpha = alpha/len(n_compare)\n",
    "    if p > new_alpha:\n",
    "        decision = 'Metric is the same (fail to reject H0)'\n",
    "    else:\n",
    "        decision = 'Metric is different (reject H0)'\n",
    "    return pd.Series({'Pair': alg_pair, 'Statistics': stat, 'p_value': p, 'Decision':decision})\n",
    "\n",
    "for idx in n_compare:\n",
    "    result = wilcox_bonf(alg_vals[idx[0]], alg_vals[idx[1]], (alg_names[idx[0]], alg_names[idx[1]]))\n",
    "    print('%s, Statistics=%.3f, p-value=%.3f, %s' % (result['Pair'], result['Statistics'], result['p_value'], result['Decision']))"
   ]
  },
  {
   "cell_type": "markdown",
   "metadata": {
    "papermill": {
     "duration": 0.019653,
     "end_time": "2020-03-24T21:55:07.182712",
     "exception": false,
     "start_time": "2020-03-24T21:55:07.163059",
     "status": "completed"
    },
    "tags": []
   },
   "source": [
    "# recip_rank"
   ]
  },
  {
   "cell_type": "markdown",
   "metadata": {
    "papermill": {
     "duration": 0.019195,
     "end_time": "2020-03-24T21:55:07.221281",
     "exception": false,
     "start_time": "2020-03-24T21:55:07.202086",
     "status": "completed"
    },
    "tags": []
   },
   "source": [
    "#### Friedman Test - nonparametric version of the repeated measures ANOVA"
   ]
  },
  {
   "cell_type": "markdown",
   "metadata": {
    "papermill": {
     "duration": 0.018902,
     "end_time": "2020-03-24T21:55:07.259635",
     "exception": false,
     "start_time": "2020-03-24T21:55:07.240733",
     "status": "completed"
    },
    "tags": []
   },
   "source": [
    "* Null hypothesis - H0: There are no differences between the related groups<br>\n",
    "* Alternative hypothesis - Ha: There are differences somewhere between the related groups"
   ]
  },
  {
   "cell_type": "code",
   "execution_count": 19,
   "metadata": {
    "papermill": {
     "duration": 8.797745,
     "end_time": "2020-03-24T21:55:16.076459",
     "exception": false,
     "start_time": "2020-03-24T21:55:07.278714",
     "status": "completed"
    },
    "tags": []
   },
   "outputs": [
    {
     "name": "stdout",
     "output_type": "stream",
     "text": [
      "Statistics=217500.891, p=0.000\n"
     ]
    }
   ],
   "source": [
    "alg_vals = []\n",
    "alg_names = []\n",
    "for alg, data in (results.reset_index()).groupby(\"algorithm\"):\n",
    "    alg_names.append(alg)\n",
    "    alg_vals.append(data[\"recip_rank\"].to_numpy())\n",
    "\n",
    "stat, p = friedmanchisquare(alg_vals[0], alg_vals[1], alg_vals[2], alg_vals[3])\n",
    "print('Statistics=%.3f, p=%.3f' % (stat, p))"
   ]
  },
  {
   "cell_type": "markdown",
   "metadata": {
    "papermill": {
     "duration": 0.019936,
     "end_time": "2020-03-24T21:55:16.117457",
     "exception": false,
     "start_time": "2020-03-24T21:55:16.097521",
     "status": "completed"
    },
    "tags": []
   },
   "source": [
    "If p < 0.05, we reject the null hypothesis in favour of the alternative hypothesis that there exists differences. However, we do not know exactly where those differences lie. "
   ]
  },
  {
   "cell_type": "markdown",
   "metadata": {
    "papermill": {
     "duration": 0.019247,
     "end_time": "2020-03-24T21:55:16.156194",
     "exception": false,
     "start_time": "2020-03-24T21:55:16.136947",
     "status": "completed"
    },
    "tags": []
   },
   "source": [
    "#### Post Hoc Tests - Wilcoxon signed-rank test with Bonferroni adjustment"
   ]
  },
  {
   "cell_type": "markdown",
   "metadata": {
    "papermill": {
     "duration": 0.019265,
     "end_time": "2020-03-24T21:55:16.194690",
     "exception": false,
     "start_time": "2020-03-24T21:55:16.175425",
     "status": "completed"
    },
    "tags": []
   },
   "source": [
    "To examine where the differences actually occur, we run separate Wilcoxon signed-rank tests on the different combinations of the algorithms. We then adjust the result using a Bonferroni adjustment. <br><br>\n",
    "* Null hypothesis - H0: There is no difference between the paired results of the paired algorithm\n",
    "* Alternative hypothesis - Ha: There is a difference between the paired results of the paired algorithm"
   ]
  },
  {
   "cell_type": "code",
   "execution_count": 20,
   "metadata": {
    "papermill": {
     "duration": 0.112664,
     "end_time": "2020-03-24T21:55:16.326637",
     "exception": false,
     "start_time": "2020-03-24T21:55:16.213973",
     "status": "completed"
    },
    "tags": []
   },
   "outputs": [
    {
     "name": "stdout",
     "output_type": "stream",
     "text": [
      "('ALS', 'Bias'), Statistics=400867296.000, p-value=0.000, Metric is different (reject H0)\n",
      "('ALS', 'IALS'), Statistics=882413325.000, p-value=0.000, Metric is different (reject H0)\n"
     ]
    },
    {
     "name": "stdout",
     "output_type": "stream",
     "text": [
      "('ALS', 'II'), Statistics=10136736.500, p-value=0.000, Metric is different (reject H0)\n",
      "('Bias', 'IALS'), Statistics=1604513429.000, p-value=0.000, Metric is different (reject H0)\n",
      "('Bias', 'II'), Statistics=9313117.500, p-value=0.000, Metric is different (reject H0)\n",
      "('IALS', 'II'), Statistics=21680806.000, p-value=0.000, Metric is different (reject H0)\n"
     ]
    }
   ],
   "source": [
    "n_compare = list(combinations(list(range(4)), 2 ))\n",
    "\n",
    "def wilcox_bonf(data1, data2, alg_pair): \n",
    "    alpha = 0.05\n",
    "    stat, p = wilcoxon(data1, data2)\n",
    "    #Calculate Bonferroni adjustment\n",
    "    new_alpha = alpha/len(n_compare)\n",
    "    if p > new_alpha:\n",
    "        decision = 'Metric is the same (fail to reject H0)'\n",
    "    else:\n",
    "        decision = 'Metric is different (reject H0)'\n",
    "    return pd.Series({'Pair': alg_pair, 'Statistics': stat, 'p_value': p, 'Decision':decision})\n",
    "\n",
    "for idx in n_compare:\n",
    "    result = wilcox_bonf(alg_vals[idx[0]], alg_vals[idx[1]], (alg_names[idx[0]], alg_names[idx[1]]))\n",
    "    print('%s, Statistics=%.3f, p-value=%.3f, %s' % (result['Pair'], result['Statistics'], result['p_value'], result['Decision']))"
   ]
  },
  {
   "cell_type": "markdown",
   "metadata": {
    "papermill": {
     "duration": 0.020039,
     "end_time": "2020-03-24T21:55:16.366607",
     "exception": false,
     "start_time": "2020-03-24T21:55:16.346568",
     "status": "completed"
    },
    "tags": []
   },
   "source": [
    "## Prediction RMSE\n",
    "\n",
    "We will also look at the prediction RMSE."
   ]
  },
  {
   "cell_type": "code",
   "execution_count": 21,
   "metadata": {
    "papermill": {
     "duration": 409.141509,
     "end_time": "2020-03-24T22:02:05.528490",
     "exception": false,
     "start_time": "2020-03-24T21:55:16.386981",
     "status": "completed"
    },
    "tags": []
   },
   "outputs": [],
   "source": [
    "user_rmse = preds.groupby(['algorithm', 'user']).apply(lambda df: rmse(df['prediction'], df['rating']))\n",
    "user_rmse = user_rmse.reset_index(name='RMSE')"
   ]
  },
  {
   "cell_type": "code",
   "execution_count": 22,
   "metadata": {
    "papermill": {
     "duration": 4.312729,
     "end_time": "2020-03-24T22:02:09.864295",
     "exception": false,
     "start_time": "2020-03-24T22:02:05.551566",
     "status": "completed"
    },
    "tags": []
   },
   "outputs": [
    {
     "data": {
      "text/plain": [
       "<seaborn.axisgrid.FacetGrid at 0x2aaadfba8e50>"
      ]
     },
     "execution_count": 22,
     "metadata": {},
     "output_type": "execute_result"
    },
    {
     "data": {
      "image/png": "[encoded data removed]",
      "text/plain": [
       "<Figure size 360x360 with 1 Axes>"
      ]
     },
     "metadata": {
      "needs_background": "light"
     },
     "output_type": "display_data"
    }
   ],
   "source": [
    "sns.catplot(x='algorithm', y='RMSE', data=user_rmse, kind='bar')"
   ]
  },
  {
   "cell_type": "code",
   "execution_count": null,
   "metadata": {
    "papermill": {
     "duration": 0.020407,
     "end_time": "2020-03-24T22:02:09.905578",
     "exception": false,
     "start_time": "2020-03-24T22:02:09.885171",
     "status": "completed"
    },
    "tags": []
   },
   "outputs": [],
   "source": []
  }
 ],
 "metadata": {
  "kernelspec": {
   "display_name": "Python 3",
   "language": "python",
   "name": "python3"
  },
  "language_info": {
   "codemirror_mode": {
    "name": "ipython",
    "version": 3
   },
   "file_extension": ".py",
   "mimetype": "text/x-python",
   "name": "python",
   "nbconvert_exporter": "python",
   "pygments_lexer": "ipython3",
   "version": "3.7.6"
  },
  "papermill": {
   "duration": 5169.916337,
   "end_time": "2020-03-24T22:02:09.931072",
   "environment_variables": {},
   "exception": null,
   "input_path": "eval-report.ipynb",
   "output_path": "eval-report.ml20m.ipynb",
   "parameters": {
    "dataset": "ml20m"
   },
   "start_time": "2020-03-24T20:36:00.014735",
   "version": "2.0.0"
  }
 },
 "nbformat": 4,
 "nbformat_minor": 2
}