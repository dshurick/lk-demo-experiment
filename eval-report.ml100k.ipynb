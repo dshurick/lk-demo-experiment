{
 "cells": [
  {
   "cell_type": "markdown",
   "metadata": {
    "papermill": {
     "duration": 0.018008,
     "end_time": "2020-03-06T22:44:26.051139",
     "exception": false,
     "start_time": "2020-03-06T22:44:26.033131",
     "status": "completed"
    },
    "tags": []
   },
   "source": [
    "# Evaluation Analysis for Recommender Output"
   ]
  },
  {
   "cell_type": "markdown",
   "metadata": {
    "papermill": {
     "duration": 0.022014,
     "end_time": "2020-03-06T22:44:26.099144",
     "exception": false,
     "start_time": "2020-03-06T22:44:26.077130",
     "status": "completed"
    },
    "tags": []
   },
   "source": [
    "In this section we will analyze and compare the generated recommendations and predictions from a predefined list of algorithms with the goal of assessing the performance of each algorithm with respect to a metric. In other words, we would rank the algorithms for each metric considered with respect to performance."
   ]
  },
  {
   "cell_type": "markdown",
   "metadata": {
    "papermill": {
     "duration": 0.017,
     "end_time": "2020-03-06T22:44:26.134131",
     "exception": false,
     "start_time": "2020-03-06T22:44:26.117131",
     "status": "completed"
    },
    "tags": []
   },
   "source": [
    "# Setup"
   ]
  },
  {
   "cell_type": "markdown",
   "metadata": {
    "papermill": {
     "duration": 0.017,
     "end_time": "2020-03-06T22:44:26.169130",
     "exception": false,
     "start_time": "2020-03-06T22:44:26.152130",
     "status": "completed"
    },
    "tags": []
   },
   "source": [
    "Below are the list of packages required to successfully run the analysis. They are divided into partitions to signify their specific task.<br>\n",
    "We need the pathlib package for working with files and folders"
   ]
  },
  {
   "cell_type": "code",
   "execution_count": 1,
   "metadata": {
    "papermill": {
     "duration": 0.023,
     "end_time": "2020-03-06T22:44:26.208131",
     "exception": false,
     "start_time": "2020-03-06T22:44:26.185131",
     "status": "completed"
    },
    "tags": []
   },
   "outputs": [],
   "source": [
    "from pathlib import Path"
   ]
  },
  {
   "cell_type": "markdown",
   "metadata": {
    "papermill": {
     "duration": 0.016,
     "end_time": "2020-03-06T22:44:26.251131",
     "exception": false,
     "start_time": "2020-03-06T22:44:26.235131",
     "status": "completed"
    },
    "tags": []
   },
   "source": [
    "We would use the pandas for analyzing and manipulating our data while seaborn and matplotlib are used for data visualization. statsmodels.graphics.gofplots and scipy.stats.shapiro are used for normality check. Scipy.stats.friedmanchisquare is a non-parametric test used to determine the statistical significance in metric results and the wilcoxon test is used for pairwise comparison of sample data."
   ]
  },
  {
   "cell_type": "code",
   "execution_count": 2,
   "metadata": {
    "papermill": {
     "duration": 1.217997,
     "end_time": "2020-03-06T22:44:27.487127",
     "exception": false,
     "start_time": "2020-03-06T22:44:26.269130",
     "status": "completed"
    },
    "tags": []
   },
   "outputs": [],
   "source": [
    "import pandas as pd\n",
    "import seaborn as sns\n",
    "import matplotlib.pyplot as plt\n",
    "from statsmodels.graphics.gofplots import qqplot\n",
    "from scipy.stats import shapiro\n",
    "from scipy.stats import friedmanchisquare, wilcoxon\n",
    "from itertools import combinations"
   ]
  },
  {
   "cell_type": "markdown",
   "metadata": {
    "papermill": {
     "duration": 0.014987,
     "end_time": "2020-03-06T22:44:27.518132",
     "exception": false,
     "start_time": "2020-03-06T22:44:27.503145",
     "status": "completed"
    },
    "tags": []
   },
   "source": [
    "We will use lenskit for training, running, and evaluating recommender algorithms"
   ]
  },
  {
   "cell_type": "code",
   "execution_count": 3,
   "metadata": {
    "papermill": {
     "duration": 1.118161,
     "end_time": "2020-03-06T22:44:28.652287",
     "exception": false,
     "start_time": "2020-03-06T22:44:27.534126",
     "status": "completed"
    },
    "tags": []
   },
   "outputs": [
    {
     "name": "stderr",
     "output_type": "stream",
     "text": [
      "C:\\Users\\michaelekstrand\\Anaconda3\\envs\\lk-demo\\lib\\site-packages\\fastparquet\\dataframe.py:5: FutureWarning: pandas.core.index is deprecated and will be removed in a future version.  The public classes are available in the top-level namespace.\n",
      "  from pandas.core.index import CategoricalIndex, RangeIndex, Index, MultiIndex\n"
     ]
    }
   ],
   "source": [
    "from lenskit import topn\n",
    "from lenskit.metrics.predict import rmse"
   ]
  },
  {
   "cell_type": "markdown",
   "metadata": {
    "papermill": {
     "duration": 0.016503,
     "end_time": "2020-03-06T22:44:28.685796",
     "exception": false,
     "start_time": "2020-03-06T22:44:28.669293",
     "status": "completed"
    },
    "tags": []
   },
   "source": [
    "# Load Data"
   ]
  },
  {
   "cell_type": "markdown",
   "metadata": {
    "papermill": {
     "duration": 0.016003,
     "end_time": "2020-03-06T22:44:28.717799",
     "exception": false,
     "start_time": "2020-03-06T22:44:28.701796",
     "status": "completed"
    },
    "tags": []
   },
   "source": [
    "We specify the dataset we will use for our analysis and the main directory from where we read the recommendation and prediction files. From the main directory we find all the directories associated with the dataset and then read the recommendation and predictions files from those directories."
   ]
  },
  {
   "cell_type": "code",
   "execution_count": 4,
   "metadata": {
    "papermill": {
     "duration": 0.021999,
     "end_time": "2020-03-06T22:44:28.757796",
     "exception": false,
     "start_time": "2020-03-06T22:44:28.735797",
     "status": "completed"
    },
    "tags": [
     "parameters"
    ]
   },
   "outputs": [],
   "source": [
    "dataset = \"ml100k\""
   ]
  },
  {
   "cell_type": "code",
   "execution_count": 5,
   "metadata": {
    "papermill": {
     "duration": 0.022986,
     "end_time": "2020-03-06T22:44:28.796797",
     "exception": false,
     "start_time": "2020-03-06T22:44:28.773811",
     "status": "completed"
    },
    "tags": [
     "injected-parameters"
    ]
   },
   "outputs": [],
   "source": [
    "# Parameters\n",
    "dataset = \"ml100k\"\n"
   ]
  },
  {
   "cell_type": "code",
   "execution_count": 6,
   "metadata": {
    "papermill": {
     "duration": 0.027003,
     "end_time": "2020-03-06T22:44:28.838799",
     "exception": false,
     "start_time": "2020-03-06T22:44:28.811796",
     "status": "completed"
    },
    "tags": []
   },
   "outputs": [],
   "source": [
    "output_root = Path(\"output\")"
   ]
  },
  {
   "cell_type": "code",
   "execution_count": 7,
   "metadata": {
    "papermill": {
     "duration": 0.025016,
     "end_time": "2020-03-06T22:44:28.878812",
     "exception": false,
     "start_time": "2020-03-06T22:44:28.853796",
     "status": "completed"
    },
    "tags": []
   },
   "outputs": [],
   "source": [
    "dirs = [fld for fld in output_root.glob(f'{dataset}-*')]"
   ]
  },
  {
   "cell_type": "code",
   "execution_count": 8,
   "metadata": {
    "papermill": {
     "duration": 0.463041,
     "end_time": "2020-03-06T22:44:29.360840",
     "exception": false,
     "start_time": "2020-03-06T22:44:28.897799",
     "status": "completed"
    },
    "tags": []
   },
   "outputs": [],
   "source": [
    "recs = []\n",
    "for fld in dirs: \n",
    "    for file in fld.glob(\"recs-*\"):\n",
    "        rec = pd.read_csv(file, sep=',')\n",
    "        rec[\"dataset\"] = fld.name.split(\"-\")[0]\n",
    "        rec[\"algorithm\"] = fld.name.split(\"-\")[1]\n",
    "        recs.append(rec)\n",
    "\n",
    "recs = pd.concat(recs, ignore_index=True)\n",
    "recs = recs.astype({'dataset': 'category', 'algorithm': 'category'})"
   ]
  },
  {
   "cell_type": "code",
   "execution_count": 9,
   "metadata": {
    "papermill": {
     "duration": 0.154001,
     "end_time": "2020-03-06T22:44:29.531841",
     "exception": false,
     "start_time": "2020-03-06T22:44:29.377840",
     "status": "completed"
    },
    "tags": []
   },
   "outputs": [],
   "source": [
    "preds = []\n",
    "for fld in dirs:\n",
    "    for file in fld.glob(\"pred-*\"):\n",
    "        pred = pd.read_csv(file, sep=',')\n",
    "        pred[\"dataset\"] = fld.name.split(\"-\")[0]\n",
    "        pred[\"algorithm\"] = fld.name.split(\"-\")[1]\n",
    "        preds.append(pred)\n",
    "\n",
    "preds = pd.concat(preds, ignore_index=True)"
   ]
  },
  {
   "cell_type": "markdown",
   "metadata": {
    "papermill": {
     "duration": 0.013968,
     "end_time": "2020-03-06T22:44:29.559839",
     "exception": false,
     "start_time": "2020-03-06T22:44:29.545871",
     "status": "completed"
    },
    "tags": []
   },
   "source": [
    "We need to load the test data so that we have the ground truths for computing accuracy "
   ]
  },
  {
   "cell_type": "code",
   "execution_count": 10,
   "metadata": {
    "papermill": {
     "duration": 0.018001,
     "end_time": "2020-03-06T22:44:29.590840",
     "exception": false,
     "start_time": "2020-03-06T22:44:29.572839",
     "status": "completed"
    },
    "tags": []
   },
   "outputs": [],
   "source": [
    "split_root = Path(\"data-split\")\n",
    "split_dir = split_root / dataset"
   ]
  },
  {
   "cell_type": "code",
   "execution_count": 11,
   "metadata": {
    "papermill": {
     "duration": 0.025001,
     "end_time": "2020-03-06T22:44:29.629840",
     "exception": false,
     "start_time": "2020-03-06T22:44:29.604839",
     "status": "completed"
    },
    "tags": []
   },
   "outputs": [],
   "source": [
    "test = []\n",
    "for file in split_dir.glob(\"test-*.csv\"):\n",
    "    test.append(pd.read_csv(file, sep=','))\n",
    "\n",
    "test = pd.concat(test, ignore_index=True)"
   ]
  },
  {
   "cell_type": "markdown",
   "metadata": {
    "papermill": {
     "duration": 0.013001,
     "end_time": "2020-03-06T22:44:29.656839",
     "exception": false,
     "start_time": "2020-03-06T22:44:29.643838",
     "status": "completed"
    },
    "tags": []
   },
   "source": [
    "# Compute Metrics"
   ]
  },
  {
   "cell_type": "markdown",
   "metadata": {
    "papermill": {
     "duration": 0.012999,
     "end_time": "2020-03-06T22:44:29.683839",
     "exception": false,
     "start_time": "2020-03-06T22:44:29.670840",
     "status": "completed"
    },
    "tags": []
   },
   "source": [
    "The topn.RecListAnalysis class computes top-N metrics for recommendation list and takes care of making sure that the recommendations and ground truths are properly matched. Refer to the documentation for detailed explanation of the purpose for the RecListAnalysis class and how the analysis is done - https://lkpy.lenskit.org/en/stable/evaluation/topn-metrics.html "
   ]
  },
  {
   "cell_type": "code",
   "execution_count": 12,
   "metadata": {
    "papermill": {
     "duration": 13.698885,
     "end_time": "2020-03-06T22:44:43.395724",
     "exception": false,
     "start_time": "2020-03-06T22:44:29.696839",
     "status": "completed"
    },
    "tags": []
   },
   "outputs": [
    {
     "data": {
      "text/html": [
       "<div>\n",
       "<style scoped>\n",
       "    .dataframe tbody tr th:only-of-type {\n",
       "        vertical-align: middle;\n",
       "    }\n",
       "\n",
       "    .dataframe tbody tr th {\n",
       "        vertical-align: top;\n",
       "    }\n",
       "\n",
       "    .dataframe thead th {\n",
       "        text-align: right;\n",
       "    }\n",
       "</style>\n",
       "<table border=\"1\" class=\"dataframe\">\n",
       "  <thead>\n",
       "    <tr style=\"text-align: right;\">\n",
       "      <th></th>\n",
       "      <th></th>\n",
       "      <th></th>\n",
       "      <th>nrecs</th>\n",
       "      <th>precision</th>\n",
       "      <th>recip_rank</th>\n",
       "      <th>ndcg</th>\n",
       "      <th>ntruth</th>\n",
       "    </tr>\n",
       "    <tr>\n",
       "      <th>dataset</th>\n",
       "      <th>algorithm</th>\n",
       "      <th>user</th>\n",
       "      <th></th>\n",
       "      <th></th>\n",
       "      <th></th>\n",
       "      <th></th>\n",
       "      <th></th>\n",
       "    </tr>\n",
       "  </thead>\n",
       "  <tbody>\n",
       "    <tr>\n",
       "      <th rowspan=\"5\" valign=\"top\">ml100k</th>\n",
       "      <th rowspan=\"5\" valign=\"top\">ALS</th>\n",
       "      <th>1</th>\n",
       "      <td>100.0</td>\n",
       "      <td>0.02</td>\n",
       "      <td>0.018868</td>\n",
       "      <td>0.080828</td>\n",
       "      <td>5</td>\n",
       "    </tr>\n",
       "    <tr>\n",
       "      <th>2</th>\n",
       "      <td>100.0</td>\n",
       "      <td>0.01</td>\n",
       "      <td>0.010870</td>\n",
       "      <td>0.036924</td>\n",
       "      <td>5</td>\n",
       "    </tr>\n",
       "    <tr>\n",
       "      <th>3</th>\n",
       "      <td>100.0</td>\n",
       "      <td>0.00</td>\n",
       "      <td>0.000000</td>\n",
       "      <td>0.000000</td>\n",
       "      <td>5</td>\n",
       "    </tr>\n",
       "    <tr>\n",
       "      <th>4</th>\n",
       "      <td>100.0</td>\n",
       "      <td>0.00</td>\n",
       "      <td>0.000000</td>\n",
       "      <td>0.000000</td>\n",
       "      <td>5</td>\n",
       "    </tr>\n",
       "    <tr>\n",
       "      <th>5</th>\n",
       "      <td>100.0</td>\n",
       "      <td>0.01</td>\n",
       "      <td>0.017241</td>\n",
       "      <td>0.099693</td>\n",
       "      <td>5</td>\n",
       "    </tr>\n",
       "  </tbody>\n",
       "</table>\n",
       "</div>"
      ],
      "text/plain": [
       "                        nrecs  precision  recip_rank      ndcg  ntruth\n",
       "dataset algorithm user                                                \n",
       "ml100k  ALS       1     100.0       0.02    0.018868  0.080828       5\n",
       "                  2     100.0       0.01    0.010870  0.036924       5\n",
       "                  3     100.0       0.00    0.000000  0.000000       5\n",
       "                  4     100.0       0.00    0.000000  0.000000       5\n",
       "                  5     100.0       0.01    0.017241  0.099693       5"
      ]
     },
     "execution_count": 12,
     "metadata": {},
     "output_type": "execute_result"
    }
   ],
   "source": [
    "rla = topn.RecListAnalysis()\n",
    "\n",
    "rla.add_metric(topn.precision)\n",
    "rla.add_metric(topn.recip_rank)\n",
    "rla.add_metric(topn.ndcg)\n",
    "results = rla.compute(recs, test, include_missing=True)\n",
    "results = results.fillna(0)\n",
    "results.head()"
   ]
  },
  {
   "cell_type": "markdown",
   "metadata": {
    "papermill": {
     "duration": 0.014999,
     "end_time": "2020-03-06T22:44:43.425723",
     "exception": false,
     "start_time": "2020-03-06T22:44:43.410724",
     "status": "completed"
    },
    "tags": []
   },
   "source": [
    "We will reshape the 'results' dataframe by stacking the columns to index and then use the bar chart to visualize the performance of our algorithms with respect to the precision, reciprocal rank and ndcg metrics"
   ]
  },
  {
   "cell_type": "code",
   "execution_count": 13,
   "metadata": {
    "papermill": {
     "duration": 0.030001,
     "end_time": "2020-03-06T22:44:43.469723",
     "exception": false,
     "start_time": "2020-03-06T22:44:43.439722",
     "status": "completed"
    },
    "tags": []
   },
   "outputs": [
    {
     "data": {
      "text/html": [
       "<div>\n",
       "<style scoped>\n",
       "    .dataframe tbody tr th:only-of-type {\n",
       "        vertical-align: middle;\n",
       "    }\n",
       "\n",
       "    .dataframe tbody tr th {\n",
       "        vertical-align: top;\n",
       "    }\n",
       "\n",
       "    .dataframe thead th {\n",
       "        text-align: right;\n",
       "    }\n",
       "</style>\n",
       "<table border=\"1\" class=\"dataframe\">\n",
       "  <thead>\n",
       "    <tr style=\"text-align: right;\">\n",
       "      <th></th>\n",
       "      <th>algorithm</th>\n",
       "      <th>user</th>\n",
       "      <th>metric</th>\n",
       "      <th>val</th>\n",
       "    </tr>\n",
       "  </thead>\n",
       "  <tbody>\n",
       "    <tr>\n",
       "      <th>0</th>\n",
       "      <td>ALS</td>\n",
       "      <td>1</td>\n",
       "      <td>precision</td>\n",
       "      <td>0.020000</td>\n",
       "    </tr>\n",
       "    <tr>\n",
       "      <th>1</th>\n",
       "      <td>ALS</td>\n",
       "      <td>1</td>\n",
       "      <td>recip_rank</td>\n",
       "      <td>0.018868</td>\n",
       "    </tr>\n",
       "    <tr>\n",
       "      <th>2</th>\n",
       "      <td>ALS</td>\n",
       "      <td>1</td>\n",
       "      <td>ndcg</td>\n",
       "      <td>0.080828</td>\n",
       "    </tr>\n",
       "    <tr>\n",
       "      <th>3</th>\n",
       "      <td>ALS</td>\n",
       "      <td>2</td>\n",
       "      <td>precision</td>\n",
       "      <td>0.010000</td>\n",
       "    </tr>\n",
       "    <tr>\n",
       "      <th>4</th>\n",
       "      <td>ALS</td>\n",
       "      <td>2</td>\n",
       "      <td>recip_rank</td>\n",
       "      <td>0.010870</td>\n",
       "    </tr>\n",
       "  </tbody>\n",
       "</table>\n",
       "</div>"
      ],
      "text/plain": [
       "  algorithm  user      metric       val\n",
       "0       ALS     1   precision  0.020000\n",
       "1       ALS     1  recip_rank  0.018868\n",
       "2       ALS     1        ndcg  0.080828\n",
       "3       ALS     2   precision  0.010000\n",
       "4       ALS     2  recip_rank  0.010870"
      ]
     },
     "execution_count": 13,
     "metadata": {},
     "output_type": "execute_result"
    }
   ],
   "source": [
    "pltData = (results.drop(columns=['nrecs', 'ntruth']).stack()).reset_index().drop(columns=['dataset'])\n",
    "pltData.columns = ['algorithm', 'user', 'metric', 'val']\n",
    "pltData.head()"
   ]
  },
  {
   "cell_type": "markdown",
   "metadata": {
    "papermill": {
     "duration": 0.012997,
     "end_time": "2020-03-06T22:44:43.501722",
     "exception": false,
     "start_time": "2020-03-06T22:44:43.488725",
     "status": "completed"
    },
    "tags": []
   },
   "source": [
    "We need to determine if the differences we observe in the performances of the algorithms for the various metrics are statistically significant. To achieve this, we will need to use either a parametric or non-parametric statistical test for comparing the differences. We will consider a parametric test - repeated ANOVA measure cause our sample groups are correlated."
   ]
  },
  {
   "cell_type": "code",
   "execution_count": 14,
   "metadata": {
    "papermill": {
     "duration": 0.631999,
     "end_time": "2020-03-06T22:44:44.147721",
     "exception": false,
     "start_time": "2020-03-06T22:44:43.515722",
     "status": "completed"
    },
    "tags": []
   },
   "outputs": [
    {
     "data": {
      "image/png": "[encoded data removed]",
      "text/plain": [
       "<Figure size 756x360 with 3 Axes>"
      ]
     },
     "metadata": {
      "needs_background": "light"
     },
     "output_type": "display_data"
    }
   ],
   "source": [
    "g = sns.catplot(x = \"algorithm\", y = \"val\", data = pltData, kind=\"bar\", col = \"metric\", aspect=.7)"
   ]
  },
  {
   "cell_type": "markdown",
   "metadata": {
    "papermill": {
     "duration": 0.015027,
     "end_time": "2020-03-06T22:44:44.179756",
     "exception": false,
     "start_time": "2020-03-06T22:44:44.164729",
     "status": "completed"
    },
    "tags": []
   },
   "source": [
    "We will use a nonparametric statistical method to check the statistical significance of the performances for the different metrics."
   ]
  },
  {
   "cell_type": "markdown",
   "metadata": {
    "papermill": {
     "duration": 0.014967,
     "end_time": "2020-03-06T22:44:44.208726",
     "exception": false,
     "start_time": "2020-03-06T22:44:44.193759",
     "status": "completed"
    },
    "tags": []
   },
   "source": [
    "# Precision"
   ]
  },
  {
   "cell_type": "markdown",
   "metadata": {
    "papermill": {
     "duration": 0.014449,
     "end_time": "2020-03-06T22:44:44.237175",
     "exception": false,
     "start_time": "2020-03-06T22:44:44.222726",
     "status": "completed"
    },
    "tags": []
   },
   "source": [
    "#### Friedman Test - nonparametric version of the repeated measures ANOVA"
   ]
  },
  {
   "cell_type": "markdown",
   "metadata": {
    "papermill": {
     "duration": 0.013012,
     "end_time": "2020-03-06T22:44:44.264212",
     "exception": false,
     "start_time": "2020-03-06T22:44:44.251200",
     "status": "completed"
    },
    "tags": []
   },
   "source": [
    "* Null hypothesis - H0: There are no differences between the related groups<br>\n",
    "* Alternative hypothesis - Ha: There are differences somewhere between the related groups"
   ]
  },
  {
   "cell_type": "code",
   "execution_count": 15,
   "metadata": {
    "papermill": {
     "duration": 0.092026,
     "end_time": "2020-03-06T22:44:44.371208",
     "exception": false,
     "start_time": "2020-03-06T22:44:44.279182",
     "status": "completed"
    },
    "tags": []
   },
   "outputs": [
    {
     "name": "stdout",
     "output_type": "stream",
     "text": [
      "Statistics=1776.043, p=0.000\n"
     ]
    }
   ],
   "source": [
    "alg_vals = []\n",
    "alg_names = []\n",
    "for alg, data in (results.reset_index()).groupby(\"algorithm\"):\n",
    "    alg_names.append(alg)\n",
    "    alg_vals.append(data[\"precision\"].to_numpy())\n",
    "\n",
    "stat, p = friedmanchisquare(alg_vals[0], alg_vals[1], alg_vals[2], alg_vals[3])\n",
    "print('Statistics=%.3f, p=%.3f' % (stat, p))"
   ]
  },
  {
   "cell_type": "markdown",
   "metadata": {
    "papermill": {
     "duration": 0.01503,
     "end_time": "2020-03-06T22:44:44.401213",
     "exception": false,
     "start_time": "2020-03-06T22:44:44.386183",
     "status": "completed"
    },
    "tags": []
   },
   "source": [
    "If p < 0.05, we reject the null hypothesis in favour of the alternative hypothesis that there exists differences. However, we do not know exactly where those differences lie. "
   ]
  },
  {
   "cell_type": "markdown",
   "metadata": {
    "papermill": {
     "duration": 0.01503,
     "end_time": "2020-03-06T22:44:44.434212",
     "exception": false,
     "start_time": "2020-03-06T22:44:44.419182",
     "status": "completed"
    },
    "tags": []
   },
   "source": [
    "#### Post Hoc Tests - Wilcoxon signed-rank test with Bonferroni adjustment"
   ]
  },
  {
   "cell_type": "markdown",
   "metadata": {
    "papermill": {
     "duration": 0.014003,
     "end_time": "2020-03-06T22:44:44.462215",
     "exception": false,
     "start_time": "2020-03-06T22:44:44.448212",
     "status": "completed"
    },
    "tags": []
   },
   "source": [
    "To examine where the differences actually occur, we need to run separate Wilcoxon signed-rank tests on the different combinations of the algorithms. (However, we only perform the Post-Hoc test when the Friedman test result is statistically significant). We need to use a Bonferroni adjustment on the results from the wilcoxon tests because we are making multiple comparisons which makes it more likely that we declare a result significant when we should not.<br><br>\n",
    "* Null hypothesis - H0: There is no difference between the paired results of the paired algorithm\n",
    "* Alternative hypothesis - Ha: There is a difference between the paired results of the paired algorithm"
   ]
  },
  {
   "cell_type": "code",
   "execution_count": 16,
   "metadata": {
    "papermill": {
     "duration": 0.028972,
     "end_time": "2020-03-06T22:44:44.506183",
     "exception": false,
     "start_time": "2020-03-06T22:44:44.477211",
     "status": "completed"
    },
    "tags": []
   },
   "outputs": [
    {
     "name": "stdout",
     "output_type": "stream",
     "text": [
      "('ALS', 'IALS'), Statistics=4984.000, p-value=0.000, Metric is different (reject H0)\n",
      "('ALS', 'II'), Statistics=18134.500, p-value=0.000, Metric is different (reject H0)\n",
      "('ALS', 'UU'), Statistics=15390.500, p-value=0.000, Metric is different (reject H0)\n",
      "('IALS', 'II'), Statistics=4451.500, p-value=0.000, Metric is different (reject H0)\n",
      "('IALS', 'UU'), Statistics=2075.000, p-value=0.000, Metric is different (reject H0)\n",
      "('II', 'UU'), Statistics=22853.000, p-value=0.000, Metric is different (reject H0)\n"
     ]
    }
   ],
   "source": [
    "n_compare = list(combinations(list(range(4)), 2 ))\n",
    "\n",
    "def wilcox_bonf(data1, data2, alg_pair): \n",
    "    alpha = 0.05\n",
    "    stat, p = wilcoxon(data1, data2)\n",
    "    #Calculate Bonferroni adjustment\n",
    "    new_alpha = alpha/len(n_compare)\n",
    "    if p > new_alpha:\n",
    "        decision = 'Metric is the same (fail to reject H0)'\n",
    "    else:\n",
    "        decision = 'Metric is different (reject H0)'\n",
    "    return pd.Series({'Pair': alg_pair, 'Statistics': stat, 'p_value': p, 'Decision':decision})\n",
    "\n",
    "for idx in n_compare:\n",
    "    result = wilcox_bonf(alg_vals[idx[0]], alg_vals[idx[1]], (alg_names[idx[0]], alg_names[idx[1]]))\n",
    "    print('%s, Statistics=%.3f, p-value=%.3f, %s' % (result['Pair'], result['Statistics'], result['p_value'], result['Decision']))"
   ]
  },
  {
   "cell_type": "markdown",
   "metadata": {
    "papermill": {
     "duration": 0.014029,
     "end_time": "2020-03-06T22:44:44.543211",
     "exception": false,
     "start_time": "2020-03-06T22:44:44.529182",
     "status": "completed"
    },
    "tags": []
   },
   "source": [
    "# ndcg   "
   ]
  },
  {
   "cell_type": "markdown",
   "metadata": {
    "papermill": {
     "duration": 0.01397,
     "end_time": "2020-03-06T22:44:44.572181",
     "exception": false,
     "start_time": "2020-03-06T22:44:44.558211",
     "status": "completed"
    },
    "tags": []
   },
   "source": [
    "#### Friedman Test - nonparametric version of the repeated measures ANOVA"
   ]
  },
  {
   "cell_type": "markdown",
   "metadata": {
    "papermill": {
     "duration": 0.014031,
     "end_time": "2020-03-06T22:44:44.600212",
     "exception": false,
     "start_time": "2020-03-06T22:44:44.586181",
     "status": "completed"
    },
    "tags": []
   },
   "source": [
    "* Null hypothesis - H0: There are no differences between the related groups<br>\n",
    "* Alternative hypothesis - Ha: There are differences somewhere between the related groups"
   ]
  },
  {
   "cell_type": "code",
   "execution_count": 17,
   "metadata": {
    "papermill": {
     "duration": 0.077014,
     "end_time": "2020-03-06T22:44:44.691212",
     "exception": false,
     "start_time": "2020-03-06T22:44:44.614198",
     "status": "completed"
    },
    "tags": []
   },
   "outputs": [
    {
     "name": "stdout",
     "output_type": "stream",
     "text": [
      "Statistics=1490.698, p=0.000\n"
     ]
    }
   ],
   "source": [
    "alg_vals = []\n",
    "alg_names = []\n",
    "for alg, data in (results.reset_index()).groupby(\"algorithm\"):\n",
    "    alg_names.append(alg)\n",
    "    alg_vals.append(data[\"ndcg\"].to_numpy())\n",
    "\n",
    "stat, p = friedmanchisquare(alg_vals[0], alg_vals[1], alg_vals[2], alg_vals[3])\n",
    "print('Statistics=%.3f, p=%.3f' % (stat, p))"
   ]
  },
  {
   "cell_type": "markdown",
   "metadata": {
    "papermill": {
     "duration": 0.015984,
     "end_time": "2020-03-06T22:44:44.723211",
     "exception": false,
     "start_time": "2020-03-06T22:44:44.707227",
     "status": "completed"
    },
    "tags": []
   },
   "source": [
    "If p < 0.05, we reject the null hypothesis in favour of the alternative hypothesis that there exists differences. However, we do not know exactly where those differences lie. "
   ]
  },
  {
   "cell_type": "markdown",
   "metadata": {
    "papermill": {
     "duration": 0.014969,
     "end_time": "2020-03-06T22:44:44.753181",
     "exception": false,
     "start_time": "2020-03-06T22:44:44.738212",
     "status": "completed"
    },
    "tags": []
   },
   "source": [
    "#### Post Hoc Tests - Wilcoxon signed-rank test with Bonferroni adjustment"
   ]
  },
  {
   "cell_type": "markdown",
   "metadata": {
    "papermill": {
     "duration": 0.013999,
     "end_time": "2020-03-06T22:44:44.781210",
     "exception": false,
     "start_time": "2020-03-06T22:44:44.767211",
     "status": "completed"
    },
    "tags": []
   },
   "source": [
    "We now examine where the differences actually occur using separate Wilcoxon signed-rank tests on the different combinations of the algorithms. We then adjust the result using a Bonferroni adjustment on the results. <br><br>\n",
    "* Null hypothesis - H0: There is no difference between the paired results of the paired algorithm\n",
    "* Alternative hypothesis - Ha: There is a difference between the paired results of the paired algorithm"
   ]
  },
  {
   "cell_type": "code",
   "execution_count": 18,
   "metadata": {
    "papermill": {
     "duration": 0.028,
     "end_time": "2020-03-06T22:44:44.825210",
     "exception": false,
     "start_time": "2020-03-06T22:44:44.797210",
     "status": "completed"
    },
    "tags": []
   },
   "outputs": [
    {
     "name": "stdout",
     "output_type": "stream",
     "text": [
      "('ALS', 'IALS'), Statistics=28987.000, p-value=0.000, Metric is different (reject H0)\n",
      "('ALS', 'II'), Statistics=55655.000, p-value=0.000, Metric is different (reject H0)\n",
      "('ALS', 'UU'), Statistics=29841.000, p-value=0.000, Metric is different (reject H0)\n",
      "('IALS', 'II'), Statistics=13751.000, p-value=0.000, Metric is different (reject H0)\n",
      "('IALS', 'UU'), Statistics=2876.000, p-value=0.000, Metric is different (reject H0)\n",
      "('II', 'UU'), Statistics=53115.000, p-value=0.000, Metric is different (reject H0)\n"
     ]
    }
   ],
   "source": [
    "n_compare = list(combinations(list(range(4)), 2 ))\n",
    "\n",
    "def wilcox_bonf(data1, data2, alg_pair): \n",
    "    alpha = 0.05\n",
    "    stat, p = wilcoxon(data1, data2)\n",
    "    #Calculate Bonferroni adjustment\n",
    "    new_alpha = alpha/len(n_compare)\n",
    "    if p > new_alpha:\n",
    "        decision = 'Metric is the same (fail to reject H0)'\n",
    "    else:\n",
    "        decision = 'Metric is different (reject H0)'\n",
    "    return pd.Series({'Pair': alg_pair, 'Statistics': stat, 'p_value': p, 'Decision':decision})\n",
    "\n",
    "for idx in n_compare:\n",
    "    result = wilcox_bonf(alg_vals[idx[0]], alg_vals[idx[1]], (alg_names[idx[0]], alg_names[idx[1]]))\n",
    "    print('%s, Statistics=%.3f, p-value=%.3f, %s' % (result['Pair'], result['Statistics'], result['p_value'], result['Decision']))"
   ]
  },
  {
   "cell_type": "markdown",
   "metadata": {
    "papermill": {
     "duration": 0.01403,
     "end_time": "2020-03-06T22:44:44.855211",
     "exception": false,
     "start_time": "2020-03-06T22:44:44.841181",
     "status": "completed"
    },
    "tags": []
   },
   "source": [
    "# recip_rank"
   ]
  },
  {
   "cell_type": "markdown",
   "metadata": {
    "papermill": {
     "duration": 0.014969,
     "end_time": "2020-03-06T22:44:44.885179",
     "exception": false,
     "start_time": "2020-03-06T22:44:44.870210",
     "status": "completed"
    },
    "tags": []
   },
   "source": [
    "#### Friedman Test - nonparametric version of the repeated measures ANOVA"
   ]
  },
  {
   "cell_type": "markdown",
   "metadata": {
    "papermill": {
     "duration": 0.013969,
     "end_time": "2020-03-06T22:44:44.914182",
     "exception": false,
     "start_time": "2020-03-06T22:44:44.900213",
     "status": "completed"
    },
    "tags": []
   },
   "source": [
    "* Null hypothesis - H0: There are no differences between the related groups<br>\n",
    "* Alternative hypothesis - Ha: There are differences somewhere between the related groups"
   ]
  },
  {
   "cell_type": "code",
   "execution_count": 19,
   "metadata": {
    "papermill": {
     "duration": 0.076006,
     "end_time": "2020-03-06T22:44:45.006216",
     "exception": false,
     "start_time": "2020-03-06T22:44:44.930210",
     "status": "completed"
    },
    "tags": []
   },
   "outputs": [
    {
     "name": "stdout",
     "output_type": "stream",
     "text": [
      "Statistics=1207.864, p=0.000\n"
     ]
    }
   ],
   "source": [
    "alg_vals = []\n",
    "alg_names = []\n",
    "for alg, data in (results.reset_index()).groupby(\"algorithm\"):\n",
    "    alg_names.append(alg)\n",
    "    alg_vals.append(data[\"recip_rank\"].to_numpy())\n",
    "\n",
    "stat, p = friedmanchisquare(alg_vals[0], alg_vals[1], alg_vals[2], alg_vals[3])\n",
    "print('Statistics=%.3f, p=%.3f' % (stat, p))"
   ]
  },
  {
   "cell_type": "markdown",
   "metadata": {
    "papermill": {
     "duration": 0.015004,
     "end_time": "2020-03-06T22:44:45.036210",
     "exception": false,
     "start_time": "2020-03-06T22:44:45.021206",
     "status": "completed"
    },
    "tags": []
   },
   "source": [
    "If p < 0.05, we reject the null hypothesis in favour of the alternative hypothesis that there exists differences. However, we do not know exactly where those differences lie. "
   ]
  },
  {
   "cell_type": "markdown",
   "metadata": {
    "papermill": {
     "duration": 0.019016,
     "end_time": "2020-03-06T22:44:45.075195",
     "exception": false,
     "start_time": "2020-03-06T22:44:45.056179",
     "status": "completed"
    },
    "tags": []
   },
   "source": [
    "#### Post Hoc Tests - Wilcoxon signed-rank test with Bonferroni adjustment"
   ]
  },
  {
   "cell_type": "markdown",
   "metadata": {
    "papermill": {
     "duration": 0.016974,
     "end_time": "2020-03-06T22:44:45.110179",
     "exception": false,
     "start_time": "2020-03-06T22:44:45.093205",
     "status": "completed"
    },
    "tags": []
   },
   "source": [
    "To examine where the differences actually occur, we run separate Wilcoxon signed-rank tests on the different combinations of the algorithms. We then adjust the result using a Bonferroni adjustment. <br><br>\n",
    "* Null hypothesis - H0: There is no difference between the paired results of the paired algorithm\n",
    "* Alternative hypothesis - Ha: There is a difference between the paired results of the paired algorithm"
   ]
  },
  {
   "cell_type": "code",
   "execution_count": 20,
   "metadata": {
    "papermill": {
     "duration": 0.028999,
     "end_time": "2020-03-06T22:44:45.154211",
     "exception": false,
     "start_time": "2020-03-06T22:44:45.125212",
     "status": "completed"
    },
    "tags": []
   },
   "outputs": [
    {
     "name": "stdout",
     "output_type": "stream",
     "text": [
      "('ALS', 'IALS'), Statistics=72959.500, p-value=0.000, Metric is different (reject H0)\n",
      "('ALS', 'II'), Statistics=48659.500, p-value=0.000, Metric is different (reject H0)\n",
      "('ALS', 'UU'), Statistics=24650.000, p-value=0.000, Metric is different (reject H0)\n",
      "('IALS', 'II'), Statistics=42398.500, p-value=0.000, Metric is different (reject H0)\n",
      "('IALS', 'UU'), Statistics=8965.000, p-value=0.000, Metric is different (reject H0)\n",
      "('II', 'UU'), Statistics=45920.500, p-value=0.000, Metric is different (reject H0)\n"
     ]
    }
   ],
   "source": [
    "n_compare = list(combinations(list(range(4)), 2 ))\n",
    "\n",
    "def wilcox_bonf(data1, data2, alg_pair): \n",
    "    alpha = 0.05\n",
    "    stat, p = wilcoxon(data1, data2)\n",
    "    #Calculate Bonferroni adjustment\n",
    "    new_alpha = alpha/len(n_compare)\n",
    "    if p > new_alpha:\n",
    "        decision = 'Metric is the same (fail to reject H0)'\n",
    "    else:\n",
    "        decision = 'Metric is different (reject H0)'\n",
    "    return pd.Series({'Pair': alg_pair, 'Statistics': stat, 'p_value': p, 'Decision':decision})\n",
    "\n",
    "for idx in n_compare:\n",
    "    result = wilcox_bonf(alg_vals[idx[0]], alg_vals[idx[1]], (alg_names[idx[0]], alg_names[idx[1]]))\n",
    "    print('%s, Statistics=%.3f, p-value=%.3f, %s' % (result['Pair'], result['Statistics'], result['p_value'], result['Decision']))"
   ]
  },
  {
   "cell_type": "code",
   "execution_count": null,
   "metadata": {
    "papermill": {
     "duration": 0.017001,
     "end_time": "2020-03-06T22:44:45.186181",
     "exception": false,
     "start_time": "2020-03-06T22:44:45.169180",
     "status": "completed"
    },
    "tags": []
   },
   "outputs": [],
   "source": []
  }
 ],
 "metadata": {
  "kernelspec": {
   "display_name": "Python 3",
   "language": "python",
   "name": "python3"
  },
  "language_info": {
   "codemirror_mode": {
    "name": "ipython",
    "version": 3
   },
   "file_extension": ".py",
   "mimetype": "text/x-python",
   "name": "python",
   "nbconvert_exporter": "python",
   "pygments_lexer": "ipython3",
   "version": "3.7.6"
  },
  "papermill": {
   "duration": 20.940004,
   "end_time": "2020-03-06T22:44:45.607139",
   "environment_variables": {},
   "exception": null,
   "input_path": "eval-report.ipynb",
   "output_path": "eval-report.ml100k.ipynb",
   "parameters": {
    "dataset": "ml100k"
   },
   "start_time": "2020-03-06T22:44:24.667135",
   "version": "1.2.1"
  }
 },
 "nbformat": 4,
 "nbformat_minor": 2
}