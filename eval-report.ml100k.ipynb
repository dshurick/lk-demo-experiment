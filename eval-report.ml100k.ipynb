{
 "cells": [
  {
   "cell_type": "markdown",
   "metadata": {
    "papermill": {
     "duration": 0.044538,
     "end_time": "2020-08-09T06:30:20.436758",
     "exception": false,
     "start_time": "2020-08-09T06:30:20.392220",
     "status": "completed"
    },
    "tags": []
   },
   "source": [
    "# Evaluation Analysis for Recommender Output"
   ]
  },
  {
   "cell_type": "markdown",
   "metadata": {
    "papermill": {
     "duration": 0.040738,
     "end_time": "2020-08-09T06:30:20.516258",
     "exception": false,
     "start_time": "2020-08-09T06:30:20.475520",
     "status": "completed"
    },
    "tags": []
   },
   "source": [
    "In this section we will analyze and compare the generated recommendations and predictions from a predefined list of algorithms with the goal of assessing the performance of each algorithm with respect to a metric. In other words, we would rank the algorithms for each metric considered with respect to performance."
   ]
  },
  {
   "cell_type": "markdown",
   "metadata": {
    "papermill": {
     "duration": 0.038991,
     "end_time": "2020-08-09T06:30:20.592443",
     "exception": false,
     "start_time": "2020-08-09T06:30:20.553452",
     "status": "completed"
    },
    "tags": []
   },
   "source": [
    "# Setup"
   ]
  },
  {
   "cell_type": "markdown",
   "metadata": {
    "papermill": {
     "duration": 0.041156,
     "end_time": "2020-08-09T06:30:20.671840",
     "exception": false,
     "start_time": "2020-08-09T06:30:20.630684",
     "status": "completed"
    },
    "tags": []
   },
   "source": [
    "Below are the list of packages required to successfully run the analysis. They are divided into partitions to signify their specific task.<br>\n",
    "We need the pathlib package for working with files and folders"
   ]
  },
  {
   "cell_type": "code",
   "execution_count": 2,
   "metadata": {
    "execution": {
     "iopub.execute_input": "2020-08-09T06:30:20.756867Z",
     "iopub.status.busy": "2020-08-09T06:30:20.755412Z",
     "iopub.status.idle": "2020-08-09T06:30:20.759347Z",
     "shell.execute_reply": "2020-08-09T06:30:20.760463Z"
    },
    "papermill": {
     "duration": 0.050978,
     "end_time": "2020-08-09T06:30:20.760973",
     "exception": false,
     "start_time": "2020-08-09T06:30:20.709995",
     "status": "completed"
    },
    "tags": []
   },
   "outputs": [],
   "source": [
    "from pathlib import Path"
   ]
  },
  {
   "cell_type": "markdown",
   "metadata": {
    "papermill": {
     "duration": 0.041072,
     "end_time": "2020-08-09T06:30:20.839545",
     "exception": false,
     "start_time": "2020-08-09T06:30:20.798473",
     "status": "completed"
    },
    "tags": []
   },
   "source": [
    "We would use the pandas for analyzing and manipulating our data while seaborn and matplotlib are used for data visualization. statsmodels.graphics.gofplots and scipy.stats.shapiro are used for normality check. Scipy.stats.friedmanchisquare is a non-parametric test used to determine the statistical significance in metric results and the wilcoxon test is used for pairwise comparison of sample data."
   ]
  },
  {
   "cell_type": "code",
   "execution_count": 3,
   "metadata": {
    "execution": {
     "iopub.execute_input": "2020-08-09T06:30:20.924658Z",
     "iopub.status.busy": "2020-08-09T06:30:20.923344Z",
     "iopub.status.idle": "2020-08-09T06:30:27.445201Z",
     "shell.execute_reply": "2020-08-09T06:30:27.446311Z"
    },
    "papermill": {
     "duration": 6.569327,
     "end_time": "2020-08-09T06:30:27.446691",
     "exception": false,
     "start_time": "2020-08-09T06:30:20.877364",
     "status": "completed"
    },
    "tags": []
   },
   "outputs": [],
   "source": [
    "import pandas as pd\n",
    "import seaborn as sns\n",
    "import matplotlib.pyplot as plt\n",
    "from statsmodels.graphics.gofplots import qqplot\n",
    "from scipy.stats import shapiro\n",
    "from scipy.stats import friedmanchisquare, wilcoxon\n",
    "from itertools import combinations"
   ]
  },
  {
   "cell_type": "markdown",
   "metadata": {
    "papermill": {
     "duration": 0.041389,
     "end_time": "2020-08-09T06:30:27.526439",
     "exception": false,
     "start_time": "2020-08-09T06:30:27.485050",
     "status": "completed"
    },
    "tags": []
   },
   "source": [
    "Logging to show what's happening in LensKit routines:"
   ]
  },
  {
   "cell_type": "code",
   "execution_count": 4,
   "metadata": {
    "execution": {
     "iopub.execute_input": "2020-08-09T06:30:27.610495Z",
     "iopub.status.busy": "2020-08-09T06:30:27.608929Z",
     "iopub.status.idle": "2020-08-09T06:30:28.663711Z",
     "shell.execute_reply": "2020-08-09T06:30:28.664690Z"
    },
    "papermill": {
     "duration": 1.100335,
     "end_time": "2020-08-09T06:30:28.665066",
     "exception": false,
     "start_time": "2020-08-09T06:30:27.564731",
     "status": "completed"
    },
    "tags": []
   },
   "outputs": [
    {
     "name": "stdout",
     "output_type": "stream",
     "text": [
      "[   INFO] lenskit.util.log notebook logging configured\n"
     ]
    }
   ],
   "source": [
    "from lenskit import util\n",
    "util.log_to_notebook()"
   ]
  },
  {
   "cell_type": "markdown",
   "metadata": {
    "papermill": {
     "duration": 0.043015,
     "end_time": "2020-08-09T06:30:28.746867",
     "exception": false,
     "start_time": "2020-08-09T06:30:28.703852",
     "status": "completed"
    },
    "tags": []
   },
   "source": [
    "We will use lenskit for training, running, and evaluating recommender algorithms"
   ]
  },
  {
   "cell_type": "code",
   "execution_count": 5,
   "metadata": {
    "execution": {
     "iopub.execute_input": "2020-08-09T06:30:28.831868Z",
     "iopub.status.busy": "2020-08-09T06:30:28.830425Z",
     "iopub.status.idle": "2020-08-09T06:30:28.840466Z",
     "shell.execute_reply": "2020-08-09T06:30:28.841445Z"
    },
    "papermill": {
     "duration": 0.056745,
     "end_time": "2020-08-09T06:30:28.841829",
     "exception": false,
     "start_time": "2020-08-09T06:30:28.785084",
     "status": "completed"
    },
    "tags": []
   },
   "outputs": [],
   "source": [
    "from lenskit import topn\n",
    "from lenskit.metrics.predict import rmse"
   ]
  },
  {
   "cell_type": "markdown",
   "metadata": {
    "papermill": {
     "duration": 0.041136,
     "end_time": "2020-08-09T06:30:28.922074",
     "exception": false,
     "start_time": "2020-08-09T06:30:28.880938",
     "status": "completed"
    },
    "tags": []
   },
   "source": [
    "# Load Data"
   ]
  },
  {
   "cell_type": "markdown",
   "metadata": {
    "papermill": {
     "duration": 0.039463,
     "end_time": "2020-08-09T06:30:28.999936",
     "exception": false,
     "start_time": "2020-08-09T06:30:28.960473",
     "status": "completed"
    },
    "tags": []
   },
   "source": [
    "We specify the dataset we will use for our analysis and the main directory from where we read the recommendation and prediction files. From the main directory we find all the directories associated with the dataset and then read the recommendation and predictions files from those directories."
   ]
  },
  {
   "cell_type": "code",
   "execution_count": 6,
   "metadata": {
    "execution": {
     "iopub.execute_input": "2020-08-09T06:30:29.090926Z",
     "iopub.status.busy": "2020-08-09T06:30:29.089427Z",
     "iopub.status.idle": "2020-08-09T06:30:29.093373Z",
     "shell.execute_reply": "2020-08-09T06:30:29.094375Z"
    },
    "papermill": {
     "duration": 0.055043,
     "end_time": "2020-08-09T06:30:29.094774",
     "exception": false,
     "start_time": "2020-08-09T06:30:29.039731",
     "status": "completed"
    },
    "tags": [
     "parameters"
    ]
   },
   "outputs": [],
   "source": [
    "dataset = \"ml10m\""
   ]
  },
  {
   "cell_type": "code",
   "execution_count": 7,
   "metadata": {
    "execution": {
     "iopub.execute_input": "2020-08-09T06:30:29.180237Z",
     "iopub.status.busy": "2020-08-09T06:30:29.178777Z",
     "iopub.status.idle": "2020-08-09T06:30:29.182939Z",
     "shell.execute_reply": "2020-08-09T06:30:29.183941Z"
    },
    "papermill": {
     "duration": 0.050967,
     "end_time": "2020-08-09T06:30:29.184324",
     "exception": false,
     "start_time": "2020-08-09T06:30:29.133357",
     "status": "completed"
    },
    "tags": [
     "injected-parameters"
    ]
   },
   "outputs": [],
   "source": [
    "# Parameters\n",
    "dataset = \"ml100k\"\n"
   ]
  },
  {
   "cell_type": "code",
   "execution_count": 8,
   "metadata": {
    "execution": {
     "iopub.execute_input": "2020-08-09T06:30:29.274267Z",
     "iopub.status.busy": "2020-08-09T06:30:29.272785Z",
     "iopub.status.idle": "2020-08-09T06:30:29.276885Z",
     "shell.execute_reply": "2020-08-09T06:30:29.277984Z"
    },
    "papermill": {
     "duration": 0.054801,
     "end_time": "2020-08-09T06:30:29.278361",
     "exception": false,
     "start_time": "2020-08-09T06:30:29.223560",
     "status": "completed"
    },
    "tags": []
   },
   "outputs": [],
   "source": [
    "output_root = Path(\"runs\")"
   ]
  },
  {
   "cell_type": "code",
   "execution_count": 9,
   "metadata": {
    "execution": {
     "iopub.execute_input": "2020-08-09T06:30:29.364572Z",
     "iopub.status.busy": "2020-08-09T06:30:29.363257Z",
     "iopub.status.idle": "2020-08-09T06:30:29.368522Z",
     "shell.execute_reply": "2020-08-09T06:30:29.369554Z"
    },
    "papermill": {
     "duration": 0.053383,
     "end_time": "2020-08-09T06:30:29.369938",
     "exception": false,
     "start_time": "2020-08-09T06:30:29.316555",
     "status": "completed"
    },
    "tags": []
   },
   "outputs": [],
   "source": [
    "dirs = [fld for fld in output_root.glob(f'{dataset}-*')]"
   ]
  },
  {
   "cell_type": "code",
   "execution_count": 10,
   "metadata": {
    "execution": {
     "iopub.execute_input": "2020-08-09T06:30:29.462913Z",
     "iopub.status.busy": "2020-08-09T06:30:29.461400Z",
     "iopub.status.idle": "2020-08-09T06:30:30.905775Z",
     "shell.execute_reply": "2020-08-09T06:30:30.906747Z"
    },
    "papermill": {
     "duration": 1.498301,
     "end_time": "2020-08-09T06:30:30.907123",
     "exception": false,
     "start_time": "2020-08-09T06:30:29.408822",
     "status": "completed"
    },
    "tags": []
   },
   "outputs": [
    {
     "name": "stdout",
     "output_type": "stream",
     "text": [
      "<class 'pandas.core.frame.DataFrame'>\n",
      "RangeIndex: 754400 entries, 0 to 754399\n",
      "Data columns (total 5 columns):\n",
      " #   Column     Non-Null Count   Dtype   \n",
      "---  ------     --------------   -----   \n",
      " 0   item       754400 non-null  int64   \n",
      " 1   score      754400 non-null  float64 \n",
      " 2   user       754400 non-null  int64   \n",
      " 3   rank       754400 non-null  int64   \n",
      " 4   algorithm  754400 non-null  category\n",
      "dtypes: category(1), float64(1), int64(3)\n",
      "memory usage: 23.7 MB\n"
     ]
    }
   ],
   "source": [
    "recs = []\n",
    "for fld in dirs: \n",
    "    for file in fld.glob(\"recs-*\"):\n",
    "        rec = pd.read_csv(file, sep=',')\n",
    "        rec[\"algorithm\"] = fld.name.split(\"-\")[1]\n",
    "        recs.append(rec)\n",
    "\n",
    "recs = pd.concat(recs, ignore_index=True)\n",
    "recs = recs.astype({'algorithm': 'category'})\n",
    "recs.info()"
   ]
  },
  {
   "cell_type": "code",
   "execution_count": 11,
   "metadata": {
    "execution": {
     "iopub.execute_input": "2020-08-09T06:30:30.998857Z",
     "iopub.status.busy": "2020-08-09T06:30:30.997495Z",
     "iopub.status.idle": "2020-08-09T06:30:31.023545Z",
     "shell.execute_reply": "2020-08-09T06:30:31.024446Z"
    },
    "papermill": {
     "duration": 0.078042,
     "end_time": "2020-08-09T06:30:31.024830",
     "exception": false,
     "start_time": "2020-08-09T06:30:30.946788",
     "status": "completed"
    },
    "tags": []
   },
   "outputs": [
    {
     "data": {
      "text/plain": [
       "['IALS', 'UU', 'Pop', 'II', 'TFMF', 'Bias', 'BPR', 'ALS']\n",
       "Categories (8, object): ['IALS', 'UU', 'Pop', 'II', 'TFMF', 'Bias', 'BPR', 'ALS']"
      ]
     },
     "execution_count": 11,
     "metadata": {},
     "output_type": "execute_result"
    }
   ],
   "source": [
    "rec_algos = recs['algorithm'].unique()\n",
    "rec_algos"
   ]
  },
  {
   "cell_type": "code",
   "execution_count": 12,
   "metadata": {
    "execution": {
     "iopub.execute_input": "2020-08-09T06:30:31.121766Z",
     "iopub.status.busy": "2020-08-09T06:30:31.120325Z",
     "iopub.status.idle": "2020-08-09T06:30:31.376869Z",
     "shell.execute_reply": "2020-08-09T06:30:31.377759Z"
    },
    "papermill": {
     "duration": 0.311111,
     "end_time": "2020-08-09T06:30:31.378147",
     "exception": false,
     "start_time": "2020-08-09T06:30:31.067036",
     "status": "completed"
    },
    "tags": []
   },
   "outputs": [
    {
     "name": "stdout",
     "output_type": "stream",
     "text": [
      "<class 'pandas.core.frame.DataFrame'>\n",
      "RangeIndex: 23575 entries, 0 to 23574\n",
      "Data columns (total 6 columns):\n",
      " #   Column      Non-Null Count  Dtype   \n",
      "---  ------      --------------  -----   \n",
      " 0   user        23575 non-null  int64   \n",
      " 1   item        23575 non-null  int64   \n",
      " 2   rating      23575 non-null  float64 \n",
      " 3   timestamp   23575 non-null  int64   \n",
      " 4   prediction  23542 non-null  float64 \n",
      " 5   algorithm   23575 non-null  category\n",
      "dtypes: category(1), float64(2), int64(3)\n",
      "memory usage: 944.2 KB\n"
     ]
    }
   ],
   "source": [
    "preds = []\n",
    "for fld in dirs:\n",
    "    for file in fld.glob(\"pred-*\"):\n",
    "        pred = pd.read_csv(file, sep=',')\n",
    "        pred[\"algorithm\"] = fld.name.split(\"-\")[1]\n",
    "        preds.append(pred)\n",
    "\n",
    "preds = pd.concat(preds, ignore_index=True)\n",
    "preds = preds.astype({'algorithm': 'category'})\n",
    "preds.info()"
   ]
  },
  {
   "cell_type": "markdown",
   "metadata": {
    "papermill": {
     "duration": 0.044541,
     "end_time": "2020-08-09T06:30:31.463784",
     "exception": false,
     "start_time": "2020-08-09T06:30:31.419243",
     "status": "completed"
    },
    "tags": []
   },
   "source": [
    "We need to load the test data so that we have the ground truths for computing accuracy "
   ]
  },
  {
   "cell_type": "code",
   "execution_count": 13,
   "metadata": {
    "execution": {
     "iopub.execute_input": "2020-08-09T06:30:31.552443Z",
     "iopub.status.busy": "2020-08-09T06:30:31.551120Z",
     "iopub.status.idle": "2020-08-09T06:30:31.555139Z",
     "shell.execute_reply": "2020-08-09T06:30:31.556119Z"
    },
    "papermill": {
     "duration": 0.052172,
     "end_time": "2020-08-09T06:30:31.556493",
     "exception": false,
     "start_time": "2020-08-09T06:30:31.504321",
     "status": "completed"
    },
    "tags": []
   },
   "outputs": [],
   "source": [
    "split_root = Path(\"data-split\")\n",
    "split_dir = split_root / dataset"
   ]
  },
  {
   "cell_type": "code",
   "execution_count": 14,
   "metadata": {
    "execution": {
     "iopub.execute_input": "2020-08-09T06:30:31.651967Z",
     "iopub.status.busy": "2020-08-09T06:30:31.650491Z",
     "iopub.status.idle": "2020-08-09T06:30:31.689459Z",
     "shell.execute_reply": "2020-08-09T06:30:31.690435Z"
    },
    "papermill": {
     "duration": 0.094297,
     "end_time": "2020-08-09T06:30:31.690820",
     "exception": false,
     "start_time": "2020-08-09T06:30:31.596523",
     "status": "completed"
    },
    "tags": []
   },
   "outputs": [],
   "source": [
    "test = []\n",
    "for file in split_dir.glob(\"test-*.csv.gz\"):\n",
    "    test.append(pd.read_csv(file, sep=','))\n",
    "\n",
    "test = pd.concat(test, ignore_index=True)"
   ]
  },
  {
   "cell_type": "markdown",
   "metadata": {
    "papermill": {
     "duration": 0.045939,
     "end_time": "2020-08-09T06:30:31.778383",
     "exception": false,
     "start_time": "2020-08-09T06:30:31.732444",
     "status": "completed"
    },
    "tags": []
   },
   "source": [
    "# Top-N Metrics"
   ]
  },
  {
   "cell_type": "markdown",
   "metadata": {
    "papermill": {
     "duration": 0.04,
     "end_time": "2020-08-09T06:30:31.858282",
     "exception": false,
     "start_time": "2020-08-09T06:30:31.818282",
     "status": "completed"
    },
    "tags": []
   },
   "source": [
    "The topn.RecListAnalysis class computes top-N metrics for recommendation list and takes care of making sure that the recommendations and ground truths are properly matched. Refer to the documentation for detailed explanation of the purpose for the RecListAnalysis class and how the analysis is done - https://lkpy.lenskit.org/en/stable/evaluation/topn-metrics.html "
   ]
  },
  {
   "cell_type": "code",
   "execution_count": 15,
   "metadata": {
    "execution": {
     "iopub.execute_input": "2020-08-09T06:30:31.952448Z",
     "iopub.status.busy": "2020-08-09T06:30:31.950945Z",
     "iopub.status.idle": "2020-08-09T06:30:55.731834Z",
     "shell.execute_reply": "2020-08-09T06:30:55.732946Z"
    },
    "papermill": {
     "duration": 23.834787,
     "end_time": "2020-08-09T06:30:55.733335",
     "exception": false,
     "start_time": "2020-08-09T06:30:31.898548",
     "status": "completed"
    },
    "tags": []
   },
   "outputs": [
    {
     "name": "stdout",
     "output_type": "stream",
     "text": [
      "[   INFO] lenskit.topn analyzing 754400 recommendations (4715 truth rows)\n",
      "[   INFO] lenskit.topn using rec key columns ['algorithm', 'user']\n",
      "[   INFO] lenskit.topn using truth key columns ['user']\n",
      "[   INFO] lenskit.topn collecting truth data\n",
      "[   INFO] lenskit.topn collecting metric results\n",
      "[   INFO] binpickle.write pickled 328569 bytes with 2833 buffers\n",
      "[   INFO] lenskit.util.parallel setting up ProcessPoolExecutor w/ 4 workers\n",
      "[   INFO] lenskit.topn measured 7544 lists in 26.70s\n",
      "[   INFO] lenskit.topn filling in missing user info\n"
     ]
    },
    {
     "data": {
      "text/html": [
       "<div>\n",
       "<style scoped>\n",
       "    .dataframe tbody tr th:only-of-type {\n",
       "        vertical-align: middle;\n",
       "    }\n",
       "\n",
       "    .dataframe tbody tr th {\n",
       "        vertical-align: top;\n",
       "    }\n",
       "\n",
       "    .dataframe thead th {\n",
       "        text-align: right;\n",
       "    }\n",
       "</style>\n",
       "<table border=\"1\" class=\"dataframe\">\n",
       "  <thead>\n",
       "    <tr style=\"text-align: right;\">\n",
       "      <th></th>\n",
       "      <th></th>\n",
       "      <th>nrecs</th>\n",
       "      <th>precision</th>\n",
       "      <th>recip_rank</th>\n",
       "      <th>ndcg</th>\n",
       "      <th>ntruth</th>\n",
       "    </tr>\n",
       "    <tr>\n",
       "      <th>algorithm</th>\n",
       "      <th>user</th>\n",
       "      <th></th>\n",
       "      <th></th>\n",
       "      <th></th>\n",
       "      <th></th>\n",
       "      <th></th>\n",
       "    </tr>\n",
       "  </thead>\n",
       "  <tbody>\n",
       "    <tr>\n",
       "      <th rowspan=\"5\" valign=\"top\">ALS</th>\n",
       "      <th>1</th>\n",
       "      <td>100.0</td>\n",
       "      <td>0.02</td>\n",
       "      <td>0.014493</td>\n",
       "      <td>0.103436</td>\n",
       "      <td>5</td>\n",
       "    </tr>\n",
       "    <tr>\n",
       "      <th>2</th>\n",
       "      <td>100.0</td>\n",
       "      <td>0.02</td>\n",
       "      <td>0.043478</td>\n",
       "      <td>0.084431</td>\n",
       "      <td>5</td>\n",
       "    </tr>\n",
       "    <tr>\n",
       "      <th>3</th>\n",
       "      <td>100.0</td>\n",
       "      <td>0.00</td>\n",
       "      <td>0.000000</td>\n",
       "      <td>0.000000</td>\n",
       "      <td>5</td>\n",
       "    </tr>\n",
       "    <tr>\n",
       "      <th>4</th>\n",
       "      <td>100.0</td>\n",
       "      <td>0.00</td>\n",
       "      <td>0.000000</td>\n",
       "      <td>0.000000</td>\n",
       "      <td>5</td>\n",
       "    </tr>\n",
       "    <tr>\n",
       "      <th>5</th>\n",
       "      <td>100.0</td>\n",
       "      <td>0.02</td>\n",
       "      <td>0.052632</td>\n",
       "      <td>0.176829</td>\n",
       "      <td>5</td>\n",
       "    </tr>\n",
       "  </tbody>\n",
       "</table>\n",
       "</div>"
      ],
      "text/plain": [
       "                nrecs  precision  recip_rank      ndcg  ntruth\n",
       "algorithm user                                                \n",
       "ALS       1     100.0       0.02    0.014493  0.103436       5\n",
       "          2     100.0       0.02    0.043478  0.084431       5\n",
       "          3     100.0       0.00    0.000000  0.000000       5\n",
       "          4     100.0       0.00    0.000000  0.000000       5\n",
       "          5     100.0       0.02    0.052632  0.176829       5"
      ]
     },
     "execution_count": 15,
     "metadata": {},
     "output_type": "execute_result"
    }
   ],
   "source": [
    "rla = topn.RecListAnalysis()\n",
    "\n",
    "rla.add_metric(topn.precision)\n",
    "rla.add_metric(topn.recip_rank)\n",
    "rla.add_metric(topn.ndcg)\n",
    "results = rla.compute(recs, test, include_missing=True)\n",
    "results = results.fillna(0)\n",
    "results.head()"
   ]
  },
  {
   "cell_type": "markdown",
   "metadata": {
    "papermill": {
     "duration": 0.053723,
     "end_time": "2020-08-09T06:30:55.833507",
     "exception": false,
     "start_time": "2020-08-09T06:30:55.779784",
     "status": "completed"
    },
    "tags": []
   },
   "source": [
    "We will reshape the 'results' dataframe by stacking the columns to index and then use the bar chart to visualize the performance of our algorithms with respect to the precision, reciprocal rank and ndcg metrics"
   ]
  },
  {
   "cell_type": "code",
   "execution_count": 16,
   "metadata": {
    "execution": {
     "iopub.execute_input": "2020-08-09T06:30:55.939084Z",
     "iopub.status.busy": "2020-08-09T06:30:55.937495Z",
     "iopub.status.idle": "2020-08-09T06:30:55.960584Z",
     "shell.execute_reply": "2020-08-09T06:30:55.961573Z"
    },
    "papermill": {
     "duration": 0.081331,
     "end_time": "2020-08-09T06:30:55.961952",
     "exception": false,
     "start_time": "2020-08-09T06:30:55.880621",
     "status": "completed"
    },
    "tags": []
   },
   "outputs": [
    {
     "data": {
      "text/html": [
       "<div>\n",
       "<style scoped>\n",
       "    .dataframe tbody tr th:only-of-type {\n",
       "        vertical-align: middle;\n",
       "    }\n",
       "\n",
       "    .dataframe tbody tr th {\n",
       "        vertical-align: top;\n",
       "    }\n",
       "\n",
       "    .dataframe thead th {\n",
       "        text-align: right;\n",
       "    }\n",
       "</style>\n",
       "<table border=\"1\" class=\"dataframe\">\n",
       "  <thead>\n",
       "    <tr style=\"text-align: right;\">\n",
       "      <th></th>\n",
       "      <th>algorithm</th>\n",
       "      <th>user</th>\n",
       "      <th>metric</th>\n",
       "      <th>val</th>\n",
       "    </tr>\n",
       "  </thead>\n",
       "  <tbody>\n",
       "    <tr>\n",
       "      <th>0</th>\n",
       "      <td>ALS</td>\n",
       "      <td>1</td>\n",
       "      <td>precision</td>\n",
       "      <td>0.020000</td>\n",
       "    </tr>\n",
       "    <tr>\n",
       "      <th>1</th>\n",
       "      <td>ALS</td>\n",
       "      <td>1</td>\n",
       "      <td>recip_rank</td>\n",
       "      <td>0.014493</td>\n",
       "    </tr>\n",
       "    <tr>\n",
       "      <th>2</th>\n",
       "      <td>ALS</td>\n",
       "      <td>1</td>\n",
       "      <td>ndcg</td>\n",
       "      <td>0.103436</td>\n",
       "    </tr>\n",
       "    <tr>\n",
       "      <th>3</th>\n",
       "      <td>ALS</td>\n",
       "      <td>2</td>\n",
       "      <td>precision</td>\n",
       "      <td>0.020000</td>\n",
       "    </tr>\n",
       "    <tr>\n",
       "      <th>4</th>\n",
       "      <td>ALS</td>\n",
       "      <td>2</td>\n",
       "      <td>recip_rank</td>\n",
       "      <td>0.043478</td>\n",
       "    </tr>\n",
       "  </tbody>\n",
       "</table>\n",
       "</div>"
      ],
      "text/plain": [
       "  algorithm  user      metric       val\n",
       "0       ALS     1   precision  0.020000\n",
       "1       ALS     1  recip_rank  0.014493\n",
       "2       ALS     1        ndcg  0.103436\n",
       "3       ALS     2   precision  0.020000\n",
       "4       ALS     2  recip_rank  0.043478"
      ]
     },
     "execution_count": 16,
     "metadata": {},
     "output_type": "execute_result"
    }
   ],
   "source": [
    "pltData = (results.drop(columns=['nrecs', 'ntruth']).stack()).reset_index()\n",
    "pltData.columns = ['algorithm', 'user', 'metric', 'val']\n",
    "pltData.head()"
   ]
  },
  {
   "cell_type": "markdown",
   "metadata": {
    "papermill": {
     "duration": 0.045912,
     "end_time": "2020-08-09T06:30:56.054070",
     "exception": false,
     "start_time": "2020-08-09T06:30:56.008158",
     "status": "completed"
    },
    "tags": []
   },
   "source": [
    "We need to determine if the differences we observe in the performances of the algorithms for the various metrics are statistically significant. To achieve this, we will need to use either a parametric or non-parametric statistical test for comparing the differences. We will consider a parametric test - repeated ANOVA measure cause our sample groups are correlated."
   ]
  },
  {
   "cell_type": "code",
   "execution_count": 17,
   "metadata": {
    "execution": {
     "iopub.execute_input": "2020-08-09T06:30:56.158660Z",
     "iopub.status.busy": "2020-08-09T06:30:56.157148Z",
     "iopub.status.idle": "2020-08-09T06:30:58.863035Z",
     "shell.execute_reply": "2020-08-09T06:30:58.864044Z"
    },
    "papermill": {
     "duration": 2.763391,
     "end_time": "2020-08-09T06:30:58.864431",
     "exception": false,
     "start_time": "2020-08-09T06:30:56.101040",
     "status": "completed"
    },
    "tags": []
   },
   "outputs": [
    {
     "data": {
      "image/png": "[encoded data removed]",
      "text/plain": [
       "<Figure size 777.6x216 with 3 Axes>"
      ]
     },
     "metadata": {
      "needs_background": "light"
     },
     "output_type": "display_data"
    }
   ],
   "source": [
    "g = sns.catplot(x = \"algorithm\", y = \"val\", data = pltData, kind=\"bar\", col = \"metric\", aspect=1.2, height=3, sharey=False)"
   ]
  },
  {
   "cell_type": "markdown",
   "metadata": {
    "papermill": {
     "duration": 0.04849,
     "end_time": "2020-08-09T06:30:58.965453",
     "exception": false,
     "start_time": "2020-08-09T06:30:58.916963",
     "status": "completed"
    },
    "tags": []
   },
   "source": [
    "### Statistical Testing"
   ]
  },
  {
   "cell_type": "markdown",
   "metadata": {
    "papermill": {
     "duration": 0.049001,
     "end_time": "2020-08-09T06:30:59.062191",
     "exception": false,
     "start_time": "2020-08-09T06:30:59.013190",
     "status": "completed"
    },
    "tags": []
   },
   "source": [
    "We will now examine these metrics in more detail and test for statistical significance.  Best practice for statistical testing for recommender systems is still a work in progress, but this method avoids most of the validity problems we know about.\n",
    "\n",
    "The Friedman $\\chi^2$ test will test the null hypothesis that there is no difference between algorithms in terms of their performance."
   ]
  },
  {
   "cell_type": "code",
   "execution_count": 18,
   "metadata": {
    "execution": {
     "iopub.execute_input": "2020-08-09T06:30:59.172983Z",
     "iopub.status.busy": "2020-08-09T06:30:59.171627Z",
     "iopub.status.idle": "2020-08-09T06:30:59.175341Z",
     "shell.execute_reply": "2020-08-09T06:30:59.176667Z"
    },
    "papermill": {
     "duration": 0.062609,
     "end_time": "2020-08-09T06:30:59.177048",
     "exception": false,
     "start_time": "2020-08-09T06:30:59.114439",
     "status": "completed"
    },
    "tags": []
   },
   "outputs": [],
   "source": [
    "def metric_friedman(metric):\n",
    "    groups = [df[metric] for a, df in results.groupby('algorithm')]\n",
    "\n",
    "    stat, p = friedmanchisquare(*groups)\n",
    "    return pd.Series({'stat': stat, 'p': p}, name=metric)"
   ]
  },
  {
   "cell_type": "markdown",
   "metadata": {
    "papermill": {
     "duration": 0.048468,
     "end_time": "2020-08-09T06:30:59.273270",
     "exception": false,
     "start_time": "2020-08-09T06:30:59.224802",
     "status": "completed"
    },
    "tags": []
   },
   "source": [
    "If the test detects significance, we have at least one pair of different algorithms - but which pairs?  Unfortunately, the good tests aren't readily available in scipy and friends, so we're going to take a conservative approch and perform pairwise Wilconxon signed-rank tests with a Bonferroni adjustment."
   ]
  },
  {
   "cell_type": "code",
   "execution_count": 19,
   "metadata": {
    "execution": {
     "iopub.execute_input": "2020-08-09T06:30:59.393121Z",
     "iopub.status.busy": "2020-08-09T06:30:59.391597Z",
     "iopub.status.idle": "2020-08-09T06:30:59.395483Z",
     "shell.execute_reply": "2020-08-09T06:30:59.396681Z"
    },
    "papermill": {
     "duration": 0.069855,
     "end_time": "2020-08-09T06:30:59.397156",
     "exception": false,
     "start_time": "2020-08-09T06:30:59.327301",
     "status": "completed"
    },
    "tags": []
   },
   "outputs": [],
   "source": [
    "pairs = pd.DataFrame.from_records(combinations(rec_algos, 2), columns=['A1', 'A2'])\n",
    "def am_wilcox(metric, p_scale = len(pairs)):\n",
    "    def compute(df):\n",
    "        vs1 = results.loc[df['A1'], metric]\n",
    "        vs2 = results.loc[df['A2'], metric]\n",
    "        diff = (vs1 - vs2).mean()\n",
    "        stat, p = wilcoxon(vs1, vs2)\n",
    "        return pd.Series({'diff': diff, 'stat': stat, 'p': p, 'adj_p': p * p_scale})\n",
    "    scores = pairs.apply(compute, axis=1)\n",
    "    return pairs.join(scores)"
   ]
  },
  {
   "cell_type": "markdown",
   "metadata": {
    "papermill": {
     "duration": 0.053493,
     "end_time": "2020-08-09T06:30:59.500826",
     "exception": false,
     "start_time": "2020-08-09T06:30:59.447333",
     "status": "completed"
    },
    "tags": []
   },
   "source": [
    "## Precision"
   ]
  },
  {
   "cell_type": "code",
   "execution_count": 20,
   "metadata": {
    "execution": {
     "iopub.execute_input": "2020-08-09T06:30:59.606680Z",
     "iopub.status.busy": "2020-08-09T06:30:59.605325Z",
     "iopub.status.idle": "2020-08-09T06:30:59.793539Z",
     "shell.execute_reply": "2020-08-09T06:30:59.794433Z"
    },
    "papermill": {
     "duration": 0.244656,
     "end_time": "2020-08-09T06:30:59.794820",
     "exception": false,
     "start_time": "2020-08-09T06:30:59.550164",
     "status": "completed"
    },
    "tags": []
   },
   "outputs": [
    {
     "data": {
      "text/plain": [
       "stat    3147.669589\n",
       "p          0.000000\n",
       "Name: precision, dtype: float64"
      ]
     },
     "execution_count": 20,
     "metadata": {},
     "output_type": "execute_result"
    }
   ],
   "source": [
    "metric_friedman('precision')"
   ]
  },
  {
   "cell_type": "markdown",
   "metadata": {
    "papermill": {
     "duration": 0.04898,
     "end_time": "2020-08-09T06:30:59.893338",
     "exception": false,
     "start_time": "2020-08-09T06:30:59.844358",
     "status": "completed"
    },
    "tags": []
   },
   "source": [
    "This indicates a statistically significant difference exists - but where is it?\n",
    "\n",
    "To answer that question, we need a post-hoc test. "
   ]
  },
  {
   "cell_type": "code",
   "execution_count": 21,
   "metadata": {
    "execution": {
     "iopub.execute_input": "2020-08-09T06:31:00.000379Z",
     "iopub.status.busy": "2020-08-09T06:30:59.998809Z",
     "iopub.status.idle": "2020-08-09T06:31:00.162240Z",
     "shell.execute_reply": "2020-08-09T06:31:00.163230Z"
    },
    "papermill": {
     "duration": 0.220824,
     "end_time": "2020-08-09T06:31:00.163607",
     "exception": false,
     "start_time": "2020-08-09T06:30:59.942783",
     "status": "completed"
    },
    "tags": []
   },
   "outputs": [
    {
     "data": {
      "text/html": [
       "<div>\n",
       "<style scoped>\n",
       "    .dataframe tbody tr th:only-of-type {\n",
       "        vertical-align: middle;\n",
       "    }\n",
       "\n",
       "    .dataframe tbody tr th {\n",
       "        vertical-align: top;\n",
       "    }\n",
       "\n",
       "    .dataframe thead th {\n",
       "        text-align: right;\n",
       "    }\n",
       "</style>\n",
       "<table border=\"1\" class=\"dataframe\">\n",
       "  <thead>\n",
       "    <tr style=\"text-align: right;\">\n",
       "      <th></th>\n",
       "      <th>A1</th>\n",
       "      <th>A2</th>\n",
       "      <th>diff</th>\n",
       "      <th>stat</th>\n",
       "      <th>p</th>\n",
       "      <th>adj_p</th>\n",
       "    </tr>\n",
       "  </thead>\n",
       "  <tbody>\n",
       "    <tr>\n",
       "      <th>5</th>\n",
       "      <td>IALS</td>\n",
       "      <td>BPR</td>\n",
       "      <td>0.028727</td>\n",
       "      <td>733.0</td>\n",
       "      <td>4.285203e-148</td>\n",
       "      <td>1.199857e-146</td>\n",
       "    </tr>\n",
       "    <tr>\n",
       "      <th>3</th>\n",
       "      <td>IALS</td>\n",
       "      <td>TFMF</td>\n",
       "      <td>0.027858</td>\n",
       "      <td>1875.5</td>\n",
       "      <td>5.141325e-146</td>\n",
       "      <td>1.439571e-144</td>\n",
       "    </tr>\n",
       "    <tr>\n",
       "      <th>0</th>\n",
       "      <td>IALS</td>\n",
       "      <td>UU</td>\n",
       "      <td>0.027253</td>\n",
       "      <td>1331.0</td>\n",
       "      <td>4.645134e-144</td>\n",
       "      <td>1.300638e-142</td>\n",
       "    </tr>\n",
       "    <tr>\n",
       "      <th>2</th>\n",
       "      <td>IALS</td>\n",
       "      <td>II</td>\n",
       "      <td>0.025748</td>\n",
       "      <td>5285.5</td>\n",
       "      <td>3.094218e-137</td>\n",
       "      <td>8.663810e-136</td>\n",
       "    </tr>\n",
       "    <tr>\n",
       "      <th>4</th>\n",
       "      <td>IALS</td>\n",
       "      <td>Bias</td>\n",
       "      <td>0.024263</td>\n",
       "      <td>6091.5</td>\n",
       "      <td>2.806870e-132</td>\n",
       "      <td>7.859235e-131</td>\n",
       "    </tr>\n",
       "    <tr>\n",
       "      <th>6</th>\n",
       "      <td>IALS</td>\n",
       "      <td>ALS</td>\n",
       "      <td>0.023743</td>\n",
       "      <td>6253.5</td>\n",
       "      <td>2.406578e-133</td>\n",
       "      <td>6.738417e-132</td>\n",
       "    </tr>\n",
       "    <tr>\n",
       "      <th>16</th>\n",
       "      <td>Pop</td>\n",
       "      <td>BPR</td>\n",
       "      <td>0.017253</td>\n",
       "      <td>6747.5</td>\n",
       "      <td>6.865858e-123</td>\n",
       "      <td>1.922440e-121</td>\n",
       "    </tr>\n",
       "    <tr>\n",
       "      <th>14</th>\n",
       "      <td>Pop</td>\n",
       "      <td>TFMF</td>\n",
       "      <td>0.016384</td>\n",
       "      <td>8108.0</td>\n",
       "      <td>4.218483e-121</td>\n",
       "      <td>1.181175e-119</td>\n",
       "    </tr>\n",
       "    <tr>\n",
       "      <th>13</th>\n",
       "      <td>Pop</td>\n",
       "      <td>II</td>\n",
       "      <td>0.014274</td>\n",
       "      <td>19590.0</td>\n",
       "      <td>2.802002e-100</td>\n",
       "      <td>7.845606e-99</td>\n",
       "    </tr>\n",
       "    <tr>\n",
       "      <th>15</th>\n",
       "      <td>Pop</td>\n",
       "      <td>Bias</td>\n",
       "      <td>0.012789</td>\n",
       "      <td>21969.5</td>\n",
       "      <td>9.535671e-94</td>\n",
       "      <td>2.669988e-92</td>\n",
       "    </tr>\n",
       "    <tr>\n",
       "      <th>17</th>\n",
       "      <td>Pop</td>\n",
       "      <td>ALS</td>\n",
       "      <td>0.012269</td>\n",
       "      <td>23948.0</td>\n",
       "      <td>1.052477e-89</td>\n",
       "      <td>2.946935e-88</td>\n",
       "    </tr>\n",
       "    <tr>\n",
       "      <th>1</th>\n",
       "      <td>IALS</td>\n",
       "      <td>Pop</td>\n",
       "      <td>0.011474</td>\n",
       "      <td>26578.5</td>\n",
       "      <td>4.708278e-77</td>\n",
       "      <td>1.318318e-75</td>\n",
       "    </tr>\n",
       "    <tr>\n",
       "      <th>25</th>\n",
       "      <td>Bias</td>\n",
       "      <td>BPR</td>\n",
       "      <td>0.004464</td>\n",
       "      <td>49948.5</td>\n",
       "      <td>5.423032e-24</td>\n",
       "      <td>1.518449e-22</td>\n",
       "    </tr>\n",
       "    <tr>\n",
       "      <th>20</th>\n",
       "      <td>II</td>\n",
       "      <td>BPR</td>\n",
       "      <td>0.002980</td>\n",
       "      <td>53889.5</td>\n",
       "      <td>3.347680e-12</td>\n",
       "      <td>9.373505e-11</td>\n",
       "    </tr>\n",
       "    <tr>\n",
       "      <th>18</th>\n",
       "      <td>II</td>\n",
       "      <td>TFMF</td>\n",
       "      <td>0.002110</td>\n",
       "      <td>46970.5</td>\n",
       "      <td>5.006132e-08</td>\n",
       "      <td>1.401717e-06</td>\n",
       "    </tr>\n",
       "    <tr>\n",
       "      <th>11</th>\n",
       "      <td>UU</td>\n",
       "      <td>BPR</td>\n",
       "      <td>0.001474</td>\n",
       "      <td>61084.0</td>\n",
       "      <td>2.525415e-05</td>\n",
       "      <td>7.071163e-04</td>\n",
       "    </tr>\n",
       "    <tr>\n",
       "      <th>23</th>\n",
       "      <td>TFMF</td>\n",
       "      <td>BPR</td>\n",
       "      <td>0.000870</td>\n",
       "      <td>66054.5</td>\n",
       "      <td>8.569054e-03</td>\n",
       "      <td>2.399335e-01</td>\n",
       "    </tr>\n",
       "    <tr>\n",
       "      <th>9</th>\n",
       "      <td>UU</td>\n",
       "      <td>TFMF</td>\n",
       "      <td>0.000604</td>\n",
       "      <td>61442.5</td>\n",
       "      <td>7.140312e-02</td>\n",
       "      <td>1.999287e+00</td>\n",
       "    </tr>\n",
       "    <tr>\n",
       "      <th>26</th>\n",
       "      <td>Bias</td>\n",
       "      <td>ALS</td>\n",
       "      <td>-0.000520</td>\n",
       "      <td>33009.5</td>\n",
       "      <td>2.538136e-02</td>\n",
       "      <td>7.106780e-01</td>\n",
       "    </tr>\n",
       "    <tr>\n",
       "      <th>19</th>\n",
       "      <td>II</td>\n",
       "      <td>Bias</td>\n",
       "      <td>-0.001485</td>\n",
       "      <td>23526.5</td>\n",
       "      <td>3.848904e-07</td>\n",
       "      <td>1.077693e-05</td>\n",
       "    </tr>\n",
       "    <tr>\n",
       "      <th>8</th>\n",
       "      <td>UU</td>\n",
       "      <td>II</td>\n",
       "      <td>-0.001506</td>\n",
       "      <td>24826.5</td>\n",
       "      <td>9.389026e-08</td>\n",
       "      <td>2.628927e-06</td>\n",
       "    </tr>\n",
       "    <tr>\n",
       "      <th>21</th>\n",
       "      <td>II</td>\n",
       "      <td>ALS</td>\n",
       "      <td>-0.002004</td>\n",
       "      <td>12332.0</td>\n",
       "      <td>2.337294e-16</td>\n",
       "      <td>6.544423e-15</td>\n",
       "    </tr>\n",
       "    <tr>\n",
       "      <th>10</th>\n",
       "      <td>UU</td>\n",
       "      <td>Bias</td>\n",
       "      <td>-0.002990</td>\n",
       "      <td>18081.5</td>\n",
       "      <td>1.165277e-22</td>\n",
       "      <td>3.262777e-21</td>\n",
       "    </tr>\n",
       "    <tr>\n",
       "      <th>12</th>\n",
       "      <td>UU</td>\n",
       "      <td>ALS</td>\n",
       "      <td>-0.003510</td>\n",
       "      <td>12427.0</td>\n",
       "      <td>2.326675e-32</td>\n",
       "      <td>6.514691e-31</td>\n",
       "    </tr>\n",
       "    <tr>\n",
       "      <th>22</th>\n",
       "      <td>TFMF</td>\n",
       "      <td>Bias</td>\n",
       "      <td>-0.003595</td>\n",
       "      <td>32427.0</td>\n",
       "      <td>2.886883e-22</td>\n",
       "      <td>8.083271e-21</td>\n",
       "    </tr>\n",
       "    <tr>\n",
       "      <th>24</th>\n",
       "      <td>TFMF</td>\n",
       "      <td>ALS</td>\n",
       "      <td>-0.004115</td>\n",
       "      <td>34025.5</td>\n",
       "      <td>2.351083e-27</td>\n",
       "      <td>6.583032e-26</td>\n",
       "    </tr>\n",
       "    <tr>\n",
       "      <th>27</th>\n",
       "      <td>BPR</td>\n",
       "      <td>ALS</td>\n",
       "      <td>-0.004984</td>\n",
       "      <td>45228.5</td>\n",
       "      <td>1.348280e-29</td>\n",
       "      <td>3.775185e-28</td>\n",
       "    </tr>\n",
       "    <tr>\n",
       "      <th>7</th>\n",
       "      <td>UU</td>\n",
       "      <td>Pop</td>\n",
       "      <td>-0.015779</td>\n",
       "      <td>8582.0</td>\n",
       "      <td>3.223692e-118</td>\n",
       "      <td>9.026338e-117</td>\n",
       "    </tr>\n",
       "  </tbody>\n",
       "</table>\n",
       "</div>"
      ],
      "text/plain": [
       "      A1    A2      diff     stat              p          adj_p\n",
       "5   IALS   BPR  0.028727    733.0  4.285203e-148  1.199857e-146\n",
       "3   IALS  TFMF  0.027858   1875.5  5.141325e-146  1.439571e-144\n",
       "0   IALS    UU  0.027253   1331.0  4.645134e-144  1.300638e-142\n",
       "2   IALS    II  0.025748   5285.5  3.094218e-137  8.663810e-136\n",
       "4   IALS  Bias  0.024263   6091.5  2.806870e-132  7.859235e-131\n",
       "6   IALS   ALS  0.023743   6253.5  2.406578e-133  6.738417e-132\n",
       "16   Pop   BPR  0.017253   6747.5  6.865858e-123  1.922440e-121\n",
       "14   Pop  TFMF  0.016384   8108.0  4.218483e-121  1.181175e-119\n",
       "13   Pop    II  0.014274  19590.0  2.802002e-100   7.845606e-99\n",
       "15   Pop  Bias  0.012789  21969.5   9.535671e-94   2.669988e-92\n",
       "17   Pop   ALS  0.012269  23948.0   1.052477e-89   2.946935e-88\n",
       "1   IALS   Pop  0.011474  26578.5   4.708278e-77   1.318318e-75\n",
       "25  Bias   BPR  0.004464  49948.5   5.423032e-24   1.518449e-22\n",
       "20    II   BPR  0.002980  53889.5   3.347680e-12   9.373505e-11\n",
       "18    II  TFMF  0.002110  46970.5   5.006132e-08   1.401717e-06\n",
       "11    UU   BPR  0.001474  61084.0   2.525415e-05   7.071163e-04\n",
       "23  TFMF   BPR  0.000870  66054.5   8.569054e-03   2.399335e-01\n",
       "9     UU  TFMF  0.000604  61442.5   7.140312e-02   1.999287e+00\n",
       "26  Bias   ALS -0.000520  33009.5   2.538136e-02   7.106780e-01\n",
       "19    II  Bias -0.001485  23526.5   3.848904e-07   1.077693e-05\n",
       "8     UU    II -0.001506  24826.5   9.389026e-08   2.628927e-06\n",
       "21    II   ALS -0.002004  12332.0   2.337294e-16   6.544423e-15\n",
       "10    UU  Bias -0.002990  18081.5   1.165277e-22   3.262777e-21\n",
       "12    UU   ALS -0.003510  12427.0   2.326675e-32   6.514691e-31\n",
       "22  TFMF  Bias -0.003595  32427.0   2.886883e-22   8.083271e-21\n",
       "24  TFMF   ALS -0.004115  34025.5   2.351083e-27   6.583032e-26\n",
       "27   BPR   ALS -0.004984  45228.5   1.348280e-29   3.775185e-28\n",
       "7     UU   Pop -0.015779   8582.0  3.223692e-118  9.026338e-117"
      ]
     },
     "execution_count": 21,
     "metadata": {},
     "output_type": "execute_result"
    }
   ],
   "source": [
    "am_wilcox('precision').sort_values('diff', ascending=False)"
   ]
  },
  {
   "cell_type": "markdown",
   "metadata": {
    "papermill": {
     "duration": 0.051158,
     "end_time": "2020-08-09T06:31:00.264858",
     "exception": false,
     "start_time": "2020-08-09T06:31:00.213700",
     "status": "completed"
    },
    "tags": []
   },
   "source": [
    "We can consider pairs with an adjusted $p$ value less than 0.05 (5.0e-2) to be statistically significant.  However, we have so many data points, the substance of significance is questionable.  Pay attention to the 'diff' column, which is the difference between A1 and A2 (how much A1 outperforms A2)."
   ]
  },
  {
   "cell_type": "markdown",
   "metadata": {
    "papermill": {
     "duration": 0.050371,
     "end_time": "2020-08-09T06:31:00.372278",
     "exception": false,
     "start_time": "2020-08-09T06:31:00.321907",
     "status": "completed"
    },
    "tags": []
   },
   "source": [
    "### nDCG"
   ]
  },
  {
   "cell_type": "markdown",
   "metadata": {
    "papermill": {
     "duration": 0.051226,
     "end_time": "2020-08-09T06:31:00.475176",
     "exception": false,
     "start_time": "2020-08-09T06:31:00.423950",
     "status": "completed"
    },
    "tags": []
   },
   "source": [
    "Now let's do the same for nDCG:"
   ]
  },
  {
   "cell_type": "code",
   "execution_count": 22,
   "metadata": {
    "execution": {
     "iopub.execute_input": "2020-08-09T06:31:00.586495Z",
     "iopub.status.busy": "2020-08-09T06:31:00.585122Z",
     "iopub.status.idle": "2020-08-09T06:31:00.774876Z",
     "shell.execute_reply": "2020-08-09T06:31:00.775858Z"
    },
    "papermill": {
     "duration": 0.248996,
     "end_time": "2020-08-09T06:31:00.776235",
     "exception": false,
     "start_time": "2020-08-09T06:31:00.527239",
     "status": "completed"
    },
    "tags": []
   },
   "outputs": [
    {
     "data": {
      "text/plain": [
       "stat    2848.844716\n",
       "p          0.000000\n",
       "Name: ndcg, dtype: float64"
      ]
     },
     "execution_count": 22,
     "metadata": {},
     "output_type": "execute_result"
    }
   ],
   "source": [
    "metric_friedman('ndcg')"
   ]
  },
  {
   "cell_type": "code",
   "execution_count": 23,
   "metadata": {
    "execution": {
     "iopub.execute_input": "2020-08-09T06:31:00.892356Z",
     "iopub.status.busy": "2020-08-09T06:31:00.890928Z",
     "iopub.status.idle": "2020-08-09T06:31:01.044136Z",
     "shell.execute_reply": "2020-08-09T06:31:01.045362Z"
    },
    "papermill": {
     "duration": 0.217066,
     "end_time": "2020-08-09T06:31:01.045747",
     "exception": false,
     "start_time": "2020-08-09T06:31:00.828681",
     "status": "completed"
    },
    "tags": []
   },
   "outputs": [
    {
     "data": {
      "text/html": [
       "<div>\n",
       "<style scoped>\n",
       "    .dataframe tbody tr th:only-of-type {\n",
       "        vertical-align: middle;\n",
       "    }\n",
       "\n",
       "    .dataframe tbody tr th {\n",
       "        vertical-align: top;\n",
       "    }\n",
       "\n",
       "    .dataframe thead th {\n",
       "        text-align: right;\n",
       "    }\n",
       "</style>\n",
       "<table border=\"1\" class=\"dataframe\">\n",
       "  <thead>\n",
       "    <tr style=\"text-align: right;\">\n",
       "      <th></th>\n",
       "      <th>A1</th>\n",
       "      <th>A2</th>\n",
       "      <th>diff</th>\n",
       "      <th>stat</th>\n",
       "      <th>p</th>\n",
       "      <th>adj_p</th>\n",
       "    </tr>\n",
       "  </thead>\n",
       "  <tbody>\n",
       "    <tr>\n",
       "      <th>5</th>\n",
       "      <td>IALS</td>\n",
       "      <td>BPR</td>\n",
       "      <td>0.225323</td>\n",
       "      <td>7176.0</td>\n",
       "      <td>9.269101e-145</td>\n",
       "      <td>2.595348e-143</td>\n",
       "    </tr>\n",
       "    <tr>\n",
       "      <th>0</th>\n",
       "      <td>IALS</td>\n",
       "      <td>UU</td>\n",
       "      <td>0.222836</td>\n",
       "      <td>3403.0</td>\n",
       "      <td>2.126180e-150</td>\n",
       "      <td>5.953305e-149</td>\n",
       "    </tr>\n",
       "    <tr>\n",
       "      <th>3</th>\n",
       "      <td>IALS</td>\n",
       "      <td>TFMF</td>\n",
       "      <td>0.219918</td>\n",
       "      <td>7705.0</td>\n",
       "      <td>3.205033e-144</td>\n",
       "      <td>8.974093e-143</td>\n",
       "    </tr>\n",
       "    <tr>\n",
       "      <th>2</th>\n",
       "      <td>IALS</td>\n",
       "      <td>II</td>\n",
       "      <td>0.204979</td>\n",
       "      <td>16366.0</td>\n",
       "      <td>3.487329e-133</td>\n",
       "      <td>9.764520e-132</td>\n",
       "    </tr>\n",
       "    <tr>\n",
       "      <th>4</th>\n",
       "      <td>IALS</td>\n",
       "      <td>Bias</td>\n",
       "      <td>0.190024</td>\n",
       "      <td>27503.0</td>\n",
       "      <td>1.956534e-119</td>\n",
       "      <td>5.478296e-118</td>\n",
       "    </tr>\n",
       "    <tr>\n",
       "      <th>6</th>\n",
       "      <td>IALS</td>\n",
       "      <td>ALS</td>\n",
       "      <td>0.184190</td>\n",
       "      <td>29594.0</td>\n",
       "      <td>4.194734e-117</td>\n",
       "      <td>1.174525e-115</td>\n",
       "    </tr>\n",
       "    <tr>\n",
       "      <th>16</th>\n",
       "      <td>Pop</td>\n",
       "      <td>BPR</td>\n",
       "      <td>0.151149</td>\n",
       "      <td>15454.0</td>\n",
       "      <td>7.163473e-126</td>\n",
       "      <td>2.005772e-124</td>\n",
       "    </tr>\n",
       "    <tr>\n",
       "      <th>14</th>\n",
       "      <td>Pop</td>\n",
       "      <td>TFMF</td>\n",
       "      <td>0.145744</td>\n",
       "      <td>15646.0</td>\n",
       "      <td>4.693072e-125</td>\n",
       "      <td>1.314060e-123</td>\n",
       "    </tr>\n",
       "    <tr>\n",
       "      <th>13</th>\n",
       "      <td>Pop</td>\n",
       "      <td>II</td>\n",
       "      <td>0.130805</td>\n",
       "      <td>29268.0</td>\n",
       "      <td>9.795755e-108</td>\n",
       "      <td>2.742811e-106</td>\n",
       "    </tr>\n",
       "    <tr>\n",
       "      <th>15</th>\n",
       "      <td>Pop</td>\n",
       "      <td>Bias</td>\n",
       "      <td>0.115850</td>\n",
       "      <td>42482.0</td>\n",
       "      <td>1.872469e-91</td>\n",
       "      <td>5.242912e-90</td>\n",
       "    </tr>\n",
       "    <tr>\n",
       "      <th>17</th>\n",
       "      <td>Pop</td>\n",
       "      <td>ALS</td>\n",
       "      <td>0.110016</td>\n",
       "      <td>50506.0</td>\n",
       "      <td>9.956718e-84</td>\n",
       "      <td>2.787881e-82</td>\n",
       "    </tr>\n",
       "    <tr>\n",
       "      <th>1</th>\n",
       "      <td>IALS</td>\n",
       "      <td>Pop</td>\n",
       "      <td>0.074174</td>\n",
       "      <td>127318.0</td>\n",
       "      <td>7.015773e-29</td>\n",
       "      <td>1.964416e-27</td>\n",
       "    </tr>\n",
       "    <tr>\n",
       "      <th>25</th>\n",
       "      <td>Bias</td>\n",
       "      <td>BPR</td>\n",
       "      <td>0.035299</td>\n",
       "      <td>68336.0</td>\n",
       "      <td>8.949766e-29</td>\n",
       "      <td>2.505935e-27</td>\n",
       "    </tr>\n",
       "    <tr>\n",
       "      <th>20</th>\n",
       "      <td>II</td>\n",
       "      <td>BPR</td>\n",
       "      <td>0.020344</td>\n",
       "      <td>75487.5</td>\n",
       "      <td>8.336016e-15</td>\n",
       "      <td>2.334084e-13</td>\n",
       "    </tr>\n",
       "    <tr>\n",
       "      <th>18</th>\n",
       "      <td>II</td>\n",
       "      <td>TFMF</td>\n",
       "      <td>0.014940</td>\n",
       "      <td>83074.0</td>\n",
       "      <td>6.149651e-08</td>\n",
       "      <td>1.721902e-06</td>\n",
       "    </tr>\n",
       "    <tr>\n",
       "      <th>23</th>\n",
       "      <td>TFMF</td>\n",
       "      <td>BPR</td>\n",
       "      <td>0.005405</td>\n",
       "      <td>99509.0</td>\n",
       "      <td>4.052558e-03</td>\n",
       "      <td>1.134716e-01</td>\n",
       "    </tr>\n",
       "    <tr>\n",
       "      <th>11</th>\n",
       "      <td>UU</td>\n",
       "      <td>BPR</td>\n",
       "      <td>0.002487</td>\n",
       "      <td>97693.0</td>\n",
       "      <td>8.053554e-04</td>\n",
       "      <td>2.254995e-02</td>\n",
       "    </tr>\n",
       "    <tr>\n",
       "      <th>9</th>\n",
       "      <td>UU</td>\n",
       "      <td>TFMF</td>\n",
       "      <td>-0.002917</td>\n",
       "      <td>112371.5</td>\n",
       "      <td>8.905932e-01</td>\n",
       "      <td>2.493661e+01</td>\n",
       "    </tr>\n",
       "    <tr>\n",
       "      <th>26</th>\n",
       "      <td>Bias</td>\n",
       "      <td>ALS</td>\n",
       "      <td>-0.005834</td>\n",
       "      <td>98573.0</td>\n",
       "      <td>1.422730e-02</td>\n",
       "      <td>3.983643e-01</td>\n",
       "    </tr>\n",
       "    <tr>\n",
       "      <th>19</th>\n",
       "      <td>II</td>\n",
       "      <td>Bias</td>\n",
       "      <td>-0.014955</td>\n",
       "      <td>62095.5</td>\n",
       "      <td>3.881487e-15</td>\n",
       "      <td>1.086816e-13</td>\n",
       "    </tr>\n",
       "    <tr>\n",
       "      <th>8</th>\n",
       "      <td>UU</td>\n",
       "      <td>II</td>\n",
       "      <td>-0.017857</td>\n",
       "      <td>52735.5</td>\n",
       "      <td>5.350762e-19</td>\n",
       "      <td>1.498213e-17</td>\n",
       "    </tr>\n",
       "    <tr>\n",
       "      <th>21</th>\n",
       "      <td>II</td>\n",
       "      <td>ALS</td>\n",
       "      <td>-0.020789</td>\n",
       "      <td>46286.0</td>\n",
       "      <td>8.784721e-31</td>\n",
       "      <td>2.459722e-29</td>\n",
       "    </tr>\n",
       "    <tr>\n",
       "      <th>22</th>\n",
       "      <td>TFMF</td>\n",
       "      <td>Bias</td>\n",
       "      <td>-0.029894</td>\n",
       "      <td>65981.0</td>\n",
       "      <td>1.658450e-22</td>\n",
       "      <td>4.643661e-21</td>\n",
       "    </tr>\n",
       "    <tr>\n",
       "      <th>10</th>\n",
       "      <td>UU</td>\n",
       "      <td>Bias</td>\n",
       "      <td>-0.032812</td>\n",
       "      <td>35394.5</td>\n",
       "      <td>2.060829e-45</td>\n",
       "      <td>5.770322e-44</td>\n",
       "    </tr>\n",
       "    <tr>\n",
       "      <th>24</th>\n",
       "      <td>TFMF</td>\n",
       "      <td>ALS</td>\n",
       "      <td>-0.035728</td>\n",
       "      <td>64173.5</td>\n",
       "      <td>8.053727e-29</td>\n",
       "      <td>2.255044e-27</td>\n",
       "    </tr>\n",
       "    <tr>\n",
       "      <th>12</th>\n",
       "      <td>UU</td>\n",
       "      <td>ALS</td>\n",
       "      <td>-0.038646</td>\n",
       "      <td>27000.5</td>\n",
       "      <td>1.368620e-60</td>\n",
       "      <td>3.832136e-59</td>\n",
       "    </tr>\n",
       "    <tr>\n",
       "      <th>27</th>\n",
       "      <td>BPR</td>\n",
       "      <td>ALS</td>\n",
       "      <td>-0.041133</td>\n",
       "      <td>64151.5</td>\n",
       "      <td>2.169367e-34</td>\n",
       "      <td>6.074226e-33</td>\n",
       "    </tr>\n",
       "    <tr>\n",
       "      <th>7</th>\n",
       "      <td>UU</td>\n",
       "      <td>Pop</td>\n",
       "      <td>-0.148662</td>\n",
       "      <td>9407.0</td>\n",
       "      <td>4.761809e-135</td>\n",
       "      <td>1.333306e-133</td>\n",
       "    </tr>\n",
       "  </tbody>\n",
       "</table>\n",
       "</div>"
      ],
      "text/plain": [
       "      A1    A2      diff      stat              p          adj_p\n",
       "5   IALS   BPR  0.225323    7176.0  9.269101e-145  2.595348e-143\n",
       "0   IALS    UU  0.222836    3403.0  2.126180e-150  5.953305e-149\n",
       "3   IALS  TFMF  0.219918    7705.0  3.205033e-144  8.974093e-143\n",
       "2   IALS    II  0.204979   16366.0  3.487329e-133  9.764520e-132\n",
       "4   IALS  Bias  0.190024   27503.0  1.956534e-119  5.478296e-118\n",
       "6   IALS   ALS  0.184190   29594.0  4.194734e-117  1.174525e-115\n",
       "16   Pop   BPR  0.151149   15454.0  7.163473e-126  2.005772e-124\n",
       "14   Pop  TFMF  0.145744   15646.0  4.693072e-125  1.314060e-123\n",
       "13   Pop    II  0.130805   29268.0  9.795755e-108  2.742811e-106\n",
       "15   Pop  Bias  0.115850   42482.0   1.872469e-91   5.242912e-90\n",
       "17   Pop   ALS  0.110016   50506.0   9.956718e-84   2.787881e-82\n",
       "1   IALS   Pop  0.074174  127318.0   7.015773e-29   1.964416e-27\n",
       "25  Bias   BPR  0.035299   68336.0   8.949766e-29   2.505935e-27\n",
       "20    II   BPR  0.020344   75487.5   8.336016e-15   2.334084e-13\n",
       "18    II  TFMF  0.014940   83074.0   6.149651e-08   1.721902e-06\n",
       "23  TFMF   BPR  0.005405   99509.0   4.052558e-03   1.134716e-01\n",
       "11    UU   BPR  0.002487   97693.0   8.053554e-04   2.254995e-02\n",
       "9     UU  TFMF -0.002917  112371.5   8.905932e-01   2.493661e+01\n",
       "26  Bias   ALS -0.005834   98573.0   1.422730e-02   3.983643e-01\n",
       "19    II  Bias -0.014955   62095.5   3.881487e-15   1.086816e-13\n",
       "8     UU    II -0.017857   52735.5   5.350762e-19   1.498213e-17\n",
       "21    II   ALS -0.020789   46286.0   8.784721e-31   2.459722e-29\n",
       "22  TFMF  Bias -0.029894   65981.0   1.658450e-22   4.643661e-21\n",
       "10    UU  Bias -0.032812   35394.5   2.060829e-45   5.770322e-44\n",
       "24  TFMF   ALS -0.035728   64173.5   8.053727e-29   2.255044e-27\n",
       "12    UU   ALS -0.038646   27000.5   1.368620e-60   3.832136e-59\n",
       "27   BPR   ALS -0.041133   64151.5   2.169367e-34   6.074226e-33\n",
       "7     UU   Pop -0.148662    9407.0  4.761809e-135  1.333306e-133"
      ]
     },
     "execution_count": 23,
     "metadata": {},
     "output_type": "execute_result"
    }
   ],
   "source": [
    "am_wilcox('ndcg').sort_values('diff', ascending=False)"
   ]
  },
  {
   "cell_type": "markdown",
   "metadata": {
    "papermill": {
     "duration": 0.053279,
     "end_time": "2020-08-09T06:31:01.150970",
     "exception": false,
     "start_time": "2020-08-09T06:31:01.097691",
     "status": "completed"
    },
    "tags": []
   },
   "source": [
    "### Reciprocal Rank\n",
    "\n",
    "We'll do this also for reciprocal rank (what is aggregated to compute MRR):"
   ]
  },
  {
   "cell_type": "code",
   "execution_count": 23,
   "metadata": {
    "execution": {
     "iopub.execute_input": "2020-08-09T06:31:01.267251Z",
     "iopub.status.busy": "2020-08-09T06:31:01.262454Z",
     "iopub.status.idle": "2020-08-09T06:31:01.445719Z",
     "shell.execute_reply": "2020-08-09T06:31:01.446705Z"
    },
    "papermill": {
     "duration": 0.24405,
     "end_time": "2020-08-09T06:31:01.447083",
     "exception": false,
     "start_time": "2020-08-09T06:31:01.203033",
     "status": "completed"
    },
    "tags": []
   },
   "outputs": [
    {
     "data": {
      "text/plain": [
       "stat    2276.736066\n",
       "p          0.000000\n",
       "Name: recip_rank, dtype: float64"
      ]
     },
     "execution_count": 23,
     "metadata": {},
     "output_type": "execute_result"
    }
   ],
   "source": [
    "metric_friedman('recip_rank')"
   ]
  },
  {
   "cell_type": "code",
   "execution_count": 24,
   "metadata": {
    "execution": {
     "iopub.execute_input": "2020-08-09T06:31:01.565027Z",
     "iopub.status.busy": "2020-08-09T06:31:01.563656Z",
     "iopub.status.idle": "2020-08-09T06:31:01.716359Z",
     "shell.execute_reply": "2020-08-09T06:31:01.717257Z"
    },
    "papermill": {
     "duration": 0.218036,
     "end_time": "2020-08-09T06:31:01.717638",
     "exception": false,
     "start_time": "2020-08-09T06:31:01.499602",
     "status": "completed"
    },
    "tags": []
   },
   "outputs": [
    {
     "data": {
      "text/html": [
       "<div>\n",
       "<style scoped>\n",
       "    .dataframe tbody tr th:only-of-type {\n",
       "        vertical-align: middle;\n",
       "    }\n",
       "\n",
       "    .dataframe tbody tr th {\n",
       "        vertical-align: top;\n",
       "    }\n",
       "\n",
       "    .dataframe thead th {\n",
       "        text-align: right;\n",
       "    }\n",
       "</style>\n",
       "<table border=\"1\" class=\"dataframe\">\n",
       "  <thead>\n",
       "    <tr style=\"text-align: right;\">\n",
       "      <th></th>\n",
       "      <th>A1</th>\n",
       "      <th>A2</th>\n",
       "      <th>diff</th>\n",
       "      <th>stat</th>\n",
       "      <th>p</th>\n",
       "      <th>adj_p</th>\n",
       "    </tr>\n",
       "  </thead>\n",
       "  <tbody>\n",
       "    <tr>\n",
       "      <th>0</th>\n",
       "      <td>IALS</td>\n",
       "      <td>UU</td>\n",
       "      <td>0.205092</td>\n",
       "      <td>10569.0</td>\n",
       "      <td>2.085324e-140</td>\n",
       "      <td>5.838908e-139</td>\n",
       "    </tr>\n",
       "    <tr>\n",
       "      <th>2</th>\n",
       "      <td>IALS</td>\n",
       "      <td>II</td>\n",
       "      <td>0.184023</td>\n",
       "      <td>40066.0</td>\n",
       "      <td>2.190170e-102</td>\n",
       "      <td>6.132477e-101</td>\n",
       "    </tr>\n",
       "    <tr>\n",
       "      <th>3</th>\n",
       "      <td>IALS</td>\n",
       "      <td>TFMF</td>\n",
       "      <td>0.182676</td>\n",
       "      <td>36895.0</td>\n",
       "      <td>2.963344e-106</td>\n",
       "      <td>8.297363e-105</td>\n",
       "    </tr>\n",
       "    <tr>\n",
       "      <th>5</th>\n",
       "      <td>IALS</td>\n",
       "      <td>BPR</td>\n",
       "      <td>0.180623</td>\n",
       "      <td>38511.5</td>\n",
       "      <td>2.192508e-104</td>\n",
       "      <td>6.139024e-103</td>\n",
       "    </tr>\n",
       "    <tr>\n",
       "      <th>13</th>\n",
       "      <td>Pop</td>\n",
       "      <td>II</td>\n",
       "      <td>0.177865</td>\n",
       "      <td>36690.5</td>\n",
       "      <td>8.226483e-97</td>\n",
       "      <td>2.303415e-95</td>\n",
       "    </tr>\n",
       "    <tr>\n",
       "      <th>14</th>\n",
       "      <td>Pop</td>\n",
       "      <td>TFMF</td>\n",
       "      <td>0.176518</td>\n",
       "      <td>36564.5</td>\n",
       "      <td>1.383984e-97</td>\n",
       "      <td>3.875155e-96</td>\n",
       "    </tr>\n",
       "    <tr>\n",
       "      <th>16</th>\n",
       "      <td>Pop</td>\n",
       "      <td>BPR</td>\n",
       "      <td>0.174464</td>\n",
       "      <td>38949.5</td>\n",
       "      <td>1.387766e-95</td>\n",
       "      <td>3.885746e-94</td>\n",
       "    </tr>\n",
       "    <tr>\n",
       "      <th>4</th>\n",
       "      <td>IALS</td>\n",
       "      <td>Bias</td>\n",
       "      <td>0.165669</td>\n",
       "      <td>66486.5</td>\n",
       "      <td>1.278069e-74</td>\n",
       "      <td>3.578594e-73</td>\n",
       "    </tr>\n",
       "    <tr>\n",
       "      <th>15</th>\n",
       "      <td>Pop</td>\n",
       "      <td>Bias</td>\n",
       "      <td>0.159511</td>\n",
       "      <td>50466.5</td>\n",
       "      <td>1.083005e-79</td>\n",
       "      <td>3.032413e-78</td>\n",
       "    </tr>\n",
       "    <tr>\n",
       "      <th>6</th>\n",
       "      <td>IALS</td>\n",
       "      <td>ALS</td>\n",
       "      <td>0.155804</td>\n",
       "      <td>69432.0</td>\n",
       "      <td>6.551469e-71</td>\n",
       "      <td>1.834411e-69</td>\n",
       "    </tr>\n",
       "    <tr>\n",
       "      <th>17</th>\n",
       "      <td>Pop</td>\n",
       "      <td>ALS</td>\n",
       "      <td>0.149645</td>\n",
       "      <td>64178.0</td>\n",
       "      <td>9.576338e-68</td>\n",
       "      <td>2.681375e-66</td>\n",
       "    </tr>\n",
       "    <tr>\n",
       "      <th>25</th>\n",
       "      <td>Bias</td>\n",
       "      <td>BPR</td>\n",
       "      <td>0.014953</td>\n",
       "      <td>83570.0</td>\n",
       "      <td>5.689183e-17</td>\n",
       "      <td>1.592971e-15</td>\n",
       "    </tr>\n",
       "    <tr>\n",
       "      <th>1</th>\n",
       "      <td>IALS</td>\n",
       "      <td>Pop</td>\n",
       "      <td>0.006158</td>\n",
       "      <td>191815.0</td>\n",
       "      <td>1.978941e-01</td>\n",
       "      <td>5.541036e+00</td>\n",
       "    </tr>\n",
       "    <tr>\n",
       "      <th>18</th>\n",
       "      <td>II</td>\n",
       "      <td>TFMF</td>\n",
       "      <td>-0.001347</td>\n",
       "      <td>103319.0</td>\n",
       "      <td>1.930276e-01</td>\n",
       "      <td>5.404773e+00</td>\n",
       "    </tr>\n",
       "    <tr>\n",
       "      <th>23</th>\n",
       "      <td>TFMF</td>\n",
       "      <td>BPR</td>\n",
       "      <td>-0.002054</td>\n",
       "      <td>103701.0</td>\n",
       "      <td>5.455917e-02</td>\n",
       "      <td>1.527657e+00</td>\n",
       "    </tr>\n",
       "    <tr>\n",
       "      <th>20</th>\n",
       "      <td>II</td>\n",
       "      <td>BPR</td>\n",
       "      <td>-0.003401</td>\n",
       "      <td>94374.5</td>\n",
       "      <td>1.014168e-04</td>\n",
       "      <td>2.839669e-03</td>\n",
       "    </tr>\n",
       "    <tr>\n",
       "      <th>26</th>\n",
       "      <td>Bias</td>\n",
       "      <td>ALS</td>\n",
       "      <td>-0.009866</td>\n",
       "      <td>105319.5</td>\n",
       "      <td>7.642984e-01</td>\n",
       "      <td>2.140035e+01</td>\n",
       "    </tr>\n",
       "    <tr>\n",
       "      <th>22</th>\n",
       "      <td>TFMF</td>\n",
       "      <td>Bias</td>\n",
       "      <td>-0.017007</td>\n",
       "      <td>80251.0</td>\n",
       "      <td>1.224605e-11</td>\n",
       "      <td>3.428895e-10</td>\n",
       "    </tr>\n",
       "    <tr>\n",
       "      <th>19</th>\n",
       "      <td>II</td>\n",
       "      <td>Bias</td>\n",
       "      <td>-0.018354</td>\n",
       "      <td>56536.5</td>\n",
       "      <td>7.237021e-18</td>\n",
       "      <td>2.026366e-16</td>\n",
       "    </tr>\n",
       "    <tr>\n",
       "      <th>8</th>\n",
       "      <td>UU</td>\n",
       "      <td>II</td>\n",
       "      <td>-0.021069</td>\n",
       "      <td>45543.5</td>\n",
       "      <td>3.337302e-26</td>\n",
       "      <td>9.344446e-25</td>\n",
       "    </tr>\n",
       "    <tr>\n",
       "      <th>9</th>\n",
       "      <td>UU</td>\n",
       "      <td>TFMF</td>\n",
       "      <td>-0.022416</td>\n",
       "      <td>83913.0</td>\n",
       "      <td>9.668941e-09</td>\n",
       "      <td>2.707304e-07</td>\n",
       "    </tr>\n",
       "    <tr>\n",
       "      <th>11</th>\n",
       "      <td>UU</td>\n",
       "      <td>BPR</td>\n",
       "      <td>-0.024470</td>\n",
       "      <td>103248.0</td>\n",
       "      <td>2.383701e-02</td>\n",
       "      <td>6.674364e-01</td>\n",
       "    </tr>\n",
       "    <tr>\n",
       "      <th>27</th>\n",
       "      <td>BPR</td>\n",
       "      <td>ALS</td>\n",
       "      <td>-0.024819</td>\n",
       "      <td>86465.0</td>\n",
       "      <td>8.058909e-17</td>\n",
       "      <td>2.256494e-15</td>\n",
       "    </tr>\n",
       "    <tr>\n",
       "      <th>24</th>\n",
       "      <td>TFMF</td>\n",
       "      <td>ALS</td>\n",
       "      <td>-0.026873</td>\n",
       "      <td>87001.0</td>\n",
       "      <td>6.461499e-12</td>\n",
       "      <td>1.809220e-10</td>\n",
       "    </tr>\n",
       "    <tr>\n",
       "      <th>21</th>\n",
       "      <td>II</td>\n",
       "      <td>ALS</td>\n",
       "      <td>-0.028220</td>\n",
       "      <td>51402.5</td>\n",
       "      <td>5.668869e-24</td>\n",
       "      <td>1.587283e-22</td>\n",
       "    </tr>\n",
       "    <tr>\n",
       "      <th>10</th>\n",
       "      <td>UU</td>\n",
       "      <td>Bias</td>\n",
       "      <td>-0.039423</td>\n",
       "      <td>23376.0</td>\n",
       "      <td>1.561367e-62</td>\n",
       "      <td>4.371829e-61</td>\n",
       "    </tr>\n",
       "    <tr>\n",
       "      <th>12</th>\n",
       "      <td>UU</td>\n",
       "      <td>ALS</td>\n",
       "      <td>-0.049289</td>\n",
       "      <td>24274.0</td>\n",
       "      <td>1.564414e-64</td>\n",
       "      <td>4.380359e-63</td>\n",
       "    </tr>\n",
       "    <tr>\n",
       "      <th>7</th>\n",
       "      <td>UU</td>\n",
       "      <td>Pop</td>\n",
       "      <td>-0.198934</td>\n",
       "      <td>10366.0</td>\n",
       "      <td>2.256891e-133</td>\n",
       "      <td>6.319296e-132</td>\n",
       "    </tr>\n",
       "  </tbody>\n",
       "</table>\n",
       "</div>"
      ],
      "text/plain": [
       "      A1    A2      diff      stat              p          adj_p\n",
       "0   IALS    UU  0.205092   10569.0  2.085324e-140  5.838908e-139\n",
       "2   IALS    II  0.184023   40066.0  2.190170e-102  6.132477e-101\n",
       "3   IALS  TFMF  0.182676   36895.0  2.963344e-106  8.297363e-105\n",
       "5   IALS   BPR  0.180623   38511.5  2.192508e-104  6.139024e-103\n",
       "13   Pop    II  0.177865   36690.5   8.226483e-97   2.303415e-95\n",
       "14   Pop  TFMF  0.176518   36564.5   1.383984e-97   3.875155e-96\n",
       "16   Pop   BPR  0.174464   38949.5   1.387766e-95   3.885746e-94\n",
       "4   IALS  Bias  0.165669   66486.5   1.278069e-74   3.578594e-73\n",
       "15   Pop  Bias  0.159511   50466.5   1.083005e-79   3.032413e-78\n",
       "6   IALS   ALS  0.155804   69432.0   6.551469e-71   1.834411e-69\n",
       "17   Pop   ALS  0.149645   64178.0   9.576338e-68   2.681375e-66\n",
       "25  Bias   BPR  0.014953   83570.0   5.689183e-17   1.592971e-15\n",
       "1   IALS   Pop  0.006158  191815.0   1.978941e-01   5.541036e+00\n",
       "18    II  TFMF -0.001347  103319.0   1.930276e-01   5.404773e+00\n",
       "23  TFMF   BPR -0.002054  103701.0   5.455917e-02   1.527657e+00\n",
       "20    II   BPR -0.003401   94374.5   1.014168e-04   2.839669e-03\n",
       "26  Bias   ALS -0.009866  105319.5   7.642984e-01   2.140035e+01\n",
       "22  TFMF  Bias -0.017007   80251.0   1.224605e-11   3.428895e-10\n",
       "19    II  Bias -0.018354   56536.5   7.237021e-18   2.026366e-16\n",
       "8     UU    II -0.021069   45543.5   3.337302e-26   9.344446e-25\n",
       "9     UU  TFMF -0.022416   83913.0   9.668941e-09   2.707304e-07\n",
       "11    UU   BPR -0.024470  103248.0   2.383701e-02   6.674364e-01\n",
       "27   BPR   ALS -0.024819   86465.0   8.058909e-17   2.256494e-15\n",
       "24  TFMF   ALS -0.026873   87001.0   6.461499e-12   1.809220e-10\n",
       "21    II   ALS -0.028220   51402.5   5.668869e-24   1.587283e-22\n",
       "10    UU  Bias -0.039423   23376.0   1.561367e-62   4.371829e-61\n",
       "12    UU   ALS -0.049289   24274.0   1.564414e-64   4.380359e-63\n",
       "7     UU   Pop -0.198934   10366.0  2.256891e-133  6.319296e-132"
      ]
     },
     "execution_count": 24,
     "metadata": {},
     "output_type": "execute_result"
    }
   ],
   "source": [
    "am_wilcox('recip_rank').sort_values('diff', ascending=False)"
   ]
  },
  {
   "cell_type": "markdown",
   "metadata": {
    "papermill": {
     "duration": 0.058925,
     "end_time": "2020-08-09T06:31:01.832455",
     "exception": false,
     "start_time": "2020-08-09T06:31:01.773530",
     "status": "completed"
    },
    "tags": []
   },
   "source": [
    "## Prediction RMSE\n",
    "\n",
    "We will also look at the prediction RMSE."
   ]
  },
  {
   "cell_type": "code",
   "execution_count": 25,
   "metadata": {
    "execution": {
     "iopub.execute_input": "2020-08-09T06:31:01.952015Z",
     "iopub.status.busy": "2020-08-09T06:31:01.950417Z",
     "iopub.status.idle": "2020-08-09T06:31:10.559929Z",
     "shell.execute_reply": "2020-08-09T06:31:10.560908Z"
    },
    "papermill": {
     "duration": 8.673862,
     "end_time": "2020-08-09T06:31:10.561300",
     "exception": false,
     "start_time": "2020-08-09T06:31:01.887438",
     "status": "completed"
    },
    "tags": []
   },
   "outputs": [],
   "source": [
    "user_rmse = preds.groupby(['algorithm', 'user']).apply(lambda df: rmse(df['prediction'], df['rating']))\n",
    "user_rmse = user_rmse.reset_index(name='RMSE')"
   ]
  },
  {
   "cell_type": "code",
   "execution_count": 26,
   "metadata": {
    "execution": {
     "iopub.execute_input": "2020-08-09T06:31:10.771357Z",
     "iopub.status.busy": "2020-08-09T06:31:10.769754Z",
     "iopub.status.idle": "2020-08-09T06:31:11.309930Z",
     "shell.execute_reply": "2020-08-09T06:31:11.311026Z"
    },
    "papermill": {
     "duration": 0.696833,
     "end_time": "2020-08-09T06:31:11.311396",
     "exception": false,
     "start_time": "2020-08-09T06:31:10.614563",
     "status": "completed"
    },
    "tags": []
   },
   "outputs": [
    {
     "data": {
      "text/plain": [
       "<seaborn.axisgrid.FacetGrid at 0x7fbc36999610>"
      ]
     },
     "execution_count": 26,
     "metadata": {},
     "output_type": "execute_result"
    },
    {
     "data": {
      "image/png": "[encoded data removed]",
      "text/plain": [
       "<Figure size 360x360 with 1 Axes>"
      ]
     },
     "metadata": {
      "needs_background": "light"
     },
     "output_type": "display_data"
    }
   ],
   "source": [
    "sns.catplot(x='algorithm', y='RMSE', data=user_rmse, kind='bar')"
   ]
  },
  {
   "cell_type": "code",
   "execution_count": null,
   "metadata": {
    "papermill": {
     "duration": 0.05887,
     "end_time": "2020-08-09T06:31:11.425215",
     "exception": false,
     "start_time": "2020-08-09T06:31:11.366345",
     "status": "completed"
    },
    "tags": []
   },
   "outputs": [],
   "source": []
  }
 ],
 "metadata": {
  "kernelspec": {
   "display_name": "Python 3",
   "language": "python",
   "name": "python3"
  },
  "language_info": {
   "codemirror_mode": {
    "name": "ipython",
    "version": 3
   },
   "file_extension": ".py",
   "mimetype": "text/x-python",
   "name": "python",
   "nbconvert_exporter": "python",
   "pygments_lexer": "ipython3",
   "version": "3.7.8"
  },
  "papermill": {
   "duration": 54.21692,
   "end_time": "2020-08-09T06:31:12.111641",
   "environment_variables": {},
   "exception": null,
   "input_path": "eval-report.ipynb",
   "output_path": "eval-report.ml100k.ipynb",
   "parameters": {
    "dataset": "ml100k"
   },
   "start_time": "2020-08-09T06:30:17.894721",
   "version": "2.1.2"
  }
 },
 "nbformat": 4,
 "nbformat_minor": 2
}
