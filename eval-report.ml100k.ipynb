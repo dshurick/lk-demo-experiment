{
 "cells": [
  {
   "cell_type": "markdown",
   "metadata": {
    "papermill": {
     "duration": 0.013916,
     "end_time": "2020-06-07T01:50:01.813895",
     "exception": false,
     "start_time": "2020-06-07T01:50:01.799979",
     "status": "completed"
    },
    "tags": []
   },
   "source": [
    "# Evaluation Analysis for Recommender Output"
   ]
  },
  {
   "cell_type": "markdown",
   "metadata": {
    "papermill": {
     "duration": 0.012967,
     "end_time": "2020-06-07T01:50:01.840894",
     "exception": false,
     "start_time": "2020-06-07T01:50:01.827927",
     "status": "completed"
    },
    "tags": []
   },
   "source": [
    "In this section we will analyze and compare the generated recommendations and predictions from a predefined list of algorithms with the goal of assessing the performance of each algorithm with respect to a metric. In other words, we would rank the algorithms for each metric considered with respect to performance."
   ]
  },
  {
   "cell_type": "markdown",
   "metadata": {
    "papermill": {
     "duration": 0.012999,
     "end_time": "2020-06-07T01:50:01.868893",
     "exception": false,
     "start_time": "2020-06-07T01:50:01.855894",
     "status": "completed"
    },
    "tags": []
   },
   "source": [
    "# Setup"
   ]
  },
  {
   "cell_type": "markdown",
   "metadata": {
    "papermill": {
     "duration": 0.013999,
     "end_time": "2020-06-07T01:50:01.896893",
     "exception": false,
     "start_time": "2020-06-07T01:50:01.882894",
     "status": "completed"
    },
    "tags": []
   },
   "source": [
    "Below are the list of packages required to successfully run the analysis. They are divided into partitions to signify their specific task.<br>\n",
    "We need the pathlib package for working with files and folders"
   ]
  },
  {
   "cell_type": "code",
   "execution_count": 1,
   "metadata": {
    "papermill": {
     "duration": 0.019032,
     "end_time": "2020-06-07T01:50:01.929926",
     "exception": false,
     "start_time": "2020-06-07T01:50:01.910894",
     "status": "completed"
    },
    "tags": []
   },
   "outputs": [],
   "source": [
    "from pathlib import Path"
   ]
  },
  {
   "cell_type": "markdown",
   "metadata": {
    "papermill": {
     "duration": 0.014972,
     "end_time": "2020-06-07T01:50:01.962896",
     "exception": false,
     "start_time": "2020-06-07T01:50:01.947924",
     "status": "completed"
    },
    "tags": []
   },
   "source": [
    "We would use the pandas for analyzing and manipulating our data while seaborn and matplotlib are used for data visualization. statsmodels.graphics.gofplots and scipy.stats.shapiro are used for normality check. Scipy.stats.friedmanchisquare is a non-parametric test used to determine the statistical significance in metric results and the wilcoxon test is used for pairwise comparison of sample data."
   ]
  },
  {
   "cell_type": "code",
   "execution_count": 2,
   "metadata": {
    "papermill": {
     "duration": 0.928848,
     "end_time": "2020-06-07T01:50:02.906772",
     "exception": false,
     "start_time": "2020-06-07T01:50:01.977924",
     "status": "completed"
    },
    "tags": []
   },
   "outputs": [],
   "source": [
    "import pandas as pd\n",
    "import seaborn as sns\n",
    "import matplotlib.pyplot as plt\n",
    "from statsmodels.graphics.gofplots import qqplot\n",
    "from scipy.stats import shapiro\n",
    "from scipy.stats import friedmanchisquare, wilcoxon\n",
    "from itertools import combinations"
   ]
  },
  {
   "cell_type": "markdown",
   "metadata": {
    "papermill": {
     "duration": 0.01403,
     "end_time": "2020-06-07T01:50:02.934772",
     "exception": false,
     "start_time": "2020-06-07T01:50:02.920742",
     "status": "completed"
    },
    "tags": []
   },
   "source": [
    "TQDM is useful for progress:"
   ]
  },
  {
   "cell_type": "code",
   "execution_count": 3,
   "metadata": {
    "papermill": {
     "duration": 0.028031,
     "end_time": "2020-06-07T01:50:02.977771",
     "exception": false,
     "start_time": "2020-06-07T01:50:02.949740",
     "status": "completed"
    },
    "tags": []
   },
   "outputs": [
    {
     "name": "stderr",
     "output_type": "stream",
     "text": [
      "C:\\Users\\michaelekstrand\\Anaconda3\\envs\\lk-demo\\lib\\site-packages\\tqdm\\std.py:658: FutureWarning: The Panel class is removed from pandas. Accessing it from the top-level namespace will also be removed in the next version\n",
      "  from pandas import Panel\n"
     ]
    }
   ],
   "source": [
    "from tqdm.auto import tqdm\n",
    "tqdm.pandas()"
   ]
  },
  {
   "cell_type": "markdown",
   "metadata": {
    "papermill": {
     "duration": 0.014032,
     "end_time": "2020-06-07T01:50:03.005771",
     "exception": false,
     "start_time": "2020-06-07T01:50:02.991739",
     "status": "completed"
    },
    "tags": []
   },
   "source": [
    "And logging to show what's happening in LensKit routines:"
   ]
  },
  {
   "cell_type": "code",
   "execution_count": 4,
   "metadata": {
    "papermill": {
     "duration": 0.515998,
     "end_time": "2020-06-07T01:50:03.535768",
     "exception": false,
     "start_time": "2020-06-07T01:50:03.019770",
     "status": "completed"
    },
    "tags": []
   },
   "outputs": [
    {
     "name": "stdout",
     "output_type": "stream",
     "text": [
      "[   INFO] lenskit.util.log notebook logging configured\n"
     ]
    },
    {
     "name": "stderr",
     "output_type": "stream",
     "text": [
      "C:\\Users\\michaelekstrand\\Anaconda3\\envs\\lk-demo\\lib\\site-packages\\fastparquet\\dataframe.py:5: FutureWarning: pandas.core.index is deprecated and will be removed in a future version.  The public classes are available in the top-level namespace.\n",
      "  from pandas.core.index import CategoricalIndex, RangeIndex, Index, MultiIndex\n"
     ]
    }
   ],
   "source": [
    "from lenskit import util\n",
    "util.log_to_notebook()"
   ]
  },
  {
   "cell_type": "markdown",
   "metadata": {
    "papermill": {
     "duration": 0.014034,
     "end_time": "2020-06-07T01:50:03.564772",
     "exception": false,
     "start_time": "2020-06-07T01:50:03.550738",
     "status": "completed"
    },
    "tags": []
   },
   "source": [
    "We will use lenskit for training, running, and evaluating recommender algorithms"
   ]
  },
  {
   "cell_type": "code",
   "execution_count": 5,
   "metadata": {
    "papermill": {
     "duration": 0.02203,
     "end_time": "2020-06-07T01:50:03.602769",
     "exception": false,
     "start_time": "2020-06-07T01:50:03.580739",
     "status": "completed"
    },
    "tags": []
   },
   "outputs": [],
   "source": [
    "from lenskit import topn\n",
    "from lenskit.metrics.predict import rmse"
   ]
  },
  {
   "cell_type": "markdown",
   "metadata": {
    "papermill": {
     "duration": 0.014001,
     "end_time": "2020-06-07T01:50:03.630769",
     "exception": false,
     "start_time": "2020-06-07T01:50:03.616768",
     "status": "completed"
    },
    "tags": []
   },
   "source": [
    "# Load Data"
   ]
  },
  {
   "cell_type": "markdown",
   "metadata": {
    "papermill": {
     "duration": 0.013988,
     "end_time": "2020-06-07T01:50:03.659769",
     "exception": false,
     "start_time": "2020-06-07T01:50:03.645781",
     "status": "completed"
    },
    "tags": []
   },
   "source": [
    "We specify the dataset we will use for our analysis and the main directory from where we read the recommendation and prediction files. From the main directory we find all the directories associated with the dataset and then read the recommendation and predictions files from those directories."
   ]
  },
  {
   "cell_type": "code",
   "execution_count": 6,
   "metadata": {
    "papermill": {
     "duration": 0.019,
     "end_time": "2020-06-07T01:50:03.693769",
     "exception": false,
     "start_time": "2020-06-07T01:50:03.674769",
     "status": "completed"
    },
    "tags": [
     "parameters"
    ]
   },
   "outputs": [],
   "source": [
    "dataset = \"ml100k\""
   ]
  },
  {
   "cell_type": "code",
   "execution_count": 7,
   "metadata": {
    "papermill": {
     "duration": 0.018999,
     "end_time": "2020-06-07T01:50:03.726768",
     "exception": false,
     "start_time": "2020-06-07T01:50:03.707769",
     "status": "completed"
    },
    "tags": [
     "injected-parameters"
    ]
   },
   "outputs": [],
   "source": [
    "# Parameters\n",
    "dataset = \"ml100k\"\n"
   ]
  },
  {
   "cell_type": "code",
   "execution_count": 8,
   "metadata": {
    "papermill": {
     "duration": 0.017968,
     "end_time": "2020-06-07T01:50:03.757737",
     "exception": false,
     "start_time": "2020-06-07T01:50:03.739769",
     "status": "completed"
    },
    "tags": []
   },
   "outputs": [],
   "source": [
    "output_root = Path(\"runs\")"
   ]
  },
  {
   "cell_type": "code",
   "execution_count": 9,
   "metadata": {
    "papermill": {
     "duration": 0.021,
     "end_time": "2020-06-07T01:50:03.792769",
     "exception": false,
     "start_time": "2020-06-07T01:50:03.771769",
     "status": "completed"
    },
    "tags": []
   },
   "outputs": [],
   "source": [
    "dirs = [fld for fld in output_root.glob(f'{dataset}-*')]"
   ]
  },
  {
   "cell_type": "code",
   "execution_count": 10,
   "metadata": {
    "papermill": {
     "duration": 0.533968,
     "end_time": "2020-06-07T01:50:04.340735",
     "exception": false,
     "start_time": "2020-06-07T01:50:03.806767",
     "status": "completed"
    },
    "tags": []
   },
   "outputs": [
    {
     "name": "stdout",
     "output_type": "stream",
     "text": [
      "<class 'pandas.core.frame.DataFrame'>\n",
      "RangeIndex: 754400 entries, 0 to 754399\n",
      "Data columns (total 6 columns):\n",
      " #   Column     Non-Null Count   Dtype   \n",
      "---  ------     --------------   -----   \n",
      " 0   item       754400 non-null  int64   \n",
      " 1   score      754400 non-null  float64 \n",
      " 2   user       754400 non-null  int64   \n",
      " 3   rank       754400 non-null  int64   \n",
      " 4   dataset    754400 non-null  category\n",
      " 5   algorithm  754400 non-null  category\n",
      "dtypes: category(2), float64(1), int64(3)\n",
      "memory usage: 24.5 MB\n"
     ]
    }
   ],
   "source": [
    "recs = []\n",
    "for fld in dirs: \n",
    "    for file in fld.glob(\"recs-*\"):\n",
    "        rec = pd.read_csv(file, sep=',')\n",
    "        rec[\"dataset\"] = fld.name.split(\"-\")[0]\n",
    "        rec[\"algorithm\"] = fld.name.split(\"-\")[1]\n",
    "        recs.append(rec)\n",
    "\n",
    "recs = pd.concat(recs, ignore_index=True)\n",
    "recs = recs.astype({'dataset': 'category', 'algorithm': 'category'})\n",
    "recs.info()"
   ]
  },
  {
   "cell_type": "code",
   "execution_count": 11,
   "metadata": {
    "papermill": {
     "duration": 0.030032,
     "end_time": "2020-06-07T01:50:04.385766",
     "exception": false,
     "start_time": "2020-06-07T01:50:04.355734",
     "status": "completed"
    },
    "tags": []
   },
   "outputs": [
    {
     "data": {
      "text/plain": [
       "[ALS, Bias, BPR, IALS, II, Pop, TFMF, UU]\n",
       "Categories (8, object): [ALS, Bias, BPR, IALS, II, Pop, TFMF, UU]"
      ]
     },
     "execution_count": 11,
     "metadata": {},
     "output_type": "execute_result"
    }
   ],
   "source": [
    "rec_algos = recs['algorithm'].unique()\n",
    "rec_algos"
   ]
  },
  {
   "cell_type": "code",
   "execution_count": 12,
   "metadata": {
    "papermill": {
     "duration": 0.094033,
     "end_time": "2020-06-07T01:50:04.495768",
     "exception": false,
     "start_time": "2020-06-07T01:50:04.401735",
     "status": "completed"
    },
    "tags": []
   },
   "outputs": [
    {
     "name": "stdout",
     "output_type": "stream",
     "text": [
      "<class 'pandas.core.frame.DataFrame'>\n",
      "RangeIndex: 23575 entries, 0 to 23574\n",
      "Data columns (total 7 columns):\n",
      " #   Column      Non-Null Count  Dtype  \n",
      "---  ------      --------------  -----  \n",
      " 0   user        23575 non-null  int64  \n",
      " 1   item        23575 non-null  int64  \n",
      " 2   rating      23575 non-null  float64\n",
      " 3   timestamp   23575 non-null  int64  \n",
      " 4   prediction  23560 non-null  float64\n",
      " 5   dataset     23575 non-null  object \n",
      " 6   algorithm   23575 non-null  object \n",
      "dtypes: float64(2), int64(3), object(2)\n",
      "memory usage: 1.3+ MB\n"
     ]
    }
   ],
   "source": [
    "preds = []\n",
    "for fld in dirs:\n",
    "    for file in fld.glob(\"pred-*\"):\n",
    "        pred = pd.read_csv(file, sep=',')\n",
    "        pred[\"dataset\"] = fld.name.split(\"-\")[0]\n",
    "        pred[\"algorithm\"] = fld.name.split(\"-\")[1]\n",
    "        preds.append(pred)\n",
    "\n",
    "preds = pd.concat(preds, ignore_index=True)\n",
    "preds.info()"
   ]
  },
  {
   "cell_type": "markdown",
   "metadata": {
    "papermill": {
     "duration": 0.014989,
     "end_time": "2020-06-07T01:50:04.525764",
     "exception": false,
     "start_time": "2020-06-07T01:50:04.510775",
     "status": "completed"
    },
    "tags": []
   },
   "source": [
    "We need to load the test data so that we have the ground truths for computing accuracy "
   ]
  },
  {
   "cell_type": "code",
   "execution_count": 13,
   "metadata": {
    "papermill": {
     "duration": 0.019992,
     "end_time": "2020-06-07T01:50:04.560765",
     "exception": false,
     "start_time": "2020-06-07T01:50:04.540773",
     "status": "completed"
    },
    "tags": []
   },
   "outputs": [],
   "source": [
    "split_root = Path(\"data-split\")\n",
    "split_dir = split_root / dataset"
   ]
  },
  {
   "cell_type": "code",
   "execution_count": 14,
   "metadata": {
    "papermill": {
     "duration": 0.031,
     "end_time": "2020-06-07T01:50:04.605764",
     "exception": false,
     "start_time": "2020-06-07T01:50:04.574764",
     "status": "completed"
    },
    "tags": []
   },
   "outputs": [],
   "source": [
    "test = []\n",
    "for file in split_dir.glob(\"test-*.csv.gz\"):\n",
    "    test.append(pd.read_csv(file, sep=','))\n",
    "\n",
    "test = pd.concat(test, ignore_index=True)"
   ]
  },
  {
   "cell_type": "markdown",
   "metadata": {
    "papermill": {
     "duration": 0.015,
     "end_time": "2020-06-07T01:50:04.634764",
     "exception": false,
     "start_time": "2020-06-07T01:50:04.619764",
     "status": "completed"
    },
    "tags": []
   },
   "source": [
    "# Top-N Metrics"
   ]
  },
  {
   "cell_type": "markdown",
   "metadata": {
    "papermill": {
     "duration": 0.015001,
     "end_time": "2020-06-07T01:50:04.664766",
     "exception": false,
     "start_time": "2020-06-07T01:50:04.649765",
     "status": "completed"
    },
    "tags": []
   },
   "source": [
    "The topn.RecListAnalysis class computes top-N metrics for recommendation list and takes care of making sure that the recommendations and ground truths are properly matched. Refer to the documentation for detailed explanation of the purpose for the RecListAnalysis class and how the analysis is done - https://lkpy.lenskit.org/en/stable/evaluation/topn-metrics.html "
   ]
  },
  {
   "cell_type": "code",
   "execution_count": 15,
   "metadata": {
    "papermill": {
     "duration": 9.45002,
     "end_time": "2020-06-07T01:50:14.128784",
     "exception": false,
     "start_time": "2020-06-07T01:50:04.678764",
     "status": "completed"
    },
    "tags": []
   },
   "outputs": [
    {
     "name": "stdout",
     "output_type": "stream",
     "text": [
      "[   INFO] lenskit.topn analyzing 754400 recommendations (4715 truth rows)\n"
     ]
    },
    {
     "name": "stdout",
     "output_type": "stream",
     "text": [
      "[   INFO] lenskit.topn using group columns ['user', 'dataset', 'algorithm']\n"
     ]
    },
    {
     "name": "stdout",
     "output_type": "stream",
     "text": [
      "[   INFO] lenskit.topn ungrouped columns: ['item', 'score', 'rank']\n"
     ]
    },
    {
     "name": "stdout",
     "output_type": "stream",
     "text": [
      "[   INFO] lenskit.topn using truth ID columns ['user']\n"
     ]
    },
    {
     "name": "stdout",
     "output_type": "stream",
     "text": [
      "[   INFO] lenskit.topn computing analysis for 7544 lists\n"
     ]
    },
    {
     "data": {
      "application/vnd.jupyter.widget-view+json": {
       "model_id": "0eeba229854946fcbb1faa269b0b4c0d",
       "version_major": 2,
       "version_minor": 0
      },
      "text/plain": [
       "HBox(children=(FloatProgress(value=0.0, max=7544.0), HTML(value='')))"
      ]
     },
     "metadata": {},
     "output_type": "display_data"
    },
    {
     "name": "stdout",
     "output_type": "stream",
     "text": [
      "\n",
      "[   INFO] lenskit.topn analyzed 7544 lists in 8.47s\n"
     ]
    },
    {
     "name": "stdout",
     "output_type": "stream",
     "text": [
      "[   INFO] lenskit.topn filling in missing user info\n"
     ]
    },
    {
     "data": {
      "text/html": [
       "<div>\n",
       "<style scoped>\n",
       "    .dataframe tbody tr th:only-of-type {\n",
       "        vertical-align: middle;\n",
       "    }\n",
       "\n",
       "    .dataframe tbody tr th {\n",
       "        vertical-align: top;\n",
       "    }\n",
       "\n",
       "    .dataframe thead th {\n",
       "        text-align: right;\n",
       "    }\n",
       "</style>\n",
       "<table border=\"1\" class=\"dataframe\">\n",
       "  <thead>\n",
       "    <tr style=\"text-align: right;\">\n",
       "      <th></th>\n",
       "      <th></th>\n",
       "      <th></th>\n",
       "      <th>nrecs</th>\n",
       "      <th>precision</th>\n",
       "      <th>recip_rank</th>\n",
       "      <th>ndcg</th>\n",
       "      <th>ntruth</th>\n",
       "    </tr>\n",
       "    <tr>\n",
       "      <th>dataset</th>\n",
       "      <th>algorithm</th>\n",
       "      <th>user</th>\n",
       "      <th></th>\n",
       "      <th></th>\n",
       "      <th></th>\n",
       "      <th></th>\n",
       "      <th></th>\n",
       "    </tr>\n",
       "  </thead>\n",
       "  <tbody>\n",
       "    <tr>\n",
       "      <th rowspan=\"5\" valign=\"top\">ml100k</th>\n",
       "      <th rowspan=\"5\" valign=\"top\">ALS</th>\n",
       "      <th>1</th>\n",
       "      <td>100.0</td>\n",
       "      <td>0.01</td>\n",
       "      <td>0.011236</td>\n",
       "      <td>0.043148</td>\n",
       "      <td>5</td>\n",
       "    </tr>\n",
       "    <tr>\n",
       "      <th>2</th>\n",
       "      <td>100.0</td>\n",
       "      <td>0.03</td>\n",
       "      <td>0.071429</td>\n",
       "      <td>0.182372</td>\n",
       "      <td>5</td>\n",
       "    </tr>\n",
       "    <tr>\n",
       "      <th>3</th>\n",
       "      <td>100.0</td>\n",
       "      <td>0.01</td>\n",
       "      <td>0.250000</td>\n",
       "      <td>0.187046</td>\n",
       "      <td>5</td>\n",
       "    </tr>\n",
       "    <tr>\n",
       "      <th>4</th>\n",
       "      <td>100.0</td>\n",
       "      <td>0.01</td>\n",
       "      <td>0.038462</td>\n",
       "      <td>0.050422</td>\n",
       "      <td>5</td>\n",
       "    </tr>\n",
       "    <tr>\n",
       "      <th>5</th>\n",
       "      <td>100.0</td>\n",
       "      <td>0.00</td>\n",
       "      <td>0.000000</td>\n",
       "      <td>0.000000</td>\n",
       "      <td>5</td>\n",
       "    </tr>\n",
       "  </tbody>\n",
       "</table>\n",
       "</div>"
      ],
      "text/plain": [
       "                        nrecs  precision  recip_rank      ndcg  ntruth\n",
       "dataset algorithm user                                                \n",
       "ml100k  ALS       1     100.0       0.01    0.011236  0.043148       5\n",
       "                  2     100.0       0.03    0.071429  0.182372       5\n",
       "                  3     100.0       0.01    0.250000  0.187046       5\n",
       "                  4     100.0       0.01    0.038462  0.050422       5\n",
       "                  5     100.0       0.00    0.000000  0.000000       5"
      ]
     },
     "execution_count": 15,
     "metadata": {},
     "output_type": "execute_result"
    }
   ],
   "source": [
    "rla = topn.RecListAnalysis()\n",
    "\n",
    "rla.add_metric(topn.precision)\n",
    "rla.add_metric(topn.recip_rank)\n",
    "rla.add_metric(topn.ndcg)\n",
    "results = rla.compute(recs, test, include_missing=True)\n",
    "results = results.fillna(0)\n",
    "results.head()"
   ]
  },
  {
   "cell_type": "markdown",
   "metadata": {
    "papermill": {
     "duration": 0.018018,
     "end_time": "2020-06-07T01:50:14.165784",
     "exception": false,
     "start_time": "2020-06-07T01:50:14.147766",
     "status": "completed"
    },
    "tags": []
   },
   "source": [
    "Since we are analyzing 1 data set, we can drop its index level:"
   ]
  },
  {
   "cell_type": "code",
   "execution_count": 16,
   "metadata": {
    "papermill": {
     "duration": 0.023968,
     "end_time": "2020-06-07T01:50:14.206752",
     "exception": false,
     "start_time": "2020-06-07T01:50:14.182784",
     "status": "completed"
    },
    "tags": []
   },
   "outputs": [],
   "source": [
    "results.reset_index(level='dataset', drop=True, inplace=True)"
   ]
  },
  {
   "cell_type": "markdown",
   "metadata": {
    "papermill": {
     "duration": 0.017995,
     "end_time": "2020-06-07T01:50:14.242783",
     "exception": false,
     "start_time": "2020-06-07T01:50:14.224788",
     "status": "completed"
    },
    "tags": []
   },
   "source": [
    "We will reshape the 'results' dataframe by stacking the columns to index and then use the bar chart to visualize the performance of our algorithms with respect to the precision, reciprocal rank and ndcg metrics"
   ]
  },
  {
   "cell_type": "code",
   "execution_count": 17,
   "metadata": {
    "papermill": {
     "duration": 0.034968,
     "end_time": "2020-06-07T01:50:14.296751",
     "exception": false,
     "start_time": "2020-06-07T01:50:14.261783",
     "status": "completed"
    },
    "tags": []
   },
   "outputs": [
    {
     "data": {
      "text/html": [
       "<div>\n",
       "<style scoped>\n",
       "    .dataframe tbody tr th:only-of-type {\n",
       "        vertical-align: middle;\n",
       "    }\n",
       "\n",
       "    .dataframe tbody tr th {\n",
       "        vertical-align: top;\n",
       "    }\n",
       "\n",
       "    .dataframe thead th {\n",
       "        text-align: right;\n",
       "    }\n",
       "</style>\n",
       "<table border=\"1\" class=\"dataframe\">\n",
       "  <thead>\n",
       "    <tr style=\"text-align: right;\">\n",
       "      <th></th>\n",
       "      <th>algorithm</th>\n",
       "      <th>user</th>\n",
       "      <th>metric</th>\n",
       "      <th>val</th>\n",
       "    </tr>\n",
       "  </thead>\n",
       "  <tbody>\n",
       "    <tr>\n",
       "      <th>0</th>\n",
       "      <td>ALS</td>\n",
       "      <td>1</td>\n",
       "      <td>precision</td>\n",
       "      <td>0.010000</td>\n",
       "    </tr>\n",
       "    <tr>\n",
       "      <th>1</th>\n",
       "      <td>ALS</td>\n",
       "      <td>1</td>\n",
       "      <td>recip_rank</td>\n",
       "      <td>0.011236</td>\n",
       "    </tr>\n",
       "    <tr>\n",
       "      <th>2</th>\n",
       "      <td>ALS</td>\n",
       "      <td>1</td>\n",
       "      <td>ndcg</td>\n",
       "      <td>0.043148</td>\n",
       "    </tr>\n",
       "    <tr>\n",
       "      <th>3</th>\n",
       "      <td>ALS</td>\n",
       "      <td>2</td>\n",
       "      <td>precision</td>\n",
       "      <td>0.030000</td>\n",
       "    </tr>\n",
       "    <tr>\n",
       "      <th>4</th>\n",
       "      <td>ALS</td>\n",
       "      <td>2</td>\n",
       "      <td>recip_rank</td>\n",
       "      <td>0.071429</td>\n",
       "    </tr>\n",
       "  </tbody>\n",
       "</table>\n",
       "</div>"
      ],
      "text/plain": [
       "  algorithm  user      metric       val\n",
       "0       ALS     1   precision  0.010000\n",
       "1       ALS     1  recip_rank  0.011236\n",
       "2       ALS     1        ndcg  0.043148\n",
       "3       ALS     2   precision  0.030000\n",
       "4       ALS     2  recip_rank  0.071429"
      ]
     },
     "execution_count": 17,
     "metadata": {},
     "output_type": "execute_result"
    }
   ],
   "source": [
    "pltData = (results.drop(columns=['nrecs', 'ntruth']).stack()).reset_index()\n",
    "pltData.columns = ['algorithm', 'user', 'metric', 'val']\n",
    "pltData.head()"
   ]
  },
  {
   "cell_type": "markdown",
   "metadata": {
    "papermill": {
     "duration": 0.018979,
     "end_time": "2020-06-07T01:50:14.335750",
     "exception": false,
     "start_time": "2020-06-07T01:50:14.316771",
     "status": "completed"
    },
    "tags": []
   },
   "source": [
    "We need to determine if the differences we observe in the performances of the algorithms for the various metrics are statistically significant. To achieve this, we will need to use either a parametric or non-parametric statistical test for comparing the differences. We will consider a parametric test - repeated ANOVA measure cause our sample groups are correlated."
   ]
  },
  {
   "cell_type": "code",
   "execution_count": 18,
   "metadata": {
    "papermill": {
     "duration": 1.068996,
     "end_time": "2020-06-07T01:50:15.424748",
     "exception": false,
     "start_time": "2020-06-07T01:50:14.355752",
     "status": "completed"
    },
    "tags": []
   },
   "outputs": [
    {
     "data": {
      "image/png": "[encoded data removed]",
      "text/plain": [
       "<Figure size 777.6x216 with 3 Axes>"
      ]
     },
     "metadata": {
      "needs_background": "light"
     },
     "output_type": "display_data"
    }
   ],
   "source": [
    "g = sns.catplot(x = \"algorithm\", y = \"val\", data = pltData, kind=\"bar\", col = \"metric\", aspect=1.2, height=3, sharey=False)"
   ]
  },
  {
   "cell_type": "markdown",
   "metadata": {
    "papermill": {
     "duration": 0.019032,
     "end_time": "2020-06-07T01:50:15.461778",
     "exception": false,
     "start_time": "2020-06-07T01:50:15.442746",
     "status": "completed"
    },
    "tags": []
   },
   "source": [
    "### Statistical Testing"
   ]
  },
  {
   "cell_type": "markdown",
   "metadata": {
    "papermill": {
     "duration": 0.017,
     "end_time": "2020-06-07T01:50:15.496778",
     "exception": false,
     "start_time": "2020-06-07T01:50:15.479778",
     "status": "completed"
    },
    "tags": []
   },
   "source": [
    "We will now examine these metrics in more detail and test for statistical significance.  Best practice for statistical testing for recommender systems is still a work in progress, but this method avoids most of the validity problems we know about.\n",
    "\n",
    "The Friedman $\\chi^2$ test will test the null hypothesis that there is no difference between algorithms in terms of their performance."
   ]
  },
  {
   "cell_type": "code",
   "execution_count": 19,
   "metadata": {
    "papermill": {
     "duration": 0.023969,
     "end_time": "2020-06-07T01:50:15.538748",
     "exception": false,
     "start_time": "2020-06-07T01:50:15.514779",
     "status": "completed"
    },
    "tags": []
   },
   "outputs": [],
   "source": [
    "def metric_friedman(metric):\n",
    "    groups = [df[metric] for a, df in results.groupby('algorithm')]\n",
    "\n",
    "    stat, p = friedmanchisquare(*groups)\n",
    "    return pd.Series({'stat': stat, 'p': p}, name=metric)"
   ]
  },
  {
   "cell_type": "markdown",
   "metadata": {
    "papermill": {
     "duration": 0.019029,
     "end_time": "2020-06-07T01:50:15.575779",
     "exception": false,
     "start_time": "2020-06-07T01:50:15.556750",
     "status": "completed"
    },
    "tags": []
   },
   "source": [
    "If the test detects significance, we have at least one pair of different algorithms - but which pairs?  Unfortunately, the good tests aren't readily available in scipy and friends, so we're going to take a conservative approch and perform pairwise Wilconxon signed-rank tests with a Bonferroni adjustment."
   ]
  },
  {
   "cell_type": "code",
   "execution_count": 20,
   "metadata": {
    "papermill": {
     "duration": 0.028001,
     "end_time": "2020-06-07T01:50:15.622778",
     "exception": false,
     "start_time": "2020-06-07T01:50:15.594777",
     "status": "completed"
    },
    "tags": []
   },
   "outputs": [],
   "source": [
    "pairs = pd.DataFrame.from_records(combinations(rec_algos, 2), columns=['A1', 'A2'])\n",
    "def am_wilcox(metric, p_scale = len(pairs)):\n",
    "    def compute(df):\n",
    "        vs1 = results.loc[df['A1'], metric]\n",
    "        vs2 = results.loc[df['A2'], metric]\n",
    "        stat, p = wilcoxon(vs1, vs2)\n",
    "        return pd.Series({'stat': stat, 'p': p, 'adj_p': p * p_scale})\n",
    "    scores = pairs.apply(compute, axis=1)\n",
    "    return pairs.join(scores)"
   ]
  },
  {
   "cell_type": "markdown",
   "metadata": {
    "papermill": {
     "duration": 0.017968,
     "end_time": "2020-06-07T01:50:15.658754",
     "exception": false,
     "start_time": "2020-06-07T01:50:15.640786",
     "status": "completed"
    },
    "tags": []
   },
   "source": [
    "## Precision"
   ]
  },
  {
   "cell_type": "code",
   "execution_count": 21,
   "metadata": {
    "papermill": {
     "duration": 0.090992,
     "end_time": "2020-06-07T01:50:15.767771",
     "exception": false,
     "start_time": "2020-06-07T01:50:15.676779",
     "status": "completed"
    },
    "tags": []
   },
   "outputs": [
    {
     "data": {
      "text/plain": [
       "stat    2952.352712\n",
       "p          0.000000\n",
       "Name: precision, dtype: float64"
      ]
     },
     "execution_count": 21,
     "metadata": {},
     "output_type": "execute_result"
    }
   ],
   "source": [
    "metric_friedman('precision')"
   ]
  },
  {
   "cell_type": "markdown",
   "metadata": {
    "papermill": {
     "duration": 0.017971,
     "end_time": "2020-06-07T01:50:15.805746",
     "exception": false,
     "start_time": "2020-06-07T01:50:15.787775",
     "status": "completed"
    },
    "tags": []
   },
   "source": [
    "This indicates a statistically significant difference exists - but where is it?\n",
    "\n",
    "To answer that question, we need a post-hoc test. "
   ]
  },
  {
   "cell_type": "code",
   "execution_count": 22,
   "metadata": {
    "papermill": {
     "duration": 0.119993,
     "end_time": "2020-06-07T01:50:15.944776",
     "exception": false,
     "start_time": "2020-06-07T01:50:15.824783",
     "status": "completed"
    },
    "tags": []
   },
   "outputs": [
    {
     "data": {
      "text/html": [
       "<div>\n",
       "<style scoped>\n",
       "    .dataframe tbody tr th:only-of-type {\n",
       "        vertical-align: middle;\n",
       "    }\n",
       "\n",
       "    .dataframe tbody tr th {\n",
       "        vertical-align: top;\n",
       "    }\n",
       "\n",
       "    .dataframe thead th {\n",
       "        text-align: right;\n",
       "    }\n",
       "</style>\n",
       "<table border=\"1\" class=\"dataframe\">\n",
       "  <thead>\n",
       "    <tr style=\"text-align: right;\">\n",
       "      <th></th>\n",
       "      <th>A1</th>\n",
       "      <th>A2</th>\n",
       "      <th>stat</th>\n",
       "      <th>p</th>\n",
       "      <th>adj_p</th>\n",
       "    </tr>\n",
       "  </thead>\n",
       "  <tbody>\n",
       "    <tr>\n",
       "      <th>13</th>\n",
       "      <td>BPR</td>\n",
       "      <td>IALS</td>\n",
       "      <td>1950.5</td>\n",
       "      <td>9.490725e-146</td>\n",
       "      <td>2.657403e-144</td>\n",
       "    </tr>\n",
       "    <tr>\n",
       "      <th>21</th>\n",
       "      <td>IALS</td>\n",
       "      <td>UU</td>\n",
       "      <td>3284.0</td>\n",
       "      <td>4.062784e-141</td>\n",
       "      <td>1.137579e-139</td>\n",
       "    </tr>\n",
       "    <tr>\n",
       "      <th>20</th>\n",
       "      <td>IALS</td>\n",
       "      <td>TFMF</td>\n",
       "      <td>1999.5</td>\n",
       "      <td>8.310211e-140</td>\n",
       "      <td>2.326859e-138</td>\n",
       "    </tr>\n",
       "    <tr>\n",
       "      <th>18</th>\n",
       "      <td>IALS</td>\n",
       "      <td>II</td>\n",
       "      <td>9646.0</td>\n",
       "      <td>8.308353e-131</td>\n",
       "      <td>2.326339e-129</td>\n",
       "    </tr>\n",
       "    <tr>\n",
       "      <th>8</th>\n",
       "      <td>Bias</td>\n",
       "      <td>IALS</td>\n",
       "      <td>10355.5</td>\n",
       "      <td>4.803232e-127</td>\n",
       "      <td>1.344905e-125</td>\n",
       "    </tr>\n",
       "    <tr>\n",
       "      <th>2</th>\n",
       "      <td>ALS</td>\n",
       "      <td>IALS</td>\n",
       "      <td>9970.5</td>\n",
       "      <td>3.650522e-126</td>\n",
       "      <td>1.022146e-124</td>\n",
       "    </tr>\n",
       "    <tr>\n",
       "      <th>15</th>\n",
       "      <td>BPR</td>\n",
       "      <td>Pop</td>\n",
       "      <td>8383.5</td>\n",
       "      <td>1.808848e-119</td>\n",
       "      <td>5.064773e-118</td>\n",
       "    </tr>\n",
       "    <tr>\n",
       "      <th>25</th>\n",
       "      <td>Pop</td>\n",
       "      <td>TFMF</td>\n",
       "      <td>9785.0</td>\n",
       "      <td>1.526101e-117</td>\n",
       "      <td>4.273082e-116</td>\n",
       "    </tr>\n",
       "    <tr>\n",
       "      <th>26</th>\n",
       "      <td>Pop</td>\n",
       "      <td>UU</td>\n",
       "      <td>11871.5</td>\n",
       "      <td>2.103612e-111</td>\n",
       "      <td>5.890114e-110</td>\n",
       "    </tr>\n",
       "    <tr>\n",
       "      <th>22</th>\n",
       "      <td>II</td>\n",
       "      <td>Pop</td>\n",
       "      <td>24010.0</td>\n",
       "      <td>3.285661e-92</td>\n",
       "      <td>9.199851e-91</td>\n",
       "    </tr>\n",
       "    <tr>\n",
       "      <th>10</th>\n",
       "      <td>Bias</td>\n",
       "      <td>Pop</td>\n",
       "      <td>27128.0</td>\n",
       "      <td>5.916415e-84</td>\n",
       "      <td>1.656596e-82</td>\n",
       "    </tr>\n",
       "    <tr>\n",
       "      <th>4</th>\n",
       "      <td>ALS</td>\n",
       "      <td>Pop</td>\n",
       "      <td>26349.5</td>\n",
       "      <td>1.420214e-82</td>\n",
       "      <td>3.976600e-81</td>\n",
       "    </tr>\n",
       "    <tr>\n",
       "      <th>19</th>\n",
       "      <td>IALS</td>\n",
       "      <td>Pop</td>\n",
       "      <td>22542.0</td>\n",
       "      <td>4.676347e-79</td>\n",
       "      <td>1.309377e-77</td>\n",
       "    </tr>\n",
       "    <tr>\n",
       "      <th>6</th>\n",
       "      <td>ALS</td>\n",
       "      <td>UU</td>\n",
       "      <td>10419.0</td>\n",
       "      <td>1.136975e-32</td>\n",
       "      <td>3.183530e-31</td>\n",
       "    </tr>\n",
       "    <tr>\n",
       "      <th>1</th>\n",
       "      <td>ALS</td>\n",
       "      <td>BPR</td>\n",
       "      <td>48120.5</td>\n",
       "      <td>1.483301e-27</td>\n",
       "      <td>4.153243e-26</td>\n",
       "    </tr>\n",
       "    <tr>\n",
       "      <th>12</th>\n",
       "      <td>Bias</td>\n",
       "      <td>UU</td>\n",
       "      <td>14889.5</td>\n",
       "      <td>1.518003e-26</td>\n",
       "      <td>4.250408e-25</td>\n",
       "    </tr>\n",
       "    <tr>\n",
       "      <th>7</th>\n",
       "      <td>Bias</td>\n",
       "      <td>BPR</td>\n",
       "      <td>50459.5</td>\n",
       "      <td>7.678530e-25</td>\n",
       "      <td>2.149988e-23</td>\n",
       "    </tr>\n",
       "    <tr>\n",
       "      <th>5</th>\n",
       "      <td>ALS</td>\n",
       "      <td>TFMF</td>\n",
       "      <td>38667.5</td>\n",
       "      <td>7.741683e-25</td>\n",
       "      <td>2.167671e-23</td>\n",
       "    </tr>\n",
       "    <tr>\n",
       "      <th>11</th>\n",
       "      <td>Bias</td>\n",
       "      <td>TFMF</td>\n",
       "      <td>35077.5</td>\n",
       "      <td>3.016265e-22</td>\n",
       "      <td>8.445542e-21</td>\n",
       "    </tr>\n",
       "    <tr>\n",
       "      <th>14</th>\n",
       "      <td>BPR</td>\n",
       "      <td>II</td>\n",
       "      <td>50000.5</td>\n",
       "      <td>2.392332e-16</td>\n",
       "      <td>6.698531e-15</td>\n",
       "    </tr>\n",
       "    <tr>\n",
       "      <th>24</th>\n",
       "      <td>II</td>\n",
       "      <td>UU</td>\n",
       "      <td>20509.5</td>\n",
       "      <td>5.411191e-13</td>\n",
       "      <td>1.515133e-11</td>\n",
       "    </tr>\n",
       "    <tr>\n",
       "      <th>23</th>\n",
       "      <td>II</td>\n",
       "      <td>TFMF</td>\n",
       "      <td>54220.0</td>\n",
       "      <td>5.853437e-10</td>\n",
       "      <td>1.638962e-08</td>\n",
       "    </tr>\n",
       "    <tr>\n",
       "      <th>3</th>\n",
       "      <td>ALS</td>\n",
       "      <td>II</td>\n",
       "      <td>16765.5</td>\n",
       "      <td>7.672967e-10</td>\n",
       "      <td>2.148431e-08</td>\n",
       "    </tr>\n",
       "    <tr>\n",
       "      <th>9</th>\n",
       "      <td>Bias</td>\n",
       "      <td>II</td>\n",
       "      <td>26113.0</td>\n",
       "      <td>1.418780e-05</td>\n",
       "      <td>3.972585e-04</td>\n",
       "    </tr>\n",
       "    <tr>\n",
       "      <th>17</th>\n",
       "      <td>BPR</td>\n",
       "      <td>UU</td>\n",
       "      <td>65248.5</td>\n",
       "      <td>7.241725e-05</td>\n",
       "      <td>2.027683e-03</td>\n",
       "    </tr>\n",
       "    <tr>\n",
       "      <th>16</th>\n",
       "      <td>BPR</td>\n",
       "      <td>TFMF</td>\n",
       "      <td>61938.5</td>\n",
       "      <td>9.954587e-04</td>\n",
       "      <td>2.787284e-02</td>\n",
       "    </tr>\n",
       "    <tr>\n",
       "      <th>27</th>\n",
       "      <td>TFMF</td>\n",
       "      <td>UU</td>\n",
       "      <td>58699.5</td>\n",
       "      <td>3.700906e-01</td>\n",
       "      <td>1.036254e+01</td>\n",
       "    </tr>\n",
       "    <tr>\n",
       "      <th>0</th>\n",
       "      <td>ALS</td>\n",
       "      <td>Bias</td>\n",
       "      <td>32099.5</td>\n",
       "      <td>4.473608e-01</td>\n",
       "      <td>1.252610e+01</td>\n",
       "    </tr>\n",
       "  </tbody>\n",
       "</table>\n",
       "</div>"
      ],
      "text/plain": [
       "      A1    A2     stat              p          adj_p\n",
       "13   BPR  IALS   1950.5  9.490725e-146  2.657403e-144\n",
       "21  IALS    UU   3284.0  4.062784e-141  1.137579e-139\n",
       "20  IALS  TFMF   1999.5  8.310211e-140  2.326859e-138\n",
       "18  IALS    II   9646.0  8.308353e-131  2.326339e-129\n",
       "8   Bias  IALS  10355.5  4.803232e-127  1.344905e-125\n",
       "2    ALS  IALS   9970.5  3.650522e-126  1.022146e-124\n",
       "15   BPR   Pop   8383.5  1.808848e-119  5.064773e-118\n",
       "25   Pop  TFMF   9785.0  1.526101e-117  4.273082e-116\n",
       "26   Pop    UU  11871.5  2.103612e-111  5.890114e-110\n",
       "22    II   Pop  24010.0   3.285661e-92   9.199851e-91\n",
       "10  Bias   Pop  27128.0   5.916415e-84   1.656596e-82\n",
       "4    ALS   Pop  26349.5   1.420214e-82   3.976600e-81\n",
       "19  IALS   Pop  22542.0   4.676347e-79   1.309377e-77\n",
       "6    ALS    UU  10419.0   1.136975e-32   3.183530e-31\n",
       "1    ALS   BPR  48120.5   1.483301e-27   4.153243e-26\n",
       "12  Bias    UU  14889.5   1.518003e-26   4.250408e-25\n",
       "7   Bias   BPR  50459.5   7.678530e-25   2.149988e-23\n",
       "5    ALS  TFMF  38667.5   7.741683e-25   2.167671e-23\n",
       "11  Bias  TFMF  35077.5   3.016265e-22   8.445542e-21\n",
       "14   BPR    II  50000.5   2.392332e-16   6.698531e-15\n",
       "24    II    UU  20509.5   5.411191e-13   1.515133e-11\n",
       "23    II  TFMF  54220.0   5.853437e-10   1.638962e-08\n",
       "3    ALS    II  16765.5   7.672967e-10   2.148431e-08\n",
       "9   Bias    II  26113.0   1.418780e-05   3.972585e-04\n",
       "17   BPR    UU  65248.5   7.241725e-05   2.027683e-03\n",
       "16   BPR  TFMF  61938.5   9.954587e-04   2.787284e-02\n",
       "27  TFMF    UU  58699.5   3.700906e-01   1.036254e+01\n",
       "0    ALS  Bias  32099.5   4.473608e-01   1.252610e+01"
      ]
     },
     "execution_count": 22,
     "metadata": {},
     "output_type": "execute_result"
    }
   ],
   "source": [
    "am_wilcox('precision').sort_values('adj_p')"
   ]
  },
  {
   "cell_type": "markdown",
   "metadata": {
    "papermill": {
     "duration": 0.021,
     "end_time": "2020-06-07T01:50:15.984776",
     "exception": false,
     "start_time": "2020-06-07T01:50:15.963776",
     "status": "completed"
    },
    "tags": []
   },
   "source": [
    "We can consider pairs with an adjusted $p$ value less than 0.05 (5.0e-2) to be statistically significant."
   ]
  },
  {
   "cell_type": "markdown",
   "metadata": {
    "papermill": {
     "duration": 0.020997,
     "end_time": "2020-06-07T01:50:16.024775",
     "exception": false,
     "start_time": "2020-06-07T01:50:16.003778",
     "status": "completed"
    },
    "tags": []
   },
   "source": [
    "### nDCG"
   ]
  },
  {
   "cell_type": "markdown",
   "metadata": {
    "papermill": {
     "duration": 0.018002,
     "end_time": "2020-06-07T01:50:16.062775",
     "exception": false,
     "start_time": "2020-06-07T01:50:16.044773",
     "status": "completed"
    },
    "tags": []
   },
   "source": [
    "Now let's do the same for nDCG:"
   ]
  },
  {
   "cell_type": "code",
   "execution_count": 23,
   "metadata": {
    "papermill": {
     "duration": 0.085972,
     "end_time": "2020-06-07T01:50:16.170745",
     "exception": false,
     "start_time": "2020-06-07T01:50:16.084773",
     "status": "completed"
    },
    "tags": []
   },
   "outputs": [
    {
     "data": {
      "text/plain": [
       "stat    2606.563074\n",
       "p          0.000000\n",
       "Name: ndcg, dtype: float64"
      ]
     },
     "execution_count": 23,
     "metadata": {},
     "output_type": "execute_result"
    }
   ],
   "source": [
    "metric_friedman('ndcg')"
   ]
  },
  {
   "cell_type": "code",
   "execution_count": 24,
   "metadata": {
    "papermill": {
     "duration": 0.086001,
     "end_time": "2020-06-07T01:50:16.276775",
     "exception": false,
     "start_time": "2020-06-07T01:50:16.190774",
     "status": "completed"
    },
    "tags": []
   },
   "outputs": [
    {
     "data": {
      "text/html": [
       "<div>\n",
       "<style scoped>\n",
       "    .dataframe tbody tr th:only-of-type {\n",
       "        vertical-align: middle;\n",
       "    }\n",
       "\n",
       "    .dataframe tbody tr th {\n",
       "        vertical-align: top;\n",
       "    }\n",
       "\n",
       "    .dataframe thead th {\n",
       "        text-align: right;\n",
       "    }\n",
       "</style>\n",
       "<table border=\"1\" class=\"dataframe\">\n",
       "  <thead>\n",
       "    <tr style=\"text-align: right;\">\n",
       "      <th></th>\n",
       "      <th>A1</th>\n",
       "      <th>A2</th>\n",
       "      <th>stat</th>\n",
       "      <th>p</th>\n",
       "      <th>adj_p</th>\n",
       "    </tr>\n",
       "  </thead>\n",
       "  <tbody>\n",
       "    <tr>\n",
       "      <th>21</th>\n",
       "      <td>IALS</td>\n",
       "      <td>UU</td>\n",
       "      <td>4984.0</td>\n",
       "      <td>4.740496e-147</td>\n",
       "      <td>1.327339e-145</td>\n",
       "    </tr>\n",
       "    <tr>\n",
       "      <th>13</th>\n",
       "      <td>BPR</td>\n",
       "      <td>IALS</td>\n",
       "      <td>8018.0</td>\n",
       "      <td>6.288198e-143</td>\n",
       "      <td>1.760695e-141</td>\n",
       "    </tr>\n",
       "    <tr>\n",
       "      <th>20</th>\n",
       "      <td>IALS</td>\n",
       "      <td>TFMF</td>\n",
       "      <td>8585.0</td>\n",
       "      <td>3.651006e-142</td>\n",
       "      <td>1.022282e-140</td>\n",
       "    </tr>\n",
       "    <tr>\n",
       "      <th>26</th>\n",
       "      <td>Pop</td>\n",
       "      <td>UU</td>\n",
       "      <td>13108.0</td>\n",
       "      <td>4.682830e-129</td>\n",
       "      <td>1.311192e-127</td>\n",
       "    </tr>\n",
       "    <tr>\n",
       "      <th>18</th>\n",
       "      <td>IALS</td>\n",
       "      <td>II</td>\n",
       "      <td>20646.0</td>\n",
       "      <td>1.525902e-127</td>\n",
       "      <td>4.272525e-126</td>\n",
       "    </tr>\n",
       "    <tr>\n",
       "      <th>15</th>\n",
       "      <td>BPR</td>\n",
       "      <td>Pop</td>\n",
       "      <td>19061.0</td>\n",
       "      <td>1.749380e-120</td>\n",
       "      <td>4.898264e-119</td>\n",
       "    </tr>\n",
       "    <tr>\n",
       "      <th>25</th>\n",
       "      <td>Pop</td>\n",
       "      <td>TFMF</td>\n",
       "      <td>20797.0</td>\n",
       "      <td>1.550806e-119</td>\n",
       "      <td>4.342258e-118</td>\n",
       "    </tr>\n",
       "    <tr>\n",
       "      <th>8</th>\n",
       "      <td>Bias</td>\n",
       "      <td>IALS</td>\n",
       "      <td>34640.0</td>\n",
       "      <td>1.645994e-110</td>\n",
       "      <td>4.608783e-109</td>\n",
       "    </tr>\n",
       "    <tr>\n",
       "      <th>2</th>\n",
       "      <td>ALS</td>\n",
       "      <td>IALS</td>\n",
       "      <td>37847.0</td>\n",
       "      <td>9.352510e-106</td>\n",
       "      <td>2.618703e-104</td>\n",
       "    </tr>\n",
       "    <tr>\n",
       "      <th>22</th>\n",
       "      <td>II</td>\n",
       "      <td>Pop</td>\n",
       "      <td>36421.0</td>\n",
       "      <td>4.703041e-101</td>\n",
       "      <td>1.316852e-99</td>\n",
       "    </tr>\n",
       "    <tr>\n",
       "      <th>10</th>\n",
       "      <td>Bias</td>\n",
       "      <td>Pop</td>\n",
       "      <td>53335.0</td>\n",
       "      <td>3.072500e-80</td>\n",
       "      <td>8.603000e-79</td>\n",
       "    </tr>\n",
       "    <tr>\n",
       "      <th>4</th>\n",
       "      <td>ALS</td>\n",
       "      <td>Pop</td>\n",
       "      <td>60557.0</td>\n",
       "      <td>1.466596e-73</td>\n",
       "      <td>4.106469e-72</td>\n",
       "    </tr>\n",
       "    <tr>\n",
       "      <th>6</th>\n",
       "      <td>ALS</td>\n",
       "      <td>UU</td>\n",
       "      <td>22611.0</td>\n",
       "      <td>9.459004e-64</td>\n",
       "      <td>2.648521e-62</td>\n",
       "    </tr>\n",
       "    <tr>\n",
       "      <th>12</th>\n",
       "      <td>Bias</td>\n",
       "      <td>UU</td>\n",
       "      <td>27778.5</td>\n",
       "      <td>1.010349e-52</td>\n",
       "      <td>2.828978e-51</td>\n",
       "    </tr>\n",
       "    <tr>\n",
       "      <th>19</th>\n",
       "      <td>IALS</td>\n",
       "      <td>Pop</td>\n",
       "      <td>121962.0</td>\n",
       "      <td>9.756630e-32</td>\n",
       "      <td>2.731857e-30</td>\n",
       "    </tr>\n",
       "    <tr>\n",
       "      <th>1</th>\n",
       "      <td>ALS</td>\n",
       "      <td>BPR</td>\n",
       "      <td>69314.0</td>\n",
       "      <td>9.625368e-30</td>\n",
       "      <td>2.695103e-28</td>\n",
       "    </tr>\n",
       "    <tr>\n",
       "      <th>5</th>\n",
       "      <td>ALS</td>\n",
       "      <td>TFMF</td>\n",
       "      <td>64098.5</td>\n",
       "      <td>2.786015e-28</td>\n",
       "      <td>7.800842e-27</td>\n",
       "    </tr>\n",
       "    <tr>\n",
       "      <th>11</th>\n",
       "      <td>Bias</td>\n",
       "      <td>TFMF</td>\n",
       "      <td>58855.5</td>\n",
       "      <td>7.598507e-28</td>\n",
       "      <td>2.127582e-26</td>\n",
       "    </tr>\n",
       "    <tr>\n",
       "      <th>7</th>\n",
       "      <td>Bias</td>\n",
       "      <td>BPR</td>\n",
       "      <td>69021.5</td>\n",
       "      <td>5.499546e-27</td>\n",
       "      <td>1.539873e-25</td>\n",
       "    </tr>\n",
       "    <tr>\n",
       "      <th>24</th>\n",
       "      <td>II</td>\n",
       "      <td>UU</td>\n",
       "      <td>45940.0</td>\n",
       "      <td>5.857090e-25</td>\n",
       "      <td>1.639985e-23</td>\n",
       "    </tr>\n",
       "    <tr>\n",
       "      <th>3</th>\n",
       "      <td>ALS</td>\n",
       "      <td>II</td>\n",
       "      <td>53610.5</td>\n",
       "      <td>2.089613e-24</td>\n",
       "      <td>5.850916e-23</td>\n",
       "    </tr>\n",
       "    <tr>\n",
       "      <th>14</th>\n",
       "      <td>BPR</td>\n",
       "      <td>II</td>\n",
       "      <td>77738.0</td>\n",
       "      <td>5.382384e-15</td>\n",
       "      <td>1.507068e-13</td>\n",
       "    </tr>\n",
       "    <tr>\n",
       "      <th>9</th>\n",
       "      <td>Bias</td>\n",
       "      <td>II</td>\n",
       "      <td>66442.0</td>\n",
       "      <td>3.824836e-14</td>\n",
       "      <td>1.070954e-12</td>\n",
       "    </tr>\n",
       "    <tr>\n",
       "      <th>23</th>\n",
       "      <td>II</td>\n",
       "      <td>TFMF</td>\n",
       "      <td>85323.5</td>\n",
       "      <td>5.396346e-09</td>\n",
       "      <td>1.510977e-07</td>\n",
       "    </tr>\n",
       "    <tr>\n",
       "      <th>16</th>\n",
       "      <td>BPR</td>\n",
       "      <td>TFMF</td>\n",
       "      <td>93270.5</td>\n",
       "      <td>3.493526e-03</td>\n",
       "      <td>9.781873e-02</td>\n",
       "    </tr>\n",
       "    <tr>\n",
       "      <th>17</th>\n",
       "      <td>BPR</td>\n",
       "      <td>UU</td>\n",
       "      <td>99759.5</td>\n",
       "      <td>1.392349e-02</td>\n",
       "      <td>3.898577e-01</td>\n",
       "    </tr>\n",
       "    <tr>\n",
       "      <th>0</th>\n",
       "      <td>ALS</td>\n",
       "      <td>Bias</td>\n",
       "      <td>102235.0</td>\n",
       "      <td>2.562321e-01</td>\n",
       "      <td>7.174499e+00</td>\n",
       "    </tr>\n",
       "    <tr>\n",
       "      <th>27</th>\n",
       "      <td>TFMF</td>\n",
       "      <td>UU</td>\n",
       "      <td>99053.0</td>\n",
       "      <td>3.428326e-01</td>\n",
       "      <td>9.599313e+00</td>\n",
       "    </tr>\n",
       "  </tbody>\n",
       "</table>\n",
       "</div>"
      ],
      "text/plain": [
       "      A1    A2      stat              p          adj_p\n",
       "21  IALS    UU    4984.0  4.740496e-147  1.327339e-145\n",
       "13   BPR  IALS    8018.0  6.288198e-143  1.760695e-141\n",
       "20  IALS  TFMF    8585.0  3.651006e-142  1.022282e-140\n",
       "26   Pop    UU   13108.0  4.682830e-129  1.311192e-127\n",
       "18  IALS    II   20646.0  1.525902e-127  4.272525e-126\n",
       "15   BPR   Pop   19061.0  1.749380e-120  4.898264e-119\n",
       "25   Pop  TFMF   20797.0  1.550806e-119  4.342258e-118\n",
       "8   Bias  IALS   34640.0  1.645994e-110  4.608783e-109\n",
       "2    ALS  IALS   37847.0  9.352510e-106  2.618703e-104\n",
       "22    II   Pop   36421.0  4.703041e-101   1.316852e-99\n",
       "10  Bias   Pop   53335.0   3.072500e-80   8.603000e-79\n",
       "4    ALS   Pop   60557.0   1.466596e-73   4.106469e-72\n",
       "6    ALS    UU   22611.0   9.459004e-64   2.648521e-62\n",
       "12  Bias    UU   27778.5   1.010349e-52   2.828978e-51\n",
       "19  IALS   Pop  121962.0   9.756630e-32   2.731857e-30\n",
       "1    ALS   BPR   69314.0   9.625368e-30   2.695103e-28\n",
       "5    ALS  TFMF   64098.5   2.786015e-28   7.800842e-27\n",
       "11  Bias  TFMF   58855.5   7.598507e-28   2.127582e-26\n",
       "7   Bias   BPR   69021.5   5.499546e-27   1.539873e-25\n",
       "24    II    UU   45940.0   5.857090e-25   1.639985e-23\n",
       "3    ALS    II   53610.5   2.089613e-24   5.850916e-23\n",
       "14   BPR    II   77738.0   5.382384e-15   1.507068e-13\n",
       "9   Bias    II   66442.0   3.824836e-14   1.070954e-12\n",
       "23    II  TFMF   85323.5   5.396346e-09   1.510977e-07\n",
       "16   BPR  TFMF   93270.5   3.493526e-03   9.781873e-02\n",
       "17   BPR    UU   99759.5   1.392349e-02   3.898577e-01\n",
       "0    ALS  Bias  102235.0   2.562321e-01   7.174499e+00\n",
       "27  TFMF    UU   99053.0   3.428326e-01   9.599313e+00"
      ]
     },
     "execution_count": 24,
     "metadata": {},
     "output_type": "execute_result"
    }
   ],
   "source": [
    "am_wilcox('ndcg').sort_values('adj_p')"
   ]
  },
  {
   "cell_type": "markdown",
   "metadata": {
    "papermill": {
     "duration": 0.021999,
     "end_time": "2020-06-07T01:50:16.321742",
     "exception": false,
     "start_time": "2020-06-07T01:50:16.299743",
     "status": "completed"
    },
    "tags": []
   },
   "source": [
    "### Reciprocal Rank\n",
    "\n",
    "We'll do this also for reciprocal rank (what is aggregated to compute MRR):"
   ]
  },
  {
   "cell_type": "code",
   "execution_count": 25,
   "metadata": {
    "papermill": {
     "duration": 0.092,
     "end_time": "2020-06-07T01:50:16.433742",
     "exception": false,
     "start_time": "2020-06-07T01:50:16.341742",
     "status": "completed"
    },
    "tags": []
   },
   "outputs": [
    {
     "data": {
      "text/plain": [
       "stat    2173.983475\n",
       "p          0.000000\n",
       "Name: recip_rank, dtype: float64"
      ]
     },
     "execution_count": 25,
     "metadata": {},
     "output_type": "execute_result"
    }
   ],
   "source": [
    "metric_friedman('recip_rank')"
   ]
  },
  {
   "cell_type": "code",
   "execution_count": 26,
   "metadata": {
    "papermill": {
     "duration": 0.083002,
     "end_time": "2020-06-07T01:50:16.535744",
     "exception": false,
     "start_time": "2020-06-07T01:50:16.452742",
     "status": "completed"
    },
    "tags": []
   },
   "outputs": [
    {
     "data": {
      "text/html": [
       "<div>\n",
       "<style scoped>\n",
       "    .dataframe tbody tr th:only-of-type {\n",
       "        vertical-align: middle;\n",
       "    }\n",
       "\n",
       "    .dataframe tbody tr th {\n",
       "        vertical-align: top;\n",
       "    }\n",
       "\n",
       "    .dataframe thead th {\n",
       "        text-align: right;\n",
       "    }\n",
       "</style>\n",
       "<table border=\"1\" class=\"dataframe\">\n",
       "  <thead>\n",
       "    <tr style=\"text-align: right;\">\n",
       "      <th></th>\n",
       "      <th>A1</th>\n",
       "      <th>A2</th>\n",
       "      <th>stat</th>\n",
       "      <th>p</th>\n",
       "      <th>adj_p</th>\n",
       "    </tr>\n",
       "  </thead>\n",
       "  <tbody>\n",
       "    <tr>\n",
       "      <th>21</th>\n",
       "      <td>IALS</td>\n",
       "      <td>UU</td>\n",
       "      <td>10954.5</td>\n",
       "      <td>5.172990e-139</td>\n",
       "      <td>1.448437e-137</td>\n",
       "    </tr>\n",
       "    <tr>\n",
       "      <th>26</th>\n",
       "      <td>Pop</td>\n",
       "      <td>UU</td>\n",
       "      <td>10415.0</td>\n",
       "      <td>2.066475e-132</td>\n",
       "      <td>5.786130e-131</td>\n",
       "    </tr>\n",
       "    <tr>\n",
       "      <th>13</th>\n",
       "      <td>BPR</td>\n",
       "      <td>IALS</td>\n",
       "      <td>36733.0</td>\n",
       "      <td>3.003383e-106</td>\n",
       "      <td>8.409471e-105</td>\n",
       "    </tr>\n",
       "    <tr>\n",
       "      <th>20</th>\n",
       "      <td>IALS</td>\n",
       "      <td>TFMF</td>\n",
       "      <td>36851.0</td>\n",
       "      <td>1.716429e-105</td>\n",
       "      <td>4.806001e-104</td>\n",
       "    </tr>\n",
       "    <tr>\n",
       "      <th>18</th>\n",
       "      <td>IALS</td>\n",
       "      <td>II</td>\n",
       "      <td>40165.0</td>\n",
       "      <td>2.823671e-102</td>\n",
       "      <td>7.906280e-101</td>\n",
       "    </tr>\n",
       "    <tr>\n",
       "      <th>25</th>\n",
       "      <td>Pop</td>\n",
       "      <td>TFMF</td>\n",
       "      <td>37213.5</td>\n",
       "      <td>1.818547e-98</td>\n",
       "      <td>5.091931e-97</td>\n",
       "    </tr>\n",
       "    <tr>\n",
       "      <th>15</th>\n",
       "      <td>BPR</td>\n",
       "      <td>Pop</td>\n",
       "      <td>37278.0</td>\n",
       "      <td>1.073475e-95</td>\n",
       "      <td>3.005730e-94</td>\n",
       "    </tr>\n",
       "    <tr>\n",
       "      <th>22</th>\n",
       "      <td>II</td>\n",
       "      <td>Pop</td>\n",
       "      <td>40550.5</td>\n",
       "      <td>2.500146e-94</td>\n",
       "      <td>7.000409e-93</td>\n",
       "    </tr>\n",
       "    <tr>\n",
       "      <th>6</th>\n",
       "      <td>ALS</td>\n",
       "      <td>UU</td>\n",
       "      <td>18551.0</td>\n",
       "      <td>2.048391e-70</td>\n",
       "      <td>5.735495e-69</td>\n",
       "    </tr>\n",
       "    <tr>\n",
       "      <th>8</th>\n",
       "      <td>Bias</td>\n",
       "      <td>IALS</td>\n",
       "      <td>71184.0</td>\n",
       "      <td>2.445031e-70</td>\n",
       "      <td>6.846087e-69</td>\n",
       "    </tr>\n",
       "    <tr>\n",
       "      <th>10</th>\n",
       "      <td>Bias</td>\n",
       "      <td>Pop</td>\n",
       "      <td>64207.0</td>\n",
       "      <td>7.621586e-67</td>\n",
       "      <td>2.134044e-65</td>\n",
       "    </tr>\n",
       "    <tr>\n",
       "      <th>12</th>\n",
       "      <td>Bias</td>\n",
       "      <td>UU</td>\n",
       "      <td>19281.0</td>\n",
       "      <td>4.642575e-66</td>\n",
       "      <td>1.299921e-64</td>\n",
       "    </tr>\n",
       "    <tr>\n",
       "      <th>2</th>\n",
       "      <td>ALS</td>\n",
       "      <td>IALS</td>\n",
       "      <td>74608.5</td>\n",
       "      <td>9.437111e-65</td>\n",
       "      <td>2.642391e-63</td>\n",
       "    </tr>\n",
       "    <tr>\n",
       "      <th>4</th>\n",
       "      <td>ALS</td>\n",
       "      <td>Pop</td>\n",
       "      <td>72675.0</td>\n",
       "      <td>6.333277e-59</td>\n",
       "      <td>1.773317e-57</td>\n",
       "    </tr>\n",
       "    <tr>\n",
       "      <th>24</th>\n",
       "      <td>II</td>\n",
       "      <td>UU</td>\n",
       "      <td>42402.0</td>\n",
       "      <td>6.781593e-29</td>\n",
       "      <td>1.898846e-27</td>\n",
       "    </tr>\n",
       "    <tr>\n",
       "      <th>3</th>\n",
       "      <td>ALS</td>\n",
       "      <td>II</td>\n",
       "      <td>49221.0</td>\n",
       "      <td>8.030848e-28</td>\n",
       "      <td>2.248637e-26</td>\n",
       "    </tr>\n",
       "    <tr>\n",
       "      <th>9</th>\n",
       "      <td>Bias</td>\n",
       "      <td>II</td>\n",
       "      <td>54424.0</td>\n",
       "      <td>1.920926e-22</td>\n",
       "      <td>5.378593e-21</td>\n",
       "    </tr>\n",
       "    <tr>\n",
       "      <th>11</th>\n",
       "      <td>Bias</td>\n",
       "      <td>TFMF</td>\n",
       "      <td>66915.0</td>\n",
       "      <td>1.148610e-19</td>\n",
       "      <td>3.216107e-18</td>\n",
       "    </tr>\n",
       "    <tr>\n",
       "      <th>5</th>\n",
       "      <td>ALS</td>\n",
       "      <td>TFMF</td>\n",
       "      <td>76162.0</td>\n",
       "      <td>4.187765e-17</td>\n",
       "      <td>1.172574e-15</td>\n",
       "    </tr>\n",
       "    <tr>\n",
       "      <th>7</th>\n",
       "      <td>Bias</td>\n",
       "      <td>BPR</td>\n",
       "      <td>81736.5</td>\n",
       "      <td>1.889461e-16</td>\n",
       "      <td>5.290491e-15</td>\n",
       "    </tr>\n",
       "    <tr>\n",
       "      <th>1</th>\n",
       "      <td>ALS</td>\n",
       "      <td>BPR</td>\n",
       "      <td>86786.0</td>\n",
       "      <td>6.208544e-16</td>\n",
       "      <td>1.738392e-14</td>\n",
       "    </tr>\n",
       "    <tr>\n",
       "      <th>27</th>\n",
       "      <td>TFMF</td>\n",
       "      <td>UU</td>\n",
       "      <td>78007.5</td>\n",
       "      <td>8.370364e-08</td>\n",
       "      <td>2.343702e-06</td>\n",
       "    </tr>\n",
       "    <tr>\n",
       "      <th>19</th>\n",
       "      <td>IALS</td>\n",
       "      <td>Pop</td>\n",
       "      <td>180599.0</td>\n",
       "      <td>1.352525e-03</td>\n",
       "      <td>3.787071e-02</td>\n",
       "    </tr>\n",
       "    <tr>\n",
       "      <th>14</th>\n",
       "      <td>BPR</td>\n",
       "      <td>II</td>\n",
       "      <td>101603.0</td>\n",
       "      <td>1.788197e-03</td>\n",
       "      <td>5.006951e-02</td>\n",
       "    </tr>\n",
       "    <tr>\n",
       "      <th>17</th>\n",
       "      <td>BPR</td>\n",
       "      <td>UU</td>\n",
       "      <td>98336.0</td>\n",
       "      <td>7.295828e-03</td>\n",
       "      <td>2.042832e-01</td>\n",
       "    </tr>\n",
       "    <tr>\n",
       "      <th>23</th>\n",
       "      <td>II</td>\n",
       "      <td>TFMF</td>\n",
       "      <td>103562.5</td>\n",
       "      <td>3.266371e-02</td>\n",
       "      <td>9.145839e-01</td>\n",
       "    </tr>\n",
       "    <tr>\n",
       "      <th>16</th>\n",
       "      <td>BPR</td>\n",
       "      <td>TFMF</td>\n",
       "      <td>102834.0</td>\n",
       "      <td>3.438394e-01</td>\n",
       "      <td>9.627504e+00</td>\n",
       "    </tr>\n",
       "    <tr>\n",
       "      <th>0</th>\n",
       "      <td>ALS</td>\n",
       "      <td>Bias</td>\n",
       "      <td>103858.5</td>\n",
       "      <td>8.940470e-01</td>\n",
       "      <td>2.503331e+01</td>\n",
       "    </tr>\n",
       "  </tbody>\n",
       "</table>\n",
       "</div>"
      ],
      "text/plain": [
       "      A1    A2      stat              p          adj_p\n",
       "21  IALS    UU   10954.5  5.172990e-139  1.448437e-137\n",
       "26   Pop    UU   10415.0  2.066475e-132  5.786130e-131\n",
       "13   BPR  IALS   36733.0  3.003383e-106  8.409471e-105\n",
       "20  IALS  TFMF   36851.0  1.716429e-105  4.806001e-104\n",
       "18  IALS    II   40165.0  2.823671e-102  7.906280e-101\n",
       "25   Pop  TFMF   37213.5   1.818547e-98   5.091931e-97\n",
       "15   BPR   Pop   37278.0   1.073475e-95   3.005730e-94\n",
       "22    II   Pop   40550.5   2.500146e-94   7.000409e-93\n",
       "6    ALS    UU   18551.0   2.048391e-70   5.735495e-69\n",
       "8   Bias  IALS   71184.0   2.445031e-70   6.846087e-69\n",
       "10  Bias   Pop   64207.0   7.621586e-67   2.134044e-65\n",
       "12  Bias    UU   19281.0   4.642575e-66   1.299921e-64\n",
       "2    ALS  IALS   74608.5   9.437111e-65   2.642391e-63\n",
       "4    ALS   Pop   72675.0   6.333277e-59   1.773317e-57\n",
       "24    II    UU   42402.0   6.781593e-29   1.898846e-27\n",
       "3    ALS    II   49221.0   8.030848e-28   2.248637e-26\n",
       "9   Bias    II   54424.0   1.920926e-22   5.378593e-21\n",
       "11  Bias  TFMF   66915.0   1.148610e-19   3.216107e-18\n",
       "5    ALS  TFMF   76162.0   4.187765e-17   1.172574e-15\n",
       "7   Bias   BPR   81736.5   1.889461e-16   5.290491e-15\n",
       "1    ALS   BPR   86786.0   6.208544e-16   1.738392e-14\n",
       "27  TFMF    UU   78007.5   8.370364e-08   2.343702e-06\n",
       "19  IALS   Pop  180599.0   1.352525e-03   3.787071e-02\n",
       "14   BPR    II  101603.0   1.788197e-03   5.006951e-02\n",
       "17   BPR    UU   98336.0   7.295828e-03   2.042832e-01\n",
       "23    II  TFMF  103562.5   3.266371e-02   9.145839e-01\n",
       "16   BPR  TFMF  102834.0   3.438394e-01   9.627504e+00\n",
       "0    ALS  Bias  103858.5   8.940470e-01   2.503331e+01"
      ]
     },
     "execution_count": 26,
     "metadata": {},
     "output_type": "execute_result"
    }
   ],
   "source": [
    "am_wilcox('recip_rank').sort_values('adj_p')"
   ]
  },
  {
   "cell_type": "markdown",
   "metadata": {
    "papermill": {
     "duration": 0.021999,
     "end_time": "2020-06-07T01:50:16.577744",
     "exception": false,
     "start_time": "2020-06-07T01:50:16.555745",
     "status": "completed"
    },
    "tags": []
   },
   "source": [
    "## Prediction RMSE\n",
    "\n",
    "We will also look at the prediction RMSE."
   ]
  },
  {
   "cell_type": "code",
   "execution_count": 27,
   "metadata": {
    "papermill": {
     "duration": 2.453025,
     "end_time": "2020-06-07T01:50:19.049766",
     "exception": false,
     "start_time": "2020-06-07T01:50:16.596741",
     "status": "completed"
    },
    "tags": []
   },
   "outputs": [],
   "source": [
    "user_rmse = preds.groupby(['algorithm', 'user']).apply(lambda df: rmse(df['prediction'], df['rating']))\n",
    "user_rmse = user_rmse.reset_index(name='RMSE')"
   ]
  },
  {
   "cell_type": "code",
   "execution_count": 28,
   "metadata": {
    "papermill": {
     "duration": 0.265997,
     "end_time": "2020-06-07T01:50:19.335731",
     "exception": false,
     "start_time": "2020-06-07T01:50:19.069734",
     "status": "completed"
    },
    "tags": []
   },
   "outputs": [
    {
     "data": {
      "text/plain": [
       "<seaborn.axisgrid.FacetGrid at 0x282347efec8>"
      ]
     },
     "execution_count": 28,
     "metadata": {},
     "output_type": "execute_result"
    },
    {
     "data": {
      "image/png": "[encoded data removed]",
      "text/plain": [
       "<Figure size 360x360 with 1 Axes>"
      ]
     },
     "metadata": {
      "needs_background": "light"
     },
     "output_type": "display_data"
    }
   ],
   "source": [
    "sns.catplot(x='algorithm', y='RMSE', data=user_rmse, kind='bar')"
   ]
  },
  {
   "cell_type": "code",
   "execution_count": null,
   "metadata": {
    "papermill": {
     "duration": 0.021022,
     "end_time": "2020-06-07T01:50:19.378767",
     "exception": false,
     "start_time": "2020-06-07T01:50:19.357745",
     "status": "completed"
    },
    "tags": []
   },
   "outputs": [],
   "source": []
  }
 ],
 "metadata": {
  "kernelspec": {
   "display_name": "Python 3",
   "language": "python",
   "name": "python3"
  },
  "language_info": {
   "codemirror_mode": {
    "name": "ipython",
    "version": 3
   },
   "file_extension": ".py",
   "mimetype": "text/x-python",
   "name": "python",
   "nbconvert_exporter": "python",
   "pygments_lexer": "ipython3",
   "version": "3.7.7"
  },
  "papermill": {
   "duration": 18.912406,
   "end_time": "2020-06-07T01:50:19.403750",
   "environment_variables": {},
   "exception": null,
   "input_path": "eval-report.ipynb",
   "output_path": "eval-report.ml100k.ipynb",
   "parameters": {
    "dataset": "ml100k"
   },
   "start_time": "2020-06-07T01:50:00.491344",
   "version": "2.0.0"
  },
  "widgets": {
   "application/vnd.jupyter.widget-state+json": {
    "state": {
     "0eeba229854946fcbb1faa269b0b4c0d": {
      "model_module": "@jupyter-widgets/controls",
      "model_module_version": "1.5.0",
      "model_name": "HBoxModel",
      "state": {
       "_dom_classes": [],
       "_model_module": "@jupyter-widgets/controls",
       "_model_module_version": "1.5.0",
       "_model_name": "HBoxModel",
       "_view_count": null,
       "_view_module": "@jupyter-widgets/controls",
       "_view_module_version": "1.5.0",
       "_view_name": "HBoxView",
       "box_style": "",
       "children": [
        "IPY_MODEL_67c4cd4c6f194508908a282bacbdc6ca",
        "IPY_MODEL_10c8ed1f8bb343c0aa1f1cbb78e91ed1"
       ],
       "layout": "IPY_MODEL_fc270285b12a4535914519d3c92975b9"
      }
     },
     "10c8ed1f8bb343c0aa1f1cbb78e91ed1": {
      "model_module": "@jupyter-widgets/controls",
      "model_module_version": "1.5.0",
      "model_name": "HTMLModel",
      "state": {
       "_dom_classes": [],
       "_model_module": "@jupyter-widgets/controls",
       "_model_module_version": "1.5.0",
       "_model_name": "HTMLModel",
       "_view_count": null,
       "_view_module": "@jupyter-widgets/controls",
       "_view_module_version": "1.5.0",
       "_view_name": "HTMLView",
       "description": "",
       "description_tooltip": null,
       "layout": "IPY_MODEL_368b952919a44fbfbb7f4230ddf0e58f",
       "placeholder": "​",
       "style": "IPY_MODEL_d49b65fa86ee49e1b495493b34a8ddad",
       "value": " 7544/7544 [00:09&lt;00:00, 807.97it/s]"
      }
     },
     "1d2090a7fa5a4ed08a2a1ad69a469092": {
      "model_module": "@jupyter-widgets/controls",
      "model_module_version": "1.5.0",
      "model_name": "ProgressStyleModel",
      "state": {
       "_model_module": "@jupyter-widgets/controls",
       "_model_module_version": "1.5.0",
       "_model_name": "ProgressStyleModel",
       "_view_count": null,
       "_view_module": "@jupyter-widgets/base",
       "_view_module_version": "1.2.0",
       "_view_name": "StyleView",
       "bar_color": null,
       "description_width": "initial"
      }
     },
     "368b952919a44fbfbb7f4230ddf0e58f": {
      "model_module": "@jupyter-widgets/base",
      "model_module_version": "1.2.0",
      "model_name": "LayoutModel",
      "state": {
       "_model_module": "@jupyter-widgets/base",
       "_model_module_version": "1.2.0",
       "_model_name": "LayoutModel",
       "_view_count": null,
       "_view_module": "@jupyter-widgets/base",
       "_view_module_version": "1.2.0",
       "_view_name": "LayoutView",
       "align_content": null,
       "align_items": null,
       "align_self": null,
       "border": null,
       "bottom": null,
       "display": null,
       "flex": null,
       "flex_flow": null,
       "grid_area": null,
       "grid_auto_columns": null,
       "grid_auto_flow": null,
       "grid_auto_rows": null,
       "grid_column": null,
       "grid_gap": null,
       "grid_row": null,
       "grid_template_areas": null,
       "grid_template_columns": null,
       "grid_template_rows": null,
       "height": null,
       "justify_content": null,
       "justify_items": null,
       "left": null,
       "margin": null,
       "max_height": null,
       "max_width": null,
       "min_height": null,
       "min_width": null,
       "object_fit": null,
       "object_position": null,
       "order": null,
       "overflow": null,
       "overflow_x": null,
       "overflow_y": null,
       "padding": null,
       "right": null,
       "top": null,
       "visibility": null,
       "width": null
      }
     },
     "51bf21291a934c91b4e4f5cd98b44d63": {
      "model_module": "@jupyter-widgets/base",
      "model_module_version": "1.2.0",
      "model_name": "LayoutModel",
      "state": {
       "_model_module": "@jupyter-widgets/base",
       "_model_module_version": "1.2.0",
       "_model_name": "LayoutModel",
       "_view_count": null,
       "_view_module": "@jupyter-widgets/base",
       "_view_module_version": "1.2.0",
       "_view_name": "LayoutView",
       "align_content": null,
       "align_items": null,
       "align_self": null,
       "border": null,
       "bottom": null,
       "display": null,
       "flex": null,
       "flex_flow": null,
       "grid_area": null,
       "grid_auto_columns": null,
       "grid_auto_flow": null,
       "grid_auto_rows": null,
       "grid_column": null,
       "grid_gap": null,
       "grid_row": null,
       "grid_template_areas": null,
       "grid_template_columns": null,
       "grid_template_rows": null,
       "height": null,
       "justify_content": null,
       "justify_items": null,
       "left": null,
       "margin": null,
       "max_height": null,
       "max_width": null,
       "min_height": null,
       "min_width": null,
       "object_fit": null,
       "object_position": null,
       "order": null,
       "overflow": null,
       "overflow_x": null,
       "overflow_y": null,
       "padding": null,
       "right": null,
       "top": null,
       "visibility": null,
       "width": null
      }
     },
     "67c4cd4c6f194508908a282bacbdc6ca": {
      "model_module": "@jupyter-widgets/controls",
      "model_module_version": "1.5.0",
      "model_name": "FloatProgressModel",
      "state": {
       "_dom_classes": [],
       "_model_module": "@jupyter-widgets/controls",
       "_model_module_version": "1.5.0",
       "_model_name": "FloatProgressModel",
       "_view_count": null,
       "_view_module": "@jupyter-widgets/controls",
       "_view_module_version": "1.5.0",
       "_view_name": "ProgressView",
       "bar_style": "success",
       "description": "100%",
       "description_tooltip": null,
       "layout": "IPY_MODEL_51bf21291a934c91b4e4f5cd98b44d63",
       "max": 7544.0,
       "min": 0.0,
       "orientation": "horizontal",
       "style": "IPY_MODEL_1d2090a7fa5a4ed08a2a1ad69a469092",
       "value": 7544.0
      }
     },
     "d49b65fa86ee49e1b495493b34a8ddad": {
      "model_module": "@jupyter-widgets/controls",
      "model_module_version": "1.5.0",
      "model_name": "DescriptionStyleModel",
      "state": {
       "_model_module": "@jupyter-widgets/controls",
       "_model_module_version": "1.5.0",
       "_model_name": "DescriptionStyleModel",
       "_view_count": null,
       "_view_module": "@jupyter-widgets/base",
       "_view_module_version": "1.2.0",
       "_view_name": "StyleView",
       "description_width": ""
      }
     },
     "fc270285b12a4535914519d3c92975b9": {
      "model_module": "@jupyter-widgets/base",
      "model_module_version": "1.2.0",
      "model_name": "LayoutModel",
      "state": {
       "_model_module": "@jupyter-widgets/base",
       "_model_module_version": "1.2.0",
       "_model_name": "LayoutModel",
       "_view_count": null,
       "_view_module": "@jupyter-widgets/base",
       "_view_module_version": "1.2.0",
       "_view_name": "LayoutView",
       "align_content": null,
       "align_items": null,
       "align_self": null,
       "border": null,
       "bottom": null,
       "display": null,
       "flex": null,
       "flex_flow": null,
       "grid_area": null,
       "grid_auto_columns": null,
       "grid_auto_flow": null,
       "grid_auto_rows": null,
       "grid_column": null,
       "grid_gap": null,
       "grid_row": null,
       "grid_template_areas": null,
       "grid_template_columns": null,
       "grid_template_rows": null,
       "height": null,
       "justify_content": null,
       "justify_items": null,
       "left": null,
       "margin": null,
       "max_height": null,
       "max_width": null,
       "min_height": null,
       "min_width": null,
       "object_fit": null,
       "object_position": null,
       "order": null,
       "overflow": null,
       "overflow_x": null,
       "overflow_y": null,
       "padding": null,
       "right": null,
       "top": null,
       "visibility": null,
       "width": null
      }
     }
    },
    "version_major": 2,
    "version_minor": 0
   }
  }
 },
 "nbformat": 4,
 "nbformat_minor": 2
}