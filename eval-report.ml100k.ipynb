{
 "cells": [
  {
   "cell_type": "markdown",
   "metadata": {
    "papermill": {
     "duration": 0.014983,
     "end_time": "2020-06-08T00:08:43.419791",
     "exception": false,
     "start_time": "2020-06-08T00:08:43.404808",
     "status": "completed"
    },
    "tags": []
   },
   "source": [
    "# Evaluation Analysis for Recommender Output"
   ]
  },
  {
   "cell_type": "markdown",
   "metadata": {
    "papermill": {
     "duration": 0.015999,
     "end_time": "2020-06-08T00:08:43.457788",
     "exception": false,
     "start_time": "2020-06-08T00:08:43.441789",
     "status": "completed"
    },
    "tags": []
   },
   "source": [
    "In this section we will analyze and compare the generated recommendations and predictions from a predefined list of algorithms with the goal of assessing the performance of each algorithm with respect to a metric. In other words, we would rank the algorithms for each metric considered with respect to performance."
   ]
  },
  {
   "cell_type": "markdown",
   "metadata": {
    "papermill": {
     "duration": 0.014983,
     "end_time": "2020-06-08T00:08:43.486787",
     "exception": false,
     "start_time": "2020-06-08T00:08:43.471804",
     "status": "completed"
    },
    "tags": []
   },
   "source": [
    "# Setup"
   ]
  },
  {
   "cell_type": "markdown",
   "metadata": {
    "papermill": {
     "duration": 0.017247,
     "end_time": "2020-06-08T00:08:43.522036",
     "exception": false,
     "start_time": "2020-06-08T00:08:43.504789",
     "status": "completed"
    },
    "tags": []
   },
   "source": [
    "Below are the list of packages required to successfully run the analysis. They are divided into partitions to signify their specific task.<br>\n",
    "We need the pathlib package for working with files and folders"
   ]
  },
  {
   "cell_type": "code",
   "execution_count": 1,
   "metadata": {
    "papermill": {
     "duration": 0.042524,
     "end_time": "2020-06-08T00:08:43.579670",
     "exception": false,
     "start_time": "2020-06-08T00:08:43.537146",
     "status": "completed"
    },
    "tags": []
   },
   "outputs": [],
   "source": [
    "%load_ext autoreload\n",
    "%autoreload 2"
   ]
  },
  {
   "cell_type": "code",
   "execution_count": 2,
   "metadata": {
    "papermill": {
     "duration": 0.035122,
     "end_time": "2020-06-08T00:08:43.627832",
     "exception": false,
     "start_time": "2020-06-08T00:08:43.592710",
     "status": "completed"
    },
    "tags": []
   },
   "outputs": [],
   "source": [
    "from pathlib import Path"
   ]
  },
  {
   "cell_type": "markdown",
   "metadata": {
    "papermill": {
     "duration": 0.013988,
     "end_time": "2020-06-08T00:08:43.655861",
     "exception": false,
     "start_time": "2020-06-08T00:08:43.641873",
     "status": "completed"
    },
    "tags": []
   },
   "source": [
    "We would use the pandas for analyzing and manipulating our data while seaborn and matplotlib are used for data visualization. statsmodels.graphics.gofplots and scipy.stats.shapiro are used for normality check. Scipy.stats.friedmanchisquare is a non-parametric test used to determine the statistical significance in metric results and the wilcoxon test is used for pairwise comparison of sample data."
   ]
  },
  {
   "cell_type": "code",
   "execution_count": 3,
   "metadata": {
    "papermill": {
     "duration": 1.015904,
     "end_time": "2020-06-08T00:08:44.684764",
     "exception": false,
     "start_time": "2020-06-08T00:08:43.668860",
     "status": "completed"
    },
    "tags": []
   },
   "outputs": [],
   "source": [
    "import pandas as pd\n",
    "import seaborn as sns\n",
    "import matplotlib.pyplot as plt\n",
    "from statsmodels.graphics.gofplots import qqplot\n",
    "from scipy.stats import shapiro\n",
    "from scipy.stats import friedmanchisquare, wilcoxon\n",
    "from itertools import combinations"
   ]
  },
  {
   "cell_type": "markdown",
   "metadata": {
    "papermill": {
     "duration": 0.015,
     "end_time": "2020-06-08T00:08:44.712763",
     "exception": false,
     "start_time": "2020-06-08T00:08:44.697763",
     "status": "completed"
    },
    "tags": []
   },
   "source": [
    "TQDM is useful for progress:"
   ]
  },
  {
   "cell_type": "code",
   "execution_count": 4,
   "metadata": {
    "papermill": {
     "duration": 0.076031,
     "end_time": "2020-06-08T00:08:44.801794",
     "exception": false,
     "start_time": "2020-06-08T00:08:44.725763",
     "status": "completed"
    },
    "tags": []
   },
   "outputs": [
    {
     "name": "stderr",
     "output_type": "stream",
     "text": [
      "C:\\Users\\michaelekstrand\\Anaconda3\\envs\\lk-demo\\lib\\site-packages\\tqdm\\std.py:658: FutureWarning: The Panel class is removed from pandas. Accessing it from the top-level namespace will also be removed in the next version\n",
      "  from pandas import Panel\n"
     ]
    }
   ],
   "source": [
    "from tqdm.auto import tqdm\n",
    "tqdm.pandas()"
   ]
  },
  {
   "cell_type": "markdown",
   "metadata": {
    "papermill": {
     "duration": 0.01497,
     "end_time": "2020-06-08T00:08:44.830763",
     "exception": false,
     "start_time": "2020-06-08T00:08:44.815793",
     "status": "completed"
    },
    "tags": []
   },
   "source": [
    "And logging to show what's happening in LensKit routines:"
   ]
  },
  {
   "cell_type": "code",
   "execution_count": 5,
   "metadata": {
    "papermill": {
     "duration": 0.595997,
     "end_time": "2020-06-08T00:08:45.440759",
     "exception": false,
     "start_time": "2020-06-08T00:08:44.844762",
     "status": "completed"
    },
    "tags": []
   },
   "outputs": [
    {
     "name": "stdout",
     "output_type": "stream",
     "text": [
      "[   INFO] lenskit.util.log notebook logging configured\n"
     ]
    },
    {
     "name": "stderr",
     "output_type": "stream",
     "text": [
      "C:\\Users\\michaelekstrand\\Anaconda3\\envs\\lk-demo\\lib\\site-packages\\fastparquet\\dataframe.py:5: FutureWarning: pandas.core.index is deprecated and will be removed in a future version.  The public classes are available in the top-level namespace.\n",
      "  from pandas.core.index import CategoricalIndex, RangeIndex, Index, MultiIndex\n"
     ]
    }
   ],
   "source": [
    "from lenskit import util\n",
    "util.log_to_notebook()"
   ]
  },
  {
   "cell_type": "markdown",
   "metadata": {
    "papermill": {
     "duration": 0.017,
     "end_time": "2020-06-08T00:08:45.473759",
     "exception": false,
     "start_time": "2020-06-08T00:08:45.456759",
     "status": "completed"
    },
    "tags": []
   },
   "source": [
    "We will use lenskit for training, running, and evaluating recommender algorithms"
   ]
  },
  {
   "cell_type": "code",
   "execution_count": 6,
   "metadata": {
    "papermill": {
     "duration": 0.082008,
     "end_time": "2020-06-08T00:08:45.570767",
     "exception": false,
     "start_time": "2020-06-08T00:08:45.488759",
     "status": "completed"
    },
    "tags": []
   },
   "outputs": [],
   "source": [
    "from lenskit import topn\n",
    "from lenskit.metrics.predict import rmse"
   ]
  },
  {
   "cell_type": "markdown",
   "metadata": {
    "papermill": {
     "duration": 0.013987,
     "end_time": "2020-06-08T00:08:45.600759",
     "exception": false,
     "start_time": "2020-06-08T00:08:45.586772",
     "status": "completed"
    },
    "tags": []
   },
   "source": [
    "# Load Data"
   ]
  },
  {
   "cell_type": "markdown",
   "metadata": {
    "papermill": {
     "duration": 0.014,
     "end_time": "2020-06-08T00:08:45.629792",
     "exception": false,
     "start_time": "2020-06-08T00:08:45.615792",
     "status": "completed"
    },
    "tags": []
   },
   "source": [
    "We specify the dataset we will use for our analysis and the main directory from where we read the recommendation and prediction files. From the main directory we find all the directories associated with the dataset and then read the recommendation and predictions files from those directories."
   ]
  },
  {
   "cell_type": "code",
   "execution_count": 7,
   "metadata": {
    "papermill": {
     "duration": 0.07597,
     "end_time": "2020-06-08T00:08:45.720759",
     "exception": false,
     "start_time": "2020-06-08T00:08:45.644789",
     "status": "completed"
    },
    "tags": [
     "parameters"
    ]
   },
   "outputs": [],
   "source": [
    "dataset = \"ml10m\""
   ]
  },
  {
   "cell_type": "code",
   "execution_count": 8,
   "metadata": {
    "papermill": {
     "duration": 0.074999,
     "end_time": "2020-06-08T00:08:45.810757",
     "exception": false,
     "start_time": "2020-06-08T00:08:45.735758",
     "status": "completed"
    },
    "tags": [
     "injected-parameters"
    ]
   },
   "outputs": [],
   "source": [
    "# Parameters\n",
    "dataset = \"ml100k\"\n"
   ]
  },
  {
   "cell_type": "code",
   "execution_count": 9,
   "metadata": {
    "papermill": {
     "duration": 0.078,
     "end_time": "2020-06-08T00:08:45.902757",
     "exception": false,
     "start_time": "2020-06-08T00:08:45.824757",
     "status": "completed"
    },
    "tags": []
   },
   "outputs": [],
   "source": [
    "output_root = Path(\"runs\")"
   ]
  },
  {
   "cell_type": "code",
   "execution_count": 10,
   "metadata": {
    "papermill": {
     "duration": 0.075,
     "end_time": "2020-06-08T00:08:45.992757",
     "exception": false,
     "start_time": "2020-06-08T00:08:45.917757",
     "status": "completed"
    },
    "tags": []
   },
   "outputs": [],
   "source": [
    "dirs = [fld for fld in output_root.glob(f'{dataset}-*')]"
   ]
  },
  {
   "cell_type": "code",
   "execution_count": 11,
   "metadata": {
    "papermill": {
     "duration": 0.559029,
     "end_time": "2020-06-08T00:08:46.566785",
     "exception": false,
     "start_time": "2020-06-08T00:08:46.007756",
     "status": "completed"
    },
    "tags": []
   },
   "outputs": [
    {
     "name": "stdout",
     "output_type": "stream",
     "text": [
      "<class 'pandas.core.frame.DataFrame'>\n",
      "RangeIndex: 754400 entries, 0 to 754399\n",
      "Data columns (total 5 columns):\n",
      " #   Column     Non-Null Count   Dtype   \n",
      "---  ------     --------------   -----   \n",
      " 0   item       754400 non-null  int64   \n",
      " 1   score      754400 non-null  float64 \n",
      " 2   user       754400 non-null  int64   \n",
      " 3   rank       754400 non-null  int64   \n",
      " 4   algorithm  754400 non-null  category\n",
      "dtypes: category(1), float64(1), int64(3)\n",
      "memory usage: 23.7 MB\n"
     ]
    }
   ],
   "source": [
    "recs = []\n",
    "for fld in dirs: \n",
    "    for file in fld.glob(\"recs-*\"):\n",
    "        rec = pd.read_csv(file, sep=',')\n",
    "        rec[\"algorithm\"] = fld.name.split(\"-\")[1]\n",
    "        recs.append(rec)\n",
    "\n",
    "recs = pd.concat(recs, ignore_index=True)\n",
    "recs = recs.astype({'algorithm': 'category'})\n",
    "recs.info()"
   ]
  },
  {
   "cell_type": "code",
   "execution_count": 12,
   "metadata": {
    "papermill": {
     "duration": 0.082998,
     "end_time": "2020-06-08T00:08:46.664784",
     "exception": false,
     "start_time": "2020-06-08T00:08:46.581786",
     "status": "completed"
    },
    "tags": []
   },
   "outputs": [
    {
     "data": {
      "text/plain": [
       "[ALS, Bias, BPR, IALS, II, Pop, TFMF, UU]\n",
       "Categories (8, object): [ALS, Bias, BPR, IALS, II, Pop, TFMF, UU]"
      ]
     },
     "execution_count": 12,
     "metadata": {},
     "output_type": "execute_result"
    }
   ],
   "source": [
    "rec_algos = recs['algorithm'].unique()\n",
    "rec_algos"
   ]
  },
  {
   "cell_type": "code",
   "execution_count": 13,
   "metadata": {
    "papermill": {
     "duration": 0.139031,
     "end_time": "2020-06-08T00:08:46.818784",
     "exception": false,
     "start_time": "2020-06-08T00:08:46.679753",
     "status": "completed"
    },
    "tags": []
   },
   "outputs": [
    {
     "name": "stdout",
     "output_type": "stream",
     "text": [
      "<class 'pandas.core.frame.DataFrame'>\n",
      "RangeIndex: 23575 entries, 0 to 23574\n",
      "Data columns (total 6 columns):\n",
      " #   Column      Non-Null Count  Dtype   \n",
      "---  ------      --------------  -----   \n",
      " 0   user        23575 non-null  int64   \n",
      " 1   item        23575 non-null  int64   \n",
      " 2   rating      23575 non-null  float64 \n",
      " 3   timestamp   23575 non-null  int64   \n",
      " 4   prediction  23560 non-null  float64 \n",
      " 5   algorithm   23575 non-null  category\n",
      "dtypes: category(1), float64(2), int64(3)\n",
      "memory usage: 944.2 KB\n"
     ]
    }
   ],
   "source": [
    "preds = []\n",
    "for fld in dirs:\n",
    "    for file in fld.glob(\"pred-*\"):\n",
    "        pred = pd.read_csv(file, sep=',')\n",
    "        pred[\"algorithm\"] = fld.name.split(\"-\")[1]\n",
    "        preds.append(pred)\n",
    "\n",
    "preds = pd.concat(preds, ignore_index=True)\n",
    "preds = preds.astype({'algorithm': 'category'})\n",
    "preds.info()"
   ]
  },
  {
   "cell_type": "markdown",
   "metadata": {
    "papermill": {
     "duration": 0.015967,
     "end_time": "2020-06-08T00:08:46.849753",
     "exception": false,
     "start_time": "2020-06-08T00:08:46.833786",
     "status": "completed"
    },
    "tags": []
   },
   "source": [
    "We need to load the test data so that we have the ground truths for computing accuracy "
   ]
  },
  {
   "cell_type": "code",
   "execution_count": 14,
   "metadata": {
    "papermill": {
     "duration": 0.076,
     "end_time": "2020-06-08T00:08:46.941752",
     "exception": false,
     "start_time": "2020-06-08T00:08:46.865752",
     "status": "completed"
    },
    "tags": []
   },
   "outputs": [],
   "source": [
    "split_root = Path(\"data-split\")\n",
    "split_dir = split_root / dataset"
   ]
  },
  {
   "cell_type": "code",
   "execution_count": 15,
   "metadata": {
    "papermill": {
     "duration": 0.088,
     "end_time": "2020-06-08T00:08:47.043752",
     "exception": false,
     "start_time": "2020-06-08T00:08:46.955752",
     "status": "completed"
    },
    "tags": []
   },
   "outputs": [],
   "source": [
    "test = []\n",
    "for file in split_dir.glob(\"test-*.csv.gz\"):\n",
    "    test.append(pd.read_csv(file, sep=','))\n",
    "\n",
    "test = pd.concat(test, ignore_index=True)"
   ]
  },
  {
   "cell_type": "markdown",
   "metadata": {
    "papermill": {
     "duration": 0.014,
     "end_time": "2020-06-08T00:08:47.072751",
     "exception": false,
     "start_time": "2020-06-08T00:08:47.058751",
     "status": "completed"
    },
    "tags": []
   },
   "source": [
    "# Top-N Metrics"
   ]
  },
  {
   "cell_type": "markdown",
   "metadata": {
    "papermill": {
     "duration": 0.014,
     "end_time": "2020-06-08T00:08:47.102751",
     "exception": false,
     "start_time": "2020-06-08T00:08:47.088751",
     "status": "completed"
    },
    "tags": []
   },
   "source": [
    "The topn.RecListAnalysis class computes top-N metrics for recommendation list and takes care of making sure that the recommendations and ground truths are properly matched. Refer to the documentation for detailed explanation of the purpose for the RecListAnalysis class and how the analysis is done - https://lkpy.lenskit.org/en/stable/evaluation/topn-metrics.html "
   ]
  },
  {
   "cell_type": "code",
   "execution_count": 16,
   "metadata": {
    "papermill": {
     "duration": 10.322356,
     "end_time": "2020-06-08T00:08:57.440107",
     "exception": false,
     "start_time": "2020-06-08T00:08:47.117751",
     "status": "completed"
    },
    "tags": []
   },
   "outputs": [
    {
     "name": "stdout",
     "output_type": "stream",
     "text": [
      "[   INFO] lenskit.topn analyzing 754400 recommendations (4715 truth rows)\n"
     ]
    },
    {
     "name": "stdout",
     "output_type": "stream",
     "text": [
      "[   INFO] lenskit.topn using rec key columns ['algorithm', 'user']\n"
     ]
    },
    {
     "name": "stdout",
     "output_type": "stream",
     "text": [
      "[   INFO] lenskit.topn using truth key columns ['user']\n"
     ]
    },
    {
     "name": "stdout",
     "output_type": "stream",
     "text": [
      "[   INFO] lenskit.topn collecting truth data\n"
     ]
    },
    {
     "data": {
      "application/vnd.jupyter.widget-view+json": {
       "model_id": "d324466e7aee4f01b35809921a2a7984",
       "version_major": 2,
       "version_minor": 0
      },
      "text/plain": [
       "HBox(children=(FloatProgress(value=0.0, max=943.0), HTML(value='')))"
      ]
     },
     "metadata": {},
     "output_type": "display_data"
    },
    {
     "name": "stdout",
     "output_type": "stream",
     "text": [
      "\n",
      "[   INFO] lenskit.topn collecting metric results\n"
     ]
    },
    {
     "data": {
      "application/vnd.jupyter.widget-view+json": {
       "model_id": "96c3d445b109422c9bd7b6ec18bc4a5f",
       "version_major": 2,
       "version_minor": 0
      },
      "text/plain": [
       "HBox(children=(FloatProgress(value=0.0, max=7544.0), HTML(value='')))"
      ]
     },
     "metadata": {},
     "output_type": "display_data"
    },
    {
     "name": "stdout",
     "output_type": "stream",
     "text": [
      "\n",
      "[   INFO] lenskit.topn measured 7544 lists in 9.24s\n"
     ]
    },
    {
     "name": "stdout",
     "output_type": "stream",
     "text": [
      "[   INFO] lenskit.topn filling in missing user info\n"
     ]
    },
    {
     "data": {
      "text/html": [
       "<div>\n",
       "<style scoped>\n",
       "    .dataframe tbody tr th:only-of-type {\n",
       "        vertical-align: middle;\n",
       "    }\n",
       "\n",
       "    .dataframe tbody tr th {\n",
       "        vertical-align: top;\n",
       "    }\n",
       "\n",
       "    .dataframe thead th {\n",
       "        text-align: right;\n",
       "    }\n",
       "</style>\n",
       "<table border=\"1\" class=\"dataframe\">\n",
       "  <thead>\n",
       "    <tr style=\"text-align: right;\">\n",
       "      <th></th>\n",
       "      <th></th>\n",
       "      <th>nrecs</th>\n",
       "      <th>precision</th>\n",
       "      <th>recip_rank</th>\n",
       "      <th>ndcg</th>\n",
       "      <th>ntruth</th>\n",
       "    </tr>\n",
       "    <tr>\n",
       "      <th>algorithm</th>\n",
       "      <th>user</th>\n",
       "      <th></th>\n",
       "      <th></th>\n",
       "      <th></th>\n",
       "      <th></th>\n",
       "      <th></th>\n",
       "    </tr>\n",
       "  </thead>\n",
       "  <tbody>\n",
       "    <tr>\n",
       "      <th rowspan=\"5\" valign=\"top\">ALS</th>\n",
       "      <th>1</th>\n",
       "      <td>100.0</td>\n",
       "      <td>0.01</td>\n",
       "      <td>0.011236</td>\n",
       "      <td>0.043148</td>\n",
       "      <td>5</td>\n",
       "    </tr>\n",
       "    <tr>\n",
       "      <th>2</th>\n",
       "      <td>100.0</td>\n",
       "      <td>0.03</td>\n",
       "      <td>0.071429</td>\n",
       "      <td>0.182372</td>\n",
       "      <td>5</td>\n",
       "    </tr>\n",
       "    <tr>\n",
       "      <th>3</th>\n",
       "      <td>100.0</td>\n",
       "      <td>0.01</td>\n",
       "      <td>0.250000</td>\n",
       "      <td>0.187046</td>\n",
       "      <td>5</td>\n",
       "    </tr>\n",
       "    <tr>\n",
       "      <th>4</th>\n",
       "      <td>100.0</td>\n",
       "      <td>0.01</td>\n",
       "      <td>0.038462</td>\n",
       "      <td>0.050422</td>\n",
       "      <td>5</td>\n",
       "    </tr>\n",
       "    <tr>\n",
       "      <th>5</th>\n",
       "      <td>100.0</td>\n",
       "      <td>0.00</td>\n",
       "      <td>0.000000</td>\n",
       "      <td>0.000000</td>\n",
       "      <td>5</td>\n",
       "    </tr>\n",
       "  </tbody>\n",
       "</table>\n",
       "</div>"
      ],
      "text/plain": [
       "                nrecs  precision  recip_rank      ndcg  ntruth\n",
       "algorithm user                                                \n",
       "ALS       1     100.0       0.01    0.011236  0.043148       5\n",
       "          2     100.0       0.03    0.071429  0.182372       5\n",
       "          3     100.0       0.01    0.250000  0.187046       5\n",
       "          4     100.0       0.01    0.038462  0.050422       5\n",
       "          5     100.0       0.00    0.000000  0.000000       5"
      ]
     },
     "execution_count": 16,
     "metadata": {},
     "output_type": "execute_result"
    }
   ],
   "source": [
    "rla = topn.RecListAnalysis(progress=tqdm)\n",
    "\n",
    "rla.add_metric(topn.precision)\n",
    "rla.add_metric(topn.recip_rank)\n",
    "rla.add_metric(topn.ndcg)\n",
    "results = rla.compute(recs, test, include_missing=True)\n",
    "results = results.fillna(0)\n",
    "results.head()"
   ]
  },
  {
   "cell_type": "markdown",
   "metadata": {
    "papermill": {
     "duration": 0.017935,
     "end_time": "2020-06-08T00:08:57.475070",
     "exception": false,
     "start_time": "2020-06-08T00:08:57.457135",
     "status": "completed"
    },
    "tags": []
   },
   "source": [
    "We will reshape the 'results' dataframe by stacking the columns to index and then use the bar chart to visualize the performance of our algorithms with respect to the precision, reciprocal rank and ndcg metrics"
   ]
  },
  {
   "cell_type": "code",
   "execution_count": 17,
   "metadata": {
    "papermill": {
     "duration": 0.088,
     "end_time": "2020-06-08T00:08:57.580069",
     "exception": false,
     "start_time": "2020-06-08T00:08:57.492069",
     "status": "completed"
    },
    "tags": []
   },
   "outputs": [
    {
     "data": {
      "text/html": [
       "<div>\n",
       "<style scoped>\n",
       "    .dataframe tbody tr th:only-of-type {\n",
       "        vertical-align: middle;\n",
       "    }\n",
       "\n",
       "    .dataframe tbody tr th {\n",
       "        vertical-align: top;\n",
       "    }\n",
       "\n",
       "    .dataframe thead th {\n",
       "        text-align: right;\n",
       "    }\n",
       "</style>\n",
       "<table border=\"1\" class=\"dataframe\">\n",
       "  <thead>\n",
       "    <tr style=\"text-align: right;\">\n",
       "      <th></th>\n",
       "      <th>algorithm</th>\n",
       "      <th>user</th>\n",
       "      <th>metric</th>\n",
       "      <th>val</th>\n",
       "    </tr>\n",
       "  </thead>\n",
       "  <tbody>\n",
       "    <tr>\n",
       "      <th>0</th>\n",
       "      <td>ALS</td>\n",
       "      <td>1</td>\n",
       "      <td>precision</td>\n",
       "      <td>0.010000</td>\n",
       "    </tr>\n",
       "    <tr>\n",
       "      <th>1</th>\n",
       "      <td>ALS</td>\n",
       "      <td>1</td>\n",
       "      <td>recip_rank</td>\n",
       "      <td>0.011236</td>\n",
       "    </tr>\n",
       "    <tr>\n",
       "      <th>2</th>\n",
       "      <td>ALS</td>\n",
       "      <td>1</td>\n",
       "      <td>ndcg</td>\n",
       "      <td>0.043148</td>\n",
       "    </tr>\n",
       "    <tr>\n",
       "      <th>3</th>\n",
       "      <td>ALS</td>\n",
       "      <td>2</td>\n",
       "      <td>precision</td>\n",
       "      <td>0.030000</td>\n",
       "    </tr>\n",
       "    <tr>\n",
       "      <th>4</th>\n",
       "      <td>ALS</td>\n",
       "      <td>2</td>\n",
       "      <td>recip_rank</td>\n",
       "      <td>0.071429</td>\n",
       "    </tr>\n",
       "  </tbody>\n",
       "</table>\n",
       "</div>"
      ],
      "text/plain": [
       "  algorithm  user      metric       val\n",
       "0       ALS     1   precision  0.010000\n",
       "1       ALS     1  recip_rank  0.011236\n",
       "2       ALS     1        ndcg  0.043148\n",
       "3       ALS     2   precision  0.030000\n",
       "4       ALS     2  recip_rank  0.071429"
      ]
     },
     "execution_count": 17,
     "metadata": {},
     "output_type": "execute_result"
    }
   ],
   "source": [
    "pltData = (results.drop(columns=['nrecs', 'ntruth']).stack()).reset_index()\n",
    "pltData.columns = ['algorithm', 'user', 'metric', 'val']\n",
    "pltData.head()"
   ]
  },
  {
   "cell_type": "markdown",
   "metadata": {
    "papermill": {
     "duration": 0.019,
     "end_time": "2020-06-08T00:08:57.616069",
     "exception": false,
     "start_time": "2020-06-08T00:08:57.597069",
     "status": "completed"
    },
    "tags": []
   },
   "source": [
    "We need to determine if the differences we observe in the performances of the algorithms for the various metrics are statistically significant. To achieve this, we will need to use either a parametric or non-parametric statistical test for comparing the differences. We will consider a parametric test - repeated ANOVA measure cause our sample groups are correlated."
   ]
  },
  {
   "cell_type": "code",
   "execution_count": 18,
   "metadata": {
    "papermill": {
     "duration": 1.096182,
     "end_time": "2020-06-08T00:08:58.729251",
     "exception": false,
     "start_time": "2020-06-08T00:08:57.633069",
     "status": "completed"
    },
    "tags": []
   },
   "outputs": [
    {
     "data": {
      "image/png": "[encoded data removed]",
      "text/plain": [
       "<Figure size 777.6x216 with 3 Axes>"
      ]
     },
     "metadata": {
      "needs_background": "light"
     },
     "output_type": "display_data"
    }
   ],
   "source": [
    "g = sns.catplot(x = \"algorithm\", y = \"val\", data = pltData, kind=\"bar\", col = \"metric\", aspect=1.2, height=3, sharey=False)"
   ]
  },
  {
   "cell_type": "markdown",
   "metadata": {
    "papermill": {
     "duration": 0.018,
     "end_time": "2020-06-08T00:08:58.765250",
     "exception": false,
     "start_time": "2020-06-08T00:08:58.747250",
     "status": "completed"
    },
    "tags": []
   },
   "source": [
    "### Statistical Testing"
   ]
  },
  {
   "cell_type": "markdown",
   "metadata": {
    "papermill": {
     "duration": 0.017,
     "end_time": "2020-06-08T00:08:58.799250",
     "exception": false,
     "start_time": "2020-06-08T00:08:58.782250",
     "status": "completed"
    },
    "tags": []
   },
   "source": [
    "We will now examine these metrics in more detail and test for statistical significance.  Best practice for statistical testing for recommender systems is still a work in progress, but this method avoids most of the validity problems we know about.\n",
    "\n",
    "The Friedman $\\chi^2$ test will test the null hypothesis that there is no difference between algorithms in terms of their performance."
   ]
  },
  {
   "cell_type": "code",
   "execution_count": 19,
   "metadata": {
    "papermill": {
     "duration": 0.078,
     "end_time": "2020-06-08T00:08:58.895250",
     "exception": false,
     "start_time": "2020-06-08T00:08:58.817250",
     "status": "completed"
    },
    "tags": []
   },
   "outputs": [],
   "source": [
    "def metric_friedman(metric):\n",
    "    groups = [df[metric] for a, df in results.groupby('algorithm')]\n",
    "\n",
    "    stat, p = friedmanchisquare(*groups)\n",
    "    return pd.Series({'stat': stat, 'p': p}, name=metric)"
   ]
  },
  {
   "cell_type": "markdown",
   "metadata": {
    "papermill": {
     "duration": 0.017999,
     "end_time": "2020-06-08T00:08:58.931249",
     "exception": false,
     "start_time": "2020-06-08T00:08:58.913250",
     "status": "completed"
    },
    "tags": []
   },
   "source": [
    "If the test detects significance, we have at least one pair of different algorithms - but which pairs?  Unfortunately, the good tests aren't readily available in scipy and friends, so we're going to take a conservative approch and perform pairwise Wilconxon signed-rank tests with a Bonferroni adjustment."
   ]
  },
  {
   "cell_type": "code",
   "execution_count": 20,
   "metadata": {
    "papermill": {
     "duration": 0.081994,
     "end_time": "2020-06-08T00:08:59.062249",
     "exception": false,
     "start_time": "2020-06-08T00:08:58.980255",
     "status": "completed"
    },
    "tags": []
   },
   "outputs": [],
   "source": [
    "pairs = pd.DataFrame.from_records(combinations(rec_algos, 2), columns=['A1', 'A2'])\n",
    "def am_wilcox(metric, p_scale = len(pairs)):\n",
    "    def compute(df):\n",
    "        vs1 = results.loc[df['A1'], metric]\n",
    "        vs2 = results.loc[df['A2'], metric]\n",
    "        diff = (vs1 - vs2).mean()\n",
    "        stat, p = wilcoxon(vs1, vs2)\n",
    "        return pd.Series({'diff': diff, 'stat': stat, 'p': p, 'adj_p': p * p_scale})\n",
    "    scores = pairs.apply(compute, axis=1)\n",
    "    return pairs.join(scores)"
   ]
  },
  {
   "cell_type": "markdown",
   "metadata": {
    "papermill": {
     "duration": 0.020108,
     "end_time": "2020-06-08T00:08:59.099357",
     "exception": false,
     "start_time": "2020-06-08T00:08:59.079249",
     "status": "completed"
    },
    "tags": []
   },
   "source": [
    "## Precision"
   ]
  },
  {
   "cell_type": "code",
   "execution_count": 21,
   "metadata": {
    "papermill": {
     "duration": 0.143,
     "end_time": "2020-06-08T00:08:59.261248",
     "exception": false,
     "start_time": "2020-06-08T00:08:59.118248",
     "status": "completed"
    },
    "tags": []
   },
   "outputs": [
    {
     "data": {
      "text/plain": [
       "stat    2952.352712\n",
       "p          0.000000\n",
       "Name: precision, dtype: float64"
      ]
     },
     "execution_count": 21,
     "metadata": {},
     "output_type": "execute_result"
    }
   ],
   "source": [
    "metric_friedman('precision')"
   ]
  },
  {
   "cell_type": "markdown",
   "metadata": {
    "papermill": {
     "duration": 0.019989,
     "end_time": "2020-06-08T00:08:59.300247",
     "exception": false,
     "start_time": "2020-06-08T00:08:59.280258",
     "status": "completed"
    },
    "tags": []
   },
   "source": [
    "This indicates a statistically significant difference exists - but where is it?\n",
    "\n",
    "To answer that question, we need a post-hoc test. "
   ]
  },
  {
   "cell_type": "code",
   "execution_count": 22,
   "metadata": {
    "papermill": {
     "duration": 0.172999,
     "end_time": "2020-06-08T00:08:59.493247",
     "exception": false,
     "start_time": "2020-06-08T00:08:59.320248",
     "status": "completed"
    },
    "tags": []
   },
   "outputs": [
    {
     "data": {
      "text/html": [
       "<div>\n",
       "<style scoped>\n",
       "    .dataframe tbody tr th:only-of-type {\n",
       "        vertical-align: middle;\n",
       "    }\n",
       "\n",
       "    .dataframe tbody tr th {\n",
       "        vertical-align: top;\n",
       "    }\n",
       "\n",
       "    .dataframe thead th {\n",
       "        text-align: right;\n",
       "    }\n",
       "</style>\n",
       "<table border=\"1\" class=\"dataframe\">\n",
       "  <thead>\n",
       "    <tr style=\"text-align: right;\">\n",
       "      <th></th>\n",
       "      <th>A1</th>\n",
       "      <th>A2</th>\n",
       "      <th>diff</th>\n",
       "      <th>stat</th>\n",
       "      <th>p</th>\n",
       "      <th>adj_p</th>\n",
       "    </tr>\n",
       "  </thead>\n",
       "  <tbody>\n",
       "    <tr>\n",
       "      <th>20</th>\n",
       "      <td>IALS</td>\n",
       "      <td>TFMF</td>\n",
       "      <td>0.026469</td>\n",
       "      <td>1999.5</td>\n",
       "      <td>8.310211e-140</td>\n",
       "      <td>2.326859e-138</td>\n",
       "    </tr>\n",
       "    <tr>\n",
       "      <th>21</th>\n",
       "      <td>IALS</td>\n",
       "      <td>UU</td>\n",
       "      <td>0.026140</td>\n",
       "      <td>3284.0</td>\n",
       "      <td>4.062784e-141</td>\n",
       "      <td>1.137579e-139</td>\n",
       "    </tr>\n",
       "    <tr>\n",
       "      <th>18</th>\n",
       "      <td>IALS</td>\n",
       "      <td>II</td>\n",
       "      <td>0.024231</td>\n",
       "      <td>9646.0</td>\n",
       "      <td>8.308353e-131</td>\n",
       "      <td>2.326339e-129</td>\n",
       "    </tr>\n",
       "    <tr>\n",
       "      <th>25</th>\n",
       "      <td>Pop</td>\n",
       "      <td>TFMF</td>\n",
       "      <td>0.015016</td>\n",
       "      <td>9785.0</td>\n",
       "      <td>1.526101e-117</td>\n",
       "      <td>4.273082e-116</td>\n",
       "    </tr>\n",
       "    <tr>\n",
       "      <th>26</th>\n",
       "      <td>Pop</td>\n",
       "      <td>UU</td>\n",
       "      <td>0.014687</td>\n",
       "      <td>11871.5</td>\n",
       "      <td>2.103612e-111</td>\n",
       "      <td>5.890114e-110</td>\n",
       "    </tr>\n",
       "    <tr>\n",
       "      <th>19</th>\n",
       "      <td>IALS</td>\n",
       "      <td>Pop</td>\n",
       "      <td>0.011453</td>\n",
       "      <td>22542.0</td>\n",
       "      <td>4.676347e-79</td>\n",
       "      <td>1.309377e-77</td>\n",
       "    </tr>\n",
       "    <tr>\n",
       "      <th>1</th>\n",
       "      <td>ALS</td>\n",
       "      <td>BPR</td>\n",
       "      <td>0.004814</td>\n",
       "      <td>48120.5</td>\n",
       "      <td>1.483301e-27</td>\n",
       "      <td>4.153243e-26</td>\n",
       "    </tr>\n",
       "    <tr>\n",
       "      <th>7</th>\n",
       "      <td>Bias</td>\n",
       "      <td>BPR</td>\n",
       "      <td>0.004719</td>\n",
       "      <td>50459.5</td>\n",
       "      <td>7.678530e-25</td>\n",
       "      <td>2.149988e-23</td>\n",
       "    </tr>\n",
       "    <tr>\n",
       "      <th>5</th>\n",
       "      <td>ALS</td>\n",
       "      <td>TFMF</td>\n",
       "      <td>0.003659</td>\n",
       "      <td>38667.5</td>\n",
       "      <td>7.741683e-25</td>\n",
       "      <td>2.167671e-23</td>\n",
       "    </tr>\n",
       "    <tr>\n",
       "      <th>11</th>\n",
       "      <td>Bias</td>\n",
       "      <td>TFMF</td>\n",
       "      <td>0.003563</td>\n",
       "      <td>35077.5</td>\n",
       "      <td>3.016265e-22</td>\n",
       "      <td>8.445542e-21</td>\n",
       "    </tr>\n",
       "    <tr>\n",
       "      <th>6</th>\n",
       "      <td>ALS</td>\n",
       "      <td>UU</td>\n",
       "      <td>0.003330</td>\n",
       "      <td>10419.0</td>\n",
       "      <td>1.136975e-32</td>\n",
       "      <td>3.183530e-31</td>\n",
       "    </tr>\n",
       "    <tr>\n",
       "      <th>12</th>\n",
       "      <td>Bias</td>\n",
       "      <td>UU</td>\n",
       "      <td>0.003234</td>\n",
       "      <td>14889.5</td>\n",
       "      <td>1.518003e-26</td>\n",
       "      <td>4.250408e-25</td>\n",
       "    </tr>\n",
       "    <tr>\n",
       "      <th>23</th>\n",
       "      <td>II</td>\n",
       "      <td>TFMF</td>\n",
       "      <td>0.002238</td>\n",
       "      <td>54220.0</td>\n",
       "      <td>5.853437e-10</td>\n",
       "      <td>1.638962e-08</td>\n",
       "    </tr>\n",
       "    <tr>\n",
       "      <th>24</th>\n",
       "      <td>II</td>\n",
       "      <td>UU</td>\n",
       "      <td>0.001909</td>\n",
       "      <td>20509.5</td>\n",
       "      <td>5.411191e-13</td>\n",
       "      <td>1.515133e-11</td>\n",
       "    </tr>\n",
       "    <tr>\n",
       "      <th>3</th>\n",
       "      <td>ALS</td>\n",
       "      <td>II</td>\n",
       "      <td>0.001421</td>\n",
       "      <td>16765.5</td>\n",
       "      <td>7.672967e-10</td>\n",
       "      <td>2.148431e-08</td>\n",
       "    </tr>\n",
       "    <tr>\n",
       "      <th>9</th>\n",
       "      <td>Bias</td>\n",
       "      <td>II</td>\n",
       "      <td>0.001326</td>\n",
       "      <td>26113.0</td>\n",
       "      <td>1.418780e-05</td>\n",
       "      <td>3.972585e-04</td>\n",
       "    </tr>\n",
       "    <tr>\n",
       "      <th>0</th>\n",
       "      <td>ALS</td>\n",
       "      <td>Bias</td>\n",
       "      <td>0.000095</td>\n",
       "      <td>32099.5</td>\n",
       "      <td>4.473608e-01</td>\n",
       "      <td>1.252610e+01</td>\n",
       "    </tr>\n",
       "    <tr>\n",
       "      <th>27</th>\n",
       "      <td>TFMF</td>\n",
       "      <td>UU</td>\n",
       "      <td>-0.000329</td>\n",
       "      <td>58699.5</td>\n",
       "      <td>3.700906e-01</td>\n",
       "      <td>1.036254e+01</td>\n",
       "    </tr>\n",
       "    <tr>\n",
       "      <th>16</th>\n",
       "      <td>BPR</td>\n",
       "      <td>TFMF</td>\n",
       "      <td>-0.001156</td>\n",
       "      <td>61938.5</td>\n",
       "      <td>9.954587e-04</td>\n",
       "      <td>2.787284e-02</td>\n",
       "    </tr>\n",
       "    <tr>\n",
       "      <th>17</th>\n",
       "      <td>BPR</td>\n",
       "      <td>UU</td>\n",
       "      <td>-0.001485</td>\n",
       "      <td>65248.5</td>\n",
       "      <td>7.241725e-05</td>\n",
       "      <td>2.027683e-03</td>\n",
       "    </tr>\n",
       "    <tr>\n",
       "      <th>14</th>\n",
       "      <td>BPR</td>\n",
       "      <td>II</td>\n",
       "      <td>-0.003393</td>\n",
       "      <td>50000.5</td>\n",
       "      <td>2.392332e-16</td>\n",
       "      <td>6.698531e-15</td>\n",
       "    </tr>\n",
       "    <tr>\n",
       "      <th>4</th>\n",
       "      <td>ALS</td>\n",
       "      <td>Pop</td>\n",
       "      <td>-0.011357</td>\n",
       "      <td>26349.5</td>\n",
       "      <td>1.420214e-82</td>\n",
       "      <td>3.976600e-81</td>\n",
       "    </tr>\n",
       "    <tr>\n",
       "      <th>10</th>\n",
       "      <td>Bias</td>\n",
       "      <td>Pop</td>\n",
       "      <td>-0.011453</td>\n",
       "      <td>27128.0</td>\n",
       "      <td>5.916415e-84</td>\n",
       "      <td>1.656596e-82</td>\n",
       "    </tr>\n",
       "    <tr>\n",
       "      <th>22</th>\n",
       "      <td>II</td>\n",
       "      <td>Pop</td>\n",
       "      <td>-0.012778</td>\n",
       "      <td>24010.0</td>\n",
       "      <td>3.285661e-92</td>\n",
       "      <td>9.199851e-91</td>\n",
       "    </tr>\n",
       "    <tr>\n",
       "      <th>15</th>\n",
       "      <td>BPR</td>\n",
       "      <td>Pop</td>\n",
       "      <td>-0.016172</td>\n",
       "      <td>8383.5</td>\n",
       "      <td>1.808848e-119</td>\n",
       "      <td>5.064773e-118</td>\n",
       "    </tr>\n",
       "    <tr>\n",
       "      <th>2</th>\n",
       "      <td>ALS</td>\n",
       "      <td>IALS</td>\n",
       "      <td>-0.022810</td>\n",
       "      <td>9970.5</td>\n",
       "      <td>3.650522e-126</td>\n",
       "      <td>1.022146e-124</td>\n",
       "    </tr>\n",
       "    <tr>\n",
       "      <th>8</th>\n",
       "      <td>Bias</td>\n",
       "      <td>IALS</td>\n",
       "      <td>-0.022906</td>\n",
       "      <td>10355.5</td>\n",
       "      <td>4.803232e-127</td>\n",
       "      <td>1.344905e-125</td>\n",
       "    </tr>\n",
       "    <tr>\n",
       "      <th>13</th>\n",
       "      <td>BPR</td>\n",
       "      <td>IALS</td>\n",
       "      <td>-0.027625</td>\n",
       "      <td>1950.5</td>\n",
       "      <td>9.490725e-146</td>\n",
       "      <td>2.657403e-144</td>\n",
       "    </tr>\n",
       "  </tbody>\n",
       "</table>\n",
       "</div>"
      ],
      "text/plain": [
       "      A1    A2      diff     stat              p          adj_p\n",
       "20  IALS  TFMF  0.026469   1999.5  8.310211e-140  2.326859e-138\n",
       "21  IALS    UU  0.026140   3284.0  4.062784e-141  1.137579e-139\n",
       "18  IALS    II  0.024231   9646.0  8.308353e-131  2.326339e-129\n",
       "25   Pop  TFMF  0.015016   9785.0  1.526101e-117  4.273082e-116\n",
       "26   Pop    UU  0.014687  11871.5  2.103612e-111  5.890114e-110\n",
       "19  IALS   Pop  0.011453  22542.0   4.676347e-79   1.309377e-77\n",
       "1    ALS   BPR  0.004814  48120.5   1.483301e-27   4.153243e-26\n",
       "7   Bias   BPR  0.004719  50459.5   7.678530e-25   2.149988e-23\n",
       "5    ALS  TFMF  0.003659  38667.5   7.741683e-25   2.167671e-23\n",
       "11  Bias  TFMF  0.003563  35077.5   3.016265e-22   8.445542e-21\n",
       "6    ALS    UU  0.003330  10419.0   1.136975e-32   3.183530e-31\n",
       "12  Bias    UU  0.003234  14889.5   1.518003e-26   4.250408e-25\n",
       "23    II  TFMF  0.002238  54220.0   5.853437e-10   1.638962e-08\n",
       "24    II    UU  0.001909  20509.5   5.411191e-13   1.515133e-11\n",
       "3    ALS    II  0.001421  16765.5   7.672967e-10   2.148431e-08\n",
       "9   Bias    II  0.001326  26113.0   1.418780e-05   3.972585e-04\n",
       "0    ALS  Bias  0.000095  32099.5   4.473608e-01   1.252610e+01\n",
       "27  TFMF    UU -0.000329  58699.5   3.700906e-01   1.036254e+01\n",
       "16   BPR  TFMF -0.001156  61938.5   9.954587e-04   2.787284e-02\n",
       "17   BPR    UU -0.001485  65248.5   7.241725e-05   2.027683e-03\n",
       "14   BPR    II -0.003393  50000.5   2.392332e-16   6.698531e-15\n",
       "4    ALS   Pop -0.011357  26349.5   1.420214e-82   3.976600e-81\n",
       "10  Bias   Pop -0.011453  27128.0   5.916415e-84   1.656596e-82\n",
       "22    II   Pop -0.012778  24010.0   3.285661e-92   9.199851e-91\n",
       "15   BPR   Pop -0.016172   8383.5  1.808848e-119  5.064773e-118\n",
       "2    ALS  IALS -0.022810   9970.5  3.650522e-126  1.022146e-124\n",
       "8   Bias  IALS -0.022906  10355.5  4.803232e-127  1.344905e-125\n",
       "13   BPR  IALS -0.027625   1950.5  9.490725e-146  2.657403e-144"
      ]
     },
     "execution_count": 22,
     "metadata": {},
     "output_type": "execute_result"
    }
   ],
   "source": [
    "am_wilcox('precision').sort_values('diff', ascending=False)"
   ]
  },
  {
   "cell_type": "markdown",
   "metadata": {
    "papermill": {
     "duration": 0.019942,
     "end_time": "2020-06-08T00:08:59.535292",
     "exception": false,
     "start_time": "2020-06-08T00:08:59.515350",
     "status": "completed"
    },
    "tags": []
   },
   "source": [
    "We can consider pairs with an adjusted $p$ value less than 0.05 (5.0e-2) to be statistically significant.  However, we have so many data points, the substance of significance is questionable.  Pay attention to the 'diff' column, which is the difference between A1 and A2 (how much A1 outperforms A2)."
   ]
  },
  {
   "cell_type": "markdown",
   "metadata": {
    "papermill": {
     "duration": 0.019,
     "end_time": "2020-06-08T00:08:59.573290",
     "exception": false,
     "start_time": "2020-06-08T00:08:59.554290",
     "status": "completed"
    },
    "tags": []
   },
   "source": [
    "### nDCG"
   ]
  },
  {
   "cell_type": "markdown",
   "metadata": {
    "papermill": {
     "duration": 0.017977,
     "end_time": "2020-06-08T00:08:59.621298",
     "exception": false,
     "start_time": "2020-06-08T00:08:59.603321",
     "status": "completed"
    },
    "tags": []
   },
   "source": [
    "Now let's do the same for nDCG:"
   ]
  },
  {
   "cell_type": "code",
   "execution_count": 23,
   "metadata": {
    "papermill": {
     "duration": 0.137026,
     "end_time": "2020-06-08T00:08:59.776316",
     "exception": false,
     "start_time": "2020-06-08T00:08:59.639290",
     "status": "completed"
    },
    "tags": []
   },
   "outputs": [
    {
     "data": {
      "text/plain": [
       "stat    2606.563074\n",
       "p          0.000000\n",
       "Name: ndcg, dtype: float64"
      ]
     },
     "execution_count": 23,
     "metadata": {},
     "output_type": "execute_result"
    }
   ],
   "source": [
    "metric_friedman('ndcg')"
   ]
  },
  {
   "cell_type": "code",
   "execution_count": 24,
   "metadata": {
    "papermill": {
     "duration": 0.138047,
     "end_time": "2020-06-08T00:08:59.932335",
     "exception": false,
     "start_time": "2020-06-08T00:08:59.794288",
     "status": "completed"
    },
    "tags": []
   },
   "outputs": [
    {
     "data": {
      "text/html": [
       "<div>\n",
       "<style scoped>\n",
       "    .dataframe tbody tr th:only-of-type {\n",
       "        vertical-align: middle;\n",
       "    }\n",
       "\n",
       "    .dataframe tbody tr th {\n",
       "        vertical-align: top;\n",
       "    }\n",
       "\n",
       "    .dataframe thead th {\n",
       "        text-align: right;\n",
       "    }\n",
       "</style>\n",
       "<table border=\"1\" class=\"dataframe\">\n",
       "  <thead>\n",
       "    <tr style=\"text-align: right;\">\n",
       "      <th></th>\n",
       "      <th>A1</th>\n",
       "      <th>A2</th>\n",
       "      <th>diff</th>\n",
       "      <th>stat</th>\n",
       "      <th>p</th>\n",
       "      <th>adj_p</th>\n",
       "    </tr>\n",
       "  </thead>\n",
       "  <tbody>\n",
       "    <tr>\n",
       "      <th>21</th>\n",
       "      <td>IALS</td>\n",
       "      <td>UU</td>\n",
       "      <td>0.219587</td>\n",
       "      <td>4984.0</td>\n",
       "      <td>4.740496e-147</td>\n",
       "      <td>1.327339e-145</td>\n",
       "    </tr>\n",
       "    <tr>\n",
       "      <th>20</th>\n",
       "      <td>IALS</td>\n",
       "      <td>TFMF</td>\n",
       "      <td>0.215808</td>\n",
       "      <td>8585.0</td>\n",
       "      <td>3.651006e-142</td>\n",
       "      <td>1.022282e-140</td>\n",
       "    </tr>\n",
       "    <tr>\n",
       "      <th>18</th>\n",
       "      <td>IALS</td>\n",
       "      <td>II</td>\n",
       "      <td>0.199890</td>\n",
       "      <td>20646.0</td>\n",
       "      <td>1.525902e-127</td>\n",
       "      <td>4.272525e-126</td>\n",
       "    </tr>\n",
       "    <tr>\n",
       "      <th>26</th>\n",
       "      <td>Pop</td>\n",
       "      <td>UU</td>\n",
       "      <td>0.140623</td>\n",
       "      <td>13108.0</td>\n",
       "      <td>4.682830e-129</td>\n",
       "      <td>1.311192e-127</td>\n",
       "    </tr>\n",
       "    <tr>\n",
       "      <th>25</th>\n",
       "      <td>Pop</td>\n",
       "      <td>TFMF</td>\n",
       "      <td>0.136845</td>\n",
       "      <td>20797.0</td>\n",
       "      <td>1.550806e-119</td>\n",
       "      <td>4.342258e-118</td>\n",
       "    </tr>\n",
       "    <tr>\n",
       "      <th>19</th>\n",
       "      <td>IALS</td>\n",
       "      <td>Pop</td>\n",
       "      <td>0.078964</td>\n",
       "      <td>121962.0</td>\n",
       "      <td>9.756630e-32</td>\n",
       "      <td>2.731857e-30</td>\n",
       "    </tr>\n",
       "    <tr>\n",
       "      <th>1</th>\n",
       "      <td>ALS</td>\n",
       "      <td>BPR</td>\n",
       "      <td>0.043684</td>\n",
       "      <td>69314.0</td>\n",
       "      <td>9.625368e-30</td>\n",
       "      <td>2.695103e-28</td>\n",
       "    </tr>\n",
       "    <tr>\n",
       "      <th>6</th>\n",
       "      <td>ALS</td>\n",
       "      <td>UU</td>\n",
       "      <td>0.041532</td>\n",
       "      <td>22611.0</td>\n",
       "      <td>9.459004e-64</td>\n",
       "      <td>2.648521e-62</td>\n",
       "    </tr>\n",
       "    <tr>\n",
       "      <th>7</th>\n",
       "      <td>Bias</td>\n",
       "      <td>BPR</td>\n",
       "      <td>0.038510</td>\n",
       "      <td>69021.5</td>\n",
       "      <td>5.499546e-27</td>\n",
       "      <td>1.539873e-25</td>\n",
       "    </tr>\n",
       "    <tr>\n",
       "      <th>5</th>\n",
       "      <td>ALS</td>\n",
       "      <td>TFMF</td>\n",
       "      <td>0.037753</td>\n",
       "      <td>64098.5</td>\n",
       "      <td>2.786015e-28</td>\n",
       "      <td>7.800842e-27</td>\n",
       "    </tr>\n",
       "    <tr>\n",
       "      <th>12</th>\n",
       "      <td>Bias</td>\n",
       "      <td>UU</td>\n",
       "      <td>0.036358</td>\n",
       "      <td>27778.5</td>\n",
       "      <td>1.010349e-52</td>\n",
       "      <td>2.828978e-51</td>\n",
       "    </tr>\n",
       "    <tr>\n",
       "      <th>11</th>\n",
       "      <td>Bias</td>\n",
       "      <td>TFMF</td>\n",
       "      <td>0.032579</td>\n",
       "      <td>58855.5</td>\n",
       "      <td>7.598507e-28</td>\n",
       "      <td>2.127582e-26</td>\n",
       "    </tr>\n",
       "    <tr>\n",
       "      <th>3</th>\n",
       "      <td>ALS</td>\n",
       "      <td>II</td>\n",
       "      <td>0.021835</td>\n",
       "      <td>53610.5</td>\n",
       "      <td>2.089613e-24</td>\n",
       "      <td>5.850916e-23</td>\n",
       "    </tr>\n",
       "    <tr>\n",
       "      <th>24</th>\n",
       "      <td>II</td>\n",
       "      <td>UU</td>\n",
       "      <td>0.019697</td>\n",
       "      <td>45940.0</td>\n",
       "      <td>5.857090e-25</td>\n",
       "      <td>1.639985e-23</td>\n",
       "    </tr>\n",
       "    <tr>\n",
       "      <th>9</th>\n",
       "      <td>Bias</td>\n",
       "      <td>II</td>\n",
       "      <td>0.016661</td>\n",
       "      <td>66442.0</td>\n",
       "      <td>3.824836e-14</td>\n",
       "      <td>1.070954e-12</td>\n",
       "    </tr>\n",
       "    <tr>\n",
       "      <th>23</th>\n",
       "      <td>II</td>\n",
       "      <td>TFMF</td>\n",
       "      <td>0.015918</td>\n",
       "      <td>85323.5</td>\n",
       "      <td>5.396346e-09</td>\n",
       "      <td>1.510977e-07</td>\n",
       "    </tr>\n",
       "    <tr>\n",
       "      <th>0</th>\n",
       "      <td>ALS</td>\n",
       "      <td>Bias</td>\n",
       "      <td>0.005174</td>\n",
       "      <td>102235.0</td>\n",
       "      <td>2.562321e-01</td>\n",
       "      <td>7.174499e+00</td>\n",
       "    </tr>\n",
       "    <tr>\n",
       "      <th>27</th>\n",
       "      <td>TFMF</td>\n",
       "      <td>UU</td>\n",
       "      <td>0.003779</td>\n",
       "      <td>99053.0</td>\n",
       "      <td>3.428326e-01</td>\n",
       "      <td>9.599313e+00</td>\n",
       "    </tr>\n",
       "    <tr>\n",
       "      <th>17</th>\n",
       "      <td>BPR</td>\n",
       "      <td>UU</td>\n",
       "      <td>-0.002152</td>\n",
       "      <td>99759.5</td>\n",
       "      <td>1.392349e-02</td>\n",
       "      <td>3.898577e-01</td>\n",
       "    </tr>\n",
       "    <tr>\n",
       "      <th>16</th>\n",
       "      <td>BPR</td>\n",
       "      <td>TFMF</td>\n",
       "      <td>-0.005931</td>\n",
       "      <td>93270.5</td>\n",
       "      <td>3.493526e-03</td>\n",
       "      <td>9.781873e-02</td>\n",
       "    </tr>\n",
       "    <tr>\n",
       "      <th>14</th>\n",
       "      <td>BPR</td>\n",
       "      <td>II</td>\n",
       "      <td>-0.021849</td>\n",
       "      <td>77738.0</td>\n",
       "      <td>5.382384e-15</td>\n",
       "      <td>1.507068e-13</td>\n",
       "    </tr>\n",
       "    <tr>\n",
       "      <th>4</th>\n",
       "      <td>ALS</td>\n",
       "      <td>Pop</td>\n",
       "      <td>-0.099091</td>\n",
       "      <td>60557.0</td>\n",
       "      <td>1.466596e-73</td>\n",
       "      <td>4.106469e-72</td>\n",
       "    </tr>\n",
       "    <tr>\n",
       "      <th>10</th>\n",
       "      <td>Bias</td>\n",
       "      <td>Pop</td>\n",
       "      <td>-0.104266</td>\n",
       "      <td>53335.0</td>\n",
       "      <td>3.072500e-80</td>\n",
       "      <td>8.603000e-79</td>\n",
       "    </tr>\n",
       "    <tr>\n",
       "      <th>22</th>\n",
       "      <td>II</td>\n",
       "      <td>Pop</td>\n",
       "      <td>-0.120926</td>\n",
       "      <td>36421.0</td>\n",
       "      <td>4.703041e-101</td>\n",
       "      <td>1.316852e-99</td>\n",
       "    </tr>\n",
       "    <tr>\n",
       "      <th>15</th>\n",
       "      <td>BPR</td>\n",
       "      <td>Pop</td>\n",
       "      <td>-0.142775</td>\n",
       "      <td>19061.0</td>\n",
       "      <td>1.749380e-120</td>\n",
       "      <td>4.898264e-119</td>\n",
       "    </tr>\n",
       "    <tr>\n",
       "      <th>2</th>\n",
       "      <td>ALS</td>\n",
       "      <td>IALS</td>\n",
       "      <td>-0.178055</td>\n",
       "      <td>37847.0</td>\n",
       "      <td>9.352510e-106</td>\n",
       "      <td>2.618703e-104</td>\n",
       "    </tr>\n",
       "    <tr>\n",
       "      <th>8</th>\n",
       "      <td>Bias</td>\n",
       "      <td>IALS</td>\n",
       "      <td>-0.183229</td>\n",
       "      <td>34640.0</td>\n",
       "      <td>1.645994e-110</td>\n",
       "      <td>4.608783e-109</td>\n",
       "    </tr>\n",
       "    <tr>\n",
       "      <th>13</th>\n",
       "      <td>BPR</td>\n",
       "      <td>IALS</td>\n",
       "      <td>-0.221739</td>\n",
       "      <td>8018.0</td>\n",
       "      <td>6.288198e-143</td>\n",
       "      <td>1.760695e-141</td>\n",
       "    </tr>\n",
       "  </tbody>\n",
       "</table>\n",
       "</div>"
      ],
      "text/plain": [
       "      A1    A2      diff      stat              p          adj_p\n",
       "21  IALS    UU  0.219587    4984.0  4.740496e-147  1.327339e-145\n",
       "20  IALS  TFMF  0.215808    8585.0  3.651006e-142  1.022282e-140\n",
       "18  IALS    II  0.199890   20646.0  1.525902e-127  4.272525e-126\n",
       "26   Pop    UU  0.140623   13108.0  4.682830e-129  1.311192e-127\n",
       "25   Pop  TFMF  0.136845   20797.0  1.550806e-119  4.342258e-118\n",
       "19  IALS   Pop  0.078964  121962.0   9.756630e-32   2.731857e-30\n",
       "1    ALS   BPR  0.043684   69314.0   9.625368e-30   2.695103e-28\n",
       "6    ALS    UU  0.041532   22611.0   9.459004e-64   2.648521e-62\n",
       "7   Bias   BPR  0.038510   69021.5   5.499546e-27   1.539873e-25\n",
       "5    ALS  TFMF  0.037753   64098.5   2.786015e-28   7.800842e-27\n",
       "12  Bias    UU  0.036358   27778.5   1.010349e-52   2.828978e-51\n",
       "11  Bias  TFMF  0.032579   58855.5   7.598507e-28   2.127582e-26\n",
       "3    ALS    II  0.021835   53610.5   2.089613e-24   5.850916e-23\n",
       "24    II    UU  0.019697   45940.0   5.857090e-25   1.639985e-23\n",
       "9   Bias    II  0.016661   66442.0   3.824836e-14   1.070954e-12\n",
       "23    II  TFMF  0.015918   85323.5   5.396346e-09   1.510977e-07\n",
       "0    ALS  Bias  0.005174  102235.0   2.562321e-01   7.174499e+00\n",
       "27  TFMF    UU  0.003779   99053.0   3.428326e-01   9.599313e+00\n",
       "17   BPR    UU -0.002152   99759.5   1.392349e-02   3.898577e-01\n",
       "16   BPR  TFMF -0.005931   93270.5   3.493526e-03   9.781873e-02\n",
       "14   BPR    II -0.021849   77738.0   5.382384e-15   1.507068e-13\n",
       "4    ALS   Pop -0.099091   60557.0   1.466596e-73   4.106469e-72\n",
       "10  Bias   Pop -0.104266   53335.0   3.072500e-80   8.603000e-79\n",
       "22    II   Pop -0.120926   36421.0  4.703041e-101   1.316852e-99\n",
       "15   BPR   Pop -0.142775   19061.0  1.749380e-120  4.898264e-119\n",
       "2    ALS  IALS -0.178055   37847.0  9.352510e-106  2.618703e-104\n",
       "8   Bias  IALS -0.183229   34640.0  1.645994e-110  4.608783e-109\n",
       "13   BPR  IALS -0.221739    8018.0  6.288198e-143  1.760695e-141"
      ]
     },
     "execution_count": 24,
     "metadata": {},
     "output_type": "execute_result"
    }
   ],
   "source": [
    "am_wilcox('ndcg').sort_values('diff', ascending=False)"
   ]
  },
  {
   "cell_type": "markdown",
   "metadata": {
    "papermill": {
     "duration": 0.020024,
     "end_time": "2020-06-08T00:08:59.971357",
     "exception": false,
     "start_time": "2020-06-08T00:08:59.951333",
     "status": "completed"
    },
    "tags": []
   },
   "source": [
    "### Reciprocal Rank\n",
    "\n",
    "We'll do this also for reciprocal rank (what is aggregated to compute MRR):"
   ]
  },
  {
   "cell_type": "code",
   "execution_count": 25,
   "metadata": {
    "papermill": {
     "duration": 0.166967,
     "end_time": "2020-06-08T00:09:00.156332",
     "exception": false,
     "start_time": "2020-06-08T00:08:59.989365",
     "status": "completed"
    },
    "tags": []
   },
   "outputs": [
    {
     "data": {
      "text/plain": [
       "stat    2173.983475\n",
       "p          0.000000\n",
       "Name: recip_rank, dtype: float64"
      ]
     },
     "execution_count": 25,
     "metadata": {},
     "output_type": "execute_result"
    }
   ],
   "source": [
    "metric_friedman('recip_rank')"
   ]
  },
  {
   "cell_type": "code",
   "execution_count": 26,
   "metadata": {
    "papermill": {
     "duration": 0.173452,
     "end_time": "2020-06-08T00:09:00.349820",
     "exception": false,
     "start_time": "2020-06-08T00:09:00.176368",
     "status": "completed"
    },
    "tags": []
   },
   "outputs": [
    {
     "data": {
      "text/html": [
       "<div>\n",
       "<style scoped>\n",
       "    .dataframe tbody tr th:only-of-type {\n",
       "        vertical-align: middle;\n",
       "    }\n",
       "\n",
       "    .dataframe tbody tr th {\n",
       "        vertical-align: top;\n",
       "    }\n",
       "\n",
       "    .dataframe thead th {\n",
       "        text-align: right;\n",
       "    }\n",
       "</style>\n",
       "<table border=\"1\" class=\"dataframe\">\n",
       "  <thead>\n",
       "    <tr style=\"text-align: right;\">\n",
       "      <th></th>\n",
       "      <th>A1</th>\n",
       "      <th>A2</th>\n",
       "      <th>diff</th>\n",
       "      <th>stat</th>\n",
       "      <th>p</th>\n",
       "      <th>adj_p</th>\n",
       "    </tr>\n",
       "  </thead>\n",
       "  <tbody>\n",
       "    <tr>\n",
       "      <th>21</th>\n",
       "      <td>IALS</td>\n",
       "      <td>UU</td>\n",
       "      <td>0.215140</td>\n",
       "      <td>10954.5</td>\n",
       "      <td>5.172990e-139</td>\n",
       "      <td>1.448437e-137</td>\n",
       "    </tr>\n",
       "    <tr>\n",
       "      <th>20</th>\n",
       "      <td>IALS</td>\n",
       "      <td>TFMF</td>\n",
       "      <td>0.199894</td>\n",
       "      <td>36851.0</td>\n",
       "      <td>1.716429e-105</td>\n",
       "      <td>4.806001e-104</td>\n",
       "    </tr>\n",
       "    <tr>\n",
       "      <th>18</th>\n",
       "      <td>IALS</td>\n",
       "      <td>II</td>\n",
       "      <td>0.194726</td>\n",
       "      <td>40165.0</td>\n",
       "      <td>2.823671e-102</td>\n",
       "      <td>7.906280e-101</td>\n",
       "    </tr>\n",
       "    <tr>\n",
       "      <th>26</th>\n",
       "      <td>Pop</td>\n",
       "      <td>UU</td>\n",
       "      <td>0.187535</td>\n",
       "      <td>10415.0</td>\n",
       "      <td>2.066475e-132</td>\n",
       "      <td>5.786130e-131</td>\n",
       "    </tr>\n",
       "    <tr>\n",
       "      <th>25</th>\n",
       "      <td>Pop</td>\n",
       "      <td>TFMF</td>\n",
       "      <td>0.172289</td>\n",
       "      <td>37213.5</td>\n",
       "      <td>1.818547e-98</td>\n",
       "      <td>5.091931e-97</td>\n",
       "    </tr>\n",
       "    <tr>\n",
       "      <th>6</th>\n",
       "      <td>ALS</td>\n",
       "      <td>UU</td>\n",
       "      <td>0.059584</td>\n",
       "      <td>18551.0</td>\n",
       "      <td>2.048391e-70</td>\n",
       "      <td>5.735495e-69</td>\n",
       "    </tr>\n",
       "    <tr>\n",
       "      <th>12</th>\n",
       "      <td>Bias</td>\n",
       "      <td>UU</td>\n",
       "      <td>0.047873</td>\n",
       "      <td>19281.0</td>\n",
       "      <td>4.642575e-66</td>\n",
       "      <td>1.299921e-64</td>\n",
       "    </tr>\n",
       "    <tr>\n",
       "      <th>5</th>\n",
       "      <td>ALS</td>\n",
       "      <td>TFMF</td>\n",
       "      <td>0.044339</td>\n",
       "      <td>76162.0</td>\n",
       "      <td>4.187765e-17</td>\n",
       "      <td>1.172574e-15</td>\n",
       "    </tr>\n",
       "    <tr>\n",
       "      <th>3</th>\n",
       "      <td>ALS</td>\n",
       "      <td>II</td>\n",
       "      <td>0.039171</td>\n",
       "      <td>49221.0</td>\n",
       "      <td>8.030848e-28</td>\n",
       "      <td>2.248637e-26</td>\n",
       "    </tr>\n",
       "    <tr>\n",
       "      <th>1</th>\n",
       "      <td>ALS</td>\n",
       "      <td>BPR</td>\n",
       "      <td>0.036223</td>\n",
       "      <td>86786.0</td>\n",
       "      <td>6.208544e-16</td>\n",
       "      <td>1.738392e-14</td>\n",
       "    </tr>\n",
       "    <tr>\n",
       "      <th>11</th>\n",
       "      <td>Bias</td>\n",
       "      <td>TFMF</td>\n",
       "      <td>0.032628</td>\n",
       "      <td>66915.0</td>\n",
       "      <td>1.148610e-19</td>\n",
       "      <td>3.216107e-18</td>\n",
       "    </tr>\n",
       "    <tr>\n",
       "      <th>19</th>\n",
       "      <td>IALS</td>\n",
       "      <td>Pop</td>\n",
       "      <td>0.027605</td>\n",
       "      <td>180599.0</td>\n",
       "      <td>1.352525e-03</td>\n",
       "      <td>3.787071e-02</td>\n",
       "    </tr>\n",
       "    <tr>\n",
       "      <th>9</th>\n",
       "      <td>Bias</td>\n",
       "      <td>II</td>\n",
       "      <td>0.027460</td>\n",
       "      <td>54424.0</td>\n",
       "      <td>1.920926e-22</td>\n",
       "      <td>5.378593e-21</td>\n",
       "    </tr>\n",
       "    <tr>\n",
       "      <th>7</th>\n",
       "      <td>Bias</td>\n",
       "      <td>BPR</td>\n",
       "      <td>0.024512</td>\n",
       "      <td>81736.5</td>\n",
       "      <td>1.889461e-16</td>\n",
       "      <td>5.290491e-15</td>\n",
       "    </tr>\n",
       "    <tr>\n",
       "      <th>17</th>\n",
       "      <td>BPR</td>\n",
       "      <td>UU</td>\n",
       "      <td>0.023362</td>\n",
       "      <td>98336.0</td>\n",
       "      <td>7.295828e-03</td>\n",
       "      <td>2.042832e-01</td>\n",
       "    </tr>\n",
       "    <tr>\n",
       "      <th>24</th>\n",
       "      <td>II</td>\n",
       "      <td>UU</td>\n",
       "      <td>0.020413</td>\n",
       "      <td>42402.0</td>\n",
       "      <td>6.781593e-29</td>\n",
       "      <td>1.898846e-27</td>\n",
       "    </tr>\n",
       "    <tr>\n",
       "      <th>27</th>\n",
       "      <td>TFMF</td>\n",
       "      <td>UU</td>\n",
       "      <td>0.015245</td>\n",
       "      <td>78007.5</td>\n",
       "      <td>8.370364e-08</td>\n",
       "      <td>2.343702e-06</td>\n",
       "    </tr>\n",
       "    <tr>\n",
       "      <th>0</th>\n",
       "      <td>ALS</td>\n",
       "      <td>Bias</td>\n",
       "      <td>0.011711</td>\n",
       "      <td>103858.5</td>\n",
       "      <td>8.940470e-01</td>\n",
       "      <td>2.503331e+01</td>\n",
       "    </tr>\n",
       "    <tr>\n",
       "      <th>16</th>\n",
       "      <td>BPR</td>\n",
       "      <td>TFMF</td>\n",
       "      <td>0.008116</td>\n",
       "      <td>102834.0</td>\n",
       "      <td>3.438394e-01</td>\n",
       "      <td>9.627504e+00</td>\n",
       "    </tr>\n",
       "    <tr>\n",
       "      <th>23</th>\n",
       "      <td>II</td>\n",
       "      <td>TFMF</td>\n",
       "      <td>0.005168</td>\n",
       "      <td>103562.5</td>\n",
       "      <td>3.266371e-02</td>\n",
       "      <td>9.145839e-01</td>\n",
       "    </tr>\n",
       "    <tr>\n",
       "      <th>14</th>\n",
       "      <td>BPR</td>\n",
       "      <td>II</td>\n",
       "      <td>0.002948</td>\n",
       "      <td>101603.0</td>\n",
       "      <td>1.788197e-03</td>\n",
       "      <td>5.006951e-02</td>\n",
       "    </tr>\n",
       "    <tr>\n",
       "      <th>4</th>\n",
       "      <td>ALS</td>\n",
       "      <td>Pop</td>\n",
       "      <td>-0.127950</td>\n",
       "      <td>72675.0</td>\n",
       "      <td>6.333277e-59</td>\n",
       "      <td>1.773317e-57</td>\n",
       "    </tr>\n",
       "    <tr>\n",
       "      <th>10</th>\n",
       "      <td>Bias</td>\n",
       "      <td>Pop</td>\n",
       "      <td>-0.139661</td>\n",
       "      <td>64207.0</td>\n",
       "      <td>7.621586e-67</td>\n",
       "      <td>2.134044e-65</td>\n",
       "    </tr>\n",
       "    <tr>\n",
       "      <th>2</th>\n",
       "      <td>ALS</td>\n",
       "      <td>IALS</td>\n",
       "      <td>-0.155555</td>\n",
       "      <td>74608.5</td>\n",
       "      <td>9.437111e-65</td>\n",
       "      <td>2.642391e-63</td>\n",
       "    </tr>\n",
       "    <tr>\n",
       "      <th>15</th>\n",
       "      <td>BPR</td>\n",
       "      <td>Pop</td>\n",
       "      <td>-0.164173</td>\n",
       "      <td>37278.0</td>\n",
       "      <td>1.073475e-95</td>\n",
       "      <td>3.005730e-94</td>\n",
       "    </tr>\n",
       "    <tr>\n",
       "      <th>22</th>\n",
       "      <td>II</td>\n",
       "      <td>Pop</td>\n",
       "      <td>-0.167121</td>\n",
       "      <td>40550.5</td>\n",
       "      <td>2.500146e-94</td>\n",
       "      <td>7.000409e-93</td>\n",
       "    </tr>\n",
       "    <tr>\n",
       "      <th>8</th>\n",
       "      <td>Bias</td>\n",
       "      <td>IALS</td>\n",
       "      <td>-0.167266</td>\n",
       "      <td>71184.0</td>\n",
       "      <td>2.445031e-70</td>\n",
       "      <td>6.846087e-69</td>\n",
       "    </tr>\n",
       "    <tr>\n",
       "      <th>13</th>\n",
       "      <td>BPR</td>\n",
       "      <td>IALS</td>\n",
       "      <td>-0.191778</td>\n",
       "      <td>36733.0</td>\n",
       "      <td>3.003383e-106</td>\n",
       "      <td>8.409471e-105</td>\n",
       "    </tr>\n",
       "  </tbody>\n",
       "</table>\n",
       "</div>"
      ],
      "text/plain": [
       "      A1    A2      diff      stat              p          adj_p\n",
       "21  IALS    UU  0.215140   10954.5  5.172990e-139  1.448437e-137\n",
       "20  IALS  TFMF  0.199894   36851.0  1.716429e-105  4.806001e-104\n",
       "18  IALS    II  0.194726   40165.0  2.823671e-102  7.906280e-101\n",
       "26   Pop    UU  0.187535   10415.0  2.066475e-132  5.786130e-131\n",
       "25   Pop  TFMF  0.172289   37213.5   1.818547e-98   5.091931e-97\n",
       "6    ALS    UU  0.059584   18551.0   2.048391e-70   5.735495e-69\n",
       "12  Bias    UU  0.047873   19281.0   4.642575e-66   1.299921e-64\n",
       "5    ALS  TFMF  0.044339   76162.0   4.187765e-17   1.172574e-15\n",
       "3    ALS    II  0.039171   49221.0   8.030848e-28   2.248637e-26\n",
       "1    ALS   BPR  0.036223   86786.0   6.208544e-16   1.738392e-14\n",
       "11  Bias  TFMF  0.032628   66915.0   1.148610e-19   3.216107e-18\n",
       "19  IALS   Pop  0.027605  180599.0   1.352525e-03   3.787071e-02\n",
       "9   Bias    II  0.027460   54424.0   1.920926e-22   5.378593e-21\n",
       "7   Bias   BPR  0.024512   81736.5   1.889461e-16   5.290491e-15\n",
       "17   BPR    UU  0.023362   98336.0   7.295828e-03   2.042832e-01\n",
       "24    II    UU  0.020413   42402.0   6.781593e-29   1.898846e-27\n",
       "27  TFMF    UU  0.015245   78007.5   8.370364e-08   2.343702e-06\n",
       "0    ALS  Bias  0.011711  103858.5   8.940470e-01   2.503331e+01\n",
       "16   BPR  TFMF  0.008116  102834.0   3.438394e-01   9.627504e+00\n",
       "23    II  TFMF  0.005168  103562.5   3.266371e-02   9.145839e-01\n",
       "14   BPR    II  0.002948  101603.0   1.788197e-03   5.006951e-02\n",
       "4    ALS   Pop -0.127950   72675.0   6.333277e-59   1.773317e-57\n",
       "10  Bias   Pop -0.139661   64207.0   7.621586e-67   2.134044e-65\n",
       "2    ALS  IALS -0.155555   74608.5   9.437111e-65   2.642391e-63\n",
       "15   BPR   Pop -0.164173   37278.0   1.073475e-95   3.005730e-94\n",
       "22    II   Pop -0.167121   40550.5   2.500146e-94   7.000409e-93\n",
       "8   Bias  IALS -0.167266   71184.0   2.445031e-70   6.846087e-69\n",
       "13   BPR  IALS -0.191778   36733.0  3.003383e-106  8.409471e-105"
      ]
     },
     "execution_count": 26,
     "metadata": {},
     "output_type": "execute_result"
    }
   ],
   "source": [
    "am_wilcox('recip_rank').sort_values('diff', ascending=False)"
   ]
  },
  {
   "cell_type": "markdown",
   "metadata": {
    "papermill": {
     "duration": 0.048023,
     "end_time": "2020-06-08T00:09:00.417843",
     "exception": false,
     "start_time": "2020-06-08T00:09:00.369820",
     "status": "completed"
    },
    "tags": []
   },
   "source": [
    "## Prediction RMSE\n",
    "\n",
    "We will also look at the prediction RMSE."
   ]
  },
  {
   "cell_type": "code",
   "execution_count": 27,
   "metadata": {
    "papermill": {
     "duration": 3.503334,
     "end_time": "2020-06-08T00:09:03.942153",
     "exception": false,
     "start_time": "2020-06-08T00:09:00.438819",
     "status": "completed"
    },
    "tags": []
   },
   "outputs": [
    {
     "data": {
      "application/vnd.jupyter.widget-view+json": {
       "model_id": "1432d0e55e78439d87b3710f44cfd896",
       "version_major": 2,
       "version_minor": 0
      },
      "text/plain": [
       "HBox(children=(FloatProgress(value=0.0, max=4715.0), HTML(value='')))"
      ]
     },
     "metadata": {},
     "output_type": "display_data"
    },
    {
     "name": "stdout",
     "output_type": "stream",
     "text": [
      "\n"
     ]
    }
   ],
   "source": [
    "user_rmse = preds.groupby(['algorithm', 'user']).progress_apply(lambda df: rmse(df['prediction'], df['rating']))\n",
    "user_rmse = user_rmse.reset_index(name='RMSE')"
   ]
  },
  {
   "cell_type": "code",
   "execution_count": 28,
   "metadata": {
    "papermill": {
     "duration": 0.319186,
     "end_time": "2020-06-08T00:09:04.284340",
     "exception": false,
     "start_time": "2020-06-08T00:09:03.965154",
     "status": "completed"
    },
    "tags": []
   },
   "outputs": [
    {
     "data": {
      "text/plain": [
       "<seaborn.axisgrid.FacetGrid at 0x24a87c3c6c8>"
      ]
     },
     "execution_count": 28,
     "metadata": {},
     "output_type": "execute_result"
    },
    {
     "data": {
      "image/png": "[encoded data removed]",
      "text/plain": [
       "<Figure size 360x360 with 1 Axes>"
      ]
     },
     "metadata": {
      "needs_background": "light"
     },
     "output_type": "display_data"
    }
   ],
   "source": [
    "sns.catplot(x='algorithm', y='RMSE', data=user_rmse, kind='bar')"
   ]
  },
  {
   "cell_type": "code",
   "execution_count": null,
   "metadata": {
    "papermill": {
     "duration": 0.051108,
     "end_time": "2020-06-08T00:09:04.359447",
     "exception": false,
     "start_time": "2020-06-08T00:09:04.308339",
     "status": "completed"
    },
    "tags": []
   },
   "outputs": [],
   "source": []
  }
 ],
 "metadata": {
  "kernelspec": {
   "display_name": "Python 3",
   "language": "python",
   "name": "python3"
  },
  "language_info": {
   "codemirror_mode": {
    "name": "ipython",
    "version": 3
   },
   "file_extension": ".py",
   "mimetype": "text/x-python",
   "name": "python",
   "nbconvert_exporter": "python",
   "pygments_lexer": "ipython3",
   "version": "3.7.7"
  },
  "papermill": {
   "duration": 22.307181,
   "end_time": "2020-06-08T00:09:04.387339",
   "environment_variables": {},
   "exception": null,
   "input_path": "eval-report.ipynb",
   "output_path": "eval-report.ml100k.ipynb",
   "parameters": {
    "dataset": "ml100k"
   },
   "start_time": "2020-06-08T00:08:42.080158",
   "version": "2.0.0"
  },
  "widgets": {
   "application/vnd.jupyter.widget-state+json": {
    "state": {
     "005291b78de34cdda7e3ba3307733e21": {
      "model_module": "@jupyter-widgets/controls",
      "model_module_version": "1.5.0",
      "model_name": "FloatProgressModel",
      "state": {
       "_dom_classes": [],
       "_model_module": "@jupyter-widgets/controls",
       "_model_module_version": "1.5.0",
       "_model_name": "FloatProgressModel",
       "_view_count": null,
       "_view_module": "@jupyter-widgets/controls",
       "_view_module_version": "1.5.0",
       "_view_name": "ProgressView",
       "bar_style": "success",
       "description": "100%",
       "description_tooltip": null,
       "layout": "IPY_MODEL_891c4e37e6db479ba543446a888ed41d",
       "max": 943.0,
       "min": 0.0,
       "orientation": "horizontal",
       "style": "IPY_MODEL_4b95500e818e48fe861d0a12811f9551",
       "value": 943.0
      }
     },
     "008fb6b410584ec8aa17ed67513d0d0d": {
      "model_module": "@jupyter-widgets/controls",
      "model_module_version": "1.5.0",
      "model_name": "HTMLModel",
      "state": {
       "_dom_classes": [],
       "_model_module": "@jupyter-widgets/controls",
       "_model_module_version": "1.5.0",
       "_model_name": "HTMLModel",
       "_view_count": null,
       "_view_module": "@jupyter-widgets/controls",
       "_view_module_version": "1.5.0",
       "_view_name": "HTMLView",
       "description": "",
       "description_tooltip": null,
       "layout": "IPY_MODEL_95e09a44e6fc4e0194159c4f783ebcbb",
       "placeholder": "​",
       "style": "IPY_MODEL_d6dd97c138964ef8b311dd6021536e80",
       "value": " 4715/4715 [00:03&lt;00:00, 1393.17it/s]"
      }
     },
     "1432d0e55e78439d87b3710f44cfd896": {
      "model_module": "@jupyter-widgets/controls",
      "model_module_version": "1.5.0",
      "model_name": "HBoxModel",
      "state": {
       "_dom_classes": [],
       "_model_module": "@jupyter-widgets/controls",
       "_model_module_version": "1.5.0",
       "_model_name": "HBoxModel",
       "_view_count": null,
       "_view_module": "@jupyter-widgets/controls",
       "_view_module_version": "1.5.0",
       "_view_name": "HBoxView",
       "box_style": "",
       "children": [
        "IPY_MODEL_c5288ba305284b03838f961b799e2e7c",
        "IPY_MODEL_008fb6b410584ec8aa17ed67513d0d0d"
       ],
       "layout": "IPY_MODEL_875571d235274d90a1f1d89a30c38a06"
      }
     },
     "192aed146db84007899c9a3cb0cb2664": {
      "model_module": "@jupyter-widgets/base",
      "model_module_version": "1.2.0",
      "model_name": "LayoutModel",
      "state": {
       "_model_module": "@jupyter-widgets/base",
       "_model_module_version": "1.2.0",
       "_model_name": "LayoutModel",
       "_view_count": null,
       "_view_module": "@jupyter-widgets/base",
       "_view_module_version": "1.2.0",
       "_view_name": "LayoutView",
       "align_content": null,
       "align_items": null,
       "align_self": null,
       "border": null,
       "bottom": null,
       "display": null,
       "flex": null,
       "flex_flow": null,
       "grid_area": null,
       "grid_auto_columns": null,
       "grid_auto_flow": null,
       "grid_auto_rows": null,
       "grid_column": null,
       "grid_gap": null,
       "grid_row": null,
       "grid_template_areas": null,
       "grid_template_columns": null,
       "grid_template_rows": null,
       "height": null,
       "justify_content": null,
       "justify_items": null,
       "left": null,
       "margin": null,
       "max_height": null,
       "max_width": null,
       "min_height": null,
       "min_width": null,
       "object_fit": null,
       "object_position": null,
       "order": null,
       "overflow": null,
       "overflow_x": null,
       "overflow_y": null,
       "padding": null,
       "right": null,
       "top": null,
       "visibility": null,
       "width": null
      }
     },
     "1c3a9614110d44bf88ca428dba3a4486": {
      "model_module": "@jupyter-widgets/controls",
      "model_module_version": "1.5.0",
      "model_name": "FloatProgressModel",
      "state": {
       "_dom_classes": [],
       "_model_module": "@jupyter-widgets/controls",
       "_model_module_version": "1.5.0",
       "_model_name": "FloatProgressModel",
       "_view_count": null,
       "_view_module": "@jupyter-widgets/controls",
       "_view_module_version": "1.5.0",
       "_view_name": "ProgressView",
       "bar_style": "success",
       "description": "100%",
       "description_tooltip": null,
       "layout": "IPY_MODEL_b9b9982ea63f415e896e3a74cc93d148",
       "max": 7544.0,
       "min": 0.0,
       "orientation": "horizontal",
       "style": "IPY_MODEL_e00a8c27496a4cb58e2ffbc9218ff6c6",
       "value": 7544.0
      }
     },
     "3c8158b2dcc2459e902ecb6e52368f89": {
      "model_module": "@jupyter-widgets/controls",
      "model_module_version": "1.5.0",
      "model_name": "DescriptionStyleModel",
      "state": {
       "_model_module": "@jupyter-widgets/controls",
       "_model_module_version": "1.5.0",
       "_model_name": "DescriptionStyleModel",
       "_view_count": null,
       "_view_module": "@jupyter-widgets/base",
       "_view_module_version": "1.2.0",
       "_view_name": "StyleView",
       "description_width": ""
      }
     },
     "48eb3eeaa0b74245a6087c46c770ddcb": {
      "model_module": "@jupyter-widgets/controls",
      "model_module_version": "1.5.0",
      "model_name": "HTMLModel",
      "state": {
       "_dom_classes": [],
       "_model_module": "@jupyter-widgets/controls",
       "_model_module_version": "1.5.0",
       "_model_name": "HTMLModel",
       "_view_count": null,
       "_view_module": "@jupyter-widgets/controls",
       "_view_module_version": "1.5.0",
       "_view_name": "HTMLView",
       "description": "",
       "description_tooltip": null,
       "layout": "IPY_MODEL_e2d748785ecc4b378005ec8e1de1f03b",
       "placeholder": "​",
       "style": "IPY_MODEL_3c8158b2dcc2459e902ecb6e52368f89",
       "value": " 7544/7544 [00:10&lt;00:00, 727.10it/s]"
      }
     },
     "4b95500e818e48fe861d0a12811f9551": {
      "model_module": "@jupyter-widgets/controls",
      "model_module_version": "1.5.0",
      "model_name": "ProgressStyleModel",
      "state": {
       "_model_module": "@jupyter-widgets/controls",
       "_model_module_version": "1.5.0",
       "_model_name": "ProgressStyleModel",
       "_view_count": null,
       "_view_module": "@jupyter-widgets/base",
       "_view_module_version": "1.2.0",
       "_view_name": "StyleView",
       "bar_color": null,
       "description_width": "initial"
      }
     },
     "71368294db734e988fbbb4691671bf97": {
      "model_module": "@jupyter-widgets/base",
      "model_module_version": "1.2.0",
      "model_name": "LayoutModel",
      "state": {
       "_model_module": "@jupyter-widgets/base",
       "_model_module_version": "1.2.0",
       "_model_name": "LayoutModel",
       "_view_count": null,
       "_view_module": "@jupyter-widgets/base",
       "_view_module_version": "1.2.0",
       "_view_name": "LayoutView",
       "align_content": null,
       "align_items": null,
       "align_self": null,
       "border": null,
       "bottom": null,
       "display": null,
       "flex": null,
       "flex_flow": null,
       "grid_area": null,
       "grid_auto_columns": null,
       "grid_auto_flow": null,
       "grid_auto_rows": null,
       "grid_column": null,
       "grid_gap": null,
       "grid_row": null,
       "grid_template_areas": null,
       "grid_template_columns": null,
       "grid_template_rows": null,
       "height": null,
       "justify_content": null,
       "justify_items": null,
       "left": null,
       "margin": null,
       "max_height": null,
       "max_width": null,
       "min_height": null,
       "min_width": null,
       "object_fit": null,
       "object_position": null,
       "order": null,
       "overflow": null,
       "overflow_x": null,
       "overflow_y": null,
       "padding": null,
       "right": null,
       "top": null,
       "visibility": null,
       "width": null
      }
     },
     "875571d235274d90a1f1d89a30c38a06": {
      "model_module": "@jupyter-widgets/base",
      "model_module_version": "1.2.0",
      "model_name": "LayoutModel",
      "state": {
       "_model_module": "@jupyter-widgets/base",
       "_model_module_version": "1.2.0",
       "_model_name": "LayoutModel",
       "_view_count": null,
       "_view_module": "@jupyter-widgets/base",
       "_view_module_version": "1.2.0",
       "_view_name": "LayoutView",
       "align_content": null,
       "align_items": null,
       "align_self": null,
       "border": null,
       "bottom": null,
       "display": null,
       "flex": null,
       "flex_flow": null,
       "grid_area": null,
       "grid_auto_columns": null,
       "grid_auto_flow": null,
       "grid_auto_rows": null,
       "grid_column": null,
       "grid_gap": null,
       "grid_row": null,
       "grid_template_areas": null,
       "grid_template_columns": null,
       "grid_template_rows": null,
       "height": null,
       "justify_content": null,
       "justify_items": null,
       "left": null,
       "margin": null,
       "max_height": null,
       "max_width": null,
       "min_height": null,
       "min_width": null,
       "object_fit": null,
       "object_position": null,
       "order": null,
       "overflow": null,
       "overflow_x": null,
       "overflow_y": null,
       "padding": null,
       "right": null,
       "top": null,
       "visibility": null,
       "width": null
      }
     },
     "891c4e37e6db479ba543446a888ed41d": {
      "model_module": "@jupyter-widgets/base",
      "model_module_version": "1.2.0",
      "model_name": "LayoutModel",
      "state": {
       "_model_module": "@jupyter-widgets/base",
       "_model_module_version": "1.2.0",
       "_model_name": "LayoutModel",
       "_view_count": null,
       "_view_module": "@jupyter-widgets/base",
       "_view_module_version": "1.2.0",
       "_view_name": "LayoutView",
       "align_content": null,
       "align_items": null,
       "align_self": null,
       "border": null,
       "bottom": null,
       "display": null,
       "flex": null,
       "flex_flow": null,
       "grid_area": null,
       "grid_auto_columns": null,
       "grid_auto_flow": null,
       "grid_auto_rows": null,
       "grid_column": null,
       "grid_gap": null,
       "grid_row": null,
       "grid_template_areas": null,
       "grid_template_columns": null,
       "grid_template_rows": null,
       "height": null,
       "justify_content": null,
       "justify_items": null,
       "left": null,
       "margin": null,
       "max_height": null,
       "max_width": null,
       "min_height": null,
       "min_width": null,
       "object_fit": null,
       "object_position": null,
       "order": null,
       "overflow": null,
       "overflow_x": null,
       "overflow_y": null,
       "padding": null,
       "right": null,
       "top": null,
       "visibility": null,
       "width": null
      }
     },
     "95e09a44e6fc4e0194159c4f783ebcbb": {
      "model_module": "@jupyter-widgets/base",
      "model_module_version": "1.2.0",
      "model_name": "LayoutModel",
      "state": {
       "_model_module": "@jupyter-widgets/base",
       "_model_module_version": "1.2.0",
       "_model_name": "LayoutModel",
       "_view_count": null,
       "_view_module": "@jupyter-widgets/base",
       "_view_module_version": "1.2.0",
       "_view_name": "LayoutView",
       "align_content": null,
       "align_items": null,
       "align_self": null,
       "border": null,
       "bottom": null,
       "display": null,
       "flex": null,
       "flex_flow": null,
       "grid_area": null,
       "grid_auto_columns": null,
       "grid_auto_flow": null,
       "grid_auto_rows": null,
       "grid_column": null,
       "grid_gap": null,
       "grid_row": null,
       "grid_template_areas": null,
       "grid_template_columns": null,
       "grid_template_rows": null,
       "height": null,
       "justify_content": null,
       "justify_items": null,
       "left": null,
       "margin": null,
       "max_height": null,
       "max_width": null,
       "min_height": null,
       "min_width": null,
       "object_fit": null,
       "object_position": null,
       "order": null,
       "overflow": null,
       "overflow_x": null,
       "overflow_y": null,
       "padding": null,
       "right": null,
       "top": null,
       "visibility": null,
       "width": null
      }
     },
     "96c3d445b109422c9bd7b6ec18bc4a5f": {
      "model_module": "@jupyter-widgets/controls",
      "model_module_version": "1.5.0",
      "model_name": "HBoxModel",
      "state": {
       "_dom_classes": [],
       "_model_module": "@jupyter-widgets/controls",
       "_model_module_version": "1.5.0",
       "_model_name": "HBoxModel",
       "_view_count": null,
       "_view_module": "@jupyter-widgets/controls",
       "_view_module_version": "1.5.0",
       "_view_name": "HBoxView",
       "box_style": "",
       "children": [
        "IPY_MODEL_1c3a9614110d44bf88ca428dba3a4486",
        "IPY_MODEL_48eb3eeaa0b74245a6087c46c770ddcb"
       ],
       "layout": "IPY_MODEL_b2b4c91931734d818c4bcc4912425c8a"
      }
     },
     "aec7571a0fe6462eba11fb640f776ec6": {
      "model_module": "@jupyter-widgets/controls",
      "model_module_version": "1.5.0",
      "model_name": "DescriptionStyleModel",
      "state": {
       "_model_module": "@jupyter-widgets/controls",
       "_model_module_version": "1.5.0",
       "_model_name": "DescriptionStyleModel",
       "_view_count": null,
       "_view_module": "@jupyter-widgets/base",
       "_view_module_version": "1.2.0",
       "_view_name": "StyleView",
       "description_width": ""
      }
     },
     "b2b4c91931734d818c4bcc4912425c8a": {
      "model_module": "@jupyter-widgets/base",
      "model_module_version": "1.2.0",
      "model_name": "LayoutModel",
      "state": {
       "_model_module": "@jupyter-widgets/base",
       "_model_module_version": "1.2.0",
       "_model_name": "LayoutModel",
       "_view_count": null,
       "_view_module": "@jupyter-widgets/base",
       "_view_module_version": "1.2.0",
       "_view_name": "LayoutView",
       "align_content": null,
       "align_items": null,
       "align_self": null,
       "border": null,
       "bottom": null,
       "display": null,
       "flex": null,
       "flex_flow": null,
       "grid_area": null,
       "grid_auto_columns": null,
       "grid_auto_flow": null,
       "grid_auto_rows": null,
       "grid_column": null,
       "grid_gap": null,
       "grid_row": null,
       "grid_template_areas": null,
       "grid_template_columns": null,
       "grid_template_rows": null,
       "height": null,
       "justify_content": null,
       "justify_items": null,
       "left": null,
       "margin": null,
       "max_height": null,
       "max_width": null,
       "min_height": null,
       "min_width": null,
       "object_fit": null,
       "object_position": null,
       "order": null,
       "overflow": null,
       "overflow_x": null,
       "overflow_y": null,
       "padding": null,
       "right": null,
       "top": null,
       "visibility": null,
       "width": null
      }
     },
     "b9b9982ea63f415e896e3a74cc93d148": {
      "model_module": "@jupyter-widgets/base",
      "model_module_version": "1.2.0",
      "model_name": "LayoutModel",
      "state": {
       "_model_module": "@jupyter-widgets/base",
       "_model_module_version": "1.2.0",
       "_model_name": "LayoutModel",
       "_view_count": null,
       "_view_module": "@jupyter-widgets/base",
       "_view_module_version": "1.2.0",
       "_view_name": "LayoutView",
       "align_content": null,
       "align_items": null,
       "align_self": null,
       "border": null,
       "bottom": null,
       "display": null,
       "flex": null,
       "flex_flow": null,
       "grid_area": null,
       "grid_auto_columns": null,
       "grid_auto_flow": null,
       "grid_auto_rows": null,
       "grid_column": null,
       "grid_gap": null,
       "grid_row": null,
       "grid_template_areas": null,
       "grid_template_columns": null,
       "grid_template_rows": null,
       "height": null,
       "justify_content": null,
       "justify_items": null,
       "left": null,
       "margin": null,
       "max_height": null,
       "max_width": null,
       "min_height": null,
       "min_width": null,
       "object_fit": null,
       "object_position": null,
       "order": null,
       "overflow": null,
       "overflow_x": null,
       "overflow_y": null,
       "padding": null,
       "right": null,
       "top": null,
       "visibility": null,
       "width": null
      }
     },
     "bc29bec2928e43af84a5fbc03dd6af92": {
      "model_module": "@jupyter-widgets/controls",
      "model_module_version": "1.5.0",
      "model_name": "ProgressStyleModel",
      "state": {
       "_model_module": "@jupyter-widgets/controls",
       "_model_module_version": "1.5.0",
       "_model_name": "ProgressStyleModel",
       "_view_count": null,
       "_view_module": "@jupyter-widgets/base",
       "_view_module_version": "1.2.0",
       "_view_name": "StyleView",
       "bar_color": null,
       "description_width": "initial"
      }
     },
     "c5288ba305284b03838f961b799e2e7c": {
      "model_module": "@jupyter-widgets/controls",
      "model_module_version": "1.5.0",
      "model_name": "FloatProgressModel",
      "state": {
       "_dom_classes": [],
       "_model_module": "@jupyter-widgets/controls",
       "_model_module_version": "1.5.0",
       "_model_name": "FloatProgressModel",
       "_view_count": null,
       "_view_module": "@jupyter-widgets/controls",
       "_view_module_version": "1.5.0",
       "_view_name": "ProgressView",
       "bar_style": "success",
       "description": "100%",
       "description_tooltip": null,
       "layout": "IPY_MODEL_71368294db734e988fbbb4691671bf97",
       "max": 4715.0,
       "min": 0.0,
       "orientation": "horizontal",
       "style": "IPY_MODEL_bc29bec2928e43af84a5fbc03dd6af92",
       "value": 4715.0
      }
     },
     "cd8c83a5cc5e4f68b8852566a67f17c0": {
      "model_module": "@jupyter-widgets/base",
      "model_module_version": "1.2.0",
      "model_name": "LayoutModel",
      "state": {
       "_model_module": "@jupyter-widgets/base",
       "_model_module_version": "1.2.0",
       "_model_name": "LayoutModel",
       "_view_count": null,
       "_view_module": "@jupyter-widgets/base",
       "_view_module_version": "1.2.0",
       "_view_name": "LayoutView",
       "align_content": null,
       "align_items": null,
       "align_self": null,
       "border": null,
       "bottom": null,
       "display": null,
       "flex": null,
       "flex_flow": null,
       "grid_area": null,
       "grid_auto_columns": null,
       "grid_auto_flow": null,
       "grid_auto_rows": null,
       "grid_column": null,
       "grid_gap": null,
       "grid_row": null,
       "grid_template_areas": null,
       "grid_template_columns": null,
       "grid_template_rows": null,
       "height": null,
       "justify_content": null,
       "justify_items": null,
       "left": null,
       "margin": null,
       "max_height": null,
       "max_width": null,
       "min_height": null,
       "min_width": null,
       "object_fit": null,
       "object_position": null,
       "order": null,
       "overflow": null,
       "overflow_x": null,
       "overflow_y": null,
       "padding": null,
       "right": null,
       "top": null,
       "visibility": null,
       "width": null
      }
     },
     "d324466e7aee4f01b35809921a2a7984": {
      "model_module": "@jupyter-widgets/controls",
      "model_module_version": "1.5.0",
      "model_name": "HBoxModel",
      "state": {
       "_dom_classes": [],
       "_model_module": "@jupyter-widgets/controls",
       "_model_module_version": "1.5.0",
       "_model_name": "HBoxModel",
       "_view_count": null,
       "_view_module": "@jupyter-widgets/controls",
       "_view_module_version": "1.5.0",
       "_view_name": "HBoxView",
       "box_style": "",
       "children": [
        "IPY_MODEL_005291b78de34cdda7e3ba3307733e21",
        "IPY_MODEL_ec005f6157a440b6b6d9958a11008e99"
       ],
       "layout": "IPY_MODEL_192aed146db84007899c9a3cb0cb2664"
      }
     },
     "d6dd97c138964ef8b311dd6021536e80": {
      "model_module": "@jupyter-widgets/controls",
      "model_module_version": "1.5.0",
      "model_name": "DescriptionStyleModel",
      "state": {
       "_model_module": "@jupyter-widgets/controls",
       "_model_module_version": "1.5.0",
       "_model_name": "DescriptionStyleModel",
       "_view_count": null,
       "_view_module": "@jupyter-widgets/base",
       "_view_module_version": "1.2.0",
       "_view_name": "StyleView",
       "description_width": ""
      }
     },
     "e00a8c27496a4cb58e2ffbc9218ff6c6": {
      "model_module": "@jupyter-widgets/controls",
      "model_module_version": "1.5.0",
      "model_name": "ProgressStyleModel",
      "state": {
       "_model_module": "@jupyter-widgets/controls",
       "_model_module_version": "1.5.0",
       "_model_name": "ProgressStyleModel",
       "_view_count": null,
       "_view_module": "@jupyter-widgets/base",
       "_view_module_version": "1.2.0",
       "_view_name": "StyleView",
       "bar_color": null,
       "description_width": "initial"
      }
     },
     "e2d748785ecc4b378005ec8e1de1f03b": {
      "model_module": "@jupyter-widgets/base",
      "model_module_version": "1.2.0",
      "model_name": "LayoutModel",
      "state": {
       "_model_module": "@jupyter-widgets/base",
       "_model_module_version": "1.2.0",
       "_model_name": "LayoutModel",
       "_view_count": null,
       "_view_module": "@jupyter-widgets/base",
       "_view_module_version": "1.2.0",
       "_view_name": "LayoutView",
       "align_content": null,
       "align_items": null,
       "align_self": null,
       "border": null,
       "bottom": null,
       "display": null,
       "flex": null,
       "flex_flow": null,
       "grid_area": null,
       "grid_auto_columns": null,
       "grid_auto_flow": null,
       "grid_auto_rows": null,
       "grid_column": null,
       "grid_gap": null,
       "grid_row": null,
       "grid_template_areas": null,
       "grid_template_columns": null,
       "grid_template_rows": null,
       "height": null,
       "justify_content": null,
       "justify_items": null,
       "left": null,
       "margin": null,
       "max_height": null,
       "max_width": null,
       "min_height": null,
       "min_width": null,
       "object_fit": null,
       "object_position": null,
       "order": null,
       "overflow": null,
       "overflow_x": null,
       "overflow_y": null,
       "padding": null,
       "right": null,
       "top": null,
       "visibility": null,
       "width": null
      }
     },
     "ec005f6157a440b6b6d9958a11008e99": {
      "model_module": "@jupyter-widgets/controls",
      "model_module_version": "1.5.0",
      "model_name": "HTMLModel",
      "state": {
       "_dom_classes": [],
       "_model_module": "@jupyter-widgets/controls",
       "_model_module_version": "1.5.0",
       "_model_name": "HTMLModel",
       "_view_count": null,
       "_view_module": "@jupyter-widgets/controls",
       "_view_module_version": "1.5.0",
       "_view_name": "HTMLView",
       "description": "",
       "description_tooltip": null,
       "layout": "IPY_MODEL_cd8c83a5cc5e4f68b8852566a67f17c0",
       "placeholder": "​",
       "style": "IPY_MODEL_aec7571a0fe6462eba11fb640f776ec6",
       "value": " 943/943 [00:11&lt;00:00, 83.26it/s]"
      }
     }
    },
    "version_major": 2,
    "version_minor": 0
   }
  }
 },
 "nbformat": 4,
 "nbformat_minor": 2
}