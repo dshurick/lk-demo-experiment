{
 "cells": [
  {
   "cell_type": "markdown",
   "metadata": {},
   "source": [
    "# Keras MF experimentation\n",
    "\n",
    "This notebook experiments with building MF models in Keras on TensorFlow"
   ]
  },
  {
   "cell_type": "code",
   "execution_count": 1,
   "metadata": {},
   "outputs": [],
   "source": [
    "import sys\n",
    "import logging\n",
    "_h = logging.StreamHandler(sys.stdout)\n",
    "_lk_h = logging.getLogger('lenskit')\n",
    "_lk_h.addHandler(_h)\n",
    "_lk_h.setLevel(logging.INFO)"
   ]
  },
  {
   "cell_type": "code",
   "execution_count": 2,
   "metadata": {},
   "outputs": [
    {
     "name": "stderr",
     "output_type": "stream",
     "text": [
      "C:\\Users\\michaelekstrand\\Anaconda3\\envs\\lk-demo\\lib\\site-packages\\fastparquet\\dataframe.py:5: FutureWarning: pandas.core.index is deprecated and will be removed in a future version.  The public classes are available in the top-level namespace.\n",
      "  from pandas.core.index import CategoricalIndex, RangeIndex, Index, MultiIndex\n"
     ]
    }
   ],
   "source": [
    "from lkdemo.datasets import ml20m"
   ]
  },
  {
   "cell_type": "code",
   "execution_count": 3,
   "metadata": {},
   "outputs": [],
   "source": [
    "import pandas as pd\n",
    "import numpy as np\n",
    "import seaborn as sns\n",
    "import matplotlib.pyplot as plt\n",
    "import tensorflow as tf\n",
    "from tensorflow import keras as k"
   ]
  },
  {
   "cell_type": "code",
   "execution_count": 5,
   "metadata": {},
   "outputs": [],
   "source": [
    "from lenskit import crossfold as xf\n",
    "from lenskit.algorithms import Recommender\n",
    "from lenskit.algorithms.basic import Bias\n",
    "from lenskit.algorithms.als import BiasedMF\n",
    "from lenskit.algorithms.funksvd import FunkSVD\n",
    "from lenskit import batch"
   ]
  },
  {
   "cell_type": "code",
   "execution_count": 6,
   "metadata": {},
   "outputs": [],
   "source": [
    "ratings = ml20m.ratings"
   ]
  },
  {
   "cell_type": "code",
   "execution_count": 7,
   "metadata": {},
   "outputs": [
    {
     "name": "stdout",
     "output_type": "stream",
     "text": [
      "<class 'pandas.core.frame.DataFrame'>\n",
      "RangeIndex: 20000263 entries, 0 to 20000262\n",
      "Data columns (total 6 columns):\n",
      " #   Column     Dtype  \n",
      "---  ------     -----  \n",
      " 0   user       int32  \n",
      " 1   item       int32  \n",
      " 2   rating     float64\n",
      " 3   timestamp  int32  \n",
      " 4   uno        int32  \n",
      " 5   ino        int32  \n",
      "dtypes: float64(1), int32(5)\n",
      "memory usage: 534.1 MB\n"
     ]
    }
   ],
   "source": [
    "uidx = pd.Index(ratings['user'].unique())\n",
    "iidx = pd.Index(ratings['item'].unique())\n",
    "ratings['uno'] = uidx.get_indexer(ratings['user']).astype('i4')\n",
    "ratings['ino'] = iidx.get_indexer(ratings['item']).astype('i4')\n",
    "ratings.info()"
   ]
  },
  {
   "cell_type": "code",
   "execution_count": 8,
   "metadata": {},
   "outputs": [
    {
     "data": {
      "text/plain": [
       "138493"
      ]
     },
     "execution_count": 8,
     "metadata": {},
     "output_type": "execute_result"
    }
   ],
   "source": [
    "n_users = len(uidx)\n",
    "n_users"
   ]
  },
  {
   "cell_type": "code",
   "execution_count": 9,
   "metadata": {},
   "outputs": [
    {
     "data": {
      "text/plain": [
       "26744"
      ]
     },
     "execution_count": 9,
     "metadata": {},
     "output_type": "execute_result"
    }
   ],
   "source": [
    "n_items = len(iidx)\n",
    "n_items"
   ]
  },
  {
   "cell_type": "code",
   "execution_count": 10,
   "metadata": {},
   "outputs": [
    {
     "name": "stdout",
     "output_type": "stream",
     "text": [
      "sampling 138493 users into 1 partitions (n=10000)\n"
     ]
    }
   ],
   "source": [
    "train, test = next(xf.sample_users(ratings, 1, 10000, xf.SampleN(5)))"
   ]
  },
  {
   "cell_type": "code",
   "execution_count": 11,
   "metadata": {},
   "outputs": [
    {
     "name": "stdout",
     "output_type": "stream",
     "text": [
      "building bias model for 19950263 ratings\n",
      "global mean: 3.525\n",
      "computed means for 26743 items\n",
      "computed means for 138493 users\n"
     ]
    },
    {
     "data": {
      "text/plain": [
       "<lenskit.algorithms.basic.Bias at 0x1c435e59108>"
      ]
     },
     "execution_count": 11,
     "metadata": {},
     "output_type": "execute_result"
    }
   ],
   "source": [
    "bias = Bias()\n",
    "bias.fit(train)"
   ]
  },
  {
   "cell_type": "code",
   "execution_count": 12,
   "metadata": {},
   "outputs": [
    {
     "name": "stdout",
     "output_type": "stream",
     "text": [
      "using model store NoopModelStore\n",
      "generating 50000 predictions for 10000 users\n"
     ]
    },
    {
     "data": {
      "text/plain": [
       "0.900496214297442"
      ]
     },
     "execution_count": 12,
     "metadata": {},
     "output_type": "execute_result"
    }
   ],
   "source": [
    "bias_preds = batch.predict(bias, test)\n",
    "bias_preds['error'] = bias_preds['rating'] - bias_preds['prediction']\n",
    "np.sqrt(np.mean(np.square(bias_preds['error'])))"
   ]
  },
  {
   "cell_type": "code",
   "execution_count": 13,
   "metadata": {},
   "outputs": [
    {
     "name": "stdout",
     "output_type": "stream",
     "text": [
      "[ 0ms] fitting bias model\n",
      "building bias model for 19950263 ratings\n",
      "global mean: 3.525\n",
      "computed means for 26743 items\n",
      "computed means for 138493 users\n",
      "[9.69s] normalizing 138493x26743 matrix (19950263 nnz)\n",
      "[12.15s] training biased MF model with ALS for 25 features\n",
      "[17.88s] finished epoch 0 (|ΔP|=474.305, |ΔQ|=180.702)\n",
      "[20.71s] finished epoch 1 (|ΔP|=159.977, |ΔQ|=74.806)\n",
      "[23.55s] finished epoch 2 (|ΔP|=108.074, |ΔQ|=54.944)\n",
      "[26.57s] finished epoch 3 (|ΔP|=62.815, |ΔQ|=34.773)\n",
      "[29.68s] finished epoch 4 (|ΔP|=42.396, |ΔQ|=24.184)\n",
      "[32.72s] finished epoch 5 (|ΔP|=29.860, |ΔQ|=17.590)\n",
      "[35.70s] finished epoch 6 (|ΔP|=20.781, |ΔQ|=13.112)\n",
      "[38.71s] finished epoch 7 (|ΔP|=15.175, |ΔQ|=10.090)\n",
      "[41.77s] finished epoch 8 (|ΔP|=11.492, |ΔQ|=7.980)\n",
      "[44.75s] finished epoch 9 (|ΔP|=9.003, |ΔQ|=6.512)\n",
      "[47.75s] finished epoch 10 (|ΔP|=7.294, |ΔQ|=5.478)\n",
      "[50.88s] finished epoch 11 (|ΔP|=6.055, |ΔQ|=4.710)\n",
      "[53.89s] finished epoch 12 (|ΔP|=5.102, |ΔQ|=4.105)\n",
      "[56.88s] finished epoch 13 (|ΔP|=4.345, |ΔQ|=3.610)\n",
      "[59.99s] finished epoch 14 (|ΔP|=3.734, |ΔQ|=3.197)\n",
      "[1m3.22s] finished epoch 15 (|ΔP|=3.240, |ΔQ|=2.847)\n",
      "[1m6.54s] finished epoch 16 (|ΔP|=2.838, |ΔQ|=2.551)\n",
      "[1m9.82s] finished epoch 17 (|ΔP|=2.509, |ΔQ|=2.298)\n",
      "[1m13.25s] finished epoch 18 (|ΔP|=2.237, |ΔQ|=2.082)\n",
      "[1m16.43s] finished epoch 19 (|ΔP|=2.009, |ΔQ|=1.895)\n",
      "trained model in 1m16.48s (|P|=274.574095, |Q|=150.147807)\n"
     ]
    },
    {
     "data": {
      "text/plain": [
       "<lenskit.algorithms.als.BiasedMF at 0x1c437c60648>"
      ]
     },
     "execution_count": 13,
     "metadata": {},
     "output_type": "execute_result"
    }
   ],
   "source": [
    "als = BiasedMF(25)\n",
    "als.fit(train)"
   ]
  },
  {
   "cell_type": "code",
   "execution_count": 14,
   "metadata": {},
   "outputs": [
    {
     "name": "stdout",
     "output_type": "stream",
     "text": [
      "using model store NoopModelStore\n",
      "generating 50000 predictions for 10000 users\n"
     ]
    },
    {
     "data": {
      "text/plain": [
       "0.852457501634329"
      ]
     },
     "execution_count": 14,
     "metadata": {},
     "output_type": "execute_result"
    }
   ],
   "source": [
    "als_preds = batch.predict(als, test)\n",
    "als_preds['error'] = als_preds['rating'] - als_preds['prediction']\n",
    "np.sqrt(np.mean(np.square(als_preds['error'])))"
   ]
  },
  {
   "cell_type": "markdown",
   "metadata": {},
   "source": [
    "    funk = FunkSVD(25)\n",
    "    funk.fit(train)"
   ]
  },
  {
   "cell_type": "markdown",
   "metadata": {},
   "source": [
    "    funk_preds = batch.predict(funk, test)\n",
    "    funk_preds['error'] = funk_preds['rating'] - funk_preds['prediction']\n",
    "    np.sqrt(np.mean(np.square(funk_preds['error'])))"
   ]
  },
  {
   "cell_type": "code",
   "execution_count": 15,
   "metadata": {},
   "outputs": [
    {
     "data": {
      "text/html": [
       "<div>\n",
       "<style scoped>\n",
       "    .dataframe tbody tr th:only-of-type {\n",
       "        vertical-align: middle;\n",
       "    }\n",
       "\n",
       "    .dataframe tbody tr th {\n",
       "        vertical-align: top;\n",
       "    }\n",
       "\n",
       "    .dataframe thead th {\n",
       "        text-align: right;\n",
       "    }\n",
       "</style>\n",
       "<table border=\"1\" class=\"dataframe\">\n",
       "  <thead>\n",
       "    <tr style=\"text-align: right;\">\n",
       "      <th></th>\n",
       "      <th>user</th>\n",
       "      <th>item</th>\n",
       "      <th>rating</th>\n",
       "      <th>timestamp</th>\n",
       "      <th>uno</th>\n",
       "      <th>ino</th>\n",
       "      <th>nrating</th>\n",
       "      <th>i_bias</th>\n",
       "      <th>u_bias</th>\n",
       "    </tr>\n",
       "  </thead>\n",
       "  <tbody>\n",
       "    <tr>\n",
       "      <th>0</th>\n",
       "      <td>1</td>\n",
       "      <td>2</td>\n",
       "      <td>3.5</td>\n",
       "      <td>1112486027</td>\n",
       "      <td>0</td>\n",
       "      <td>0</td>\n",
       "      <td>0.174863</td>\n",
       "      <td>-0.313905</td>\n",
       "      <td>0.113771</td>\n",
       "    </tr>\n",
       "    <tr>\n",
       "      <th>1</th>\n",
       "      <td>1</td>\n",
       "      <td>29</td>\n",
       "      <td>3.5</td>\n",
       "      <td>1112484676</td>\n",
       "      <td>0</td>\n",
       "      <td>1</td>\n",
       "      <td>-0.566214</td>\n",
       "      <td>0.427172</td>\n",
       "      <td>0.113771</td>\n",
       "    </tr>\n",
       "    <tr>\n",
       "      <th>2</th>\n",
       "      <td>1</td>\n",
       "      <td>32</td>\n",
       "      <td>3.5</td>\n",
       "      <td>1112484819</td>\n",
       "      <td>0</td>\n",
       "      <td>2</td>\n",
       "      <td>-0.512570</td>\n",
       "      <td>0.373528</td>\n",
       "      <td>0.113771</td>\n",
       "    </tr>\n",
       "    <tr>\n",
       "      <th>3</th>\n",
       "      <td>1</td>\n",
       "      <td>47</td>\n",
       "      <td>3.5</td>\n",
       "      <td>1112484727</td>\n",
       "      <td>0</td>\n",
       "      <td>3</td>\n",
       "      <td>-0.667298</td>\n",
       "      <td>0.528257</td>\n",
       "      <td>0.113771</td>\n",
       "    </tr>\n",
       "    <tr>\n",
       "      <th>4</th>\n",
       "      <td>1</td>\n",
       "      <td>50</td>\n",
       "      <td>3.5</td>\n",
       "      <td>1112484580</td>\n",
       "      <td>0</td>\n",
       "      <td>4</td>\n",
       "      <td>-0.947923</td>\n",
       "      <td>0.808881</td>\n",
       "      <td>0.113771</td>\n",
       "    </tr>\n",
       "  </tbody>\n",
       "</table>\n",
       "</div>"
      ],
      "text/plain": [
       "   user  item  rating   timestamp  uno  ino   nrating    i_bias    u_bias\n",
       "0     1     2     3.5  1112486027    0    0  0.174863 -0.313905  0.113771\n",
       "1     1    29     3.5  1112484676    0    1 -0.566214  0.427172  0.113771\n",
       "2     1    32     3.5  1112484819    0    2 -0.512570  0.373528  0.113771\n",
       "3     1    47     3.5  1112484727    0    3 -0.667298  0.528257  0.113771\n",
       "4     1    50     3.5  1112484580    0    4 -0.947923  0.808881  0.113771"
      ]
     },
     "execution_count": 15,
     "metadata": {},
     "output_type": "execute_result"
    }
   ],
   "source": [
    "gbias = train['rating'].mean()\n",
    "ntrs = train.assign(nrating = ratings['rating'] - gbias)\n",
    "ibias = ntrs.groupby('item')['nrating'].mean().rename('i_bias')\n",
    "ntrs = ntrs.join(ibias, on='item')\n",
    "ntrs['nrating'] -= ntrs['i_bias'].fillna(0)\n",
    "ubias = ntrs.groupby('user')['nrating'].mean().rename('u_bias')\n",
    "ntrs = ntrs.join(ubias, on='user')\n",
    "ntrs['nrating'] -= ntrs['u_bias']\n",
    "ntrs.head()"
   ]
  },
  {
   "cell_type": "markdown",
   "metadata": {},
   "source": [
    "## Regularized MF for explicit ratings\n",
    "\n",
    "We're going to build up regularized MF for explicit ratings, based on [this tutorial](https://towardsdatascience.com/building-a-book-recommendation-system-using-keras-1fba34180699) and [this example code](https://github.com/chinchi-hsu/KerasCollaborativeFiltering):"
   ]
  },
  {
   "cell_type": "code",
   "execution_count": 16,
   "metadata": {},
   "outputs": [],
   "source": [
    "features = 25"
   ]
  },
  {
   "cell_type": "code",
   "execution_count": 17,
   "metadata": {},
   "outputs": [],
   "source": [
    "k.backend.set_floatx('float64')"
   ]
  },
  {
   "cell_type": "code",
   "execution_count": 31,
   "metadata": {},
   "outputs": [],
   "source": [
    "graph = tf.Graph()\n",
    "graph.seed = 42"
   ]
  },
  {
   "cell_type": "markdown",
   "metadata": {},
   "source": [
    "First, the user layers:"
   ]
  },
  {
   "cell_type": "code",
   "execution_count": 32,
   "metadata": {},
   "outputs": [],
   "source": [
    "with graph.as_default():\n",
    "    u_input = k.Input(shape=(1,), dtype='int32', name='user')\n",
    "    u_reg = k.regularizers.l2(0.02)\n",
    "    u_embed = k.layers.Embedding(input_dim=n_users, output_dim=features, input_length=1,\n",
    "                                 activity_regularizer=u_reg,\n",
    "                                 embeddings_initializer='random_normal',\n",
    "                                 name='user-embed')(u_input)\n",
    "    u_flat = k.layers.Flatten(name='user-vector')(u_embed)"
   ]
  },
  {
   "cell_type": "markdown",
   "metadata": {},
   "source": [
    "And the item layers:"
   ]
  },
  {
   "cell_type": "code",
   "execution_count": 33,
   "metadata": {},
   "outputs": [],
   "source": [
    "with graph.as_default():\n",
    "    i_input = k.Input(shape=(1,), dtype='int32', name='item')\n",
    "    i_reg = k.regularizers.l2(0.02)\n",
    "    i_embed = k.layers.Embedding(input_dim=n_items, output_dim=features, input_length=1,\n",
    "                                 activity_regularizer=i_reg,\n",
    "                                 embeddings_initializer='random_normal',\n",
    "                                 name='item-embed')(i_input)\n",
    "    i_flat = k.layers.Flatten(name='item-vector')(i_embed)"
   ]
  },
  {
   "cell_type": "markdown",
   "metadata": {},
   "source": [
    "And put it together:"
   ]
  },
  {
   "cell_type": "code",
   "execution_count": 34,
   "metadata": {},
   "outputs": [
    {
     "name": "stdout",
     "output_type": "stream",
     "text": [
      "Model: \"classic-mf\"\n",
      "__________________________________________________________________________________________________\n",
      "Layer (type)                    Output Shape         Param #     Connected to                     \n",
      "==================================================================================================\n",
      "user (InputLayer)               [(None, 1)]          0                                            \n",
      "__________________________________________________________________________________________________\n",
      "item (InputLayer)               [(None, 1)]          0                                            \n",
      "__________________________________________________________________________________________________\n",
      "user-embed (Embedding)          (None, 1, 25)        3462325     user[0][0]                       \n",
      "__________________________________________________________________________________________________\n",
      "item-embed (Embedding)          (None, 1, 25)        668600      item[0][0]                       \n",
      "__________________________________________________________________________________________________\n",
      "user-vector (Flatten)           (None, 25)           0           user-embed[0][0]                 \n",
      "__________________________________________________________________________________________________\n",
      "item-vector (Flatten)           (None, 25)           0           item-embed[0][0]                 \n",
      "__________________________________________________________________________________________________\n",
      "score (Dot)                     (None, 1)            0           user-vector[0][0]                \n",
      "                                                                 item-vector[0][0]                \n",
      "==================================================================================================\n",
      "Total params: 4,130,925\n",
      "Trainable params: 4,130,925\n",
      "Non-trainable params: 0\n",
      "__________________________________________________________________________________________________\n"
     ]
    }
   ],
   "source": [
    "with graph.as_default():\n",
    "    prod = k.layers.Dot(name='score', axes=1)([u_flat, i_flat])\n",
    "    model = k.Model([u_input, i_input], prod, name='classic-mf')\n",
    "    model.summary()"
   ]
  },
  {
   "cell_type": "code",
   "execution_count": 35,
   "metadata": {},
   "outputs": [],
   "source": [
    "with graph.as_default():\n",
    "    model.compile('adam', 'mean_squared_error', metrics=['mae'])"
   ]
  },
  {
   "cell_type": "code",
   "execution_count": 39,
   "metadata": {},
   "outputs": [
    {
     "name": "stdout",
     "output_type": "stream",
     "text": [
      "Train on 19950263 samples\n",
      "Epoch 1/5\n",
      "19950263/19950263 [==============================] - 68s 3us/sample - loss: 0.6532 - mae: 0.6020\n",
      "Epoch 2/5\n",
      "19950263/19950263 [==============================] - 68s 3us/sample - loss: 0.6336 - mae: 0.5876\n",
      "Epoch 3/5\n",
      "19950263/19950263 [==============================] - 68s 3us/sample - loss: 0.6155 - mae: 0.5744\n",
      "Epoch 4/5\n",
      "19950263/19950263 [==============================] - 68s 3us/sample - loss: 0.6009 - mae: 0.5637\n",
      "Epoch 5/5\n",
      "19950263/19950263 [==============================] - 68s 3us/sample - loss: 0.5893 - mae: 0.5549\n"
     ]
    }
   ],
   "source": [
    "with graph.as_default():\n",
    "    mfit = model.fit([ntrs.uno, ntrs.ino], ntrs.nrating, epochs=5, batch_size=1024*8)"
   ]
  },
  {
   "cell_type": "code",
   "execution_count": 45,
   "metadata": {},
   "outputs": [
    {
     "data": {
      "text/html": [
       "<div>\n",
       "<style scoped>\n",
       "    .dataframe tbody tr th:only-of-type {\n",
       "        vertical-align: middle;\n",
       "    }\n",
       "\n",
       "    .dataframe tbody tr th {\n",
       "        vertical-align: top;\n",
       "    }\n",
       "\n",
       "    .dataframe thead th {\n",
       "        text-align: right;\n",
       "    }\n",
       "</style>\n",
       "<table border=\"1\" class=\"dataframe\">\n",
       "  <thead>\n",
       "    <tr style=\"text-align: right;\">\n",
       "      <th></th>\n",
       "      <th>user</th>\n",
       "      <th>item</th>\n",
       "      <th>rating</th>\n",
       "      <th>timestamp</th>\n",
       "      <th>uno</th>\n",
       "      <th>ino</th>\n",
       "      <th>pred</th>\n",
       "    </tr>\n",
       "  </thead>\n",
       "  <tbody>\n",
       "    <tr>\n",
       "      <th>639</th>\n",
       "      <td>7</td>\n",
       "      <td>1894</td>\n",
       "      <td>3.0</td>\n",
       "      <td>1011208487</td>\n",
       "      <td>6</td>\n",
       "      <td>487</td>\n",
       "      <td>0.250061</td>\n",
       "    </tr>\n",
       "    <tr>\n",
       "      <th>543</th>\n",
       "      <td>7</td>\n",
       "      <td>11</td>\n",
       "      <td>4.0</td>\n",
       "      <td>1011207889</td>\n",
       "      <td>6</td>\n",
       "      <td>386</td>\n",
       "      <td>0.126278</td>\n",
       "    </tr>\n",
       "    <tr>\n",
       "      <th>581</th>\n",
       "      <td>7</td>\n",
       "      <td>806</td>\n",
       "      <td>1.0</td>\n",
       "      <td>1011206295</td>\n",
       "      <td>6</td>\n",
       "      <td>449</td>\n",
       "      <td>-0.808468</td>\n",
       "    </tr>\n",
       "    <tr>\n",
       "      <th>578</th>\n",
       "      <td>7</td>\n",
       "      <td>750</td>\n",
       "      <td>5.0</td>\n",
       "      <td>1011206659</td>\n",
       "      <td>6</td>\n",
       "      <td>448</td>\n",
       "      <td>-0.652010</td>\n",
       "    </tr>\n",
       "    <tr>\n",
       "      <th>769</th>\n",
       "      <td>7</td>\n",
       "      <td>3864</td>\n",
       "      <td>3.0</td>\n",
       "      <td>1011207079</td>\n",
       "      <td>6</td>\n",
       "      <td>588</td>\n",
       "      <td>0.174732</td>\n",
       "    </tr>\n",
       "  </tbody>\n",
       "</table>\n",
       "</div>"
      ],
      "text/plain": [
       "     user  item  rating   timestamp  uno  ino      pred\n",
       "639     7  1894     3.0  1011208487    6  487  0.250061\n",
       "543     7    11     4.0  1011207889    6  386  0.126278\n",
       "581     7   806     1.0  1011206295    6  449 -0.808468\n",
       "578     7   750     5.0  1011206659    6  448 -0.652010\n",
       "769     7  3864     3.0  1011207079    6  588  0.174732"
      ]
     },
     "execution_count": 45,
     "metadata": {},
     "output_type": "execute_result"
    }
   ],
   "source": [
    "with graph.as_default():\n",
    "    preds = model.predict([test.uno, test.ino])\n",
    "preds = test.assign(pred=preds)\n",
    "preds.head()"
   ]
  },
  {
   "cell_type": "code",
   "execution_count": 46,
   "metadata": {},
   "outputs": [
    {
     "data": {
      "text/plain": [
       "count    50000.000000\n",
       "mean         0.050540\n",
       "std          0.339911\n",
       "min         -2.228172\n",
       "25%         -0.145796\n",
       "50%          0.053081\n",
       "75%          0.253099\n",
       "max          2.793369\n",
       "Name: pred, dtype: float64"
      ]
     },
     "execution_count": 46,
     "metadata": {},
     "output_type": "execute_result"
    }
   ],
   "source": [
    "preds['pred'].describe()"
   ]
  },
  {
   "cell_type": "code",
   "execution_count": 47,
   "metadata": {},
   "outputs": [
    {
     "data": {
      "text/html": [
       "<div>\n",
       "<style scoped>\n",
       "    .dataframe tbody tr th:only-of-type {\n",
       "        vertical-align: middle;\n",
       "    }\n",
       "\n",
       "    .dataframe tbody tr th {\n",
       "        vertical-align: top;\n",
       "    }\n",
       "\n",
       "    .dataframe thead th {\n",
       "        text-align: right;\n",
       "    }\n",
       "</style>\n",
       "<table border=\"1\" class=\"dataframe\">\n",
       "  <thead>\n",
       "    <tr style=\"text-align: right;\">\n",
       "      <th></th>\n",
       "      <th>user</th>\n",
       "      <th>item</th>\n",
       "      <th>rating</th>\n",
       "      <th>timestamp</th>\n",
       "      <th>uno</th>\n",
       "      <th>ino</th>\n",
       "      <th>pred</th>\n",
       "      <th>u_bias</th>\n",
       "      <th>i_bias</th>\n",
       "      <th>bpred</th>\n",
       "    </tr>\n",
       "  </thead>\n",
       "  <tbody>\n",
       "    <tr>\n",
       "      <th>639</th>\n",
       "      <td>7</td>\n",
       "      <td>1894</td>\n",
       "      <td>3.0</td>\n",
       "      <td>1011208487</td>\n",
       "      <td>6</td>\n",
       "      <td>487</td>\n",
       "      <td>2.965026</td>\n",
       "      <td>-0.10908</td>\n",
       "      <td>-0.701225</td>\n",
       "      <td>2.714965</td>\n",
       "    </tr>\n",
       "    <tr>\n",
       "      <th>543</th>\n",
       "      <td>7</td>\n",
       "      <td>11</td>\n",
       "      <td>4.0</td>\n",
       "      <td>1011207889</td>\n",
       "      <td>6</td>\n",
       "      <td>386</td>\n",
       "      <td>3.685107</td>\n",
       "      <td>-0.10908</td>\n",
       "      <td>0.142639</td>\n",
       "      <td>3.558830</td>\n",
       "    </tr>\n",
       "    <tr>\n",
       "      <th>581</th>\n",
       "      <td>7</td>\n",
       "      <td>806</td>\n",
       "      <td>1.0</td>\n",
       "      <td>1011206295</td>\n",
       "      <td>6</td>\n",
       "      <td>449</td>\n",
       "      <td>2.242880</td>\n",
       "      <td>-0.10908</td>\n",
       "      <td>-0.364843</td>\n",
       "      <td>3.051347</td>\n",
       "    </tr>\n",
       "    <tr>\n",
       "      <th>578</th>\n",
       "      <td>7</td>\n",
       "      <td>750</td>\n",
       "      <td>5.0</td>\n",
       "      <td>1011206659</td>\n",
       "      <td>6</td>\n",
       "      <td>448</td>\n",
       "      <td>3.486772</td>\n",
       "      <td>-0.10908</td>\n",
       "      <td>0.722591</td>\n",
       "      <td>4.138782</td>\n",
       "    </tr>\n",
       "    <tr>\n",
       "      <th>769</th>\n",
       "      <td>7</td>\n",
       "      <td>3864</td>\n",
       "      <td>3.0</td>\n",
       "      <td>1011207079</td>\n",
       "      <td>6</td>\n",
       "      <td>588</td>\n",
       "      <td>2.566389</td>\n",
       "      <td>-0.10908</td>\n",
       "      <td>-1.024534</td>\n",
       "      <td>2.391657</td>\n",
       "    </tr>\n",
       "  </tbody>\n",
       "</table>\n",
       "</div>"
      ],
      "text/plain": [
       "     user  item  rating   timestamp  uno  ino      pred   u_bias    i_bias  \\\n",
       "639     7  1894     3.0  1011208487    6  487  2.965026 -0.10908 -0.701225   \n",
       "543     7    11     4.0  1011207889    6  386  3.685107 -0.10908  0.142639   \n",
       "581     7   806     1.0  1011206295    6  449  2.242880 -0.10908 -0.364843   \n",
       "578     7   750     5.0  1011206659    6  448  3.486772 -0.10908  0.722591   \n",
       "769     7  3864     3.0  1011207079    6  588  2.566389 -0.10908 -1.024534   \n",
       "\n",
       "        bpred  \n",
       "639  2.714965  \n",
       "543  3.558830  \n",
       "581  3.051347  \n",
       "578  4.138782  \n",
       "769  2.391657  "
      ]
     },
     "execution_count": 47,
     "metadata": {},
     "output_type": "execute_result"
    }
   ],
   "source": [
    "preds = preds.join(ubias, on='user')\n",
    "preds = preds.join(ibias, on='item')\n",
    "preds['pred'] += gbias\n",
    "preds['pred'] += preds.u_bias\n",
    "preds['pred'] += preds.i_bias\n",
    "preds['bpred'] = gbias\n",
    "preds['bpred'] += preds.u_bias\n",
    "preds['bpred'] += preds.i_bias\n",
    "preds.head()"
   ]
  },
  {
   "cell_type": "code",
   "execution_count": 48,
   "metadata": {},
   "outputs": [
    {
     "data": {
      "text/plain": [
       "0.8359782872463672"
      ]
     },
     "execution_count": 48,
     "metadata": {},
     "output_type": "execute_result"
    }
   ],
   "source": [
    "preds['error'] = preds['rating'] - preds['pred']\n",
    "np.sqrt(np.mean(np.square(preds['error'])))"
   ]
  },
  {
   "cell_type": "code",
   "execution_count": 49,
   "metadata": {},
   "outputs": [
    {
     "data": {
      "text/plain": [
       "0.9004962923324781"
      ]
     },
     "execution_count": 49,
     "metadata": {},
     "output_type": "execute_result"
    }
   ],
   "source": [
    "preds['berror'] = preds['rating'] - preds['bpred']\n",
    "np.sqrt(np.mean(np.square(preds['berror'])))"
   ]
  },
  {
   "cell_type": "code",
   "execution_count": null,
   "metadata": {},
   "outputs": [],
   "source": []
  }
 ],
 "metadata": {
  "kernelspec": {
   "display_name": "Python 3",
   "language": "python",
   "name": "python3"
  },
  "language_info": {
   "codemirror_mode": {
    "name": "ipython",
    "version": 3
   },
   "file_extension": ".py",
   "mimetype": "text/x-python",
   "name": "python",
   "nbconvert_exporter": "python",
   "pygments_lexer": "ipython3",
   "version": "3.7.7"
  }
 },
 "nbformat": 4,
 "nbformat_minor": 4
}
