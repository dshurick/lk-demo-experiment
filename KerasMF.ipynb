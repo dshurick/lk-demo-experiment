{
 "cells": [
  {
   "cell_type": "markdown",
   "metadata": {},
   "source": [
    "# Keras MF experimentation\n",
    "\n",
    "This notebook experiments with building MF models in Keras on TensorFlow"
   ]
  },
  {
   "cell_type": "code",
   "execution_count": 1,
   "metadata": {},
   "outputs": [
    {
     "name": "stderr",
     "output_type": "stream",
     "text": [
      "C:\\Users\\michaelekstrand\\Anaconda3\\envs\\lk-demo\\lib\\site-packages\\fastparquet\\dataframe.py:5: FutureWarning: pandas.core.index is deprecated and will be removed in a future version.  The public classes are available in the top-level namespace.\n",
      "  from pandas.core.index import CategoricalIndex, RangeIndex, Index, MultiIndex\n"
     ]
    }
   ],
   "source": [
    "from lkdemo.datasets import ml20m"
   ]
  },
  {
   "cell_type": "code",
   "execution_count": 2,
   "metadata": {},
   "outputs": [],
   "source": [
    "import pandas as pd\n",
    "import numpy as np\n",
    "import seaborn as sns\n",
    "import matplotlib.pyplot as plt\n",
    "import tensorflow as tf\n",
    "from tensorflow import keras as k"
   ]
  },
  {
   "cell_type": "code",
   "execution_count": 3,
   "metadata": {},
   "outputs": [],
   "source": [
    "from lenskit import crossfold as xf"
   ]
  },
  {
   "cell_type": "code",
   "execution_count": 4,
   "metadata": {},
   "outputs": [],
   "source": [
    "ratings = ml20m.ratings"
   ]
  },
  {
   "cell_type": "code",
   "execution_count": 5,
   "metadata": {},
   "outputs": [
    {
     "name": "stdout",
     "output_type": "stream",
     "text": [
      "<class 'pandas.core.frame.DataFrame'>\n",
      "RangeIndex: 20000263 entries, 0 to 20000262\n",
      "Data columns (total 6 columns):\n",
      " #   Column     Dtype  \n",
      "---  ------     -----  \n",
      " 0   user       int32  \n",
      " 1   item       int32  \n",
      " 2   rating     float64\n",
      " 3   timestamp  int32  \n",
      " 4   uno        int32  \n",
      " 5   ino        int32  \n",
      "dtypes: float64(1), int32(5)\n",
      "memory usage: 534.1 MB\n"
     ]
    }
   ],
   "source": [
    "uidx = pd.Index(ratings['user'].unique())\n",
    "iidx = pd.Index(ratings['item'].unique())\n",
    "ratings['uno'] = uidx.get_indexer(ratings['user']).astype('i4')\n",
    "ratings['ino'] = iidx.get_indexer(ratings['item']).astype('i4')\n",
    "ratings.info()"
   ]
  },
  {
   "cell_type": "code",
   "execution_count": 6,
   "metadata": {},
   "outputs": [],
   "source": [
    "n_users = len(uidx)\n",
    "n_items = len(iidx)"
   ]
  },
  {
   "cell_type": "code",
   "execution_count": 7,
   "metadata": {},
   "outputs": [],
   "source": [
    "train, test = next(xf.sample_users(ratings, 1, 10000, xf.SampleN(5)))"
   ]
  },
  {
   "cell_type": "code",
   "execution_count": 8,
   "metadata": {},
   "outputs": [
    {
     "data": {
      "text/html": [
       "<div>\n",
       "<style scoped>\n",
       "    .dataframe tbody tr th:only-of-type {\n",
       "        vertical-align: middle;\n",
       "    }\n",
       "\n",
       "    .dataframe tbody tr th {\n",
       "        vertical-align: top;\n",
       "    }\n",
       "\n",
       "    .dataframe thead th {\n",
       "        text-align: right;\n",
       "    }\n",
       "</style>\n",
       "<table border=\"1\" class=\"dataframe\">\n",
       "  <thead>\n",
       "    <tr style=\"text-align: right;\">\n",
       "      <th></th>\n",
       "      <th>user</th>\n",
       "      <th>item</th>\n",
       "      <th>rating</th>\n",
       "      <th>timestamp</th>\n",
       "      <th>uno</th>\n",
       "      <th>ino</th>\n",
       "      <th>nrating</th>\n",
       "      <th>i_bias</th>\n",
       "      <th>u_bias</th>\n",
       "    </tr>\n",
       "  </thead>\n",
       "  <tbody>\n",
       "    <tr>\n",
       "      <th>0</th>\n",
       "      <td>1</td>\n",
       "      <td>2</td>\n",
       "      <td>3.5</td>\n",
       "      <td>1112486027</td>\n",
       "      <td>0</td>\n",
       "      <td>0</td>\n",
       "      <td>0.175738</td>\n",
       "      <td>-0.314702</td>\n",
       "      <td>0.113696</td>\n",
       "    </tr>\n",
       "    <tr>\n",
       "      <th>1</th>\n",
       "      <td>1</td>\n",
       "      <td>29</td>\n",
       "      <td>3.5</td>\n",
       "      <td>1112484676</td>\n",
       "      <td>0</td>\n",
       "      <td>1</td>\n",
       "      <td>-0.567022</td>\n",
       "      <td>0.428058</td>\n",
       "      <td>0.113696</td>\n",
       "    </tr>\n",
       "    <tr>\n",
       "      <th>2</th>\n",
       "      <td>1</td>\n",
       "      <td>32</td>\n",
       "      <td>3.5</td>\n",
       "      <td>1112484819</td>\n",
       "      <td>0</td>\n",
       "      <td>2</td>\n",
       "      <td>-0.511906</td>\n",
       "      <td>0.372942</td>\n",
       "      <td>0.113696</td>\n",
       "    </tr>\n",
       "    <tr>\n",
       "      <th>3</th>\n",
       "      <td>1</td>\n",
       "      <td>47</td>\n",
       "      <td>3.5</td>\n",
       "      <td>1112484727</td>\n",
       "      <td>0</td>\n",
       "      <td>3</td>\n",
       "      <td>-0.667228</td>\n",
       "      <td>0.528264</td>\n",
       "      <td>0.113696</td>\n",
       "    </tr>\n",
       "    <tr>\n",
       "      <th>4</th>\n",
       "      <td>1</td>\n",
       "      <td>50</td>\n",
       "      <td>3.5</td>\n",
       "      <td>1112484580</td>\n",
       "      <td>0</td>\n",
       "      <td>4</td>\n",
       "      <td>-0.948052</td>\n",
       "      <td>0.809088</td>\n",
       "      <td>0.113696</td>\n",
       "    </tr>\n",
       "  </tbody>\n",
       "</table>\n",
       "</div>"
      ],
      "text/plain": [
       "   user  item  rating   timestamp  uno  ino   nrating    i_bias    u_bias\n",
       "0     1     2     3.5  1112486027    0    0  0.175738 -0.314702  0.113696\n",
       "1     1    29     3.5  1112484676    0    1 -0.567022  0.428058  0.113696\n",
       "2     1    32     3.5  1112484819    0    2 -0.511906  0.372942  0.113696\n",
       "3     1    47     3.5  1112484727    0    3 -0.667228  0.528264  0.113696\n",
       "4     1    50     3.5  1112484580    0    4 -0.948052  0.809088  0.113696"
      ]
     },
     "execution_count": 8,
     "metadata": {},
     "output_type": "execute_result"
    }
   ],
   "source": [
    "gbias = train['rating'].mean()\n",
    "ntrs = train.assign(nrating = ratings['rating'] - gbias)\n",
    "ibias = ntrs.groupby('item')['nrating'].mean().rename('i_bias')\n",
    "ntrs = ntrs.join(ibias, on='item')\n",
    "ntrs['nrating'] -= ntrs['i_bias'].fillna(0)\n",
    "ubias = ntrs.groupby('user')['nrating'].mean().rename('u_bias')\n",
    "ntrs = ntrs.join(ubias, on='user')\n",
    "ntrs['nrating'] -= ntrs['u_bias']\n",
    "ntrs.head()"
   ]
  },
  {
   "cell_type": "markdown",
   "metadata": {},
   "source": [
    "## Regularized MF for explicit ratings\n",
    "\n",
    "We're going to build up regularized MF for explicit ratings, based on [this tutorial](https://towardsdatascience.com/building-a-book-recommendation-system-using-keras-1fba34180699) and [this example code](https://github.com/chinchi-hsu/KerasCollaborativeFiltering):"
   ]
  },
  {
   "cell_type": "code",
   "execution_count": 9,
   "metadata": {},
   "outputs": [],
   "source": [
    "features = 25"
   ]
  },
  {
   "cell_type": "markdown",
   "metadata": {},
   "source": [
    "First, the user layers:"
   ]
  },
  {
   "cell_type": "code",
   "execution_count": 10,
   "metadata": {},
   "outputs": [],
   "source": [
    "u_input = k.Input(shape=(1,), dtype='int32', name='user')\n",
    "u_reg = k.regularizers.l2(0.02)\n",
    "u_embed = k.layers.Embedding(input_dim=n_users, output_dim=features,\n",
    "                             embeddings_regularizer=u_reg, embeddings_initializer='random_normal',\n",
    "                             name='user-embed')(u_input)\n",
    "u_flat = k.layers.Flatten(name='user-vector')(u_embed)"
   ]
  },
  {
   "cell_type": "markdown",
   "metadata": {},
   "source": [
    "And the item layers:"
   ]
  },
  {
   "cell_type": "code",
   "execution_count": 11,
   "metadata": {},
   "outputs": [],
   "source": [
    "i_input = k.Input(shape=(1,), dtype='int32', name='item')\n",
    "i_reg = k.regularizers.l2(0.02)\n",
    "i_embed = k.layers.Embedding(input_dim=n_items, output_dim=features,\n",
    "                             embeddings_regularizer=i_reg, embeddings_initializer='random_normal',\n",
    "                             name='item-embed')(i_input)\n",
    "i_flat = k.layers.Flatten(name='item-vector')(i_embed)"
   ]
  },
  {
   "cell_type": "markdown",
   "metadata": {},
   "source": [
    "And put it together:"
   ]
  },
  {
   "cell_type": "code",
   "execution_count": 12,
   "metadata": {},
   "outputs": [
    {
     "name": "stdout",
     "output_type": "stream",
     "text": [
      "Model: \"classic-mf\"\n",
      "__________________________________________________________________________________________________\n",
      "Layer (type)                    Output Shape         Param #     Connected to                     \n",
      "==================================================================================================\n",
      "user (InputLayer)               [(None, 1)]          0                                            \n",
      "__________________________________________________________________________________________________\n",
      "item (InputLayer)               [(None, 1)]          0                                            \n",
      "__________________________________________________________________________________________________\n",
      "user-embed (Embedding)          (None, 1, 25)        3462325     user[0][0]                       \n",
      "__________________________________________________________________________________________________\n",
      "item-embed (Embedding)          (None, 1, 25)        668600      item[0][0]                       \n",
      "__________________________________________________________________________________________________\n",
      "user-vector (Flatten)           (None, 25)           0           user-embed[0][0]                 \n",
      "__________________________________________________________________________________________________\n",
      "item-vector (Flatten)           (None, 25)           0           item-embed[0][0]                 \n",
      "__________________________________________________________________________________________________\n",
      "score (Dot)                     (None, 1)            0           user-vector[0][0]                \n",
      "                                                                 item-vector[0][0]                \n",
      "==================================================================================================\n",
      "Total params: 4,130,925\n",
      "Trainable params: 4,130,925\n",
      "Non-trainable params: 0\n",
      "__________________________________________________________________________________________________\n"
     ]
    }
   ],
   "source": [
    "prod = k.layers.Dot(name='score', axes=1)([u_flat, i_flat])\n",
    "model = k.Model([u_input, i_input], prod, name='classic-mf')\n",
    "model.summary()"
   ]
  },
  {
   "cell_type": "code",
   "execution_count": 13,
   "metadata": {},
   "outputs": [],
   "source": [
    "model.compile('adam', 'mean_squared_error', metrics=['mae'])"
   ]
  },
  {
   "cell_type": "code",
   "execution_count": 14,
   "metadata": {},
   "outputs": [
    {
     "name": "stdout",
     "output_type": "stream",
     "text": [
      "Train on 19950263 samples\n",
      "Epoch 1/5\n"
     ]
    },
    {
     "name": "stderr",
     "output_type": "stream",
     "text": [
      "C:\\Users\\michaelekstrand\\Anaconda3\\envs\\lk-demo\\lib\\site-packages\\tensorflow_core\\python\\framework\\indexed_slices.py:433: UserWarning: Converting sparse IndexedSlices to a dense Tensor of unknown shape. This may consume a large amount of memory.\n",
      "  \"Converting sparse IndexedSlices to a dense Tensor of unknown shape. \"\n",
      "C:\\Users\\michaelekstrand\\Anaconda3\\envs\\lk-demo\\lib\\site-packages\\tensorflow_core\\python\\framework\\indexed_slices.py:433: UserWarning: Converting sparse IndexedSlices to a dense Tensor of unknown shape. This may consume a large amount of memory.\n",
      "  \"Converting sparse IndexedSlices to a dense Tensor of unknown shape. \"\n"
     ]
    },
    {
     "name": "stdout",
     "output_type": "stream",
     "text": [
      "19950263/19950263 [==============================] - 52s 3us/sample - loss: 3.3189 - mae: 0.6533\n",
      "Epoch 2/5\n",
      "19950263/19950263 [==============================] - 51s 3us/sample - loss: 0.7237 - mae: 0.6533\n",
      "Epoch 3/5\n",
      "19950263/19950263 [==============================] - 49s 2us/sample - loss: 0.7237 - mae: 0.65330s - loss: 0.7236 - \n",
      "Epoch 4/5\n",
      "19950263/19950263 [==============================] - 49s 2us/sample - loss: 0.7237 - mae: 0.65330s - loss: 0.7237 -\n",
      "Epoch 5/5\n",
      "19950263/19950263 [==============================] - 49s 2us/sample - loss: 0.7237 - mae: 0.6533\n"
     ]
    },
    {
     "data": {
      "text/plain": [
       "<tensorflow.python.keras.callbacks.History at 0x1f33f97be08>"
      ]
     },
     "execution_count": 14,
     "metadata": {},
     "output_type": "execute_result"
    }
   ],
   "source": [
    "model.fit([ntrs.uno, ntrs.ino], ntrs.nrating, epochs=5, batch_size=1024*8)"
   ]
  },
  {
   "cell_type": "code",
   "execution_count": 20,
   "metadata": {},
   "outputs": [
    {
     "data": {
      "text/html": [
       "<div>\n",
       "<style scoped>\n",
       "    .dataframe tbody tr th:only-of-type {\n",
       "        vertical-align: middle;\n",
       "    }\n",
       "\n",
       "    .dataframe tbody tr th {\n",
       "        vertical-align: top;\n",
       "    }\n",
       "\n",
       "    .dataframe thead th {\n",
       "        text-align: right;\n",
       "    }\n",
       "</style>\n",
       "<table border=\"1\" class=\"dataframe\">\n",
       "  <thead>\n",
       "    <tr style=\"text-align: right;\">\n",
       "      <th></th>\n",
       "      <th>user</th>\n",
       "      <th>item</th>\n",
       "      <th>rating</th>\n",
       "      <th>timestamp</th>\n",
       "      <th>uno</th>\n",
       "      <th>ino</th>\n",
       "      <th>pred</th>\n",
       "    </tr>\n",
       "  </thead>\n",
       "  <tbody>\n",
       "    <tr>\n",
       "      <th>1814</th>\n",
       "      <td>15</td>\n",
       "      <td>141</td>\n",
       "      <td>3.0</td>\n",
       "      <td>840207366</td>\n",
       "      <td>14</td>\n",
       "      <td>391</td>\n",
       "      <td>-3.935818e-10</td>\n",
       "    </tr>\n",
       "    <tr>\n",
       "      <th>1813</th>\n",
       "      <td>15</td>\n",
       "      <td>50</td>\n",
       "      <td>3.0</td>\n",
       "      <td>840207617</td>\n",
       "      <td>14</td>\n",
       "      <td>4</td>\n",
       "      <td>-2.985101e-10</td>\n",
       "    </tr>\n",
       "    <tr>\n",
       "      <th>1831</th>\n",
       "      <td>15</td>\n",
       "      <td>380</td>\n",
       "      <td>3.0</td>\n",
       "      <td>840206642</td>\n",
       "      <td>14</td>\n",
       "      <td>373</td>\n",
       "      <td>4.647037e-10</td>\n",
       "    </tr>\n",
       "    <tr>\n",
       "      <th>1829</th>\n",
       "      <td>15</td>\n",
       "      <td>364</td>\n",
       "      <td>4.0</td>\n",
       "      <td>840207618</td>\n",
       "      <td>14</td>\n",
       "      <td>396</td>\n",
       "      <td>5.347735e-11</td>\n",
       "    </tr>\n",
       "    <tr>\n",
       "      <th>1826</th>\n",
       "      <td>15</td>\n",
       "      <td>344</td>\n",
       "      <td>3.0</td>\n",
       "      <td>840206704</td>\n",
       "      <td>14</td>\n",
       "      <td>646</td>\n",
       "      <td>-1.496031e-09</td>\n",
       "    </tr>\n",
       "  </tbody>\n",
       "</table>\n",
       "</div>"
      ],
      "text/plain": [
       "      user  item  rating  timestamp  uno  ino          pred\n",
       "1814    15   141     3.0  840207366   14  391 -3.935818e-10\n",
       "1813    15    50     3.0  840207617   14    4 -2.985101e-10\n",
       "1831    15   380     3.0  840206642   14  373  4.647037e-10\n",
       "1829    15   364     4.0  840207618   14  396  5.347735e-11\n",
       "1826    15   344     3.0  840206704   14  646 -1.496031e-09"
      ]
     },
     "execution_count": 20,
     "metadata": {},
     "output_type": "execute_result"
    }
   ],
   "source": [
    "preds = model.predict([test.uno, test.ino])\n",
    "preds = test.assign(pred=preds)\n",
    "preds.head()"
   ]
  },
  {
   "cell_type": "code",
   "execution_count": 22,
   "metadata": {},
   "outputs": [
    {
     "data": {
      "text/html": [
       "<div>\n",
       "<style scoped>\n",
       "    .dataframe tbody tr th:only-of-type {\n",
       "        vertical-align: middle;\n",
       "    }\n",
       "\n",
       "    .dataframe tbody tr th {\n",
       "        vertical-align: top;\n",
       "    }\n",
       "\n",
       "    .dataframe thead th {\n",
       "        text-align: right;\n",
       "    }\n",
       "</style>\n",
       "<table border=\"1\" class=\"dataframe\">\n",
       "  <thead>\n",
       "    <tr style=\"text-align: right;\">\n",
       "      <th></th>\n",
       "      <th>user</th>\n",
       "      <th>item</th>\n",
       "      <th>rating</th>\n",
       "      <th>timestamp</th>\n",
       "      <th>uno</th>\n",
       "      <th>ino</th>\n",
       "      <th>pred</th>\n",
       "      <th>u_bias</th>\n",
       "      <th>i_bias</th>\n",
       "    </tr>\n",
       "  </thead>\n",
       "  <tbody>\n",
       "    <tr>\n",
       "      <th>1814</th>\n",
       "      <td>15</td>\n",
       "      <td>141</td>\n",
       "      <td>3.0</td>\n",
       "      <td>840207366</td>\n",
       "      <td>14</td>\n",
       "      <td>391</td>\n",
       "      <td>3.032048</td>\n",
       "      <td>-0.478474</td>\n",
       "      <td>-0.014746</td>\n",
       "    </tr>\n",
       "    <tr>\n",
       "      <th>1813</th>\n",
       "      <td>15</td>\n",
       "      <td>50</td>\n",
       "      <td>3.0</td>\n",
       "      <td>840207617</td>\n",
       "      <td>14</td>\n",
       "      <td>4</td>\n",
       "      <td>3.855882</td>\n",
       "      <td>-0.478474</td>\n",
       "      <td>0.809088</td>\n",
       "    </tr>\n",
       "    <tr>\n",
       "      <th>1831</th>\n",
       "      <td>15</td>\n",
       "      <td>380</td>\n",
       "      <td>3.0</td>\n",
       "      <td>840206642</td>\n",
       "      <td>14</td>\n",
       "      <td>373</td>\n",
       "      <td>3.012413</td>\n",
       "      <td>-0.478474</td>\n",
       "      <td>-0.034381</td>\n",
       "    </tr>\n",
       "    <tr>\n",
       "      <th>1829</th>\n",
       "      <td>15</td>\n",
       "      <td>364</td>\n",
       "      <td>4.0</td>\n",
       "      <td>840207618</td>\n",
       "      <td>14</td>\n",
       "      <td>396</td>\n",
       "      <td>3.300074</td>\n",
       "      <td>-0.478474</td>\n",
       "      <td>0.253280</td>\n",
       "    </tr>\n",
       "    <tr>\n",
       "      <th>1826</th>\n",
       "      <td>15</td>\n",
       "      <td>344</td>\n",
       "      <td>3.0</td>\n",
       "      <td>840206704</td>\n",
       "      <td>14</td>\n",
       "      <td>646</td>\n",
       "      <td>2.504175</td>\n",
       "      <td>-0.478474</td>\n",
       "      <td>-0.542619</td>\n",
       "    </tr>\n",
       "  </tbody>\n",
       "</table>\n",
       "</div>"
      ],
      "text/plain": [
       "      user  item  rating  timestamp  uno  ino      pred    u_bias    i_bias\n",
       "1814    15   141     3.0  840207366   14  391  3.032048 -0.478474 -0.014746\n",
       "1813    15    50     3.0  840207617   14    4  3.855882 -0.478474  0.809088\n",
       "1831    15   380     3.0  840206642   14  373  3.012413 -0.478474 -0.034381\n",
       "1829    15   364     4.0  840207618   14  396  3.300074 -0.478474  0.253280\n",
       "1826    15   344     3.0  840206704   14  646  2.504175 -0.478474 -0.542619"
      ]
     },
     "execution_count": 22,
     "metadata": {},
     "output_type": "execute_result"
    }
   ],
   "source": [
    "preds = preds.join(ubias, on='user')\n",
    "preds = preds.join(ibias, on='item')\n",
    "preds['pred'] += gbias\n",
    "preds['pred'] += preds.u_bias\n",
    "preds['pred'] += preds.i_bias\n",
    "preds.head()"
   ]
  },
  {
   "cell_type": "code",
   "execution_count": 25,
   "metadata": {},
   "outputs": [
    {
     "data": {
      "text/plain": [
       "0.9035127570475177"
      ]
     },
     "execution_count": 25,
     "metadata": {},
     "output_type": "execute_result"
    }
   ],
   "source": [
    "preds['error'] = preds['rating'] - preds['pred']\n",
    "np.sqrt(np.mean(np.square(preds['error'])))"
   ]
  },
  {
   "cell_type": "code",
   "execution_count": null,
   "metadata": {},
   "outputs": [],
   "source": []
  }
 ],
 "metadata": {
  "kernelspec": {
   "display_name": "Python 3",
   "language": "python",
   "name": "python3"
  },
  "language_info": {
   "codemirror_mode": {
    "name": "ipython",
    "version": 3
   },
   "file_extension": ".py",
   "mimetype": "text/x-python",
   "name": "python",
   "nbconvert_exporter": "python",
   "pygments_lexer": "ipython3",
   "version": "3.7.6"
  }
 },
 "nbformat": 4,
 "nbformat_minor": 4
}
