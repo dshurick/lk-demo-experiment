{
 "cells": [
  {
   "cell_type": "markdown",
   "metadata": {},
   "source": [
    "# Keras MF experimentation\n",
    "\n",
    "This notebook experiments with building MF models in Keras on TensorFlow"
   ]
  },
  {
   "cell_type": "code",
   "execution_count": 1,
   "metadata": {},
   "outputs": [
    {
     "name": "stderr",
     "output_type": "stream",
     "text": [
      "C:\\Users\\michaelekstrand\\Anaconda3\\envs\\lk-demo\\lib\\site-packages\\fastparquet\\dataframe.py:5: FutureWarning: pandas.core.index is deprecated and will be removed in a future version.  The public classes are available in the top-level namespace.\n",
      "  from pandas.core.index import CategoricalIndex, RangeIndex, Index, MultiIndex\n"
     ]
    },
    {
     "ename": "ModuleNotFoundError",
     "evalue": "No module named 'binpickle'",
     "output_type": "error",
     "traceback": [
      "\u001b[1;31m---------------------------------------------------------------------------\u001b[0m",
      "\u001b[1;31mModuleNotFoundError\u001b[0m                       Traceback (most recent call last)",
      "\u001b[1;32m<ipython-input-1-166575a50696>\u001b[0m in \u001b[0;36m<module>\u001b[1;34m\u001b[0m\n\u001b[1;32m----> 1\u001b[1;33m \u001b[1;32mfrom\u001b[0m \u001b[0mlkdemo\u001b[0m\u001b[1;33m.\u001b[0m\u001b[0mdatasets\u001b[0m \u001b[1;32mimport\u001b[0m \u001b[0mml20m\u001b[0m\u001b[1;33m\u001b[0m\u001b[1;33m\u001b[0m\u001b[0m\n\u001b[0m",
      "\u001b[1;32mD:\\Research\\lk-demo-experiment\\lkdemo\\datasets.py\u001b[0m in \u001b[0;36m<module>\u001b[1;34m\u001b[0m\n\u001b[1;32m----> 1\u001b[1;33m \u001b[1;32mfrom\u001b[0m \u001b[0mlenskit\u001b[0m \u001b[1;32mimport\u001b[0m \u001b[0mdatasets\u001b[0m \u001b[1;32mas\u001b[0m \u001b[0mds\u001b[0m\u001b[1;33m\u001b[0m\u001b[1;33m\u001b[0m\u001b[0m\n\u001b[0m\u001b[0;32m      2\u001b[0m \u001b[1;33m\u001b[0m\u001b[0m\n\u001b[0;32m      3\u001b[0m \u001b[0mml20m\u001b[0m \u001b[1;33m=\u001b[0m \u001b[0mds\u001b[0m\u001b[1;33m.\u001b[0m\u001b[0mMovieLens\u001b[0m\u001b[1;33m(\u001b[0m\u001b[1;34m'data/ml-20m'\u001b[0m\u001b[1;33m)\u001b[0m\u001b[1;33m\u001b[0m\u001b[1;33m\u001b[0m\u001b[0m\n\u001b[0;32m      4\u001b[0m \u001b[0mmlsmall\u001b[0m \u001b[1;33m=\u001b[0m \u001b[0mds\u001b[0m\u001b[1;33m.\u001b[0m\u001b[0mMovieLens\u001b[0m\u001b[1;33m(\u001b[0m\u001b[1;34m'data/ml-latest-small'\u001b[0m\u001b[1;33m)\u001b[0m\u001b[1;33m\u001b[0m\u001b[1;33m\u001b[0m\u001b[0m\n\u001b[0;32m      5\u001b[0m \u001b[0mml100k\u001b[0m \u001b[1;33m=\u001b[0m \u001b[0mds\u001b[0m\u001b[1;33m.\u001b[0m\u001b[0mML100K\u001b[0m\u001b[1;33m(\u001b[0m\u001b[1;34m'data/ml-100k'\u001b[0m\u001b[1;33m)\u001b[0m\u001b[1;33m\u001b[0m\u001b[1;33m\u001b[0m\u001b[0m\n",
      "\u001b[1;32mc:\\users\\michaelekstrand\\documents\\lenskit\\lkpy\\lenskit\\__init__.py\u001b[0m in \u001b[0;36m<module>\u001b[1;34m\u001b[0m\n\u001b[0;32m      3\u001b[0m \"\"\"\n\u001b[0;32m      4\u001b[0m \u001b[1;33m\u001b[0m\u001b[0m\n\u001b[1;32m----> 5\u001b[1;33m \u001b[1;32mfrom\u001b[0m \u001b[1;33m.\u001b[0m \u001b[1;32mimport\u001b[0m \u001b[0mbatch\u001b[0m\u001b[1;33m\u001b[0m\u001b[1;33m\u001b[0m\u001b[0m\n\u001b[0m\u001b[0;32m      6\u001b[0m \u001b[1;33m\u001b[0m\u001b[0m\n\u001b[0;32m      7\u001b[0m \u001b[1;33m\u001b[0m\u001b[0m\n",
      "\u001b[1;32mc:\\users\\michaelekstrand\\documents\\lenskit\\lkpy\\lenskit\\batch\\__init__.py\u001b[0m in \u001b[0;36m<module>\u001b[1;34m\u001b[0m\n\u001b[0;32m      3\u001b[0m \"\"\"\n\u001b[0;32m      4\u001b[0m \u001b[1;33m\u001b[0m\u001b[0m\n\u001b[1;32m----> 5\u001b[1;33m \u001b[1;32mfrom\u001b[0m \u001b[1;33m.\u001b[0m\u001b[0m_predict\u001b[0m \u001b[1;32mimport\u001b[0m \u001b[0mpredict\u001b[0m\u001b[1;33m\u001b[0m\u001b[1;33m\u001b[0m\u001b[0m\n\u001b[0m\u001b[0;32m      6\u001b[0m \u001b[1;32mfrom\u001b[0m \u001b[1;33m.\u001b[0m\u001b[0m_recommend\u001b[0m \u001b[1;32mimport\u001b[0m \u001b[0mrecommend\u001b[0m\u001b[1;33m\u001b[0m\u001b[1;33m\u001b[0m\u001b[0m\n\u001b[0;32m      7\u001b[0m \u001b[1;32mfrom\u001b[0m \u001b[1;33m.\u001b[0m\u001b[0m_multi\u001b[0m \u001b[1;32mimport\u001b[0m \u001b[0mMultiEval\u001b[0m\u001b[1;33m\u001b[0m\u001b[1;33m\u001b[0m\u001b[0m\n",
      "\u001b[1;32mc:\\users\\michaelekstrand\\documents\\lenskit\\lkpy\\lenskit\\batch\\_predict.py\u001b[0m in \u001b[0;36m<module>\u001b[1;34m\u001b[0m\n\u001b[0;32m      6\u001b[0m \u001b[1;33m\u001b[0m\u001b[0m\n\u001b[0;32m      7\u001b[0m \u001b[1;32mfrom\u001b[0m \u001b[1;33m.\u001b[0m\u001b[1;33m.\u001b[0m \u001b[1;32mimport\u001b[0m \u001b[0mutil\u001b[0m\u001b[1;33m\u001b[0m\u001b[1;33m\u001b[0m\u001b[0m\n\u001b[1;32m----> 8\u001b[1;33m \u001b[1;32mfrom\u001b[0m \u001b[1;33m.\u001b[0m\u001b[1;33m.\u001b[0m\u001b[0msharing\u001b[0m \u001b[1;32mimport\u001b[0m \u001b[0mget_store\u001b[0m\u001b[1;33m,\u001b[0m \u001b[0mNoopModelStore\u001b[0m\u001b[1;33m\u001b[0m\u001b[1;33m\u001b[0m\u001b[0m\n\u001b[0m\u001b[0;32m      9\u001b[0m \u001b[1;33m\u001b[0m\u001b[0m\n\u001b[0;32m     10\u001b[0m \u001b[0m_logger\u001b[0m \u001b[1;33m=\u001b[0m \u001b[0mlogging\u001b[0m\u001b[1;33m.\u001b[0m\u001b[0mgetLogger\u001b[0m\u001b[1;33m(\u001b[0m\u001b[0m__name__\u001b[0m\u001b[1;33m)\u001b[0m\u001b[1;33m\u001b[0m\u001b[1;33m\u001b[0m\u001b[0m\n",
      "\u001b[1;32mc:\\users\\michaelekstrand\\documents\\lenskit\\lkpy\\lenskit\\sharing\\__init__.py\u001b[0m in \u001b[0;36m<module>\u001b[1;34m\u001b[0m\n\u001b[0;32m     10\u001b[0m \u001b[1;32mimport\u001b[0m \u001b[0mlogging\u001b[0m\u001b[1;33m\u001b[0m\u001b[1;33m\u001b[0m\u001b[0m\n\u001b[0;32m     11\u001b[0m \u001b[1;32mimport\u001b[0m \u001b[0mpickle\u001b[0m\u001b[1;33m\u001b[0m\u001b[1;33m\u001b[0m\u001b[0m\n\u001b[1;32m---> 12\u001b[1;33m \u001b[1;32mimport\u001b[0m \u001b[0mbinpickle\u001b[0m \u001b[1;32mas\u001b[0m \u001b[0mbpk\u001b[0m\u001b[1;33m\u001b[0m\u001b[1;33m\u001b[0m\u001b[0m\n\u001b[0m\u001b[0;32m     13\u001b[0m \u001b[1;33m\u001b[0m\u001b[0m\n\u001b[0;32m     14\u001b[0m \u001b[0m_log\u001b[0m \u001b[1;33m=\u001b[0m \u001b[0mlogging\u001b[0m\u001b[1;33m.\u001b[0m\u001b[0mgetLogger\u001b[0m\u001b[1;33m(\u001b[0m\u001b[0m__name__\u001b[0m\u001b[1;33m)\u001b[0m\u001b[1;33m\u001b[0m\u001b[1;33m\u001b[0m\u001b[0m\n",
      "\u001b[1;31mModuleNotFoundError\u001b[0m: No module named 'binpickle'"
     ]
    }
   ],
   "source": [
    "from lkdemo.datasets import ml20m"
   ]
  },
  {
   "cell_type": "code",
   "execution_count": null,
   "metadata": {},
   "outputs": [],
   "source": [
    "import pandas as pd\n",
    "import numpy as np\n",
    "import seaborn as sns\n",
    "import matplotlib.pyplot as plt\n",
    "import tensorflow as tf\n",
    "from tensorflow import keras as k"
   ]
  },
  {
   "cell_type": "code",
   "execution_count": null,
   "metadata": {},
   "outputs": [],
   "source": [
    "from lenskit import crossfold as xf\n",
    "from lenskit.algorithms import Recommender\n",
    "from lenskit.algorithms.basic import Bias\n",
    "from lenskit.algorithms.als import BiasedMF\n",
    "from lenskit.algorithms.funksvd import FunkSVD\n",
    "from lenskit import batch"
   ]
  },
  {
   "cell_type": "code",
   "execution_count": null,
   "metadata": {},
   "outputs": [],
   "source": [
    "ratings = ml20m.ratings"
   ]
  },
  {
   "cell_type": "code",
   "execution_count": null,
   "metadata": {},
   "outputs": [],
   "source": [
    "uidx = pd.Index(ratings['user'].unique())\n",
    "iidx = pd.Index(ratings['item'].unique())\n",
    "ratings['uno'] = uidx.get_indexer(ratings['user']).astype('i4')\n",
    "ratings['ino'] = iidx.get_indexer(ratings['item']).astype('i4')\n",
    "ratings.info()"
   ]
  },
  {
   "cell_type": "code",
   "execution_count": 2,
   "metadata": {},
   "outputs": [
    {
     "ename": "NameError",
     "evalue": "name 'uidx' is not defined",
     "output_type": "error",
     "traceback": [
      "\u001b[1;31m---------------------------------------------------------------------------\u001b[0m",
      "\u001b[1;31mNameError\u001b[0m                                 Traceback (most recent call last)",
      "\u001b[1;32m<ipython-input-2-7a31d6167575>\u001b[0m in \u001b[0;36m<module>\u001b[1;34m\u001b[0m\n\u001b[1;32m----> 1\u001b[1;33m \u001b[0mn_users\u001b[0m \u001b[1;33m=\u001b[0m \u001b[0mlen\u001b[0m\u001b[1;33m(\u001b[0m\u001b[0muidx\u001b[0m\u001b[1;33m)\u001b[0m\u001b[1;33m\u001b[0m\u001b[1;33m\u001b[0m\u001b[0m\n\u001b[0m\u001b[0;32m      2\u001b[0m \u001b[0mn_users\u001b[0m\u001b[1;33m\u001b[0m\u001b[1;33m\u001b[0m\u001b[0m\n",
      "\u001b[1;31mNameError\u001b[0m: name 'uidx' is not defined"
     ]
    }
   ],
   "source": [
    "n_users = len(uidx)\n",
    "n_users"
   ]
  },
  {
   "cell_type": "code",
   "execution_count": 3,
   "metadata": {},
   "outputs": [
    {
     "ename": "NameError",
     "evalue": "name 'iidx' is not defined",
     "output_type": "error",
     "traceback": [
      "\u001b[1;31m---------------------------------------------------------------------------\u001b[0m",
      "\u001b[1;31mNameError\u001b[0m                                 Traceback (most recent call last)",
      "\u001b[1;32m<ipython-input-3-06a9b78e870a>\u001b[0m in \u001b[0;36m<module>\u001b[1;34m\u001b[0m\n\u001b[1;32m----> 1\u001b[1;33m \u001b[0mn_items\u001b[0m \u001b[1;33m=\u001b[0m \u001b[0mlen\u001b[0m\u001b[1;33m(\u001b[0m\u001b[0miidx\u001b[0m\u001b[1;33m)\u001b[0m\u001b[1;33m\u001b[0m\u001b[1;33m\u001b[0m\u001b[0m\n\u001b[0m\u001b[0;32m      2\u001b[0m \u001b[0mn_items\u001b[0m\u001b[1;33m\u001b[0m\u001b[1;33m\u001b[0m\u001b[0m\n",
      "\u001b[1;31mNameError\u001b[0m: name 'iidx' is not defined"
     ]
    }
   ],
   "source": [
    "n_items = len(iidx)\n",
    "n_items"
   ]
  },
  {
   "cell_type": "code",
   "execution_count": 9,
   "metadata": {},
   "outputs": [],
   "source": [
    "train, test = next(xf.sample_users(ratings, 1, 10000, xf.SampleN(5)))"
   ]
  },
  {
   "cell_type": "code",
   "execution_count": 10,
   "metadata": {},
   "outputs": [
    {
     "data": {
      "text/plain": [
       "<lenskit.algorithms.basic.Bias at 0x1d25be6cb48>"
      ]
     },
     "execution_count": 10,
     "metadata": {},
     "output_type": "execute_result"
    }
   ],
   "source": [
    "bias = Bias()\n",
    "bias.fit(train)"
   ]
  },
  {
   "cell_type": "code",
   "execution_count": 11,
   "metadata": {},
   "outputs": [
    {
     "data": {
      "text/plain": [
       "0.9121856079493474"
      ]
     },
     "execution_count": 11,
     "metadata": {},
     "output_type": "execute_result"
    }
   ],
   "source": [
    "bias_preds = batch.predict(bias, test)\n",
    "bias_preds['error'] = bias_preds['rating'] - bias_preds['prediction']\n",
    "np.sqrt(np.mean(np.square(bias_preds['error'])))"
   ]
  },
  {
   "cell_type": "code",
   "execution_count": 12,
   "metadata": {},
   "outputs": [
    {
     "data": {
      "text/plain": [
       "<lenskit.algorithms.als.BiasedMF at 0x1d259a08ec8>"
      ]
     },
     "execution_count": 12,
     "metadata": {},
     "output_type": "execute_result"
    }
   ],
   "source": [
    "als = BiasedMF(25)\n",
    "als.fit(train)"
   ]
  },
  {
   "cell_type": "code",
   "execution_count": 13,
   "metadata": {},
   "outputs": [
    {
     "data": {
      "text/plain": [
       "0.8633453905488548"
      ]
     },
     "execution_count": 13,
     "metadata": {},
     "output_type": "execute_result"
    }
   ],
   "source": [
    "als_preds = batch.predict(als, test)\n",
    "als_preds['error'] = als_preds['rating'] - als_preds['prediction']\n",
    "np.sqrt(np.mean(np.square(als_preds['error'])))"
   ]
  },
  {
   "cell_type": "code",
   "execution_count": 14,
   "metadata": {},
   "outputs": [
    {
     "data": {
      "text/plain": [
       "<lenskit.algorithms.funksvd.FunkSVD at 0x1d209f241c8>"
      ]
     },
     "execution_count": 14,
     "metadata": {},
     "output_type": "execute_result"
    }
   ],
   "source": [
    "funk = FunkSVD(25)\n",
    "funk.fit(train)"
   ]
  },
  {
   "cell_type": "code",
   "execution_count": 29,
   "metadata": {},
   "outputs": [
    {
     "data": {
      "text/plain": [
       "0.8421827063075318"
      ]
     },
     "execution_count": 29,
     "metadata": {},
     "output_type": "execute_result"
    }
   ],
   "source": [
    "funk_preds = batch.predict(funk, test)\n",
    "funk_preds['error'] = funk_preds['rating'] - funk_preds['prediction']\n",
    "np.sqrt(np.mean(np.square(funk_preds['error'])))"
   ]
  },
  {
   "cell_type": "code",
   "execution_count": 16,
   "metadata": {},
   "outputs": [
    {
     "data": {
      "text/html": [
       "<div>\n",
       "<style scoped>\n",
       "    .dataframe tbody tr th:only-of-type {\n",
       "        vertical-align: middle;\n",
       "    }\n",
       "\n",
       "    .dataframe tbody tr th {\n",
       "        vertical-align: top;\n",
       "    }\n",
       "\n",
       "    .dataframe thead th {\n",
       "        text-align: right;\n",
       "    }\n",
       "</style>\n",
       "<table border=\"1\" class=\"dataframe\">\n",
       "  <thead>\n",
       "    <tr style=\"text-align: right;\">\n",
       "      <th></th>\n",
       "      <th>user</th>\n",
       "      <th>item</th>\n",
       "      <th>rating</th>\n",
       "      <th>timestamp</th>\n",
       "      <th>uno</th>\n",
       "      <th>ino</th>\n",
       "      <th>nrating</th>\n",
       "      <th>i_bias</th>\n",
       "      <th>u_bias</th>\n",
       "    </tr>\n",
       "  </thead>\n",
       "  <tbody>\n",
       "    <tr>\n",
       "      <th>0</th>\n",
       "      <td>1</td>\n",
       "      <td>2</td>\n",
       "      <td>3.5</td>\n",
       "      <td>1112486027</td>\n",
       "      <td>0</td>\n",
       "      <td>0</td>\n",
       "      <td>0.174737</td>\n",
       "      <td>-0.313792</td>\n",
       "      <td>0.113771</td>\n",
       "    </tr>\n",
       "    <tr>\n",
       "      <th>1</th>\n",
       "      <td>1</td>\n",
       "      <td>29</td>\n",
       "      <td>3.5</td>\n",
       "      <td>1112484676</td>\n",
       "      <td>0</td>\n",
       "      <td>1</td>\n",
       "      <td>-0.565218</td>\n",
       "      <td>0.426163</td>\n",
       "      <td>0.113771</td>\n",
       "    </tr>\n",
       "    <tr>\n",
       "      <th>2</th>\n",
       "      <td>1</td>\n",
       "      <td>32</td>\n",
       "      <td>3.5</td>\n",
       "      <td>1112484819</td>\n",
       "      <td>0</td>\n",
       "      <td>2</td>\n",
       "      <td>-0.511909</td>\n",
       "      <td>0.372853</td>\n",
       "      <td>0.113771</td>\n",
       "    </tr>\n",
       "    <tr>\n",
       "      <th>3</th>\n",
       "      <td>1</td>\n",
       "      <td>47</td>\n",
       "      <td>3.5</td>\n",
       "      <td>1112484727</td>\n",
       "      <td>0</td>\n",
       "      <td>3</td>\n",
       "      <td>-0.667377</td>\n",
       "      <td>0.528322</td>\n",
       "      <td>0.113771</td>\n",
       "    </tr>\n",
       "    <tr>\n",
       "      <th>4</th>\n",
       "      <td>1</td>\n",
       "      <td>50</td>\n",
       "      <td>3.5</td>\n",
       "      <td>1112484580</td>\n",
       "      <td>0</td>\n",
       "      <td>4</td>\n",
       "      <td>-0.948236</td>\n",
       "      <td>0.809181</td>\n",
       "      <td>0.113771</td>\n",
       "    </tr>\n",
       "  </tbody>\n",
       "</table>\n",
       "</div>"
      ],
      "text/plain": [
       "   user  item  rating   timestamp  uno  ino   nrating    i_bias    u_bias\n",
       "0     1     2     3.5  1112486027    0    0  0.174737 -0.313792  0.113771\n",
       "1     1    29     3.5  1112484676    0    1 -0.565218  0.426163  0.113771\n",
       "2     1    32     3.5  1112484819    0    2 -0.511909  0.372853  0.113771\n",
       "3     1    47     3.5  1112484727    0    3 -0.667377  0.528322  0.113771\n",
       "4     1    50     3.5  1112484580    0    4 -0.948236  0.809181  0.113771"
      ]
     },
     "execution_count": 16,
     "metadata": {},
     "output_type": "execute_result"
    }
   ],
   "source": [
    "gbias = train['rating'].mean()\n",
    "ntrs = train.assign(nrating = ratings['rating'] - gbias)\n",
    "ibias = ntrs.groupby('item')['nrating'].mean().rename('i_bias')\n",
    "ntrs = ntrs.join(ibias, on='item')\n",
    "ntrs['nrating'] -= ntrs['i_bias'].fillna(0)\n",
    "ubias = ntrs.groupby('user')['nrating'].mean().rename('u_bias')\n",
    "ntrs = ntrs.join(ubias, on='user')\n",
    "ntrs['nrating'] -= ntrs['u_bias']\n",
    "ntrs.head()"
   ]
  },
  {
   "cell_type": "markdown",
   "metadata": {},
   "source": [
    "## Regularized MF for explicit ratings\n",
    "\n",
    "We're going to build up regularized MF for explicit ratings, based on [this tutorial](https://towardsdatascience.com/building-a-book-recommendation-system-using-keras-1fba34180699) and [this example code](https://github.com/chinchi-hsu/KerasCollaborativeFiltering):"
   ]
  },
  {
   "cell_type": "code",
   "execution_count": 17,
   "metadata": {},
   "outputs": [],
   "source": [
    "features = 25"
   ]
  },
  {
   "cell_type": "code",
   "execution_count": 18,
   "metadata": {},
   "outputs": [],
   "source": [
    "k.backend.set_floatx('float64')"
   ]
  },
  {
   "cell_type": "markdown",
   "metadata": {},
   "source": [
    "First, the user layers:"
   ]
  },
  {
   "cell_type": "code",
   "execution_count": 19,
   "metadata": {},
   "outputs": [],
   "source": [
    "u_input = k.Input(shape=(1,), dtype='int32', name='user')\n",
    "u_reg = k.regularizers.l2(0.02)\n",
    "u_embed = k.layers.Embedding(input_dim=n_users, output_dim=features, input_length=1,\n",
    "                             activity_regularizer=u_reg,\n",
    "                             embeddings_initializer='random_normal',\n",
    "                             name='user-embed')(u_input)\n",
    "u_flat = k.layers.Flatten(name='user-vector')(u_embed)"
   ]
  },
  {
   "cell_type": "markdown",
   "metadata": {},
   "source": [
    "And the item layers:"
   ]
  },
  {
   "cell_type": "code",
   "execution_count": 20,
   "metadata": {},
   "outputs": [],
   "source": [
    "i_input = k.Input(shape=(1,), dtype='int32', name='item')\n",
    "i_reg = k.regularizers.l2(0.02)\n",
    "i_embed = k.layers.Embedding(input_dim=n_items, output_dim=features, input_length=1,\n",
    "                             activity_regularizer=i_reg,\n",
    "                             embeddings_initializer='random_normal',\n",
    "                             name='item-embed')(i_input)\n",
    "i_flat = k.layers.Flatten(name='item-vector')(i_embed)"
   ]
  },
  {
   "cell_type": "markdown",
   "metadata": {},
   "source": [
    "And put it together:"
   ]
  },
  {
   "cell_type": "code",
   "execution_count": 21,
   "metadata": {},
   "outputs": [
    {
     "name": "stdout",
     "output_type": "stream",
     "text": [
      "Model: \"classic-mf\"\n",
      "__________________________________________________________________________________________________\n",
      "Layer (type)                    Output Shape         Param #     Connected to                     \n",
      "==================================================================================================\n",
      "user (InputLayer)               [(None, 1)]          0                                            \n",
      "__________________________________________________________________________________________________\n",
      "item (InputLayer)               [(None, 1)]          0                                            \n",
      "__________________________________________________________________________________________________\n",
      "user-embed (Embedding)          (None, 1, 25)        3462325     user[0][0]                       \n",
      "__________________________________________________________________________________________________\n",
      "item-embed (Embedding)          (None, 1, 25)        668600      item[0][0]                       \n",
      "__________________________________________________________________________________________________\n",
      "user-vector (Flatten)           (None, 25)           0           user-embed[0][0]                 \n",
      "__________________________________________________________________________________________________\n",
      "item-vector (Flatten)           (None, 25)           0           item-embed[0][0]                 \n",
      "__________________________________________________________________________________________________\n",
      "score (Dot)                     (None, 1)            0           user-vector[0][0]                \n",
      "                                                                 item-vector[0][0]                \n",
      "==================================================================================================\n",
      "Total params: 4,130,925\n",
      "Trainable params: 4,130,925\n",
      "Non-trainable params: 0\n",
      "__________________________________________________________________________________________________\n"
     ]
    }
   ],
   "source": [
    "prod = k.layers.Dot(name='score', axes=1)([u_flat, i_flat])\n",
    "model = k.Model([u_input, i_input], prod, name='classic-mf')\n",
    "model.summary()"
   ]
  },
  {
   "cell_type": "code",
   "execution_count": 22,
   "metadata": {},
   "outputs": [],
   "source": [
    "model.compile('adam', 'mean_squared_error', metrics=['mae'])"
   ]
  },
  {
   "cell_type": "code",
   "execution_count": 23,
   "metadata": {},
   "outputs": [
    {
     "name": "stdout",
     "output_type": "stream",
     "text": [
      "Train on 19950263 samples\n",
      "Epoch 1/5\n",
      "19950263/19950263 [==============================] - 69s 3us/sample - loss: 0.7207 - mae: 0.6504\n",
      "Epoch 2/5\n",
      "19950263/19950263 [==============================] - 67s 3us/sample - loss: 0.6789 - mae: 0.6215\n",
      "Epoch 3/5\n",
      "19950263/19950263 [==============================] - 67s 3us/sample - loss: 0.6476 - mae: 0.5993\n",
      "Epoch 4/5\n",
      "19950263/19950263 [==============================] - 67s 3us/sample - loss: 0.6285 - mae: 0.5855\n",
      "Epoch 5/5\n",
      "19950263/19950263 [==============================] - 68s 3us/sample - loss: 0.6139 - mae: 0.5748\n"
     ]
    }
   ],
   "source": [
    "mfit = model.fit([ntrs.uno, ntrs.ino], ntrs.nrating, epochs=5, batch_size=1024*16)"
   ]
  },
  {
   "cell_type": "code",
   "execution_count": 24,
   "metadata": {},
   "outputs": [
    {
     "data": {
      "text/html": [
       "<div>\n",
       "<style scoped>\n",
       "    .dataframe tbody tr th:only-of-type {\n",
       "        vertical-align: middle;\n",
       "    }\n",
       "\n",
       "    .dataframe tbody tr th {\n",
       "        vertical-align: top;\n",
       "    }\n",
       "\n",
       "    .dataframe thead th {\n",
       "        text-align: right;\n",
       "    }\n",
       "</style>\n",
       "<table border=\"1\" class=\"dataframe\">\n",
       "  <thead>\n",
       "    <tr style=\"text-align: right;\">\n",
       "      <th></th>\n",
       "      <th>user</th>\n",
       "      <th>item</th>\n",
       "      <th>rating</th>\n",
       "      <th>timestamp</th>\n",
       "      <th>uno</th>\n",
       "      <th>ino</th>\n",
       "      <th>pred</th>\n",
       "    </tr>\n",
       "  </thead>\n",
       "  <tbody>\n",
       "    <tr>\n",
       "      <th>1478</th>\n",
       "      <td>12</td>\n",
       "      <td>260</td>\n",
       "      <td>4.0</td>\n",
       "      <td>859063825</td>\n",
       "      <td>11</td>\n",
       "      <td>9</td>\n",
       "      <td>-0.098802</td>\n",
       "    </tr>\n",
       "    <tr>\n",
       "      <th>1479</th>\n",
       "      <td>12</td>\n",
       "      <td>344</td>\n",
       "      <td>4.0</td>\n",
       "      <td>859063995</td>\n",
       "      <td>11</td>\n",
       "      <td>646</td>\n",
       "      <td>0.225896</td>\n",
       "    </tr>\n",
       "    <tr>\n",
       "      <th>1480</th>\n",
       "      <td>12</td>\n",
       "      <td>356</td>\n",
       "      <td>4.0</td>\n",
       "      <td>859064001</td>\n",
       "      <td>11</td>\n",
       "      <td>369</td>\n",
       "      <td>-0.530226</td>\n",
       "    </tr>\n",
       "    <tr>\n",
       "      <th>1469</th>\n",
       "      <td>12</td>\n",
       "      <td>17</td>\n",
       "      <td>3.0</td>\n",
       "      <td>859063719</td>\n",
       "      <td>11</td>\n",
       "      <td>387</td>\n",
       "      <td>-0.072415</td>\n",
       "    </tr>\n",
       "    <tr>\n",
       "      <th>1497</th>\n",
       "      <td>12</td>\n",
       "      <td>784</td>\n",
       "      <td>4.0</td>\n",
       "      <td>859063825</td>\n",
       "      <td>11</td>\n",
       "      <td>704</td>\n",
       "      <td>0.353181</td>\n",
       "    </tr>\n",
       "  </tbody>\n",
       "</table>\n",
       "</div>"
      ],
      "text/plain": [
       "      user  item  rating  timestamp  uno  ino      pred\n",
       "1478    12   260     4.0  859063825   11    9 -0.098802\n",
       "1479    12   344     4.0  859063995   11  646  0.225896\n",
       "1480    12   356     4.0  859064001   11  369 -0.530226\n",
       "1469    12    17     3.0  859063719   11  387 -0.072415\n",
       "1497    12   784     4.0  859063825   11  704  0.353181"
      ]
     },
     "execution_count": 24,
     "metadata": {},
     "output_type": "execute_result"
    }
   ],
   "source": [
    "preds = model.predict([test.uno, test.ino])\n",
    "preds = test.assign(pred=preds)\n",
    "preds.head()"
   ]
  },
  {
   "cell_type": "code",
   "execution_count": 25,
   "metadata": {},
   "outputs": [
    {
     "data": {
      "text/plain": [
       "count    50000.000000\n",
       "mean         0.054615\n",
       "std          0.282989\n",
       "min         -1.787960\n",
       "25%         -0.112313\n",
       "50%          0.054814\n",
       "75%          0.221758\n",
       "max          1.786055\n",
       "Name: pred, dtype: float64"
      ]
     },
     "execution_count": 25,
     "metadata": {},
     "output_type": "execute_result"
    }
   ],
   "source": [
    "preds['pred'].describe()"
   ]
  },
  {
   "cell_type": "code",
   "execution_count": 26,
   "metadata": {},
   "outputs": [
    {
     "data": {
      "text/html": [
       "<div>\n",
       "<style scoped>\n",
       "    .dataframe tbody tr th:only-of-type {\n",
       "        vertical-align: middle;\n",
       "    }\n",
       "\n",
       "    .dataframe tbody tr th {\n",
       "        vertical-align: top;\n",
       "    }\n",
       "\n",
       "    .dataframe thead th {\n",
       "        text-align: right;\n",
       "    }\n",
       "</style>\n",
       "<table border=\"1\" class=\"dataframe\">\n",
       "  <thead>\n",
       "    <tr style=\"text-align: right;\">\n",
       "      <th></th>\n",
       "      <th>user</th>\n",
       "      <th>item</th>\n",
       "      <th>rating</th>\n",
       "      <th>timestamp</th>\n",
       "      <th>uno</th>\n",
       "      <th>ino</th>\n",
       "      <th>pred</th>\n",
       "      <th>u_bias</th>\n",
       "      <th>i_bias</th>\n",
       "      <th>bpred</th>\n",
       "    </tr>\n",
       "  </thead>\n",
       "  <tbody>\n",
       "    <tr>\n",
       "      <th>1478</th>\n",
       "      <td>12</td>\n",
       "      <td>260</td>\n",
       "      <td>4.0</td>\n",
       "      <td>859063825</td>\n",
       "      <td>11</td>\n",
       "      <td>9</td>\n",
       "      <td>4.090040</td>\n",
       "      <td>-0.001641</td>\n",
       "      <td>0.665199</td>\n",
       "      <td>4.188842</td>\n",
       "    </tr>\n",
       "    <tr>\n",
       "      <th>1479</th>\n",
       "      <td>12</td>\n",
       "      <td>344</td>\n",
       "      <td>4.0</td>\n",
       "      <td>859063995</td>\n",
       "      <td>11</td>\n",
       "      <td>646</td>\n",
       "      <td>3.206802</td>\n",
       "      <td>-0.001641</td>\n",
       "      <td>-0.542737</td>\n",
       "      <td>2.980906</td>\n",
       "    </tr>\n",
       "    <tr>\n",
       "      <th>1480</th>\n",
       "      <td>12</td>\n",
       "      <td>356</td>\n",
       "      <td>4.0</td>\n",
       "      <td>859064001</td>\n",
       "      <td>11</td>\n",
       "      <td>369</td>\n",
       "      <td>3.496787</td>\n",
       "      <td>-0.001641</td>\n",
       "      <td>0.503370</td>\n",
       "      <td>4.027013</td>\n",
       "    </tr>\n",
       "    <tr>\n",
       "      <th>1469</th>\n",
       "      <td>12</td>\n",
       "      <td>17</td>\n",
       "      <td>3.0</td>\n",
       "      <td>859063719</td>\n",
       "      <td>11</td>\n",
       "      <td>387</td>\n",
       "      <td>3.893961</td>\n",
       "      <td>-0.001641</td>\n",
       "      <td>0.442733</td>\n",
       "      <td>3.966376</td>\n",
       "    </tr>\n",
       "    <tr>\n",
       "      <th>1497</th>\n",
       "      <td>12</td>\n",
       "      <td>784</td>\n",
       "      <td>4.0</td>\n",
       "      <td>859063825</td>\n",
       "      <td>11</td>\n",
       "      <td>704</td>\n",
       "      <td>3.054327</td>\n",
       "      <td>-0.001641</td>\n",
       "      <td>-0.822498</td>\n",
       "      <td>2.701145</td>\n",
       "    </tr>\n",
       "  </tbody>\n",
       "</table>\n",
       "</div>"
      ],
      "text/plain": [
       "      user  item  rating  timestamp  uno  ino      pred    u_bias    i_bias     bpred\n",
       "1478    12   260     4.0  859063825   11    9  4.090040 -0.001641  0.665199  4.188842\n",
       "1479    12   344     4.0  859063995   11  646  3.206802 -0.001641 -0.542737  2.980906\n",
       "1480    12   356     4.0  859064001   11  369  3.496787 -0.001641  0.503370  4.027013\n",
       "1469    12    17     3.0  859063719   11  387  3.893961 -0.001641  0.442733  3.966376\n",
       "1497    12   784     4.0  859063825   11  704  3.054327 -0.001641 -0.822498  2.701145"
      ]
     },
     "execution_count": 26,
     "metadata": {},
     "output_type": "execute_result"
    }
   ],
   "source": [
    "preds = preds.join(ubias, on='user')\n",
    "preds = preds.join(ibias, on='item')\n",
    "preds['pred'] += gbias\n",
    "preds['pred'] += preds.u_bias\n",
    "preds['pred'] += preds.i_bias\n",
    "preds['bpred'] = gbias\n",
    "preds['bpred'] += preds.u_bias\n",
    "preds['bpred'] += preds.i_bias\n",
    "preds.head()"
   ]
  },
  {
   "cell_type": "code",
   "execution_count": 27,
   "metadata": {},
   "outputs": [
    {
     "data": {
      "text/plain": [
       "0.8547722337625112"
      ]
     },
     "execution_count": 27,
     "metadata": {},
     "output_type": "execute_result"
    }
   ],
   "source": [
    "preds['error'] = preds['rating'] - preds['pred']\n",
    "np.sqrt(np.mean(np.square(preds['error'])))"
   ]
  },
  {
   "cell_type": "code",
   "execution_count": 28,
   "metadata": {},
   "outputs": [
    {
     "data": {
      "text/plain": [
       "0.9121911716149231"
      ]
     },
     "execution_count": 28,
     "metadata": {},
     "output_type": "execute_result"
    }
   ],
   "source": [
    "preds['berror'] = preds['rating'] - preds['bpred']\n",
    "np.sqrt(np.mean(np.square(preds['berror'])))"
   ]
  },
  {
   "cell_type": "code",
   "execution_count": null,
   "metadata": {},
   "outputs": [],
   "source": []
  }
 ],
 "metadata": {
  "kernelspec": {
   "display_name": "Python 3",
   "language": "python",
   "name": "python3"
  },
  "language_info": {
   "codemirror_mode": {
    "name": "ipython",
    "version": 3
   },
   "file_extension": ".py",
   "mimetype": "text/x-python",
   "name": "python",
   "nbconvert_exporter": "python",
   "pygments_lexer": "ipython3",
   "version": "3.7.6"
  }
 },
 "nbformat": 4,
 "nbformat_minor": 4
}
